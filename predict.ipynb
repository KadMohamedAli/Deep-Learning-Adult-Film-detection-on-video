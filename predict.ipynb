{
 "cells": [
  {
   "cell_type": "code",
   "execution_count": null,
   "id": "edacdc8a-604b-403b-a3ae-24e51bfcfba5",
   "metadata": {},
   "outputs": [],
   "source": [
    "\"\"\"\n",
    "This script was tested with the following versions of libraries:\n",
    "\n",
    "- OpenCV version: 4.9.0\n",
    "- NumPy version: 1.26.4\n",
    "- SciPy version: 1.13.1\n",
    "- scikit-learn version: 1.5.0\n",
    "- pydub version: Not available\n",
    "- moviepy version: 2.0.0.dev2\n",
    "- IPython version: 8.24.0\n",
    "- Pillow (PIL) version: 10.3.0\n",
    "- TensorFlow version: 2.10.0\n",
    "- Python version: 3.10.14 | packaged by Anaconda, Inc. | (main, Mar 21 2024, 16:20:14) [MSC v.1916 64 bit (AMD64)]\n",
    "\n",
    "The following files are also required\n",
    "- porn_images_detector.py\n",
    "- porn_audios_detector.py\n",
    "- final_prediction.py\n",
    "- preprocess_sound.py\n",
    "\n",
    "\n",
    "Ensure you have the necessary libraries installed. Use the following commands to install them:\n",
    "\n",
    "```bash\n",
    "pip install opencv-python-headless==4.9.0\n",
    "pip install numpy==1.26.4\n",
    "pip install scipy==1.13.1\n",
    "pip install scikit-learn==1.5.0\n",
    "pip install pydub  # No version specified\n",
    "pip install moviepy==2.0.0.dev2\n",
    "pip install ipython==8.24.0\n",
    "pip install Pillow==10.3.0\n",
    "pip install tensorflow==2.10.0\n",
    "\"\"\""
   ]
  },
  {
   "cell_type": "code",
   "execution_count": 2,
   "id": "973c67bd-0ad2-41f5-879e-d06991b7c379",
   "metadata": {},
   "outputs": [],
   "source": [
    "from final_prediction import predict , predict_directory\n",
    "import tensorflow as tf\n",
    "from tensorflow.keras.models import load_model"
   ]
  },
  {
   "cell_type": "code",
   "execution_count": 5,
   "id": "4823b17c-4472-438d-8258-d60e5f7a03c1",
   "metadata": {},
   "outputs": [],
   "source": [
    "# change path to models \n",
    "image_model_path = r'path\\to\\model\\model_image.keras'\n",
    "audio_model_path = r'path\\to\\model\\model_audio.keras'\n",
    "\n",
    "\n",
    "\n",
    "# test on video\n",
    "video_path = r'path\\to\\file'\n",
    "\n",
    "\n",
    "\n",
    "# test on a directory\n",
    "directory_path = r'path\\to\\directory'"
   ]
  },
  {
   "cell_type": "code",
   "execution_count": 6,
   "id": "bbb56576-ac9c-47f6-ab1d-c26c2fca2d40",
   "metadata": {},
   "outputs": [],
   "source": [
    "#import models\n",
    "\n",
    "image_model = load_model(image_model_path)\n",
    "audio_model = load_model(audio_model_path)"
   ]
  },
  {
   "cell_type": "code",
   "execution_count": null,
   "id": "3772b321-b1d7-4cde-9bdc-e81eb0449da0",
   "metadata": {},
   "outputs": [],
   "source": [
    "# test on video\n",
    "#video_path = r'path\\to\\file'\n",
    "\n",
    "\n",
    "\n",
    "\n",
    "\n",
    "\n",
    "# args :\n",
    "    #     video_path : path of the video to predict. tested on : .mp4 .avi (not tested with others, could work).\n",
    "    #     image_model : image model.\n",
    "    #     audio_model : sound model.\n",
    "    #     option : option for how to combine results \n",
    "    #         if 3 : return the two results seperatly image/audio (default choice).\n",
    "    #         if 4 : return two combined results union/intersection.\n",
    "    #         otherwise, return a single result.\n",
    "    #         Imges results are more pertinent, may depend on the video content tho \n",
    "    #     verbose : True by default, if False, won't print anything\n",
    "    #\n",
    "    # return :\n",
    "    #     Array of pair of tuple where the first element in the tuple represents the start of the detected pornography\n",
    "    #   and the second element represents the end of the detected pornography\n",
    "    #   in seconds.\n",
    "    #     If return is None, there is a problem somewhere, should print it exactly.\n",
    "\n",
    "\n",
    "prediction = predict(video_path , image_model , audio_model , option = 3 , verbose = True)\n",
    "\n",
    "print(prediction)"
   ]
  },
  {
   "cell_type": "code",
   "execution_count": null,
   "id": "3ce37aeb-f404-4964-b415-5c88811b29fd",
   "metadata": {},
   "outputs": [],
   "source": [
    "# test on a directory\n",
    "#directory_path = r'path\\to\\directory'\n",
    "\n",
    "\n",
    "\n",
    "\n",
    "# args :\n",
    "    #     directory_path : path of the directory, will test every file (works only for videos)\n",
    "    #     image_model : image model.\n",
    "    #     audio_model : sound model.\n",
    "    #     option : option for how to combine results \n",
    "    #         if 3 : return the two results seperatly image/audio (default choice).\n",
    "    #         if 4 : return two combined results union/intersection.\n",
    "    #         otherwise, return a single result.\n",
    "    #         Imges results are more pertinent, may depend on the video content tho \n",
    "    #     verbose : True by default, if False, won't print anything\n",
    "    #\n",
    "    # return :\n",
    "    #     Array of pair of tuple, \n",
    "    #         first element is the name of the file, \n",
    "    #         second element is the results (depend on option, refer to predict for more informations about results)\n",
    "    #     If return is None, there is a problem somewhere, should print it exactly.\n",
    "\n",
    "\n",
    "\n",
    "predictions=predict_directory(directory_path , image_model , audio_model , option = 3 , verbose = True)\n",
    "\n",
    "print(predictions)"
   ]
  },
  {
   "cell_type": "code",
   "execution_count": null,
   "id": "6decfdda-5b21-4375-9219-6426120f2008",
   "metadata": {},
   "outputs": [],
   "source": []
  }
 ],
 "metadata": {
  "kernelspec": {
   "display_name": "Python 3 (ipykernel)",
   "language": "python",
   "name": "python3"
  },
  "language_info": {
   "codemirror_mode": {
    "name": "ipython",
    "version": 3
   },
   "file_extension": ".py",
   "mimetype": "text/x-python",
   "name": "python",
   "nbconvert_exporter": "python",
   "pygments_lexer": "ipython3",
   "version": "3.10.14"
  }
 },
 "nbformat": 4,
 "nbformat_minor": 5
}
