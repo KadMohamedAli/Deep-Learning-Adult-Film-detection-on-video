{
 "cells": [
  {
   "cell_type": "code",
   "execution_count": 6,
   "id": "2e33a7d5",
   "metadata": {},
   "outputs": [],
   "source": [
    "import os\n",
    "import cv2\n",
    "import numpy as np\n",
    "from sklearn.model_selection import train_test_split\n",
    "import tensorflow as tf\n",
    "from tensorflow.keras import layers, models"
   ]
  },
  {
   "cell_type": "code",
   "execution_count": 7,
   "id": "08dd20f0",
   "metadata": {},
   "outputs": [],
   "source": [
    "# Fonction pour lire et prétraiter les vidéos\n",
    "def read_and_process_videos(directory, label, image_size=(224, 224)):\n",
    "    frames = []\n",
    "    for filename in os.listdir(directory):\n",
    "        if filename.endswith(\".mp4\"):\n",
    "            video_path = os.path.join(directory, filename)\n",
    "            cap = cv2.VideoCapture(video_path)\n",
    "            while(cap.isOpened()):\n",
    "                ret, frame = cap.read()\n",
    "                if ret:\n",
    "                    frame = cv2.resize(frame, image_size)\n",
    "                    frames.append(frame)\n",
    "                else:\n",
    "                    break\n",
    "            cap.release()\n",
    "    return frames, [label] * len(frames)"
   ]
  },
  {
   "cell_type": "code",
   "execution_count": 8,
   "id": "5934c289",
   "metadata": {},
   "outputs": [],
   "source": [
    "# Chemin vers le répertoire contenant les vidéos de la classe 0\n",
    "class_0_directory = \"E:/AI DB/LSPD/Videos/normal_final\"\n",
    "class_0_frames, class_0_labels = read_and_process_videos(class_0_directory, label=0)\n",
    "\n",
    "# Chemin vers le répertoire contenant les vidéos de la classe 1\n",
    "class_1_directory = \"E:/AI DB/LSPD/Videos/porn_final\"\n",
    "class_1_frames, class_1_labels = read_and_process_videos(class_1_directory, label=1)\n",
    "\n",
    "# Concaténer les données de deux classes\n",
    "frames = np.array(class_0_frames + class_1_frames)\n",
    "labels = np.array(class_0_labels + class_1_labels)\n",
    "\n",
    "# Diviser les données en ensembles d'entraînement et de test\n",
    "train_frames, test_frames, train_labels, test_labels = train_test_split(frames, labels, test_size=0.2, random_state=42)"
   ]
  },
  {
   "cell_type": "code",
   "execution_count": 14,
   "id": "e3b6df6c",
   "metadata": {},
   "outputs": [],
   "source": [
    "# Construction du modèle CNN\n",
    "model = models.Sequential([\n",
    "    layers.Conv2D(32, (3, 3), activation='relu', input_shape=(224, 224, 3)),\n",
    "    layers.MaxPooling2D((2, 2)),\n",
    "    layers.Conv2D(64, (3, 3), activation='relu'),\n",
    "    layers.MaxPooling2D((2, 2)),\n",
    "    layers.Conv2D(64, (3, 3), activation='relu'),\n",
    "    layers.Flatten(),\n",
    "    layers.Dense(64, activation='relu'),\n",
    "    layers.Dense(1, activation='sigmoid')  # Binary classification\n",
    "])"
   ]
  },
  {
   "cell_type": "code",
   "execution_count": 15,
   "id": "af4f7613",
   "metadata": {},
   "outputs": [],
   "source": [
    "# Compilation du modèle\n",
    "model.compile(optimizer='adam',\n",
    "              loss='binary_crossentropy',\n",
    "              metrics=['accuracy'])"
   ]
  },
  {
   "cell_type": "code",
   "execution_count": 16,
   "id": "8407b567",
   "metadata": {},
   "outputs": [
    {
     "name": "stdout",
     "output_type": "stream",
     "text": [
      "Epoch 1/6\n",
      "\u001b[1m8/8\u001b[0m \u001b[32m━━━━━━━━━━━━━━━━━━━━\u001b[0m\u001b[37m\u001b[0m \u001b[1m18s\u001b[0m 2s/step - accuracy: 0.5183 - loss: 535.3773 - val_accuracy: 0.3750 - val_loss: 372.0639\n",
      "Epoch 2/6\n",
      "\u001b[1m8/8\u001b[0m \u001b[32m━━━━━━━━━━━━━━━━━━━━\u001b[0m\u001b[37m\u001b[0m \u001b[1m4s\u001b[0m 499ms/step - accuracy: 0.6881 - loss: 142.1169 - val_accuracy: 0.3750 - val_loss: 296.0150\n",
      "Epoch 3/6\n",
      "\u001b[1m8/8\u001b[0m \u001b[32m━━━━━━━━━━━━━━━━━━━━\u001b[0m\u001b[37m\u001b[0m \u001b[1m4s\u001b[0m 461ms/step - accuracy: 0.4674 - loss: 129.4973 - val_accuracy: 0.8750 - val_loss: 0.8087\n",
      "Epoch 4/6\n",
      "\u001b[1m8/8\u001b[0m \u001b[32m━━━━━━━━━━━━━━━━━━━━\u001b[0m\u001b[37m\u001b[0m \u001b[1m4s\u001b[0m 492ms/step - accuracy: 0.8739 - loss: 2.3644 - val_accuracy: 0.9375 - val_loss: 0.3711\n",
      "Epoch 5/6\n",
      "\u001b[1m8/8\u001b[0m \u001b[32m━━━━━━━━━━━━━━━━━━━━\u001b[0m\u001b[37m\u001b[0m \u001b[1m4s\u001b[0m 445ms/step - accuracy: 0.8766 - loss: 2.2797 - val_accuracy: 0.8125 - val_loss: 1.9118\n",
      "Epoch 6/6\n",
      "\u001b[1m8/8\u001b[0m \u001b[32m━━━━━━━━━━━━━━━━━━━━\u001b[0m\u001b[37m\u001b[0m \u001b[1m4s\u001b[0m 434ms/step - accuracy: 0.8408 - loss: 1.2106 - val_accuracy: 0.8750 - val_loss: 0.4219\n"
     ]
    },
    {
     "data": {
      "text/plain": [
       "<keras.src.callbacks.history.History at 0x2ca1accec50>"
      ]
     },
     "execution_count": 16,
     "metadata": {},
     "output_type": "execute_result"
    }
   ],
   "source": [
    "# Entraînement du modèle\n",
    "model.fit(train_frames, train_labels, epochs=6, batch_size=20, validation_split=0.1)"
   ]
  },
  {
   "cell_type": "code",
   "execution_count": 17,
   "id": "65346d99",
   "metadata": {},
   "outputs": [
    {
     "name": "stdout",
     "output_type": "stream",
     "text": [
      "\u001b[1m2/2\u001b[0m \u001b[32m━━━━━━━━━━━━━━━━━━━━\u001b[0m\u001b[37m\u001b[0m \u001b[1m0s\u001b[0m 53ms/step - accuracy: 0.8479 - loss: 0.7727\n",
      "Test accuracy: 0.8500000238418579\n"
     ]
    }
   ],
   "source": [
    "# Évaluation du modèle\n",
    "test_loss, test_acc = model.evaluate(test_frames, test_labels)\n",
    "print('Test accuracy:', test_acc)"
   ]
  },
  {
   "cell_type": "code",
   "execution_count": null,
   "id": "6d47f1b9",
   "metadata": {},
   "outputs": [],
   "source": []
  }
 ],
 "metadata": {
  "kernelspec": {
   "display_name": "Python 3 (ipykernel)",
   "language": "python",
   "name": "python3"
  },
  "language_info": {
   "codemirror_mode": {
    "name": "ipython",
    "version": 3
   },
   "file_extension": ".py",
   "mimetype": "text/x-python",
   "name": "python",
   "nbconvert_exporter": "python",
   "pygments_lexer": "ipython3",
   "version": "3.11.7"
  }
 },
 "nbformat": 4,
 "nbformat_minor": 5
}
