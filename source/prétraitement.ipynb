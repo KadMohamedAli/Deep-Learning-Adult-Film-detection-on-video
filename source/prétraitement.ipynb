{
 "cells": [
  {
   "cell_type": "code",
   "execution_count": 3,
   "id": "b9ff5cdc",
   "metadata": {},
   "outputs": [],
   "source": [
    "import os\n",
    "import cv2\n",
    "import numpy as np\n",
    "from sklearn.model_selection import train_test_split\n",
    "import tensorflow as tf\n",
    "from tensorflow.keras import layers, models"
   ]
  },
  {
   "cell_type": "code",
   "execution_count": 4,
   "id": "c89fe66b",
   "metadata": {},
   "outputs": [],
   "source": [
    "def extract_images_from_video(directory, output_directory, images_per_second=5, image_size=(224, 224)):\n",
    "    count = 0\n",
    "    for filename in os.listdir(directory):\n",
    "        if filename.endswith(\".mp4\"):\n",
    "            video_path = os.path.join(directory, filename)\n",
    "            # Ouvrez la vidéo\n",
    "            cap = cv2.VideoCapture(video_path)\n",
    "            k = 0\n",
    "            frame_rate = cap.get(cv2.CAP_PROP_FPS)\n",
    "            frame_interval = int(frame_rate / images_per_second)\n",
    "\n",
    "            # Boucle à travers chaque frame de la vidéo\n",
    "            while(cap.isOpened()):\n",
    "                ret, frame = cap.read()\n",
    "                if ret:\n",
    "                    if k % frame_interval == 0:\n",
    "                        # Redimensionner l'image si nécessaire\n",
    "                        if image_size is not None:\n",
    "                            frame = cv2.resize(frame, image_size)\n",
    "                        # Enregistrer l'image dans le dossier de sortie\n",
    "                        image_path = os.path.join(output_directory, f\"frame_{count}.jpg\")\n",
    "                        cv2.imwrite(image_path, frame)\n",
    "                        count += 1\n",
    "                    k += 1\n",
    "                else:\n",
    "                    break\n",
    "\n",
    "            # Fermer la capture vidéo\n",
    "            cap.release()"
   ]
  },
  {
   "cell_type": "code",
   "execution_count": 6,
   "id": "559aca9f",
   "metadata": {},
   "outputs": [],
   "source": [
    "extract_images_from_video(\"E:/test\", \"E:/copie\", images_per_second=5)"
   ]
  },
  {
   "cell_type": "code",
   "execution_count": null,
   "id": "39701d26",
   "metadata": {},
   "outputs": [],
   "source": []
  }
 ],
 "metadata": {
  "kernelspec": {
   "display_name": "Python 3 (ipykernel)",
   "language": "python",
   "name": "python3"
  },
  "language_info": {
   "codemirror_mode": {
    "name": "ipython",
    "version": 3
   },
   "file_extension": ".py",
   "mimetype": "text/x-python",
   "name": "python",
   "nbconvert_exporter": "python",
   "pygments_lexer": "ipython3",
   "version": "3.11.7"
  }
 },
 "nbformat": 4,
 "nbformat_minor": 5
}
