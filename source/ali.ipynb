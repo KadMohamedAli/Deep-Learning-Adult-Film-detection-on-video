{
 "cells": [
  {
   "cell_type": "code",
   "execution_count": null,
   "id": "c629dbf0-9a74-463a-9867-17c467c68b66",
   "metadata": {},
   "outputs": [],
   "source": [
    "pip install split-folders[full]"
   ]
  },
  {
   "cell_type": "code",
   "execution_count": 1,
   "id": "1bcb35a5-ab60-49a0-8071-d3e1c5c5ab07",
   "metadata": {},
   "outputs": [],
   "source": [
    "import tensorflow as tf"
   ]
  },
  {
   "cell_type": "code",
   "execution_count": 2,
   "id": "79546e3b-3244-4a38-a310-bb96e58bd889",
   "metadata": {},
   "outputs": [
    {
     "name": "stdout",
     "output_type": "stream",
     "text": [
      "[PhysicalDevice(name='/physical_device:GPU:0', device_type='GPU')]\n"
     ]
    }
   ],
   "source": [
    "print(tf.config.list_physical_devices('GPU'))"
   ]
  },
  {
   "cell_type": "code",
   "execution_count": 1,
   "id": "126555a3-607d-4195-8fd3-464bb6d35e57",
   "metadata": {},
   "outputs": [],
   "source": [
    "import os\n",
    "import splitfolders as sf\n",
    "from pathlib import Path"
   ]
  },
  {
   "cell_type": "code",
   "execution_count": 2,
   "id": "fb74d466-05c1-42d6-9c59-7b1744d5278c",
   "metadata": {},
   "outputs": [],
   "source": [
    "dataset_dir=Path(\"A:/AI DB/LSPD/Images/\")\n",
    "\n",
    "output_dir=Path(\"A:/AI DB/LSPD/images_pret/\")\n",
    "output_dir.mkdir(exist_ok=True)"
   ]
  },
  {
   "cell_type": "code",
   "execution_count": 3,
   "id": "533f9b78-8489-4a94-9722-94f59071818f",
   "metadata": {},
   "outputs": [
    {
     "name": "stderr",
     "output_type": "stream",
     "text": [
      "Copying files: 500000 files [30:07, 276.70 files/s]\n"
     ]
    }
   ],
   "source": [
    "# split dataset 90% training 5% validation 5% testing\n",
    "sf.ratio(dataset_dir,output_dir,seed=1337,ratio=(.9,.05,.05),group_prefix=None)"
   ]
  },
  {
   "cell_type": "code",
   "execution_count": 5,
   "id": "94ed03c5-d9ef-4215-ac56-c5109167982c",
   "metadata": {},
   "outputs": [],
   "source": [
    "from tensorflow.keras.optimizers import Adam\n",
    "from tensorflow.keras.callbacks import EarlyStopping, ModelCheckpoint, LearningRateScheduler\n",
    "from tensorflow.keras.losses import categorical_crossentropy\n",
    "from tensorflow.keras.optimizers.schedules import CosineDecay\n",
    "import math\n",
    "import matplotlib.pyplot as plt\n",
    "import numpy as np\n",
    "import cv2\n",
    "import PIL\n",
    "from tensorflow.keras import layers, models\n",
    "from tensorflow.python.keras.layers import Conv2D, MaxPool2D, Dense, Flatten, Dropout\n",
    "from tensorflow.keras.models import Sequential\n",
    "from tensorflow.keras.preprocessing.image import ImageDataGenerator\n",
    "from tensorflow.keras.preprocessing import image\n",
    "from tensorflow.keras.optimizers import Adam\n",
    "from tensorflow.keras.applications import InceptionV3\n",
    "from sklearn.metrics import accuracy_score, precision_score, recall_score, f1_score, fbeta_score\n",
    "from sklearn.metrics import classification_report\n",
    "from sklearn.metrics import confusion_matrix\n",
    "import seaborn as sns"
   ]
  },
  {
   "cell_type": "code",
   "execution_count": 6,
   "id": "6bcf8cf5-1b8e-4c9e-8220-bff65bf81c4c",
   "metadata": {},
   "outputs": [],
   "source": [
    "# Define directories\n",
    "train_dir = r'A:\\AI DB\\LSPD\\images_pret\\train'\n",
    "validation_dir = r'A:\\AI DB\\LSPD\\images_pret\\val'\n",
    "test_dir = r'A:\\AI DB\\LSPD\\images_pret\\test'"
   ]
  },
  {
   "cell_type": "code",
   "execution_count": 7,
   "id": "adcd12bd-8b03-457c-8b3d-157d5873a5db",
   "metadata": {},
   "outputs": [],
   "source": [
    "# Define image dimensions and batch size\n",
    "img_height, img_width = 224, 224\n",
    "batch_size = 64"
   ]
  },
  {
   "cell_type": "code",
   "execution_count": 8,
   "id": "8b7922d7-256c-43fa-9a30-f8c4496c2029",
   "metadata": {},
   "outputs": [
    {
     "name": "stdout",
     "output_type": "stream",
     "text": [
      "Found 400000 images belonging to 5 classes.\n",
      "Found 50000 images belonging to 5 classes.\n",
      "Found 50000 images belonging to 5 classes.\n"
     ]
    }
   ],
   "source": [
    "# Define data generators for training, validation, and test sets\n",
    "train_datagen = ImageDataGenerator(rescale=1./255)\n",
    "validation_datagen = ImageDataGenerator(rescale=1./255)\n",
    "test_datagen = ImageDataGenerator(rescale=1./255)\n",
    "\n",
    "train_generator = train_datagen.flow_from_directory(\n",
    "    train_dir,\n",
    "    target_size=(img_height, img_width),\n",
    "    batch_size=batch_size,\n",
    "    class_mode='categorical'\n",
    ")\n",
    "\n",
    "validation_generator = validation_datagen.flow_from_directory(\n",
    "    validation_dir,\n",
    "    target_size=(img_height, img_width),\n",
    "    batch_size=batch_size,\n",
    "    class_mode='categorical'\n",
    ")\n",
    "\n",
    "test_generator = test_datagen.flow_from_directory(\n",
    "    test_dir,\n",
    "    target_size=(img_height, img_width),\n",
    "    batch_size=batch_size,\n",
    "    shuffle=False,                                          \n",
    "    seed=10,\n",
    "    class_mode='categorical'\n",
    ")\n"
   ]
  },
  {
   "cell_type": "code",
   "execution_count": 9,
   "id": "b14bb09a-21db-4602-94fb-a3d6db58d9e8",
   "metadata": {},
   "outputs": [],
   "source": [
    "model_ConvNeXtTiny = Sequential()\n",
    "model_ConvNeXtTiny_pre_entrainer = tf.keras.applications.ConvNeXtTiny(\n",
    "                        include_top = False, #vous le définissez sur True si vous utilisez le modèle pour des tâches de classification et False si vous l'utilisez pour l'extraction de caractéristiques.\n",
    "                        weights = 'imagenet', #signifie que le modèle sera initialisé avec des poids pré-entraînés sur l'ensemble de données ImageNet\n",
    "                        input_shape = (img_height, img_width,3), #(hauteur, largeur, canaux)\n",
    "                        pooling = 'avg', #spécifie le type de pooling à appliquer après la dernière couche de convolution\n",
    "                        classes = 5\n",
    "                    )\n",
    "\n",
    "for layer in model_ConvNeXtTiny_pre_entrainer.layers:\n",
    "    layer.trainable = False"
   ]
  },
  {
   "cell_type": "code",
   "execution_count": 10,
   "id": "3e560e85-541d-46de-802b-90947ddb17c9",
   "metadata": {},
   "outputs": [],
   "source": [
    "# Create a new Sequential model\n",
    "model_convnext_tiny = Sequential([\n",
    "    model_ConvNeXtTiny_pre_entrainer,\n",
    "    Flatten(),\n",
    "    Dense(512, activation='relu'),\n",
    "    Dropout(0.5),  # Adding dropout for regularization\n",
    "    Dense(256, activation='relu'),  # Adding additional dense layer\n",
    "    Dropout(0.5),  # Adding dropout for regularization\n",
    "    Dense(128, activation='relu'),  # Adding additional dense layer\n",
    "    Dense(5, activation='softmax')  # Output layer with 5 classes\n",
    "])"
   ]
  },
  {
   "cell_type": "code",
   "execution_count": 11,
   "id": "9ddacdd1-714e-4933-a2f6-7bb08c87fb16",
   "metadata": {},
   "outputs": [],
   "source": [
    "# Compile the model\n",
    "model_convnext_tiny.compile(\n",
    "    optimizer=Adam(learning_rate=1e-3),\n",
    "    loss=categorical_crossentropy,\n",
    "    metrics=['accuracy']\n",
    ")"
   ]
  },
  {
   "cell_type": "code",
   "execution_count": 12,
   "id": "6462221b-baac-4fe8-b03a-3a91a569717b",
   "metadata": {},
   "outputs": [],
   "source": [
    "# Define a cosine decay learning rate schedule with warmup\n",
    "initial_learning_rate = 1e-1\n",
    "total_epochs = 6\n",
    "warmup_steps = int(0.1 * total_epochs * (train_generator.samples // train_generator.batch_size))\n",
    "\n",
    "# Define a cosine decay learning rate schedule with warmup\n",
    "lr_schedule = tf.keras.optimizers.schedules.CosineDecay(initial_learning_rate,\n",
    "                                                         decay_steps=warmup_steps,\n",
    "                                                         alpha=0.01)\n",
    "\n",
    "# Define the optimizer with the learning rate schedule\n",
    "optimizer = tf.keras.optimizers.Adam(learning_rate=lr_schedule)\n",
    "\n",
    "\n",
    "# Compile the model with the optimizer\n",
    "model_convnext_tiny.compile(optimizer=optimizer,\n",
    "                            loss='categorical_crossentropy',\n",
    "                            metrics=['accuracy'])"
   ]
  },
  {
   "cell_type": "code",
   "execution_count": 13,
   "id": "6cfb015b-595f-49d4-9bbd-feca863ed22e",
   "metadata": {},
   "outputs": [
    {
     "name": "stdout",
     "output_type": "stream",
     "text": [
      "Model: \"sequential_1\"\n",
      "_________________________________________________________________\n",
      " Layer (type)                Output Shape              Param #   \n",
      "=================================================================\n",
      " convnext_tiny (Functional)  (None, 768)               27820128  \n",
      "                                                                 \n",
      " module_wrapper (ModuleWrapp  (None, 768)              0         \n",
      " er)                                                             \n",
      "                                                                 \n",
      " module_wrapper_1 (ModuleWra  (None, 512)              393728    \n",
      " pper)                                                           \n",
      "                                                                 \n",
      " module_wrapper_2 (ModuleWra  (None, 512)              0         \n",
      " pper)                                                           \n",
      "                                                                 \n",
      " module_wrapper_3 (ModuleWra  (None, 256)              131328    \n",
      " pper)                                                           \n",
      "                                                                 \n",
      " module_wrapper_4 (ModuleWra  (None, 256)              0         \n",
      " pper)                                                           \n",
      "                                                                 \n",
      " module_wrapper_5 (ModuleWra  (None, 128)              32896     \n",
      " pper)                                                           \n",
      "                                                                 \n",
      " module_wrapper_6 (ModuleWra  (None, 5)                645       \n",
      " pper)                                                           \n",
      "                                                                 \n",
      "=================================================================\n",
      "Total params: 28,378,725\n",
      "Trainable params: 558,597\n",
      "Non-trainable params: 27,820,128\n",
      "_________________________________________________________________\n"
     ]
    }
   ],
   "source": [
    "model_convnext_tiny.summary()"
   ]
  },
  {
   "cell_type": "code",
   "execution_count": 14,
   "id": "88324286-601d-4b0a-b328-4045c4c0bc72",
   "metadata": {},
   "outputs": [],
   "source": [
    "from PIL import ImageFile\n",
    "ImageFile.LOAD_TRUNCATED_IMAGES = True"
   ]
  },
  {
   "cell_type": "code",
   "execution_count": 15,
   "id": "296376cf-89d3-47b1-8f94-eeb4499bbe6b",
   "metadata": {},
   "outputs": [],
   "source": [
    "checkpoint_filepath = r'A:\\AI DB\\LSPD\\models\\convnext_tiny_lspd.keras'\n",
    "model_checkpoint_callback = tf.keras.callbacks.ModelCheckpoint(\n",
    "    filepath=checkpoint_filepath,\n",
    "    monitor='val_accuracy',\n",
    "    verbose=1,\n",
    "    save_best_only=True,\n",
    "    mode='max')"
   ]
  },
  {
   "cell_type": "code",
   "execution_count": null,
   "id": "3bb34e34-e92e-4a5f-952c-1d4d121bc029",
   "metadata": {},
   "outputs": [
    {
     "name": "stdout",
     "output_type": "stream",
     "text": [
      "Epoch 1/6\n"
     ]
    }
   ],
   "source": [
    "# Train the model without callbacks\n",
    "history = model_convnext_tiny.fit(\n",
    "    train_generator,\n",
    "    steps_per_epoch=train_generator.samples // train_generator.batch_size,\n",
    "    epochs=total_epochs,\n",
    "    validation_data=validation_generator,\n",
    "    validation_steps=validation_generator.samples // validation_generator.batch_size,\n",
    ")"
   ]
  },
  {
   "cell_type": "code",
   "execution_count": null,
   "id": "dc75fafc-44f5-4c37-b7f7-b0c719bbbb2d",
   "metadata": {},
   "outputs": [],
   "source": [
    "model_convnext_tiny.save(checkpoint_filepath,save_format='tf',overwrite=True)"
   ]
  },
  {
   "cell_type": "code",
   "execution_count": 57,
   "id": "8d2b00e1-7622-4002-a407-a8ac7c157189",
   "metadata": {},
   "outputs": [
    {
     "name": "stdout",
     "output_type": "stream",
     "text": [
      "196/196 [==============================] - 571s 3s/step\n"
     ]
    }
   ],
   "source": [
    "# Make predictions on the test set\n",
    "y_pred = model_convnext_tiny.predict(test_generator)"
   ]
  },
  {
   "cell_type": "code",
   "execution_count": 58,
   "id": "17ded8c0-1736-4543-a1ae-ef6984807252",
   "metadata": {},
   "outputs": [
    {
     "data": {
      "image/png": "[encoded data removed]",
      "text/plain": [
       "<Figure size 800x600 with 2 Axes>"
      ]
     },
     "metadata": {},
     "output_type": "display_data"
    },
    {
     "name": "stdout",
     "output_type": "stream",
     "text": [
      "Accuracy: 0.74416\n",
      "Precision: [0.74159937 0.78561485 0.7835078  0.724      0.6       ]\n",
      "Recall: [0.5694     0.6772     0.81333333 0.87785    0.2436    ]\n",
      "F1 Score: [0.64419052 0.7273899  0.79814203 0.79353672 0.34651494]\n",
      "Classification Report:\n",
      "               precision    recall  f1-score   support\n",
      "\n",
      "     drawing       0.74      0.57      0.64      5000\n",
      "      hentai       0.79      0.68      0.73      5000\n",
      "      normal       0.78      0.81      0.80     15000\n",
      "        porn       0.72      0.88      0.79     20000\n",
      "        sexy       0.60      0.24      0.35      5000\n",
      "\n",
      "    accuracy                           0.74     50000\n",
      "   macro avg       0.73      0.64      0.66     50000\n",
      "weighted avg       0.74      0.74      0.73     50000\n",
      "\n"
     ]
    }
   ],
   "source": [
    "# Extract predicted classes from one-hot encoded format\n",
    "y_pred_classes = np.argmax(y_pred, axis=1)\n",
    "\n",
    "# Get actual classes\n",
    "y_true_classes = test_generator.classes\n",
    "\n",
    "# Create a confusion matrix\n",
    "cm = confusion_matrix(y_true_classes, y_pred_classes)\n",
    "\n",
    "# Plot the confusion matrix\n",
    "plt.figure(figsize=(8, 6))\n",
    "sns.heatmap(cm, annot=True, fmt='d', cmap='YlGnBu', xticklabels=test_generator.class_indices.keys(), yticklabels=test_generator.class_indices.keys())\n",
    "plt.ylabel('Prediction', fontsize=12)\n",
    "plt.xlabel('Actual', fontsize=12)\n",
    "plt.title('Confusion Matrix', fontsize=16)\n",
    "plt.show()\n",
    "\n",
    "\n",
    "# Accuracy\n",
    "accuracy = accuracy_score(y_true_classes, y_pred_classes)\n",
    "print(\"Accuracy:\", accuracy)\n",
    "\n",
    "# Precision\n",
    "precision = precision_score(y_true_classes, y_pred_classes, average=None)\n",
    "print(\"Precision:\", precision)\n",
    "\n",
    "# Recall\n",
    "recall = recall_score(y_true_classes, y_pred_classes, average=None)\n",
    "print(\"Recall:\", recall)\n",
    "\n",
    "# F1 score\n",
    "f1 = f1_score(y_true_classes, y_pred_classes, average=None)\n",
    "print(\"F1 Score:\", f1)\n",
    "\n",
    "# Classification Report\n",
    "cr = classification_report(y_true_classes, y_pred_classes, target_names=test_generator.class_indices.keys())\n",
    "print(\"Classification Report:\\n\", cr)\n"
   ]
  },
  {
   "cell_type": "code",
   "execution_count": null,
   "id": "875fc1a2-c70e-4573-8962-20e0ae863fd2",
   "metadata": {},
   "outputs": [],
   "source": []
  },
  {
   "cell_type": "code",
   "execution_count": null,
   "id": "e9c26084-4a3a-493b-94ef-cf9f3c6a2cfe",
   "metadata": {},
   "outputs": [],
   "source": []
  },
  {
   "cell_type": "code",
   "execution_count": 98,
   "id": "063e288a-1353-42f4-9f06-58da04303eee",
   "metadata": {},
   "outputs": [],
   "source": [
    "# Create a new Sequential model\n",
    "model_convnext_tiny2 = Sequential([\n",
    "    model_ConvNeXtTiny_pre_entrainer,\n",
    "    tf.keras.layers.Flatten(),\n",
    "    tf.keras.layers.Dense(512, activation='relu'),\n",
    "    tf.keras.layers.Dense(5, activation='softmax')  # Output layer with 5 classes\n",
    "])"
   ]
  },
  {
   "cell_type": "code",
   "execution_count": 99,
   "id": "7881dd78-a2b9-47ac-b9f6-5b9caa6e16ed",
   "metadata": {},
   "outputs": [],
   "source": [
    "# Compile the model with the optimizer\n",
    "model_convnext_tiny2.compile(optimizer=optimizer,\n",
    "                            loss='categorical_crossentropy',\n",
    "                            metrics=['accuracy'])"
   ]
  },
  {
   "cell_type": "code",
   "execution_count": 100,
   "id": "7603e2fa-5924-4c09-9d93-96ed9e2d9798",
   "metadata": {},
   "outputs": [
    {
     "name": "stdout",
     "output_type": "stream",
     "text": [
      "Model: \"sequential_8\"\n",
      "_________________________________________________________________\n",
      " Layer (type)                Output Shape              Param #   \n",
      "=================================================================\n",
      " convnext_tiny (Functional)  (None, 768)               27820128  \n",
      "                                                                 \n",
      " flatten_4 (Flatten)         (None, 768)               0         \n",
      "                                                                 \n",
      " dense_8 (Dense)             (None, 512)               393728    \n",
      "                                                                 \n",
      " dense_9 (Dense)             (None, 5)                 2565      \n",
      "                                                                 \n",
      "=================================================================\n",
      "Total params: 28,216,421\n",
      "Trainable params: 396,293\n",
      "Non-trainable params: 27,820,128\n",
      "_________________________________________________________________\n"
     ]
    }
   ],
   "source": [
    "model_convnext_tiny2.summary()"
   ]
  },
  {
   "cell_type": "code",
   "execution_count": 101,
   "id": "4d8ca6f5-3d41-4cba-bf02-2d6f0706a482",
   "metadata": {},
   "outputs": [],
   "source": [
    "checkpoint_filepath2 = r'A:\\AI DB\\LSPD\\models\\convnext_tiny_lspd2.keras'\n",
    "model_checkpoint_callback2 = tf.keras.callbacks.ModelCheckpoint(\n",
    "    filepath=checkpoint_filepath2,\n",
    "    monitor='val_accuracy',\n",
    "    verbose=1,\n",
    "    save_best_only=True,\n",
    "    mode='max')"
   ]
  },
  {
   "cell_type": "code",
   "execution_count": 103,
   "id": "92263040-3b62-4182-a016-f0aad779e15d",
   "metadata": {},
   "outputs": [
    {
     "name": "stdout",
     "output_type": "stream",
     "text": [
      "Epoch 1/6\n",
      "1562/1562 [==============================] - 6800s 4s/step - loss: 0.7715 - accuracy: 0.7234 - val_loss: 0.7776 - val_accuracy: 0.7212\n",
      "Epoch 2/6\n",
      "1562/1562 [==============================] - 6737s 4s/step - loss: 0.7680 - accuracy: 0.7240 - val_loss: 0.7766 - val_accuracy: 0.7227\n",
      "Epoch 3/6\n",
      "1562/1562 [==============================] - 6779s 4s/step - loss: 0.7659 - accuracy: 0.7252 - val_loss: 0.7733 - val_accuracy: 0.7250\n",
      "Epoch 4/6\n",
      "1562/1562 [==============================] - 6772s 4s/step - loss: 0.7638 - accuracy: 0.7259 - val_loss: 0.7718 - val_accuracy: 0.7246\n",
      "Epoch 5/6\n",
      "1562/1562 [==============================] - 6777s 4s/step - loss: 0.7627 - accuracy: 0.7258 - val_loss: 0.7712 - val_accuracy: 0.7238\n",
      "Epoch 6/6\n",
      "1562/1562 [==============================] - 6741s 4s/step - loss: 0.7614 - accuracy: 0.7269 - val_loss: 0.7734 - val_accuracy: 0.7259\n"
     ]
    }
   ],
   "source": [
    "# Train the model without callbacks\n",
    "history2 = model_convnext_tiny2.fit(\n",
    "    train_generator,\n",
    "    steps_per_epoch=train_generator.samples // train_generator.batch_size,\n",
    "    epochs=total_epochs,\n",
    "    validation_data=validation_generator,\n",
    "    validation_steps=validation_generator.samples // validation_generator.batch_size,\n",
    ")"
   ]
  },
  {
   "cell_type": "code",
   "execution_count": 118,
   "id": "9844fa5b-3748-4e1f-a294-48d6a08c3def",
   "metadata": {},
   "outputs": [
    {
     "name": "stderr",
     "output_type": "stream",
     "text": [
      "WARNING:absl:Found untraced functions such as _jit_compiled_convolution_op, _jit_compiled_convolution_op, _jit_compiled_convolution_op, _jit_compiled_convolution_op while saving (showing 4 of 4). These functions will not be directly callable after loading.\n"
     ]
    },
    {
     "name": "stdout",
     "output_type": "stream",
     "text": [
      "INFO:tensorflow:Assets written to: A:\\AI DB\\LSPD\\models\\convnext_tiny_lspd2\\assets\n"
     ]
    },
    {
     "name": "stderr",
     "output_type": "stream",
     "text": [
      "INFO:tensorflow:Assets written to: A:\\AI DB\\LSPD\\models\\convnext_tiny_lspd2\\assets\n"
     ]
    }
   ],
   "source": [
    "\n",
    "model_convnext_tiny2.save(checkpoint_filepath2,save_format='tf',overwrite=True)"
   ]
  },
  {
   "cell_type": "code",
   "execution_count": 120,
   "id": "4c555bd2-677b-45ae-84a6-7ee24cc758cc",
   "metadata": {},
   "outputs": [],
   "source": [
    "loaded_model2 = tf.keras.models.load_model(checkpoint_filepath2)"
   ]
  },
  {
   "cell_type": "code",
   "execution_count": 104,
   "id": "2b3df859-6eb7-4840-9d42-3e64cfaab375",
   "metadata": {},
   "outputs": [
    {
     "name": "stdout",
     "output_type": "stream",
     "text": [
      "196/196 [==============================] - 745s 4s/step\n"
     ]
    }
   ],
   "source": [
    "y_pred2 = model_convnext_tiny2.predict(test_generator)"
   ]
  },
  {
   "cell_type": "code",
   "execution_count": 122,
   "id": "fe3d862b-af13-4917-8c9e-82d5f29999a3",
   "metadata": {},
   "outputs": [
    {
     "name": "stdout",
     "output_type": "stream",
     "text": [
      "196/196 [==============================] - 732s 4s/step\n"
     ]
    }
   ],
   "source": [
    "ypred2=loaded_model2.predict(test_generator)"
   ]
  },
  {
   "cell_type": "code",
   "execution_count": 1,
   "id": "fed821d9-b43d-46b9-9178-3aaceda0403b",
   "metadata": {},
   "outputs": [
    {
     "ename": "NameError",
     "evalue": "name 'np' is not defined",
     "output_type": "error",
     "traceback": [
      "\u001b[1;31m---------------------------------------------------------------------------\u001b[0m",
      "\u001b[1;31mNameError\u001b[0m                                 Traceback (most recent call last)",
      "Cell \u001b[1;32mIn[1], line 2\u001b[0m\n\u001b[0;32m      1\u001b[0m \u001b[38;5;66;03m# Extract predicted classes from one-hot encoded format\u001b[39;00m\n\u001b[1;32m----> 2\u001b[0m y_pred_classes2 \u001b[38;5;241m=\u001b[39m \u001b[43mnp\u001b[49m\u001b[38;5;241m.\u001b[39margmax(y_pred2, axis\u001b[38;5;241m=\u001b[39m\u001b[38;5;241m1\u001b[39m)\n\u001b[0;32m      4\u001b[0m \u001b[38;5;66;03m# Get actual classes\u001b[39;00m\n\u001b[0;32m      5\u001b[0m y_true_classes2 \u001b[38;5;241m=\u001b[39m test_generator\u001b[38;5;241m.\u001b[39mclasses\n",
      "\u001b[1;31mNameError\u001b[0m: name 'np' is not defined"
     ]
    }
   ],
   "source": [
    "# Extract predicted classes from one-hot encoded format\n",
    "y_pred_classes2 = np.argmax(y_pred2, axis=1)\n",
    "\n",
    "# Get actual classes\n",
    "y_true_classes2 = test_generator.classes\n",
    "\n",
    "# Create a confusion matrix\n",
    "cm2 = confusion_matrix(y_true_classes2, y_pred_classes2)\n",
    "cmn2 = cm2.astype('float') / cm2.sum(axis=1)[:, np.newaxis]\n",
    "# Plot the confusion matrix\n",
    "plt.figure(figsize=(8, 6))\n",
    "sns.heatmap(cmn2, annot=True, fmt='.2f', cmap='YlGnBu', xticklabels=test_generator.class_indices.keys(), yticklabels=test_generator.class_indices.keys())\n",
    "plt.ylabel('Prediction', fontsize=12)\n",
    "plt.xlabel('Actual', fontsize=12)\n",
    "plt.title('Confusion Matrix', fontsize=16)\n",
    "plt.show(block=False)\n",
    "\n",
    "# Accuracy\n",
    "accuracy2 = accuracy_score(y_true_classes2, y_pred_classes2)\n",
    "print(\"Accuracy:\", accuracy2)\n",
    "\n",
    "# Precision\n",
    "precision2 = precision_score(y_true_classes2, y_pred_classes2, average=None)\n",
    "print(\"Precision:\", precision2)\n",
    "\n",
    "# Recall\n",
    "recall2 = recall_score(y_true_classes2, y_pred_classes2, average=None)\n",
    "print(\"Recall:\", recall2)\n",
    "\n",
    "# F1 score\n",
    "f1_2 = f1_score(y_true_classes2, y_pred_classes2, average=None)\n",
    "print(\"F1 Score:\", f1_2)\n",
    "\n",
    "# Classification Report\n",
    "cr2 = classification_report(y_true_classes2, y_pred_classes2, target_names=test_generator.class_indices.keys())\n",
    "print(\"Classification Report:\\n\", cr2)"
   ]
  },
  {
   "cell_type": "code",
   "execution_count": 14,
   "id": "d56c2f8f-a7b7-409c-9190-25dcca102716",
   "metadata": {},
   "outputs": [],
   "source": [
    "model_InceptionV3_pre_entrainer = tf.keras.applications.InceptionV3(\n",
    "                        include_top = False, #vous le définissez sur True si vous utilisez le modèle pour des tâches de classification et False si vous l'utilisez pour l'extraction de caractéristiques.\n",
    "                        weights = 'imagenet', #signifie que le modèle sera initialisé avec des poids pré-entraînés sur l'ensemble de données ImageNet\n",
    "                        input_shape = (img_height, img_width,3),\n",
    "                        pooling = 'avg', #spécifie le type de pooling à appliquer après la dernière couche de convolution \n",
    "                    )\n",
    "\n",
    "for layer in model_InceptionV3_pre_entrainer.layers:\n",
    "    layer.trainable = False"
   ]
  },
  {
   "cell_type": "code",
   "execution_count": 15,
   "id": "f99436b7-48fc-471e-b890-bf15bde8042b",
   "metadata": {},
   "outputs": [],
   "source": [
    "# Create a new Sequential model\n",
    "modelInceptionV3 = Sequential([\n",
    "    model_InceptionV3_pre_entrainer,\n",
    "    tf.keras.layers.Flatten(),\n",
    "    tf.keras.layers.Dense(128, activation='relu'),\n",
    "    tf.keras.layers.Dense(5, activation='softmax')  # Output layer with 5 classes\n",
    "])\n",
    "\n",
    "# Compile the model with the optimizer\n",
    "modelInceptionV3.compile(optimizer=optimizer,\n",
    "                            loss='categorical_crossentropy',\n",
    "                            metrics=['accuracy'])"
   ]
  },
  {
   "cell_type": "code",
   "execution_count": 16,
   "id": "4c88fab0-a910-4d4a-954f-cee215774964",
   "metadata": {},
   "outputs": [
    {
     "name": "stdout",
     "output_type": "stream",
     "text": [
      "Model: \"sequential_2\"\n",
      "_________________________________________________________________\n",
      " Layer (type)                Output Shape              Param #   \n",
      "=================================================================\n",
      " inception_v3 (Functional)   (None, 2048)              21802784  \n",
      "                                                                 \n",
      " flatten (Flatten)           (None, 2048)              0         \n",
      "                                                                 \n",
      " dense (Dense)               (None, 128)               262272    \n",
      "                                                                 \n",
      " dense_1 (Dense)             (None, 5)                 645       \n",
      "                                                                 \n",
      "=================================================================\n",
      "Total params: 22,065,701\n",
      "Trainable params: 262,917\n",
      "Non-trainable params: 21,802,784\n",
      "_________________________________________________________________\n"
     ]
    }
   ],
   "source": [
    "modelInceptionV3.summary()"
   ]
  },
  {
   "cell_type": "code",
   "execution_count": 17,
   "id": "ce74ec3a-fc10-420e-a5c7-ea6a7c52b30c",
   "metadata": {},
   "outputs": [],
   "source": [
    "checkpoint_filepath3 = r'A:\\AI DB\\LSPD\\models\\inceptionv3_lspd.keras'\n",
    "model_checkpoint_callback3 = tf.keras.callbacks.ModelCheckpoint(\n",
    "    filepath=checkpoint_filepath3,\n",
    "    monitor='val_accuracy',\n",
    "    verbose=1,\n",
    "    save_best_only=True,\n",
    "    mode='max')"
   ]
  },
  {
   "cell_type": "code",
   "execution_count": null,
   "id": "24ca4b24-f179-426c-aec1-707fb8251bd5",
   "metadata": {},
   "outputs": [
    {
     "name": "stdout",
     "output_type": "stream",
     "text": [
      "Epoch 1/6\n"
     ]
    }
   ],
   "source": [
    "# Train the model without callbacks\n",
    "history3 = modelInceptionV3.fit(\n",
    "    train_generator,\n",
    "    steps_per_epoch=train_generator.samples // train_generator.batch_size,\n",
    "    epochs=total_epochs,\n",
    "    validation_data=validation_generator,\n",
    "    validation_steps=validation_generator.samples // validation_generator.batch_size,\n",
    ")"
   ]
  },
  {
   "cell_type": "code",
   "execution_count": null,
   "id": "ebdbb9b9-3301-462c-973a-af701d3c80b5",
   "metadata": {},
   "outputs": [],
   "source": [
    "ypred3=modelInceptionV3.predict(test_generator)"
   ]
  },
  {
   "cell_type": "code",
   "execution_count": null,
   "id": "9b6bc1c4-c81a-4bd3-93e2-f5a6f4a5beb7",
   "metadata": {},
   "outputs": [],
   "source": [
    "# Extract predicted classes from one-hot encoded format\n",
    "y_pred_classes3 = np.argmax(y_pred3, axis=1)\n",
    "\n",
    "# Get actual classes\n",
    "y_true_classes3 = test_generator.classes\n",
    "\n",
    "# Create a confusion matrix\n",
    "cm3 = confusion_matrix(y_true_classes3, y_pred_classes3)\n",
    "cmn3 = cm3.astype('float') / cm3.sum(axis=1)[:, np.newaxis]\n",
    "# Plot the confusion matrix\n",
    "plt.figure(figsize=(8, 6))\n",
    "sns.heatmap(cmn3, annot=True, fmt='.2f', cmap='YlGnBu', xticklabels=test_generator.class_indices.keys(), yticklabels=test_generator.class_indices.keys())\n",
    "plt.ylabel('Prediction', fontsize=12)\n",
    "plt.xlabel('Actual', fontsize=12)\n",
    "plt.title('Confusion Matrix', fontsize=16)\n",
    "plt.show(block=False)\n",
    "\n",
    "# Accuracy\n",
    "accuracy3 = accuracy_score(y_true_classes3, y_pred_classes3)\n",
    "print(\"Accuracy:\", accuracy3)\n",
    "\n",
    "# Precision\n",
    "precision3 = precision_score(y_true_classes3, y_pred_classes3, average=None)\n",
    "print(\"Precision:\", precision3)\n",
    "\n",
    "# Recall\n",
    "recall3 = recall_score(y_true_classes3, y_pred_classes3, average=None)\n",
    "print(\"Recall:\", recall3)\n",
    "\n",
    "# F1 score\n",
    "f1_3 = f1_score(y_true_classes3, y_pred_classes3, average=None)\n",
    "print(\"F1 Score:\", f1_3)\n",
    "\n",
    "# Classification Report\n",
    "cr3 = classification_report(y_true_classes3, y_pred_classes3, target_names=test_generator.class_indices.keys())\n",
    "print(\"Classification Report:\\n\", cr3)"
   ]
  }
 ],
 "metadata": {
  "kernelspec": {
   "display_name": "Python 3 (ipykernel)",
   "language": "python",
   "name": "python3"
  },
  "language_info": {
   "codemirror_mode": {
    "name": "ipython",
    "version": 3
   },
   "file_extension": ".py",
   "mimetype": "text/x-python",
   "name": "python",
   "nbconvert_exporter": "python",
   "pygments_lexer": "ipython3",
   "version": "3.10.14"
  }
 },
 "nbformat": 4,
 "nbformat_minor": 5
}
