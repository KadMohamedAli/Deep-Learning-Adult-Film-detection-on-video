{
 "cells": [
  {
   "cell_type": "code",
   "execution_count": 1,
   "id": "4b2b171e-e597-49a1-9f48-90ac68edde65",
   "metadata": {},
   "outputs": [],
   "source": [
    "import os\n",
    "from pydub import AudioSegment\n",
    "from pydub.silence import detect_silence\n",
    "import numpy as np\n",
    "from IPython.display import clear_output"
   ]
  },
  {
   "cell_type": "code",
   "execution_count": 7,
   "id": "497ec84c-7307-4add-8e3e-d29e406141d9",
   "metadata": {},
   "outputs": [],
   "source": [
    "def precessFiles(audio_directory, quiet_threshold):\n",
    "    # List to save initial names of files\n",
    "    initial_files = []\n",
    "    \n",
    "    # Get the initial list of files\n",
    "    for file_name in os.listdir(audio_directory):\n",
    "        if file_name.endswith('.wav'):  # Add other formats if needed\n",
    "            initial_files.append(file_name)\n",
    "    \n",
    "    # Function to determine if a segment is quiet\n",
    "    def is_quiet(segment, threshold=quiet_threshold):\n",
    "        return segment.dBFS < threshold\n",
    "    \n",
    "    # Process each initial file\n",
    "    for i, file_name in enumerate(initial_files):\n",
    "        file_path = os.path.join(audio_directory, file_name)\n",
    "        \n",
    "        # Load the audio file\n",
    "        audio = AudioSegment.from_file(file_path)\n",
    "        \n",
    "        # Get the length of the audio in seconds\n",
    "        audio_length = len(audio) // 1000\n",
    "        \n",
    "        # Process each 1-second segment, ignoring the last segment if it is less than 1 second\n",
    "        for j in range(audio_length):\n",
    "            start_time = j * 1000\n",
    "            end_time = start_time + 1000\n",
    "            segment = audio[start_time:end_time]\n",
    "            \n",
    "            # Check if the segment is quiet\n",
    "            if not is_quiet(segment):\n",
    "                # Save the non-quiet segment\n",
    "                segment_name = f\"{os.path.splitext(file_name)[0]}_segment_{j}.wav\"\n",
    "                segment_path = os.path.join(audio_directory, segment_name)\n",
    "                segment.export(segment_path, format=\"wav\")\n",
    "            \n",
    "            # Update the progress for the current file\n",
    "            #clear_output(wait=True)\n",
    "            #print(f\"Processed {i + 1}/{len(initial_files)} files.\")\n",
    "            #print(f\"         Processed {j + 1}/{audio_length} seconds of {file_name}\")\n",
    "        \n",
    "        # Remove the original file after processing\n",
    "        os.remove(file_path)\n",
    "        \n",
    "        # Update overall progress\n",
    "        clear_output(wait=True)\n",
    "        print(f\"Processed {i + 1}/{len(initial_files)} files.\")\n",
    "    \n",
    "    print(\"Processing complete.\")"
   ]
  },
  {
   "cell_type": "code",
   "execution_count": 5,
   "id": "97104201-377b-4d37-8e5c-c6e2609bc0ab",
   "metadata": {},
   "outputs": [],
   "source": [
    "# Define the directory containing the audio files\n",
    "audio_directory1 = r'A:\\AI DB\\LSPD\\Audio\\porn'\n",
    "audio_directory2 = r'A:\\AI DB\\LSPD\\Audio\\normal'\n",
    "# Threshold for quiet audio (in dB)\n",
    "quiet_threshold = -50"
   ]
  },
  {
   "cell_type": "code",
   "execution_count": null,
   "id": "5e0bebcc-d15f-40bf-acaf-c90944d0ce9c",
   "metadata": {},
   "outputs": [
    {
     "name": "stderr",
     "output_type": "stream",
     "text": [
      "IOPub message rate exceeded.\n",
      "The Jupyter server will temporarily stop sending output\n",
      "to the client in order to avoid crashing it.\n",
      "To change this limit, set the config variable\n",
      "`--ServerApp.iopub_msg_rate_limit`.\n",
      "\n",
      "Current values:\n",
      "ServerApp.iopub_msg_rate_limit=1000.0 (msgs/sec)\n",
      "ServerApp.rate_limit_window=3.0 (secs)\n",
      "\n"
     ]
    }
   ],
   "source": [
    "precessFiles(audio_directory1,quiet_threshold)"
   ]
  },
  {
   "cell_type": "code",
   "execution_count": 8,
   "id": "40d569fc-72b6-4706-83ac-b97c46c7adb3",
   "metadata": {},
   "outputs": [
    {
     "name": "stdout",
     "output_type": "stream",
     "text": [
      "Processed 14441/14441 files.\n",
      "Processing complete.\n"
     ]
    }
   ],
   "source": [
    "precessFiles(audio_directory2,quiet_threshold)"
   ]
  },
  {
   "cell_type": "code",
   "execution_count": 9,
   "id": "f991996a-7450-47d3-8240-415ec9d7b844",
   "metadata": {},
   "outputs": [],
   "source": [
    "def change_sample_rate(audio_directory, new_sample_rate=16000):\n",
    "    # List to save initial names of files\n",
    "    initial_files = []\n",
    "    \n",
    "    # Get the initial list of files\n",
    "    for file_name in os.listdir(audio_directory):\n",
    "        if file_name.endswith('.wav'):  # Add other formats if needed\n",
    "            initial_files.append(file_name)\n",
    "    \n",
    "    # Process each initial file\n",
    "    for i, file_name in enumerate(initial_files):\n",
    "        file_path = os.path.join(audio_directory, file_name)\n",
    "        \n",
    "        # Load the audio file\n",
    "        audio = AudioSegment.from_file(file_path)\n",
    "        \n",
    "        # Change the sample rate\n",
    "        audio = audio.set_frame_rate(new_sample_rate)\n",
    "        \n",
    "        # Save the modified file\n",
    "        new_file_path = os.path.join(audio_directory, f\"{os.path.splitext(file_name)[0]}_sr{new_sample_rate}.wav\")\n",
    "        audio.export(new_file_path, format=\"wav\")\n",
    "        \n",
    "        # Update overall progress\n",
    "        clear_output(wait=True)\n",
    "        print(f\"Processed {i + 1}/{len(initial_files)} files: {file_name} -> {new_file_path}\")\n",
    "    \n",
    "    print(\"Sample rate change complete.\")"
   ]
  },
  {
   "cell_type": "code",
   "execution_count": 11,
   "id": "5188314e-b18e-4e20-9ac4-d3138efa69ec",
   "metadata": {},
   "outputs": [
    {
     "name": "stdout",
     "output_type": "stream",
     "text": [
      "Processed 142845/142845 files: porn_4_segment_99.wav -> A:\\AI DB\\LSPD\\Audio\\porn\\porn_4_segment_99_sr16000.wav\n",
      "Sample rate change complete.\n"
     ]
    }
   ],
   "source": [
    "change_sample_rate(audio_directory1, 16000)"
   ]
  },
  {
   "cell_type": "code",
   "execution_count": null,
   "id": "b2937e37-d6f8-4204-b69d-9dd54ca22f3f",
   "metadata": {},
   "outputs": [],
   "source": []
  }
 ],
 "metadata": {
  "kernelspec": {
   "display_name": "Python 3 (ipykernel)",
   "language": "python",
   "name": "python3"
  },
  "language_info": {
   "codemirror_mode": {
    "name": "ipython",
    "version": 3
   },
   "file_extension": ".py",
   "mimetype": "text/x-python",
   "name": "python",
   "nbconvert_exporter": "python",
   "pygments_lexer": "ipython3",
   "version": "3.10.14"
  }
 },
 "nbformat": 4,
 "nbformat_minor": 5
}
