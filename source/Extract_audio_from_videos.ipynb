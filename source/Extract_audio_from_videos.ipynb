{
 "cells": [
  {
   "cell_type": "code",
   "execution_count": 1,
   "id": "12598981-22c8-4ee3-8e05-8427424716f4",
   "metadata": {},
   "outputs": [],
   "source": [
    "import os\n",
    "import time\n",
    "from moviepy.editor import VideoFileClip\n",
    "import librosa\n",
    "import soundfile as sf\n",
    "from tqdm import tqdm"
   ]
  },
  {
   "cell_type": "code",
   "execution_count": 4,
   "id": "d603b7b4-2698-40ea-bce4-21663ab83061",
   "metadata": {},
   "outputs": [],
   "source": [
    "def extract_audio_from_videos(video_dir, video_list, output_dir):\n",
    "    # Ensure the output directory exists\n",
    "    if not os.path.exists(output_dir):\n",
    "        os.makedirs(output_dir)\n",
    "\n",
    "    # Initialize a counter to keep track of the number of audio files extracted\n",
    "    audio_count = 0\n",
    "\n",
    "    # Process each video in the list\n",
    "    for video_name in video_list:\n",
    "        video_path = os.path.join(video_dir, video_name)\n",
    "        if os.path.isfile(video_path):\n",
    "            try:\n",
    "                video_clip = VideoFileClip(video_path)\n",
    "                base_name = os.path.splitext(os.path.basename(video_name))[0]  # Get the base name without path and extension\n",
    "                audio_path = os.path.join(output_dir, base_name + '.wav')\n",
    "                video_clip.audio.write_audiofile(audio_path)\n",
    "                #print(f\"Extracted audio from {video_name} to {audio_path}\")\n",
    "                \n",
    "                # Increment the counter\n",
    "                audio_count += 1\n",
    "            except Exception as e:\n",
    "                print(f\"Failed to extract audio from {video_name}: {e}\")\n",
    "        else:\n",
    "            print(f\"Video {video_name} not found in directory {video_dir}\")\n",
    "\n",
    "    # Print the total number of audio files extracted\n",
    "    print(f\"Total {audio_count} audio files extracted.\")\n"
   ]
  },
  {
   "cell_type": "code",
   "execution_count": 3,
   "id": "2911f0b7-84df-4ae6-a7a8-cab6f0b108a1",
   "metadata": {},
   "outputs": [
    {
     "name": "stdout",
     "output_type": "stream",
     "text": [
      "Filenames loaded from filenames.txt into array:\n",
      "890\n"
     ]
    }
   ],
   "source": [
    "input_file = \"filenames.txt\"\n",
    "filenames = []\n",
    "\n",
    "with open(input_file, 'r') as file:\n",
    "    for line in file:\n",
    "        filenames.append(line.strip())\n",
    "\n",
    "# Now, filenames is populated with the names read from the file\n",
    "print(\"Filenames loaded from\", input_file, \"into array:\")\n",
    "print(len(filenames))"
   ]
  },
  {
   "cell_type": "code",
   "execution_count": 5,
   "id": "69746c81-4195-493c-9023-d017ed37329a",
   "metadata": {},
   "outputs": [],
   "source": [
    "video_directory = r'A:\\AI DB\\LSPD\\Videos\\porn_final'\n",
    "output_directory = r'A:\\AI DB\\LSPD\\Audio\\porn'\n",
    "\n"
   ]
  },
  {
   "cell_type": "code",
   "execution_count": null,
   "id": "7704c7e9-f724-4244-aa3c-be420dcba6b9",
   "metadata": {},
   "outputs": [
    {
     "name": "stdout",
     "output_type": "stream",
     "text": [
      "MoviePy - Writing audio in A:\\AI DB\\LSPD\\Audio\\porn\\porn_10.wav\n"
     ]
    },
    {
     "name": "stderr",
     "output_type": "stream",
     "text": [
      "                                                                                                                                                                    "
     ]
    },
    {
     "name": "stdout",
     "output_type": "stream",
     "text": [
      "MoviePy - Done.\n"
     ]
    },
    {
     "name": "stderr",
     "output_type": "stream",
     "text": [
      "\r"
     ]
    },
    {
     "name": "stdout",
     "output_type": "stream",
     "text": [
      "MoviePy - Writing audio in A:\\AI DB\\LSPD\\Audio\\porn\\porn_1000.wav\n"
     ]
    },
    {
     "name": "stderr",
     "output_type": "stream",
     "text": [
      "                                                                                                                                                                    \r"
     ]
    },
    {
     "name": "stdout",
     "output_type": "stream",
     "text": [
      "MoviePy - Done.\n",
      "MoviePy - Writing audio in A:\\AI DB\\LSPD\\Audio\\porn\\porn_1001.wav\n"
     ]
    },
    {
     "name": "stderr",
     "output_type": "stream",
     "text": [
      "                                                                                                                                                                    \r"
     ]
    },
    {
     "name": "stdout",
     "output_type": "stream",
     "text": [
      "MoviePy - Done.\n",
      "MoviePy - Writing audio in A:\\AI DB\\LSPD\\Audio\\porn\\porn_1002.wav\n"
     ]
    },
    {
     "name": "stderr",
     "output_type": "stream",
     "text": [
      "                                                                                                                                                                    \r"
     ]
    },
    {
     "name": "stdout",
     "output_type": "stream",
     "text": [
      "MoviePy - Done.\n",
      "MoviePy - Writing audio in A:\\AI DB\\LSPD\\Audio\\porn\\porn_1007.wav\n"
     ]
    },
    {
     "name": "stderr",
     "output_type": "stream",
     "text": [
      "                                                                                                                                                                    \r"
     ]
    },
    {
     "name": "stdout",
     "output_type": "stream",
     "text": [
      "MoviePy - Done.\n",
      "MoviePy - Writing audio in A:\\AI DB\\LSPD\\Audio\\porn\\porn_1009.wav\n"
     ]
    },
    {
     "name": "stderr",
     "output_type": "stream",
     "text": [
      "                                                                                                                                                                    \r"
     ]
    },
    {
     "name": "stdout",
     "output_type": "stream",
     "text": [
      "MoviePy - Done.\n",
      "MoviePy - Writing audio in A:\\AI DB\\LSPD\\Audio\\porn\\porn_101.wav\n"
     ]
    },
    {
     "name": "stderr",
     "output_type": "stream",
     "text": [
      "                                                                                                                                                                    \r"
     ]
    },
    {
     "name": "stdout",
     "output_type": "stream",
     "text": [
      "MoviePy - Done.\n",
      "MoviePy - Writing audio in A:\\AI DB\\LSPD\\Audio\\porn\\porn_1014.wav\n"
     ]
    },
    {
     "name": "stderr",
     "output_type": "stream",
     "text": [
      "                                                                                                                                                                    \r"
     ]
    },
    {
     "name": "stdout",
     "output_type": "stream",
     "text": [
      "MoviePy - Done.\n",
      "MoviePy - Writing audio in A:\\AI DB\\LSPD\\Audio\\porn\\porn_1016.wav\n"
     ]
    },
    {
     "name": "stderr",
     "output_type": "stream",
     "text": [
      "                                                                                                                                                                    \r"
     ]
    },
    {
     "name": "stdout",
     "output_type": "stream",
     "text": [
      "MoviePy - Done.\n",
      "MoviePy - Writing audio in A:\\AI DB\\LSPD\\Audio\\porn\\porn_1017.wav\n"
     ]
    },
    {
     "name": "stderr",
     "output_type": "stream",
     "text": [
      "                                                                                                                                                                    \r"
     ]
    },
    {
     "name": "stdout",
     "output_type": "stream",
     "text": [
      "MoviePy - Done.\n",
      "MoviePy - Writing audio in A:\\AI DB\\LSPD\\Audio\\porn\\porn_102.wav\n"
     ]
    },
    {
     "name": "stderr",
     "output_type": "stream",
     "text": [
      "                                                                                                                                                                    \r"
     ]
    },
    {
     "name": "stdout",
     "output_type": "stream",
     "text": [
      "MoviePy - Done.\n",
      "MoviePy - Writing audio in A:\\AI DB\\LSPD\\Audio\\porn\\porn_1020.wav\n"
     ]
    },
    {
     "name": "stderr",
     "output_type": "stream",
     "text": [
      "                                                                                                                                                                    \r"
     ]
    },
    {
     "name": "stdout",
     "output_type": "stream",
     "text": [
      "MoviePy - Done.\n",
      "MoviePy - Writing audio in A:\\AI DB\\LSPD\\Audio\\porn\\porn_1028.wav\n"
     ]
    },
    {
     "name": "stderr",
     "output_type": "stream",
     "text": [
      "                                                                                                                                                                    \r"
     ]
    },
    {
     "name": "stdout",
     "output_type": "stream",
     "text": [
      "MoviePy - Done.\n",
      "MoviePy - Writing audio in A:\\AI DB\\LSPD\\Audio\\porn\\porn_1030.wav\n"
     ]
    },
    {
     "name": "stderr",
     "output_type": "stream",
     "text": [
      "                                                                                                                                                                    \r"
     ]
    },
    {
     "name": "stdout",
     "output_type": "stream",
     "text": [
      "MoviePy - Done.\n",
      "MoviePy - Writing audio in A:\\AI DB\\LSPD\\Audio\\porn\\porn_1033.wav\n"
     ]
    },
    {
     "name": "stderr",
     "output_type": "stream",
     "text": [
      "                                                                                                                                                                    \r"
     ]
    },
    {
     "name": "stdout",
     "output_type": "stream",
     "text": [
      "MoviePy - Done.\n",
      "MoviePy - Writing audio in A:\\AI DB\\LSPD\\Audio\\porn\\porn_1034.wav\n"
     ]
    },
    {
     "name": "stderr",
     "output_type": "stream",
     "text": [
      "                                                                                                                                                                    \r"
     ]
    },
    {
     "name": "stdout",
     "output_type": "stream",
     "text": [
      "MoviePy - Done.\n",
      "MoviePy - Writing audio in A:\\AI DB\\LSPD\\Audio\\porn\\porn_1035.wav\n"
     ]
    },
    {
     "name": "stderr",
     "output_type": "stream",
     "text": [
      "                                                                                                                                                                    \r"
     ]
    },
    {
     "name": "stdout",
     "output_type": "stream",
     "text": [
      "MoviePy - Done.\n",
      "MoviePy - Writing audio in A:\\AI DB\\LSPD\\Audio\\porn\\porn_1036.wav\n"
     ]
    },
    {
     "name": "stderr",
     "output_type": "stream",
     "text": [
      "                                                                                                                                                                    \r"
     ]
    },
    {
     "name": "stdout",
     "output_type": "stream",
     "text": [
      "MoviePy - Done.\n",
      "MoviePy - Writing audio in A:\\AI DB\\LSPD\\Audio\\porn\\porn_1039.wav\n"
     ]
    },
    {
     "name": "stderr",
     "output_type": "stream",
     "text": [
      "                                                                                                                                                                    \r"
     ]
    },
    {
     "name": "stdout",
     "output_type": "stream",
     "text": [
      "MoviePy - Done.\n",
      "MoviePy - Writing audio in A:\\AI DB\\LSPD\\Audio\\porn\\porn_1040.wav\n"
     ]
    },
    {
     "name": "stderr",
     "output_type": "stream",
     "text": [
      "                                                                                                                                                                    "
     ]
    },
    {
     "name": "stdout",
     "output_type": "stream",
     "text": [
      "MoviePy - Done.\n"
     ]
    },
    {
     "name": "stderr",
     "output_type": "stream",
     "text": [
      "\r"
     ]
    },
    {
     "name": "stdout",
     "output_type": "stream",
     "text": [
      "MoviePy - Writing audio in A:\\AI DB\\LSPD\\Audio\\porn\\porn_1045.wav\n"
     ]
    },
    {
     "name": "stderr",
     "output_type": "stream",
     "text": [
      "                                                                                                                                                                    \r"
     ]
    },
    {
     "name": "stdout",
     "output_type": "stream",
     "text": [
      "MoviePy - Done.\n",
      "MoviePy - Writing audio in A:\\AI DB\\LSPD\\Audio\\porn\\porn_1046.wav\n"
     ]
    },
    {
     "name": "stderr",
     "output_type": "stream",
     "text": [
      "                                                                                                                                                                    \r"
     ]
    },
    {
     "name": "stdout",
     "output_type": "stream",
     "text": [
      "MoviePy - Done.\n",
      "MoviePy - Writing audio in A:\\AI DB\\LSPD\\Audio\\porn\\porn_1047.wav\n"
     ]
    },
    {
     "name": "stderr",
     "output_type": "stream",
     "text": [
      "                                                                                                                                                                    \r"
     ]
    },
    {
     "name": "stdout",
     "output_type": "stream",
     "text": [
      "MoviePy - Done.\n",
      "MoviePy - Writing audio in A:\\AI DB\\LSPD\\Audio\\porn\\porn_1048.wav\n"
     ]
    },
    {
     "name": "stderr",
     "output_type": "stream",
     "text": [
      "                                                                                                                                                                    \r"
     ]
    },
    {
     "name": "stdout",
     "output_type": "stream",
     "text": [
      "MoviePy - Done.\n",
      "MoviePy - Writing audio in A:\\AI DB\\LSPD\\Audio\\porn\\porn_1049.wav\n"
     ]
    },
    {
     "name": "stderr",
     "output_type": "stream",
     "text": [
      "                                                                                                                                                                    \r"
     ]
    },
    {
     "name": "stdout",
     "output_type": "stream",
     "text": [
      "MoviePy - Done.\n",
      "MoviePy - Writing audio in A:\\AI DB\\LSPD\\Audio\\porn\\porn_1052.wav\n"
     ]
    },
    {
     "name": "stderr",
     "output_type": "stream",
     "text": [
      "                                                                                                                                                                    "
     ]
    },
    {
     "name": "stdout",
     "output_type": "stream",
     "text": [
      "MoviePy - Done.\n"
     ]
    },
    {
     "name": "stderr",
     "output_type": "stream",
     "text": [
      "\r"
     ]
    },
    {
     "name": "stdout",
     "output_type": "stream",
     "text": [
      "MoviePy - Writing audio in A:\\AI DB\\LSPD\\Audio\\porn\\porn_1053.wav\n"
     ]
    },
    {
     "name": "stderr",
     "output_type": "stream",
     "text": [
      "                                                                                                                                                                    \r"
     ]
    },
    {
     "name": "stdout",
     "output_type": "stream",
     "text": [
      "MoviePy - Done.\n",
      "MoviePy - Writing audio in A:\\AI DB\\LSPD\\Audio\\porn\\porn_1055.wav\n"
     ]
    },
    {
     "name": "stderr",
     "output_type": "stream",
     "text": [
      "                                                                                                                                                                    "
     ]
    },
    {
     "name": "stdout",
     "output_type": "stream",
     "text": [
      "MoviePy - Done.\n"
     ]
    },
    {
     "name": "stderr",
     "output_type": "stream",
     "text": [
      "\r"
     ]
    },
    {
     "name": "stdout",
     "output_type": "stream",
     "text": [
      "MoviePy - Writing audio in A:\\AI DB\\LSPD\\Audio\\porn\\porn_1056.wav\n"
     ]
    },
    {
     "name": "stderr",
     "output_type": "stream",
     "text": [
      "                                                                                                                                                                    \r"
     ]
    },
    {
     "name": "stdout",
     "output_type": "stream",
     "text": [
      "MoviePy - Done.\n",
      "MoviePy - Writing audio in A:\\AI DB\\LSPD\\Audio\\porn\\porn_1057.wav\n"
     ]
    },
    {
     "name": "stderr",
     "output_type": "stream",
     "text": [
      "                                                                                                                                                                    \r"
     ]
    },
    {
     "name": "stdout",
     "output_type": "stream",
     "text": [
      "MoviePy - Done.\n",
      "MoviePy - Writing audio in A:\\AI DB\\LSPD\\Audio\\porn\\porn_1058.wav\n"
     ]
    },
    {
     "name": "stderr",
     "output_type": "stream",
     "text": [
      "                                                                                                                                                                    \r"
     ]
    },
    {
     "name": "stdout",
     "output_type": "stream",
     "text": [
      "MoviePy - Done.\n",
      "MoviePy - Writing audio in A:\\AI DB\\LSPD\\Audio\\porn\\porn_1059.wav\n"
     ]
    },
    {
     "name": "stderr",
     "output_type": "stream",
     "text": [
      "                                                                                                                                                                    \r"
     ]
    },
    {
     "name": "stdout",
     "output_type": "stream",
     "text": [
      "MoviePy - Done.\n",
      "MoviePy - Writing audio in A:\\AI DB\\LSPD\\Audio\\porn\\porn_1060.wav\n"
     ]
    },
    {
     "name": "stderr",
     "output_type": "stream",
     "text": [
      "                                                                                                                                                                    \r"
     ]
    },
    {
     "name": "stdout",
     "output_type": "stream",
     "text": [
      "MoviePy - Done.\n",
      "MoviePy - Writing audio in A:\\AI DB\\LSPD\\Audio\\porn\\porn_1061.wav\n"
     ]
    },
    {
     "name": "stderr",
     "output_type": "stream",
     "text": [
      "                                                                                                                                                                    \r"
     ]
    },
    {
     "name": "stdout",
     "output_type": "stream",
     "text": [
      "MoviePy - Done.\n",
      "MoviePy - Writing audio in A:\\AI DB\\LSPD\\Audio\\porn\\porn_1062.wav\n"
     ]
    },
    {
     "name": "stderr",
     "output_type": "stream",
     "text": [
      "                                                                                                                                                                    \r"
     ]
    },
    {
     "name": "stdout",
     "output_type": "stream",
     "text": [
      "MoviePy - Done.\n",
      "MoviePy - Writing audio in A:\\AI DB\\LSPD\\Audio\\porn\\porn_1063.wav\n"
     ]
    },
    {
     "name": "stderr",
     "output_type": "stream",
     "text": [
      "                                                                                                                                                                    \r"
     ]
    },
    {
     "name": "stdout",
     "output_type": "stream",
     "text": [
      "MoviePy - Done.\n",
      "MoviePy - Writing audio in A:\\AI DB\\LSPD\\Audio\\porn\\porn_1067.wav\n"
     ]
    },
    {
     "name": "stderr",
     "output_type": "stream",
     "text": [
      "                                                                                                                                                                    \r"
     ]
    },
    {
     "name": "stdout",
     "output_type": "stream",
     "text": [
      "MoviePy - Done.\n",
      "MoviePy - Writing audio in A:\\AI DB\\LSPD\\Audio\\porn\\porn_1068.wav\n"
     ]
    },
    {
     "name": "stderr",
     "output_type": "stream",
     "text": [
      "                                                                                                                                                                    \r"
     ]
    },
    {
     "name": "stdout",
     "output_type": "stream",
     "text": [
      "MoviePy - Done.\n",
      "MoviePy - Writing audio in A:\\AI DB\\LSPD\\Audio\\porn\\porn_1069.wav\n"
     ]
    },
    {
     "name": "stderr",
     "output_type": "stream",
     "text": [
      "                                                                                                                                                                    \r"
     ]
    },
    {
     "name": "stdout",
     "output_type": "stream",
     "text": [
      "MoviePy - Done.\n",
      "MoviePy - Writing audio in A:\\AI DB\\LSPD\\Audio\\porn\\porn_1070.wav\n"
     ]
    },
    {
     "name": "stderr",
     "output_type": "stream",
     "text": [
      "                                                                                                                                                                    \r"
     ]
    },
    {
     "name": "stdout",
     "output_type": "stream",
     "text": [
      "MoviePy - Done.\n",
      "MoviePy - Writing audio in A:\\AI DB\\LSPD\\Audio\\porn\\porn_1071.wav\n"
     ]
    },
    {
     "name": "stderr",
     "output_type": "stream",
     "text": [
      "                                                                                                                                                                    "
     ]
    },
    {
     "name": "stdout",
     "output_type": "stream",
     "text": [
      "MoviePy - Done.\n"
     ]
    },
    {
     "name": "stderr",
     "output_type": "stream",
     "text": [
      "\r"
     ]
    },
    {
     "name": "stdout",
     "output_type": "stream",
     "text": [
      "MoviePy - Writing audio in A:\\AI DB\\LSPD\\Audio\\porn\\porn_1072.wav\n"
     ]
    },
    {
     "name": "stderr",
     "output_type": "stream",
     "text": [
      "                                                                                                                                                                    \r"
     ]
    },
    {
     "name": "stdout",
     "output_type": "stream",
     "text": [
      "MoviePy - Done.\n",
      "MoviePy - Writing audio in A:\\AI DB\\LSPD\\Audio\\porn\\porn_1074.wav\n"
     ]
    },
    {
     "name": "stderr",
     "output_type": "stream",
     "text": [
      "                                                                                                                                                                    \r"
     ]
    },
    {
     "name": "stdout",
     "output_type": "stream",
     "text": [
      "MoviePy - Done.\n",
      "MoviePy - Writing audio in A:\\AI DB\\LSPD\\Audio\\porn\\porn_1075.wav\n"
     ]
    },
    {
     "name": "stderr",
     "output_type": "stream",
     "text": [
      "                                                                                                                                                                    \r"
     ]
    },
    {
     "name": "stdout",
     "output_type": "stream",
     "text": [
      "MoviePy - Done.\n",
      "MoviePy - Writing audio in A:\\AI DB\\LSPD\\Audio\\porn\\porn_1076.wav\n"
     ]
    },
    {
     "name": "stderr",
     "output_type": "stream",
     "text": [
      "                                                                                                                                                                    \r"
     ]
    },
    {
     "name": "stdout",
     "output_type": "stream",
     "text": [
      "MoviePy - Done.\n",
      "MoviePy - Writing audio in A:\\AI DB\\LSPD\\Audio\\porn\\porn_1079.wav\n"
     ]
    },
    {
     "name": "stderr",
     "output_type": "stream",
     "text": [
      "                                                                                                                                                                    \r"
     ]
    },
    {
     "name": "stdout",
     "output_type": "stream",
     "text": [
      "MoviePy - Done.\n",
      "MoviePy - Writing audio in A:\\AI DB\\LSPD\\Audio\\porn\\porn_108.wav\n"
     ]
    },
    {
     "name": "stderr",
     "output_type": "stream",
     "text": [
      "                                                                                                                                                                    \r"
     ]
    },
    {
     "name": "stdout",
     "output_type": "stream",
     "text": [
      "MoviePy - Done.\n",
      "MoviePy - Writing audio in A:\\AI DB\\LSPD\\Audio\\porn\\porn_1081.wav\n"
     ]
    },
    {
     "name": "stderr",
     "output_type": "stream",
     "text": [
      "                                                                                                                                                                    \r"
     ]
    },
    {
     "name": "stdout",
     "output_type": "stream",
     "text": [
      "MoviePy - Done.\n",
      "MoviePy - Writing audio in A:\\AI DB\\LSPD\\Audio\\porn\\porn_1082.wav\n"
     ]
    },
    {
     "name": "stderr",
     "output_type": "stream",
     "text": [
      "                                                                                                                                                                    \r"
     ]
    },
    {
     "name": "stdout",
     "output_type": "stream",
     "text": [
      "MoviePy - Done.\n",
      "MoviePy - Writing audio in A:\\AI DB\\LSPD\\Audio\\porn\\porn_1083.wav\n"
     ]
    },
    {
     "name": "stderr",
     "output_type": "stream",
     "text": [
      "                                                                                                                                                                    "
     ]
    },
    {
     "name": "stdout",
     "output_type": "stream",
     "text": [
      "MoviePy - Done.\n"
     ]
    },
    {
     "name": "stderr",
     "output_type": "stream",
     "text": [
      "\r"
     ]
    },
    {
     "name": "stdout",
     "output_type": "stream",
     "text": [
      "MoviePy - Writing audio in A:\\AI DB\\LSPD\\Audio\\porn\\porn_1086.wav\n"
     ]
    },
    {
     "name": "stderr",
     "output_type": "stream",
     "text": [
      "                                                                                                                                                                    \r"
     ]
    },
    {
     "name": "stdout",
     "output_type": "stream",
     "text": [
      "MoviePy - Done.\n",
      "MoviePy - Writing audio in A:\\AI DB\\LSPD\\Audio\\porn\\porn_1088.wav\n"
     ]
    },
    {
     "name": "stderr",
     "output_type": "stream",
     "text": [
      "                                                                                                                                                                    \r"
     ]
    },
    {
     "name": "stdout",
     "output_type": "stream",
     "text": [
      "MoviePy - Done.\n",
      "MoviePy - Writing audio in A:\\AI DB\\LSPD\\Audio\\porn\\porn_1089.wav\n"
     ]
    },
    {
     "name": "stderr",
     "output_type": "stream",
     "text": [
      "                                                                                                                                                                    \r"
     ]
    },
    {
     "name": "stdout",
     "output_type": "stream",
     "text": [
      "MoviePy - Done.\n",
      "MoviePy - Writing audio in A:\\AI DB\\LSPD\\Audio\\porn\\porn_109.wav\n"
     ]
    },
    {
     "name": "stderr",
     "output_type": "stream",
     "text": [
      "                                                                                                                                                                    \r"
     ]
    },
    {
     "name": "stdout",
     "output_type": "stream",
     "text": [
      "MoviePy - Done.\n",
      "MoviePy - Writing audio in A:\\AI DB\\LSPD\\Audio\\porn\\porn_1090.wav\n"
     ]
    },
    {
     "name": "stderr",
     "output_type": "stream",
     "text": [
      "                                                                                                                                                                    \r"
     ]
    },
    {
     "name": "stdout",
     "output_type": "stream",
     "text": [
      "MoviePy - Done.\n",
      "MoviePy - Writing audio in A:\\AI DB\\LSPD\\Audio\\porn\\porn_1092.wav\n"
     ]
    },
    {
     "name": "stderr",
     "output_type": "stream",
     "text": [
      "                                                                                                                                                                    \r"
     ]
    },
    {
     "name": "stdout",
     "output_type": "stream",
     "text": [
      "MoviePy - Done.\n",
      "MoviePy - Writing audio in A:\\AI DB\\LSPD\\Audio\\porn\\porn_1093.wav\n"
     ]
    },
    {
     "name": "stderr",
     "output_type": "stream",
     "text": [
      "                                                                                                                                                                    \r"
     ]
    },
    {
     "name": "stdout",
     "output_type": "stream",
     "text": [
      "MoviePy - Done.\n",
      "MoviePy - Writing audio in A:\\AI DB\\LSPD\\Audio\\porn\\porn_11.wav\n"
     ]
    },
    {
     "name": "stderr",
     "output_type": "stream",
     "text": [
      "                                                                                                                                                                    \r"
     ]
    },
    {
     "name": "stdout",
     "output_type": "stream",
     "text": [
      "MoviePy - Done.\n",
      "MoviePy - Writing audio in A:\\AI DB\\LSPD\\Audio\\porn\\porn_110.wav\n"
     ]
    },
    {
     "name": "stderr",
     "output_type": "stream",
     "text": [
      "                                                                                                                                                                    \r"
     ]
    },
    {
     "name": "stdout",
     "output_type": "stream",
     "text": [
      "MoviePy - Done.\n",
      "MoviePy - Writing audio in A:\\AI DB\\LSPD\\Audio\\porn\\porn_1100.wav\n"
     ]
    },
    {
     "name": "stderr",
     "output_type": "stream",
     "text": [
      "                                                                                                                                                                    \r"
     ]
    },
    {
     "name": "stdout",
     "output_type": "stream",
     "text": [
      "MoviePy - Done.\n",
      "MoviePy - Writing audio in A:\\AI DB\\LSPD\\Audio\\porn\\porn_1101.wav\n"
     ]
    },
    {
     "name": "stderr",
     "output_type": "stream",
     "text": [
      "                                                                                                                                                                    \r"
     ]
    },
    {
     "name": "stdout",
     "output_type": "stream",
     "text": [
      "MoviePy - Done.\n",
      "MoviePy - Writing audio in A:\\AI DB\\LSPD\\Audio\\porn\\porn_1104.wav\n"
     ]
    },
    {
     "name": "stderr",
     "output_type": "stream",
     "text": [
      "                                                                                                                                                                    \r"
     ]
    },
    {
     "name": "stdout",
     "output_type": "stream",
     "text": [
      "MoviePy - Done.\n",
      "MoviePy - Writing audio in A:\\AI DB\\LSPD\\Audio\\porn\\porn_1105.wav\n"
     ]
    },
    {
     "name": "stderr",
     "output_type": "stream",
     "text": [
      "                                                                                                                                                                    \r"
     ]
    },
    {
     "name": "stdout",
     "output_type": "stream",
     "text": [
      "MoviePy - Done.\n",
      "MoviePy - Writing audio in A:\\AI DB\\LSPD\\Audio\\porn\\porn_1107.wav\n"
     ]
    },
    {
     "name": "stderr",
     "output_type": "stream",
     "text": [
      "                                                                                                                                                                    \r"
     ]
    },
    {
     "name": "stdout",
     "output_type": "stream",
     "text": [
      "MoviePy - Done.\n",
      "MoviePy - Writing audio in A:\\AI DB\\LSPD\\Audio\\porn\\porn_1108.wav\n"
     ]
    },
    {
     "name": "stderr",
     "output_type": "stream",
     "text": [
      "                                                                                                                                                                    \r"
     ]
    },
    {
     "name": "stdout",
     "output_type": "stream",
     "text": [
      "MoviePy - Done.\n",
      "MoviePy - Writing audio in A:\\AI DB\\LSPD\\Audio\\porn\\porn_111.wav\n"
     ]
    },
    {
     "name": "stderr",
     "output_type": "stream",
     "text": [
      "                                                                                                                                                                    \r"
     ]
    },
    {
     "name": "stdout",
     "output_type": "stream",
     "text": [
      "MoviePy - Done.\n",
      "MoviePy - Writing audio in A:\\AI DB\\LSPD\\Audio\\porn\\porn_1110.wav\n"
     ]
    },
    {
     "name": "stderr",
     "output_type": "stream",
     "text": [
      "                                                                                                                                                                    \r"
     ]
    },
    {
     "name": "stdout",
     "output_type": "stream",
     "text": [
      "MoviePy - Done.\n",
      "MoviePy - Writing audio in A:\\AI DB\\LSPD\\Audio\\porn\\porn_1111.wav\n"
     ]
    },
    {
     "name": "stderr",
     "output_type": "stream",
     "text": [
      "                                                                                                                                                                    "
     ]
    },
    {
     "name": "stdout",
     "output_type": "stream",
     "text": [
      "MoviePy - Done.\n"
     ]
    },
    {
     "name": "stderr",
     "output_type": "stream",
     "text": [
      "\r"
     ]
    },
    {
     "name": "stdout",
     "output_type": "stream",
     "text": [
      "MoviePy - Writing audio in A:\\AI DB\\LSPD\\Audio\\porn\\porn_1112.wav\n"
     ]
    },
    {
     "name": "stderr",
     "output_type": "stream",
     "text": [
      "                                                                                                                                                                    \r"
     ]
    },
    {
     "name": "stdout",
     "output_type": "stream",
     "text": [
      "MoviePy - Done.\n",
      "MoviePy - Writing audio in A:\\AI DB\\LSPD\\Audio\\porn\\porn_1113.wav\n"
     ]
    },
    {
     "name": "stderr",
     "output_type": "stream",
     "text": [
      "                                                                                                                                                                    \r"
     ]
    },
    {
     "name": "stdout",
     "output_type": "stream",
     "text": [
      "MoviePy - Done.\n",
      "MoviePy - Writing audio in A:\\AI DB\\LSPD\\Audio\\porn\\porn_1115.wav\n"
     ]
    },
    {
     "name": "stderr",
     "output_type": "stream",
     "text": [
      "                                                                                                                                                                    \r"
     ]
    },
    {
     "name": "stdout",
     "output_type": "stream",
     "text": [
      "MoviePy - Done.\n",
      "MoviePy - Writing audio in A:\\AI DB\\LSPD\\Audio\\porn\\porn_1116.wav\n"
     ]
    },
    {
     "name": "stderr",
     "output_type": "stream",
     "text": [
      "                                                                                                                                                                    \r"
     ]
    },
    {
     "name": "stdout",
     "output_type": "stream",
     "text": [
      "MoviePy - Done.\n",
      "MoviePy - Writing audio in A:\\AI DB\\LSPD\\Audio\\porn\\porn_1117.wav\n"
     ]
    },
    {
     "name": "stderr",
     "output_type": "stream",
     "text": [
      "                                                                                                                                                                    \r"
     ]
    },
    {
     "name": "stdout",
     "output_type": "stream",
     "text": [
      "MoviePy - Done.\n",
      "MoviePy - Writing audio in A:\\AI DB\\LSPD\\Audio\\porn\\porn_1118.wav\n"
     ]
    },
    {
     "name": "stderr",
     "output_type": "stream",
     "text": [
      "                                                                                                                                                                    \r"
     ]
    },
    {
     "name": "stdout",
     "output_type": "stream",
     "text": [
      "MoviePy - Done.\n",
      "MoviePy - Writing audio in A:\\AI DB\\LSPD\\Audio\\porn\\porn_1122.wav\n"
     ]
    },
    {
     "name": "stderr",
     "output_type": "stream",
     "text": [
      "                                                                                                                                                                    \r"
     ]
    },
    {
     "name": "stdout",
     "output_type": "stream",
     "text": [
      "MoviePy - Done.\n",
      "MoviePy - Writing audio in A:\\AI DB\\LSPD\\Audio\\porn\\porn_1124.wav\n"
     ]
    },
    {
     "name": "stderr",
     "output_type": "stream",
     "text": [
      "                                                                                                                                                                    \r"
     ]
    },
    {
     "name": "stdout",
     "output_type": "stream",
     "text": [
      "MoviePy - Done.\n",
      "MoviePy - Writing audio in A:\\AI DB\\LSPD\\Audio\\porn\\porn_1128.wav\n"
     ]
    },
    {
     "name": "stderr",
     "output_type": "stream",
     "text": [
      "                                                                                                                                                                    \r"
     ]
    },
    {
     "name": "stdout",
     "output_type": "stream",
     "text": [
      "MoviePy - Done.\n",
      "MoviePy - Writing audio in A:\\AI DB\\LSPD\\Audio\\porn\\porn_1129.wav\n"
     ]
    },
    {
     "name": "stderr",
     "output_type": "stream",
     "text": [
      "                                                                                                                                                                    \r"
     ]
    },
    {
     "name": "stdout",
     "output_type": "stream",
     "text": [
      "MoviePy - Done.\n",
      "MoviePy - Writing audio in A:\\AI DB\\LSPD\\Audio\\porn\\porn_1132.wav\n"
     ]
    },
    {
     "name": "stderr",
     "output_type": "stream",
     "text": [
      "                                                                                                                                                                    \r"
     ]
    },
    {
     "name": "stdout",
     "output_type": "stream",
     "text": [
      "MoviePy - Done.\n",
      "MoviePy - Writing audio in A:\\AI DB\\LSPD\\Audio\\porn\\porn_1134.wav\n"
     ]
    },
    {
     "name": "stderr",
     "output_type": "stream",
     "text": [
      "                                                                                                                                                                    \r"
     ]
    },
    {
     "name": "stdout",
     "output_type": "stream",
     "text": [
      "MoviePy - Done.\n",
      "MoviePy - Writing audio in A:\\AI DB\\LSPD\\Audio\\porn\\porn_1135.wav\n"
     ]
    },
    {
     "name": "stderr",
     "output_type": "stream",
     "text": [
      "                                                                                                                                                                    \r"
     ]
    },
    {
     "name": "stdout",
     "output_type": "stream",
     "text": [
      "MoviePy - Done.\n",
      "MoviePy - Writing audio in A:\\AI DB\\LSPD\\Audio\\porn\\porn_1139.wav\n"
     ]
    },
    {
     "name": "stderr",
     "output_type": "stream",
     "text": [
      "                                                                                                                                                                    \r"
     ]
    },
    {
     "name": "stdout",
     "output_type": "stream",
     "text": [
      "MoviePy - Done.\n",
      "MoviePy - Writing audio in A:\\AI DB\\LSPD\\Audio\\porn\\porn_1143.wav\n"
     ]
    },
    {
     "name": "stderr",
     "output_type": "stream",
     "text": [
      "                                                                                                                                                                    \r"
     ]
    },
    {
     "name": "stdout",
     "output_type": "stream",
     "text": [
      "MoviePy - Done.\n",
      "MoviePy - Writing audio in A:\\AI DB\\LSPD\\Audio\\porn\\porn_1144.wav\n"
     ]
    },
    {
     "name": "stderr",
     "output_type": "stream",
     "text": [
      "                                                                                                                                                                    \r"
     ]
    },
    {
     "name": "stdout",
     "output_type": "stream",
     "text": [
      "MoviePy - Done.\n",
      "MoviePy - Writing audio in A:\\AI DB\\LSPD\\Audio\\porn\\porn_1145.wav\n"
     ]
    },
    {
     "name": "stderr",
     "output_type": "stream",
     "text": [
      "                                                                                                                                                                    \r"
     ]
    },
    {
     "name": "stdout",
     "output_type": "stream",
     "text": [
      "MoviePy - Done.\n",
      "MoviePy - Writing audio in A:\\AI DB\\LSPD\\Audio\\porn\\porn_1147.wav\n"
     ]
    },
    {
     "name": "stderr",
     "output_type": "stream",
     "text": [
      "                                                                                                                                                                    \r"
     ]
    },
    {
     "name": "stdout",
     "output_type": "stream",
     "text": [
      "MoviePy - Done.\n",
      "MoviePy - Writing audio in A:\\AI DB\\LSPD\\Audio\\porn\\porn_1148.wav\n"
     ]
    },
    {
     "name": "stderr",
     "output_type": "stream",
     "text": [
      "                                                                                                                                                                    \r"
     ]
    },
    {
     "name": "stdout",
     "output_type": "stream",
     "text": [
      "MoviePy - Done.\n",
      "MoviePy - Writing audio in A:\\AI DB\\LSPD\\Audio\\porn\\porn_115.wav\n"
     ]
    },
    {
     "name": "stderr",
     "output_type": "stream",
     "text": [
      "                                                                                                                                                                    \r"
     ]
    },
    {
     "name": "stdout",
     "output_type": "stream",
     "text": [
      "MoviePy - Done.\n",
      "MoviePy - Writing audio in A:\\AI DB\\LSPD\\Audio\\porn\\porn_1150.wav\n"
     ]
    },
    {
     "name": "stderr",
     "output_type": "stream",
     "text": [
      "                                                                                                                                                                    \r"
     ]
    },
    {
     "name": "stdout",
     "output_type": "stream",
     "text": [
      "MoviePy - Done.\n",
      "MoviePy - Writing audio in A:\\AI DB\\LSPD\\Audio\\porn\\porn_1157.wav\n"
     ]
    },
    {
     "name": "stderr",
     "output_type": "stream",
     "text": [
      "                                                                                                                                                                    \r"
     ]
    },
    {
     "name": "stdout",
     "output_type": "stream",
     "text": [
      "MoviePy - Done.\n",
      "MoviePy - Writing audio in A:\\AI DB\\LSPD\\Audio\\porn\\porn_1159.wav\n"
     ]
    },
    {
     "name": "stderr",
     "output_type": "stream",
     "text": [
      "                                                                                                                                                                    \r"
     ]
    },
    {
     "name": "stdout",
     "output_type": "stream",
     "text": [
      "MoviePy - Done.\n",
      "MoviePy - Writing audio in A:\\AI DB\\LSPD\\Audio\\porn\\porn_1161.wav\n"
     ]
    },
    {
     "name": "stderr",
     "output_type": "stream",
     "text": [
      "                                                                                                                                                                    \r"
     ]
    },
    {
     "name": "stdout",
     "output_type": "stream",
     "text": [
      "MoviePy - Done.\n",
      "MoviePy - Writing audio in A:\\AI DB\\LSPD\\Audio\\porn\\porn_1162.wav\n"
     ]
    },
    {
     "name": "stderr",
     "output_type": "stream",
     "text": [
      "                                                                                                                                                                    \r"
     ]
    },
    {
     "name": "stdout",
     "output_type": "stream",
     "text": [
      "MoviePy - Done.\n",
      "MoviePy - Writing audio in A:\\AI DB\\LSPD\\Audio\\porn\\porn_1166.wav\n"
     ]
    },
    {
     "name": "stderr",
     "output_type": "stream",
     "text": [
      "                                                                                                                                                                    \r"
     ]
    },
    {
     "name": "stdout",
     "output_type": "stream",
     "text": [
      "MoviePy - Done.\n",
      "MoviePy - Writing audio in A:\\AI DB\\LSPD\\Audio\\porn\\porn_117.wav\n"
     ]
    },
    {
     "name": "stderr",
     "output_type": "stream",
     "text": [
      "                                                                                                                                                                    \r"
     ]
    },
    {
     "name": "stdout",
     "output_type": "stream",
     "text": [
      "MoviePy - Done.\n",
      "MoviePy - Writing audio in A:\\AI DB\\LSPD\\Audio\\porn\\porn_1174.wav\n"
     ]
    },
    {
     "name": "stderr",
     "output_type": "stream",
     "text": [
      "                                                                                                                                                                    \r"
     ]
    },
    {
     "name": "stdout",
     "output_type": "stream",
     "text": [
      "MoviePy - Done.\n",
      "MoviePy - Writing audio in A:\\AI DB\\LSPD\\Audio\\porn\\porn_1175.wav\n"
     ]
    },
    {
     "name": "stderr",
     "output_type": "stream",
     "text": [
      "                                                                                                                                                                    \r"
     ]
    },
    {
     "name": "stdout",
     "output_type": "stream",
     "text": [
      "MoviePy - Done.\n",
      "MoviePy - Writing audio in A:\\AI DB\\LSPD\\Audio\\porn\\porn_1177.wav\n"
     ]
    },
    {
     "name": "stderr",
     "output_type": "stream",
     "text": [
      "                                                                                                                                                                    \r"
     ]
    },
    {
     "name": "stdout",
     "output_type": "stream",
     "text": [
      "MoviePy - Done.\n",
      "MoviePy - Writing audio in A:\\AI DB\\LSPD\\Audio\\porn\\porn_1178.wav\n"
     ]
    },
    {
     "name": "stderr",
     "output_type": "stream",
     "text": [
      "                                                                                                                                                                    \r"
     ]
    },
    {
     "name": "stdout",
     "output_type": "stream",
     "text": [
      "MoviePy - Done.\n",
      "MoviePy - Writing audio in A:\\AI DB\\LSPD\\Audio\\porn\\porn_1180.wav\n"
     ]
    },
    {
     "name": "stderr",
     "output_type": "stream",
     "text": [
      "                                                                                                                                                                    \r"
     ]
    },
    {
     "name": "stdout",
     "output_type": "stream",
     "text": [
      "MoviePy - Done.\n",
      "MoviePy - Writing audio in A:\\AI DB\\LSPD\\Audio\\porn\\porn_1181.wav\n"
     ]
    },
    {
     "name": "stderr",
     "output_type": "stream",
     "text": [
      "                                                                                                                                                                    \r"
     ]
    },
    {
     "name": "stdout",
     "output_type": "stream",
     "text": [
      "MoviePy - Done.\n",
      "MoviePy - Writing audio in A:\\AI DB\\LSPD\\Audio\\porn\\porn_1182.wav\n"
     ]
    },
    {
     "name": "stderr",
     "output_type": "stream",
     "text": [
      "                                                                                                                                                                    "
     ]
    },
    {
     "name": "stdout",
     "output_type": "stream",
     "text": [
      "MoviePy - Done.\n"
     ]
    },
    {
     "name": "stderr",
     "output_type": "stream",
     "text": [
      "\r"
     ]
    },
    {
     "name": "stdout",
     "output_type": "stream",
     "text": [
      "MoviePy - Writing audio in A:\\AI DB\\LSPD\\Audio\\porn\\porn_1185.wav\n"
     ]
    },
    {
     "name": "stderr",
     "output_type": "stream",
     "text": [
      "                                                                                                                                                                    \r"
     ]
    },
    {
     "name": "stdout",
     "output_type": "stream",
     "text": [
      "MoviePy - Done.\n",
      "MoviePy - Writing audio in A:\\AI DB\\LSPD\\Audio\\porn\\porn_1186.wav\n"
     ]
    },
    {
     "name": "stderr",
     "output_type": "stream",
     "text": [
      "                                                                                                                                                                    \r"
     ]
    },
    {
     "name": "stdout",
     "output_type": "stream",
     "text": [
      "MoviePy - Done.\n",
      "MoviePy - Writing audio in A:\\AI DB\\LSPD\\Audio\\porn\\porn_1187.wav\n"
     ]
    },
    {
     "name": "stderr",
     "output_type": "stream",
     "text": [
      "                                                                                                                                                                    \r"
     ]
    },
    {
     "name": "stdout",
     "output_type": "stream",
     "text": [
      "MoviePy - Done.\n",
      "MoviePy - Writing audio in A:\\AI DB\\LSPD\\Audio\\porn\\porn_1189.wav\n"
     ]
    },
    {
     "name": "stderr",
     "output_type": "stream",
     "text": [
      "                                                                                                                                                                    \r"
     ]
    },
    {
     "name": "stdout",
     "output_type": "stream",
     "text": [
      "MoviePy - Done.\n",
      "MoviePy - Writing audio in A:\\AI DB\\LSPD\\Audio\\porn\\porn_1191.wav\n"
     ]
    },
    {
     "name": "stderr",
     "output_type": "stream",
     "text": [
      "                                                                                                                                                                    \r"
     ]
    },
    {
     "name": "stdout",
     "output_type": "stream",
     "text": [
      "MoviePy - Done.\n",
      "MoviePy - Writing audio in A:\\AI DB\\LSPD\\Audio\\porn\\porn_1192.wav\n"
     ]
    },
    {
     "name": "stderr",
     "output_type": "stream",
     "text": [
      "                                                                                                                                                                    \r"
     ]
    },
    {
     "name": "stdout",
     "output_type": "stream",
     "text": [
      "MoviePy - Done.\n",
      "MoviePy - Writing audio in A:\\AI DB\\LSPD\\Audio\\porn\\porn_1194.wav\n"
     ]
    },
    {
     "name": "stderr",
     "output_type": "stream",
     "text": [
      "                                                                                                                                                                    \r"
     ]
    },
    {
     "name": "stdout",
     "output_type": "stream",
     "text": [
      "MoviePy - Done.\n",
      "MoviePy - Writing audio in A:\\AI DB\\LSPD\\Audio\\porn\\porn_1196.wav\n"
     ]
    },
    {
     "name": "stderr",
     "output_type": "stream",
     "text": [
      "                                                                                                                                                                    \r"
     ]
    },
    {
     "name": "stdout",
     "output_type": "stream",
     "text": [
      "MoviePy - Done.\n",
      "MoviePy - Writing audio in A:\\AI DB\\LSPD\\Audio\\porn\\porn_1199.wav\n"
     ]
    },
    {
     "name": "stderr",
     "output_type": "stream",
     "text": [
      "                                                                                                                                                                    \r"
     ]
    },
    {
     "name": "stdout",
     "output_type": "stream",
     "text": [
      "MoviePy - Done.\n",
      "MoviePy - Writing audio in A:\\AI DB\\LSPD\\Audio\\porn\\porn_12.wav\n"
     ]
    },
    {
     "name": "stderr",
     "output_type": "stream",
     "text": [
      "                                                                                                                                                                    \r"
     ]
    },
    {
     "name": "stdout",
     "output_type": "stream",
     "text": [
      "MoviePy - Done.\n",
      "MoviePy - Writing audio in A:\\AI DB\\LSPD\\Audio\\porn\\porn_1200.wav\n"
     ]
    },
    {
     "name": "stderr",
     "output_type": "stream",
     "text": [
      "                                                                                                                                                                    \r"
     ]
    },
    {
     "name": "stdout",
     "output_type": "stream",
     "text": [
      "MoviePy - Done.\n",
      "MoviePy - Writing audio in A:\\AI DB\\LSPD\\Audio\\porn\\porn_1201.wav\n"
     ]
    },
    {
     "name": "stderr",
     "output_type": "stream",
     "text": [
      "                                                                                                                                                                    \r"
     ]
    },
    {
     "name": "stdout",
     "output_type": "stream",
     "text": [
      "MoviePy - Done.\n",
      "MoviePy - Writing audio in A:\\AI DB\\LSPD\\Audio\\porn\\porn_1202.wav\n"
     ]
    },
    {
     "name": "stderr",
     "output_type": "stream",
     "text": [
      "                                                                                                                                                                    \r"
     ]
    },
    {
     "name": "stdout",
     "output_type": "stream",
     "text": [
      "MoviePy - Done.\n",
      "MoviePy - Writing audio in A:\\AI DB\\LSPD\\Audio\\porn\\porn_1206.wav\n"
     ]
    },
    {
     "name": "stderr",
     "output_type": "stream",
     "text": [
      "                                                                                                                                                                    \r"
     ]
    },
    {
     "name": "stdout",
     "output_type": "stream",
     "text": [
      "MoviePy - Done.\n",
      "MoviePy - Writing audio in A:\\AI DB\\LSPD\\Audio\\porn\\porn_1208.wav\n"
     ]
    },
    {
     "name": "stderr",
     "output_type": "stream",
     "text": [
      "                                                                                                                                                                    \r"
     ]
    },
    {
     "name": "stdout",
     "output_type": "stream",
     "text": [
      "MoviePy - Done.\n",
      "MoviePy - Writing audio in A:\\AI DB\\LSPD\\Audio\\porn\\porn_121.wav\n"
     ]
    },
    {
     "name": "stderr",
     "output_type": "stream",
     "text": [
      "                                                                                                                                                                    \r"
     ]
    },
    {
     "name": "stdout",
     "output_type": "stream",
     "text": [
      "MoviePy - Done.\n",
      "MoviePy - Writing audio in A:\\AI DB\\LSPD\\Audio\\porn\\porn_1210.wav\n"
     ]
    },
    {
     "name": "stderr",
     "output_type": "stream",
     "text": [
      "                                                                                                                                                                    \r"
     ]
    },
    {
     "name": "stdout",
     "output_type": "stream",
     "text": [
      "MoviePy - Done.\n",
      "MoviePy - Writing audio in A:\\AI DB\\LSPD\\Audio\\porn\\porn_1213.wav\n"
     ]
    },
    {
     "name": "stderr",
     "output_type": "stream",
     "text": [
      "                                                                                                                                                                    \r"
     ]
    },
    {
     "name": "stdout",
     "output_type": "stream",
     "text": [
      "MoviePy - Done.\n",
      "MoviePy - Writing audio in A:\\AI DB\\LSPD\\Audio\\porn\\porn_1215.wav\n"
     ]
    },
    {
     "name": "stderr",
     "output_type": "stream",
     "text": [
      "                                                                                                                                                                    \r"
     ]
    },
    {
     "name": "stdout",
     "output_type": "stream",
     "text": [
      "MoviePy - Done.\n",
      "MoviePy - Writing audio in A:\\AI DB\\LSPD\\Audio\\porn\\porn_1219.wav\n"
     ]
    },
    {
     "name": "stderr",
     "output_type": "stream",
     "text": [
      "                                                                                                                                                                    \r"
     ]
    },
    {
     "name": "stdout",
     "output_type": "stream",
     "text": [
      "MoviePy - Done.\n",
      "MoviePy - Writing audio in A:\\AI DB\\LSPD\\Audio\\porn\\porn_1222.wav\n"
     ]
    },
    {
     "name": "stderr",
     "output_type": "stream",
     "text": [
      "                                                                                                                                                                    \r"
     ]
    },
    {
     "name": "stdout",
     "output_type": "stream",
     "text": [
      "MoviePy - Done.\n",
      "MoviePy - Writing audio in A:\\AI DB\\LSPD\\Audio\\porn\\porn_1223.wav\n"
     ]
    },
    {
     "name": "stderr",
     "output_type": "stream",
     "text": [
      "                                                                                                                                                                    \r"
     ]
    },
    {
     "name": "stdout",
     "output_type": "stream",
     "text": [
      "MoviePy - Done.\n",
      "MoviePy - Writing audio in A:\\AI DB\\LSPD\\Audio\\porn\\porn_1225.wav\n"
     ]
    },
    {
     "name": "stderr",
     "output_type": "stream",
     "text": [
      "                                                                                                                                                                    "
     ]
    },
    {
     "name": "stdout",
     "output_type": "stream",
     "text": [
      "MoviePy - Done.\n"
     ]
    },
    {
     "name": "stderr",
     "output_type": "stream",
     "text": [
      "\r"
     ]
    },
    {
     "name": "stdout",
     "output_type": "stream",
     "text": [
      "MoviePy - Writing audio in A:\\AI DB\\LSPD\\Audio\\porn\\porn_1227.wav\n"
     ]
    },
    {
     "name": "stderr",
     "output_type": "stream",
     "text": [
      "                                                                                                                                                                    \r"
     ]
    },
    {
     "name": "stdout",
     "output_type": "stream",
     "text": [
      "MoviePy - Done.\n",
      "MoviePy - Writing audio in A:\\AI DB\\LSPD\\Audio\\porn\\porn_1228.wav\n"
     ]
    },
    {
     "name": "stderr",
     "output_type": "stream",
     "text": [
      "                                                                                                                                                                    \r"
     ]
    },
    {
     "name": "stdout",
     "output_type": "stream",
     "text": [
      "MoviePy - Done.\n",
      "MoviePy - Writing audio in A:\\AI DB\\LSPD\\Audio\\porn\\porn_1229.wav\n"
     ]
    },
    {
     "name": "stderr",
     "output_type": "stream",
     "text": [
      "                                                                                                                                                                    \r"
     ]
    },
    {
     "name": "stdout",
     "output_type": "stream",
     "text": [
      "MoviePy - Done.\n",
      "MoviePy - Writing audio in A:\\AI DB\\LSPD\\Audio\\porn\\porn_123.wav\n"
     ]
    },
    {
     "name": "stderr",
     "output_type": "stream",
     "text": [
      "                                                                                                                                                                    \r"
     ]
    },
    {
     "name": "stdout",
     "output_type": "stream",
     "text": [
      "MoviePy - Done.\n",
      "MoviePy - Writing audio in A:\\AI DB\\LSPD\\Audio\\porn\\porn_1230.wav\n"
     ]
    },
    {
     "name": "stderr",
     "output_type": "stream",
     "text": [
      "                                                                                                                                                                    \r"
     ]
    },
    {
     "name": "stdout",
     "output_type": "stream",
     "text": [
      "MoviePy - Done.\n",
      "MoviePy - Writing audio in A:\\AI DB\\LSPD\\Audio\\porn\\porn_1231.wav\n"
     ]
    },
    {
     "name": "stderr",
     "output_type": "stream",
     "text": [
      "                                                                                                                                                                    \r"
     ]
    },
    {
     "name": "stdout",
     "output_type": "stream",
     "text": [
      "MoviePy - Done.\n",
      "MoviePy - Writing audio in A:\\AI DB\\LSPD\\Audio\\porn\\porn_124.wav\n"
     ]
    },
    {
     "name": "stderr",
     "output_type": "stream",
     "text": [
      "                                                                                                                                                                    \r"
     ]
    },
    {
     "name": "stdout",
     "output_type": "stream",
     "text": [
      "MoviePy - Done.\n",
      "MoviePy - Writing audio in A:\\AI DB\\LSPD\\Audio\\porn\\porn_1242.wav\n"
     ]
    },
    {
     "name": "stderr",
     "output_type": "stream",
     "text": [
      "                                                                                                                                                                    \r"
     ]
    },
    {
     "name": "stdout",
     "output_type": "stream",
     "text": [
      "MoviePy - Done.\n",
      "MoviePy - Writing audio in A:\\AI DB\\LSPD\\Audio\\porn\\porn_1243.wav\n"
     ]
    },
    {
     "name": "stderr",
     "output_type": "stream",
     "text": [
      "                                                                                                                                                                    \r"
     ]
    },
    {
     "name": "stdout",
     "output_type": "stream",
     "text": [
      "MoviePy - Done.\n",
      "MoviePy - Writing audio in A:\\AI DB\\LSPD\\Audio\\porn\\porn_1251.wav\n"
     ]
    },
    {
     "name": "stderr",
     "output_type": "stream",
     "text": [
      "                                                                                                                                                                    \r"
     ]
    },
    {
     "name": "stdout",
     "output_type": "stream",
     "text": [
      "MoviePy - Done.\n",
      "MoviePy - Writing audio in A:\\AI DB\\LSPD\\Audio\\porn\\porn_1255.wav\n"
     ]
    },
    {
     "name": "stderr",
     "output_type": "stream",
     "text": [
      "                                                                                                                                                                    \r"
     ]
    },
    {
     "name": "stdout",
     "output_type": "stream",
     "text": [
      "MoviePy - Done.\n",
      "MoviePy - Writing audio in A:\\AI DB\\LSPD\\Audio\\porn\\porn_1257.wav\n"
     ]
    },
    {
     "name": "stderr",
     "output_type": "stream",
     "text": [
      "                                                                                                                                                                    \r"
     ]
    },
    {
     "name": "stdout",
     "output_type": "stream",
     "text": [
      "MoviePy - Done.\n",
      "MoviePy - Writing audio in A:\\AI DB\\LSPD\\Audio\\porn\\porn_126.wav\n"
     ]
    },
    {
     "name": "stderr",
     "output_type": "stream",
     "text": [
      "                                                                                                                                                                    \r"
     ]
    },
    {
     "name": "stdout",
     "output_type": "stream",
     "text": [
      "MoviePy - Done.\n",
      "MoviePy - Writing audio in A:\\AI DB\\LSPD\\Audio\\porn\\porn_1262.wav\n"
     ]
    },
    {
     "name": "stderr",
     "output_type": "stream",
     "text": [
      "                                                                                                                                                                    \r"
     ]
    },
    {
     "name": "stdout",
     "output_type": "stream",
     "text": [
      "MoviePy - Done.\n",
      "MoviePy - Writing audio in A:\\AI DB\\LSPD\\Audio\\porn\\porn_1264.wav\n"
     ]
    },
    {
     "name": "stderr",
     "output_type": "stream",
     "text": [
      "                                                                                                                                                                    \r"
     ]
    },
    {
     "name": "stdout",
     "output_type": "stream",
     "text": [
      "MoviePy - Done.\n",
      "MoviePy - Writing audio in A:\\AI DB\\LSPD\\Audio\\porn\\porn_1267.wav\n"
     ]
    },
    {
     "name": "stderr",
     "output_type": "stream",
     "text": [
      "                                                                                                                                                                    \r"
     ]
    },
    {
     "name": "stdout",
     "output_type": "stream",
     "text": [
      "MoviePy - Done.\n",
      "MoviePy - Writing audio in A:\\AI DB\\LSPD\\Audio\\porn\\porn_1268.wav\n"
     ]
    },
    {
     "name": "stderr",
     "output_type": "stream",
     "text": [
      "                                                                                                                                                                    \r"
     ]
    },
    {
     "name": "stdout",
     "output_type": "stream",
     "text": [
      "MoviePy - Done.\n",
      "MoviePy - Writing audio in A:\\AI DB\\LSPD\\Audio\\porn\\porn_1270.wav\n"
     ]
    },
    {
     "name": "stderr",
     "output_type": "stream",
     "text": [
      "                                                                                                                                                                    \r"
     ]
    },
    {
     "name": "stdout",
     "output_type": "stream",
     "text": [
      "MoviePy - Done.\n",
      "MoviePy - Writing audio in A:\\AI DB\\LSPD\\Audio\\porn\\porn_1271.wav\n"
     ]
    },
    {
     "name": "stderr",
     "output_type": "stream",
     "text": [
      "                                                                                                                                                                    \r"
     ]
    },
    {
     "name": "stdout",
     "output_type": "stream",
     "text": [
      "MoviePy - Done.\n",
      "MoviePy - Writing audio in A:\\AI DB\\LSPD\\Audio\\porn\\porn_1272.wav\n"
     ]
    },
    {
     "name": "stderr",
     "output_type": "stream",
     "text": [
      "                                                                                                                                                                    \r"
     ]
    },
    {
     "name": "stdout",
     "output_type": "stream",
     "text": [
      "MoviePy - Done.\n",
      "MoviePy - Writing audio in A:\\AI DB\\LSPD\\Audio\\porn\\porn_1276.wav\n"
     ]
    },
    {
     "name": "stderr",
     "output_type": "stream",
     "text": [
      "                                                                                                                                                                    \r"
     ]
    },
    {
     "name": "stdout",
     "output_type": "stream",
     "text": [
      "MoviePy - Done.\n",
      "MoviePy - Writing audio in A:\\AI DB\\LSPD\\Audio\\porn\\porn_1279.wav\n"
     ]
    },
    {
     "name": "stderr",
     "output_type": "stream",
     "text": [
      "                                                                                                                                                                    \r"
     ]
    },
    {
     "name": "stdout",
     "output_type": "stream",
     "text": [
      "MoviePy - Done.\n",
      "MoviePy - Writing audio in A:\\AI DB\\LSPD\\Audio\\porn\\porn_128.wav\n"
     ]
    },
    {
     "name": "stderr",
     "output_type": "stream",
     "text": [
      "                                                                                                                                                                    \r"
     ]
    },
    {
     "name": "stdout",
     "output_type": "stream",
     "text": [
      "MoviePy - Done.\n",
      "MoviePy - Writing audio in A:\\AI DB\\LSPD\\Audio\\porn\\porn_1281.wav\n"
     ]
    },
    {
     "name": "stderr",
     "output_type": "stream",
     "text": [
      "                                                                                                                                                                    \r"
     ]
    },
    {
     "name": "stdout",
     "output_type": "stream",
     "text": [
      "MoviePy - Done.\n",
      "MoviePy - Writing audio in A:\\AI DB\\LSPD\\Audio\\porn\\porn_1282.wav\n"
     ]
    },
    {
     "name": "stderr",
     "output_type": "stream",
     "text": [
      "                                                                                                                                                                    \r"
     ]
    },
    {
     "name": "stdout",
     "output_type": "stream",
     "text": [
      "MoviePy - Done.\n",
      "MoviePy - Writing audio in A:\\AI DB\\LSPD\\Audio\\porn\\porn_1283.wav\n"
     ]
    },
    {
     "name": "stderr",
     "output_type": "stream",
     "text": [
      "                                                                                                                                                                    \r"
     ]
    },
    {
     "name": "stdout",
     "output_type": "stream",
     "text": [
      "MoviePy - Done.\n",
      "MoviePy - Writing audio in A:\\AI DB\\LSPD\\Audio\\porn\\porn_1284.wav\n"
     ]
    },
    {
     "name": "stderr",
     "output_type": "stream",
     "text": [
      "                                                                                                                                                                    \r"
     ]
    },
    {
     "name": "stdout",
     "output_type": "stream",
     "text": [
      "MoviePy - Done.\n",
      "MoviePy - Writing audio in A:\\AI DB\\LSPD\\Audio\\porn\\porn_1285.wav\n"
     ]
    },
    {
     "name": "stderr",
     "output_type": "stream",
     "text": [
      "                                                                                                                                                                    \r"
     ]
    },
    {
     "name": "stdout",
     "output_type": "stream",
     "text": [
      "MoviePy - Done.\n",
      "MoviePy - Writing audio in A:\\AI DB\\LSPD\\Audio\\porn\\porn_1287.wav\n"
     ]
    },
    {
     "name": "stderr",
     "output_type": "stream",
     "text": [
      "                                                                                                                                                                    \r"
     ]
    },
    {
     "name": "stdout",
     "output_type": "stream",
     "text": [
      "MoviePy - Done.\n",
      "MoviePy - Writing audio in A:\\AI DB\\LSPD\\Audio\\porn\\porn_1288.wav\n"
     ]
    },
    {
     "name": "stderr",
     "output_type": "stream",
     "text": [
      "                                                                                                                                                                    \r"
     ]
    },
    {
     "name": "stdout",
     "output_type": "stream",
     "text": [
      "MoviePy - Done.\n",
      "MoviePy - Writing audio in A:\\AI DB\\LSPD\\Audio\\porn\\porn_1289.wav\n"
     ]
    },
    {
     "name": "stderr",
     "output_type": "stream",
     "text": [
      "                                                                                                                                                                    \r"
     ]
    },
    {
     "name": "stdout",
     "output_type": "stream",
     "text": [
      "MoviePy - Done.\n",
      "MoviePy - Writing audio in A:\\AI DB\\LSPD\\Audio\\porn\\porn_1294.wav\n"
     ]
    },
    {
     "name": "stderr",
     "output_type": "stream",
     "text": [
      "                                                                                                                                                                    \r"
     ]
    },
    {
     "name": "stdout",
     "output_type": "stream",
     "text": [
      "MoviePy - Done.\n",
      "MoviePy - Writing audio in A:\\AI DB\\LSPD\\Audio\\porn\\porn_1297.wav\n"
     ]
    },
    {
     "name": "stderr",
     "output_type": "stream",
     "text": [
      "                                                                                                                                                                    \r"
     ]
    },
    {
     "name": "stdout",
     "output_type": "stream",
     "text": [
      "MoviePy - Done.\n",
      "MoviePy - Writing audio in A:\\AI DB\\LSPD\\Audio\\porn\\porn_1298.wav\n"
     ]
    },
    {
     "name": "stderr",
     "output_type": "stream",
     "text": [
      "                                                                                                                                                                    \r"
     ]
    },
    {
     "name": "stdout",
     "output_type": "stream",
     "text": [
      "MoviePy - Done.\n",
      "MoviePy - Writing audio in A:\\AI DB\\LSPD\\Audio\\porn\\porn_1299.wav\n"
     ]
    },
    {
     "name": "stderr",
     "output_type": "stream",
     "text": [
      "                                                                                                                                                                    \r"
     ]
    },
    {
     "name": "stdout",
     "output_type": "stream",
     "text": [
      "MoviePy - Done.\n",
      "MoviePy - Writing audio in A:\\AI DB\\LSPD\\Audio\\porn\\porn_13.wav\n"
     ]
    },
    {
     "name": "stderr",
     "output_type": "stream",
     "text": [
      "                                                                                                                                                                    \r"
     ]
    },
    {
     "name": "stdout",
     "output_type": "stream",
     "text": [
      "MoviePy - Done.\n",
      "MoviePy - Writing audio in A:\\AI DB\\LSPD\\Audio\\porn\\porn_1301.wav\n"
     ]
    },
    {
     "name": "stderr",
     "output_type": "stream",
     "text": [
      "                                                                                                                                                                    \r"
     ]
    },
    {
     "name": "stdout",
     "output_type": "stream",
     "text": [
      "MoviePy - Done.\n",
      "MoviePy - Writing audio in A:\\AI DB\\LSPD\\Audio\\porn\\porn_1305.wav\n"
     ]
    },
    {
     "name": "stderr",
     "output_type": "stream",
     "text": [
      "                                                                                                                                                                    \r"
     ]
    },
    {
     "name": "stdout",
     "output_type": "stream",
     "text": [
      "MoviePy - Done.\n",
      "MoviePy - Writing audio in A:\\AI DB\\LSPD\\Audio\\porn\\porn_1306.wav\n"
     ]
    },
    {
     "name": "stderr",
     "output_type": "stream",
     "text": [
      "                                                                                                                                                                    \r"
     ]
    },
    {
     "name": "stdout",
     "output_type": "stream",
     "text": [
      "MoviePy - Done.\n",
      "MoviePy - Writing audio in A:\\AI DB\\LSPD\\Audio\\porn\\porn_1308.wav\n"
     ]
    },
    {
     "name": "stderr",
     "output_type": "stream",
     "text": [
      "                                                                                                                                                                    \r"
     ]
    },
    {
     "name": "stdout",
     "output_type": "stream",
     "text": [
      "MoviePy - Done.\n",
      "MoviePy - Writing audio in A:\\AI DB\\LSPD\\Audio\\porn\\porn_1309.wav\n"
     ]
    },
    {
     "name": "stderr",
     "output_type": "stream",
     "text": [
      "                                                                                                                                                                    "
     ]
    },
    {
     "name": "stdout",
     "output_type": "stream",
     "text": [
      "MoviePy - Done.\n"
     ]
    },
    {
     "name": "stderr",
     "output_type": "stream",
     "text": [
      "\r"
     ]
    },
    {
     "name": "stdout",
     "output_type": "stream",
     "text": [
      "MoviePy - Writing audio in A:\\AI DB\\LSPD\\Audio\\porn\\porn_1310.wav\n"
     ]
    },
    {
     "name": "stderr",
     "output_type": "stream",
     "text": [
      "                                                                                                                                                                    \r"
     ]
    },
    {
     "name": "stdout",
     "output_type": "stream",
     "text": [
      "MoviePy - Done.\n",
      "MoviePy - Writing audio in A:\\AI DB\\LSPD\\Audio\\porn\\porn_1314.wav\n"
     ]
    },
    {
     "name": "stderr",
     "output_type": "stream",
     "text": [
      "                                                                                                                                                                    \r"
     ]
    },
    {
     "name": "stdout",
     "output_type": "stream",
     "text": [
      "MoviePy - Done.\n",
      "MoviePy - Writing audio in A:\\AI DB\\LSPD\\Audio\\porn\\porn_1317.wav\n"
     ]
    },
    {
     "name": "stderr",
     "output_type": "stream",
     "text": [
      "                                                                                                                                                                    \r"
     ]
    },
    {
     "name": "stdout",
     "output_type": "stream",
     "text": [
      "MoviePy - Done.\n",
      "MoviePy - Writing audio in A:\\AI DB\\LSPD\\Audio\\porn\\porn_132.wav\n"
     ]
    },
    {
     "name": "stderr",
     "output_type": "stream",
     "text": [
      "                                                                                                                                                                    \r"
     ]
    },
    {
     "name": "stdout",
     "output_type": "stream",
     "text": [
      "MoviePy - Done.\n",
      "MoviePy - Writing audio in A:\\AI DB\\LSPD\\Audio\\porn\\porn_1321.wav\n"
     ]
    },
    {
     "name": "stderr",
     "output_type": "stream",
     "text": [
      "                                                                                                                                                                    \r"
     ]
    },
    {
     "name": "stdout",
     "output_type": "stream",
     "text": [
      "MoviePy - Done.\n",
      "MoviePy - Writing audio in A:\\AI DB\\LSPD\\Audio\\porn\\porn_1323.wav\n"
     ]
    },
    {
     "name": "stderr",
     "output_type": "stream",
     "text": [
      "                                                                                                                                                                    \r"
     ]
    },
    {
     "name": "stdout",
     "output_type": "stream",
     "text": [
      "MoviePy - Done.\n",
      "MoviePy - Writing audio in A:\\AI DB\\LSPD\\Audio\\porn\\porn_1325.wav\n"
     ]
    },
    {
     "name": "stderr",
     "output_type": "stream",
     "text": [
      "                                                                                                                                                                    "
     ]
    },
    {
     "name": "stdout",
     "output_type": "stream",
     "text": [
      "MoviePy - Done.\n"
     ]
    },
    {
     "name": "stderr",
     "output_type": "stream",
     "text": [
      "\r"
     ]
    },
    {
     "name": "stdout",
     "output_type": "stream",
     "text": [
      "MoviePy - Writing audio in A:\\AI DB\\LSPD\\Audio\\porn\\porn_133.wav\n"
     ]
    },
    {
     "name": "stderr",
     "output_type": "stream",
     "text": [
      "                                                                                                                                                                    "
     ]
    },
    {
     "name": "stdout",
     "output_type": "stream",
     "text": [
      "MoviePy - Done.\n"
     ]
    },
    {
     "name": "stderr",
     "output_type": "stream",
     "text": [
      "\r"
     ]
    },
    {
     "name": "stdout",
     "output_type": "stream",
     "text": [
      "MoviePy - Writing audio in A:\\AI DB\\LSPD\\Audio\\porn\\porn_1331.wav\n"
     ]
    },
    {
     "name": "stderr",
     "output_type": "stream",
     "text": [
      "                                                                                                                                                                    \r"
     ]
    },
    {
     "name": "stdout",
     "output_type": "stream",
     "text": [
      "MoviePy - Done.\n",
      "MoviePy - Writing audio in A:\\AI DB\\LSPD\\Audio\\porn\\porn_1333.wav\n"
     ]
    },
    {
     "name": "stderr",
     "output_type": "stream",
     "text": [
      "                                                                                                                                                                    \r"
     ]
    },
    {
     "name": "stdout",
     "output_type": "stream",
     "text": [
      "MoviePy - Done.\n",
      "MoviePy - Writing audio in A:\\AI DB\\LSPD\\Audio\\porn\\porn_1335.wav\n"
     ]
    },
    {
     "name": "stderr",
     "output_type": "stream",
     "text": [
      "                                                                                                                                                                    \r"
     ]
    },
    {
     "name": "stdout",
     "output_type": "stream",
     "text": [
      "MoviePy - Done.\n",
      "MoviePy - Writing audio in A:\\AI DB\\LSPD\\Audio\\porn\\porn_1337.wav\n"
     ]
    },
    {
     "name": "stderr",
     "output_type": "stream",
     "text": [
      "                                                                                                                                                                    \r"
     ]
    },
    {
     "name": "stdout",
     "output_type": "stream",
     "text": [
      "MoviePy - Done.\n",
      "MoviePy - Writing audio in A:\\AI DB\\LSPD\\Audio\\porn\\porn_1340.wav\n"
     ]
    },
    {
     "name": "stderr",
     "output_type": "stream",
     "text": [
      "                                                                                                                                                                    "
     ]
    },
    {
     "name": "stdout",
     "output_type": "stream",
     "text": [
      "MoviePy - Done.\n"
     ]
    },
    {
     "name": "stderr",
     "output_type": "stream",
     "text": [
      "\r"
     ]
    },
    {
     "name": "stdout",
     "output_type": "stream",
     "text": [
      "MoviePy - Writing audio in A:\\AI DB\\LSPD\\Audio\\porn\\porn_1343.wav\n"
     ]
    },
    {
     "name": "stderr",
     "output_type": "stream",
     "text": [
      "                                                                                                                                                                    \r"
     ]
    },
    {
     "name": "stdout",
     "output_type": "stream",
     "text": [
      "MoviePy - Done.\n",
      "MoviePy - Writing audio in A:\\AI DB\\LSPD\\Audio\\porn\\porn_1346.wav\n"
     ]
    },
    {
     "name": "stderr",
     "output_type": "stream",
     "text": [
      "                                                                                                                                                                    \r"
     ]
    },
    {
     "name": "stdout",
     "output_type": "stream",
     "text": [
      "MoviePy - Done.\n",
      "MoviePy - Writing audio in A:\\AI DB\\LSPD\\Audio\\porn\\porn_1347.wav\n"
     ]
    },
    {
     "name": "stderr",
     "output_type": "stream",
     "text": [
      "                                                                                                                                                                    \r"
     ]
    },
    {
     "name": "stdout",
     "output_type": "stream",
     "text": [
      "MoviePy - Done.\n",
      "MoviePy - Writing audio in A:\\AI DB\\LSPD\\Audio\\porn\\porn_1350.wav\n"
     ]
    },
    {
     "name": "stderr",
     "output_type": "stream",
     "text": [
      "                                                                                                                                                                    \r"
     ]
    },
    {
     "name": "stdout",
     "output_type": "stream",
     "text": [
      "MoviePy - Done.\n",
      "MoviePy - Writing audio in A:\\AI DB\\LSPD\\Audio\\porn\\porn_1351.wav\n"
     ]
    },
    {
     "name": "stderr",
     "output_type": "stream",
     "text": [
      "                                                                                                                                                                    \r"
     ]
    },
    {
     "name": "stdout",
     "output_type": "stream",
     "text": [
      "MoviePy - Done.\n",
      "MoviePy - Writing audio in A:\\AI DB\\LSPD\\Audio\\porn\\porn_1353.wav\n"
     ]
    },
    {
     "name": "stderr",
     "output_type": "stream",
     "text": [
      "                                                                                                                                                                    \r"
     ]
    },
    {
     "name": "stdout",
     "output_type": "stream",
     "text": [
      "MoviePy - Done.\n",
      "MoviePy - Writing audio in A:\\AI DB\\LSPD\\Audio\\porn\\porn_1358.wav\n"
     ]
    },
    {
     "name": "stderr",
     "output_type": "stream",
     "text": [
      "                                                                                                                                                                    \r"
     ]
    },
    {
     "name": "stdout",
     "output_type": "stream",
     "text": [
      "MoviePy - Done.\n",
      "MoviePy - Writing audio in A:\\AI DB\\LSPD\\Audio\\porn\\porn_1359.wav\n"
     ]
    },
    {
     "name": "stderr",
     "output_type": "stream",
     "text": [
      "                                                                                                                                                                    \r"
     ]
    },
    {
     "name": "stdout",
     "output_type": "stream",
     "text": [
      "MoviePy - Done.\n",
      "MoviePy - Writing audio in A:\\AI DB\\LSPD\\Audio\\porn\\porn_1361.wav\n"
     ]
    },
    {
     "name": "stderr",
     "output_type": "stream",
     "text": [
      "                                                                                                                                                                    \r"
     ]
    },
    {
     "name": "stdout",
     "output_type": "stream",
     "text": [
      "MoviePy - Done.\n",
      "MoviePy - Writing audio in A:\\AI DB\\LSPD\\Audio\\porn\\porn_1364.wav\n"
     ]
    },
    {
     "name": "stderr",
     "output_type": "stream",
     "text": [
      "                                                                                                                                                                    \r"
     ]
    },
    {
     "name": "stdout",
     "output_type": "stream",
     "text": [
      "MoviePy - Done.\n",
      "MoviePy - Writing audio in A:\\AI DB\\LSPD\\Audio\\porn\\porn_1366.wav\n"
     ]
    },
    {
     "name": "stderr",
     "output_type": "stream",
     "text": [
      "                                                                                                                                                                    "
     ]
    },
    {
     "name": "stdout",
     "output_type": "stream",
     "text": [
      "MoviePy - Done.\n"
     ]
    },
    {
     "name": "stderr",
     "output_type": "stream",
     "text": [
      "\r"
     ]
    },
    {
     "name": "stdout",
     "output_type": "stream",
     "text": [
      "MoviePy - Writing audio in A:\\AI DB\\LSPD\\Audio\\porn\\porn_1368.wav\n"
     ]
    },
    {
     "name": "stderr",
     "output_type": "stream",
     "text": [
      "                                                                                                                                                                    \r"
     ]
    },
    {
     "name": "stdout",
     "output_type": "stream",
     "text": [
      "MoviePy - Done.\n",
      "MoviePy - Writing audio in A:\\AI DB\\LSPD\\Audio\\porn\\porn_1369.wav\n"
     ]
    },
    {
     "name": "stderr",
     "output_type": "stream",
     "text": [
      "                                                                                                                                                                    \r"
     ]
    },
    {
     "name": "stdout",
     "output_type": "stream",
     "text": [
      "MoviePy - Done.\n",
      "MoviePy - Writing audio in A:\\AI DB\\LSPD\\Audio\\porn\\porn_1375.wav\n"
     ]
    },
    {
     "name": "stderr",
     "output_type": "stream",
     "text": [
      "                                                                                                                                                                    "
     ]
    },
    {
     "name": "stdout",
     "output_type": "stream",
     "text": [
      "MoviePy - Done.\n"
     ]
    },
    {
     "name": "stderr",
     "output_type": "stream",
     "text": [
      "\r"
     ]
    },
    {
     "name": "stdout",
     "output_type": "stream",
     "text": [
      "MoviePy - Writing audio in A:\\AI DB\\LSPD\\Audio\\porn\\porn_1376.wav\n"
     ]
    },
    {
     "name": "stderr",
     "output_type": "stream",
     "text": [
      "                                                                                                                                                                    \r"
     ]
    },
    {
     "name": "stdout",
     "output_type": "stream",
     "text": [
      "MoviePy - Done.\n",
      "MoviePy - Writing audio in A:\\AI DB\\LSPD\\Audio\\porn\\porn_1379.wav\n"
     ]
    },
    {
     "name": "stderr",
     "output_type": "stream",
     "text": [
      "                                                                                                                                                                    \r"
     ]
    },
    {
     "name": "stdout",
     "output_type": "stream",
     "text": [
      "MoviePy - Done.\n",
      "MoviePy - Writing audio in A:\\AI DB\\LSPD\\Audio\\porn\\porn_1382.wav\n"
     ]
    },
    {
     "name": "stderr",
     "output_type": "stream",
     "text": [
      "                                                                                                                                                                    \r"
     ]
    },
    {
     "name": "stdout",
     "output_type": "stream",
     "text": [
      "MoviePy - Done.\n",
      "MoviePy - Writing audio in A:\\AI DB\\LSPD\\Audio\\porn\\porn_1389.wav\n"
     ]
    },
    {
     "name": "stderr",
     "output_type": "stream",
     "text": [
      "                                                                                                                                                                    \r"
     ]
    },
    {
     "name": "stdout",
     "output_type": "stream",
     "text": [
      "MoviePy - Done.\n",
      "MoviePy - Writing audio in A:\\AI DB\\LSPD\\Audio\\porn\\porn_139.wav\n"
     ]
    },
    {
     "name": "stderr",
     "output_type": "stream",
     "text": [
      "                                                                                                                                                                    \r"
     ]
    },
    {
     "name": "stdout",
     "output_type": "stream",
     "text": [
      "MoviePy - Done.\n",
      "MoviePy - Writing audio in A:\\AI DB\\LSPD\\Audio\\porn\\porn_1393.wav\n"
     ]
    },
    {
     "name": "stderr",
     "output_type": "stream",
     "text": [
      "                                                                                                                                                                    \r"
     ]
    },
    {
     "name": "stdout",
     "output_type": "stream",
     "text": [
      "MoviePy - Done.\n",
      "MoviePy - Writing audio in A:\\AI DB\\LSPD\\Audio\\porn\\porn_1396.wav\n"
     ]
    },
    {
     "name": "stderr",
     "output_type": "stream",
     "text": [
      "                                                                                                                                                                    \r"
     ]
    },
    {
     "name": "stdout",
     "output_type": "stream",
     "text": [
      "MoviePy - Done.\n",
      "MoviePy - Writing audio in A:\\AI DB\\LSPD\\Audio\\porn\\porn_1397.wav\n"
     ]
    },
    {
     "name": "stderr",
     "output_type": "stream",
     "text": [
      "                                                                                                                                                                    \r"
     ]
    },
    {
     "name": "stdout",
     "output_type": "stream",
     "text": [
      "MoviePy - Done.\n",
      "MoviePy - Writing audio in A:\\AI DB\\LSPD\\Audio\\porn\\porn_1398.wav\n"
     ]
    },
    {
     "name": "stderr",
     "output_type": "stream",
     "text": [
      "                                                                                                                                                                    \r"
     ]
    },
    {
     "name": "stdout",
     "output_type": "stream",
     "text": [
      "MoviePy - Done.\n",
      "MoviePy - Writing audio in A:\\AI DB\\LSPD\\Audio\\porn\\porn_1400.wav\n"
     ]
    },
    {
     "name": "stderr",
     "output_type": "stream",
     "text": [
      "                                                                                                                                                                    \r"
     ]
    },
    {
     "name": "stdout",
     "output_type": "stream",
     "text": [
      "MoviePy - Done.\n",
      "MoviePy - Writing audio in A:\\AI DB\\LSPD\\Audio\\porn\\porn_1403.wav\n"
     ]
    },
    {
     "name": "stderr",
     "output_type": "stream",
     "text": [
      "                                                                                                                                                                    \r"
     ]
    },
    {
     "name": "stdout",
     "output_type": "stream",
     "text": [
      "MoviePy - Done.\n",
      "MoviePy - Writing audio in A:\\AI DB\\LSPD\\Audio\\porn\\porn_1404.wav\n"
     ]
    },
    {
     "name": "stderr",
     "output_type": "stream",
     "text": [
      "                                                                                                                                                                    \r"
     ]
    },
    {
     "name": "stdout",
     "output_type": "stream",
     "text": [
      "MoviePy - Done.\n",
      "MoviePy - Writing audio in A:\\AI DB\\LSPD\\Audio\\porn\\porn_1409.wav\n"
     ]
    },
    {
     "name": "stderr",
     "output_type": "stream",
     "text": [
      "                                                                                                                                                                    \r"
     ]
    },
    {
     "name": "stdout",
     "output_type": "stream",
     "text": [
      "MoviePy - Done.\n",
      "MoviePy - Writing audio in A:\\AI DB\\LSPD\\Audio\\porn\\porn_141.wav\n"
     ]
    },
    {
     "name": "stderr",
     "output_type": "stream",
     "text": [
      "                                                                                                                                                                    \r"
     ]
    },
    {
     "name": "stdout",
     "output_type": "stream",
     "text": [
      "MoviePy - Done.\n",
      "MoviePy - Writing audio in A:\\AI DB\\LSPD\\Audio\\porn\\porn_1413.wav\n"
     ]
    },
    {
     "name": "stderr",
     "output_type": "stream",
     "text": [
      "                                                                                                                                                                    \r"
     ]
    },
    {
     "name": "stdout",
     "output_type": "stream",
     "text": [
      "MoviePy - Done.\n",
      "MoviePy - Writing audio in A:\\AI DB\\LSPD\\Audio\\porn\\porn_1414.wav\n"
     ]
    },
    {
     "name": "stderr",
     "output_type": "stream",
     "text": [
      "                                                                                                                                                                    \r"
     ]
    },
    {
     "name": "stdout",
     "output_type": "stream",
     "text": [
      "MoviePy - Done.\n",
      "MoviePy - Writing audio in A:\\AI DB\\LSPD\\Audio\\porn\\porn_1416.wav\n"
     ]
    },
    {
     "name": "stderr",
     "output_type": "stream",
     "text": [
      "                                                                                                                                                                    \r"
     ]
    },
    {
     "name": "stdout",
     "output_type": "stream",
     "text": [
      "MoviePy - Done.\n",
      "MoviePy - Writing audio in A:\\AI DB\\LSPD\\Audio\\porn\\porn_1418.wav\n"
     ]
    },
    {
     "name": "stderr",
     "output_type": "stream",
     "text": [
      "                                                                                                                                                                    \r"
     ]
    },
    {
     "name": "stdout",
     "output_type": "stream",
     "text": [
      "MoviePy - Done.\n",
      "MoviePy - Writing audio in A:\\AI DB\\LSPD\\Audio\\porn\\porn_1419.wav\n"
     ]
    },
    {
     "name": "stderr",
     "output_type": "stream",
     "text": [
      "                                                                                                                                                                    \r"
     ]
    },
    {
     "name": "stdout",
     "output_type": "stream",
     "text": [
      "MoviePy - Done.\n",
      "MoviePy - Writing audio in A:\\AI DB\\LSPD\\Audio\\porn\\porn_1421.wav\n"
     ]
    },
    {
     "name": "stderr",
     "output_type": "stream",
     "text": [
      "                                                                                                                                                                    \r"
     ]
    },
    {
     "name": "stdout",
     "output_type": "stream",
     "text": [
      "MoviePy - Done.\n",
      "MoviePy - Writing audio in A:\\AI DB\\LSPD\\Audio\\porn\\porn_1422.wav\n"
     ]
    },
    {
     "name": "stderr",
     "output_type": "stream",
     "text": [
      "                                                                                                                                                                    \r"
     ]
    },
    {
     "name": "stdout",
     "output_type": "stream",
     "text": [
      "MoviePy - Done.\n",
      "MoviePy - Writing audio in A:\\AI DB\\LSPD\\Audio\\porn\\porn_1423.wav\n"
     ]
    },
    {
     "name": "stderr",
     "output_type": "stream",
     "text": [
      "                                                                                                                                                                    \r"
     ]
    },
    {
     "name": "stdout",
     "output_type": "stream",
     "text": [
      "MoviePy - Done.\n",
      "MoviePy - Writing audio in A:\\AI DB\\LSPD\\Audio\\porn\\porn_1429.wav\n"
     ]
    },
    {
     "name": "stderr",
     "output_type": "stream",
     "text": [
      "                                                                                                                                                                    \r"
     ]
    },
    {
     "name": "stdout",
     "output_type": "stream",
     "text": [
      "MoviePy - Done.\n",
      "MoviePy - Writing audio in A:\\AI DB\\LSPD\\Audio\\porn\\porn_1430.wav\n"
     ]
    },
    {
     "name": "stderr",
     "output_type": "stream",
     "text": [
      "                                                                                                                                                                    \r"
     ]
    },
    {
     "name": "stdout",
     "output_type": "stream",
     "text": [
      "MoviePy - Done.\n",
      "MoviePy - Writing audio in A:\\AI DB\\LSPD\\Audio\\porn\\porn_1432.wav\n"
     ]
    },
    {
     "name": "stderr",
     "output_type": "stream",
     "text": [
      "                                                                                                                                                                    \r"
     ]
    },
    {
     "name": "stdout",
     "output_type": "stream",
     "text": [
      "MoviePy - Done.\n",
      "MoviePy - Writing audio in A:\\AI DB\\LSPD\\Audio\\porn\\porn_1433.wav\n"
     ]
    },
    {
     "name": "stderr",
     "output_type": "stream",
     "text": [
      "                                                                                                                                                                    \r"
     ]
    },
    {
     "name": "stdout",
     "output_type": "stream",
     "text": [
      "MoviePy - Done.\n",
      "MoviePy - Writing audio in A:\\AI DB\\LSPD\\Audio\\porn\\porn_1434.wav\n"
     ]
    },
    {
     "name": "stderr",
     "output_type": "stream",
     "text": [
      "                                                                                                                                                                    \r"
     ]
    },
    {
     "name": "stdout",
     "output_type": "stream",
     "text": [
      "MoviePy - Done.\n",
      "MoviePy - Writing audio in A:\\AI DB\\LSPD\\Audio\\porn\\porn_1436.wav\n"
     ]
    },
    {
     "name": "stderr",
     "output_type": "stream",
     "text": [
      "                                                                                                                                                                    \r"
     ]
    },
    {
     "name": "stdout",
     "output_type": "stream",
     "text": [
      "MoviePy - Done.\n",
      "MoviePy - Writing audio in A:\\AI DB\\LSPD\\Audio\\porn\\porn_1440.wav\n"
     ]
    },
    {
     "name": "stderr",
     "output_type": "stream",
     "text": [
      "                                                                                                                                                                    \r"
     ]
    },
    {
     "name": "stdout",
     "output_type": "stream",
     "text": [
      "MoviePy - Done.\n",
      "MoviePy - Writing audio in A:\\AI DB\\LSPD\\Audio\\porn\\porn_1442.wav\n"
     ]
    },
    {
     "name": "stderr",
     "output_type": "stream",
     "text": [
      "                                                                                                                                                                    \r"
     ]
    },
    {
     "name": "stdout",
     "output_type": "stream",
     "text": [
      "MoviePy - Done.\n",
      "MoviePy - Writing audio in A:\\AI DB\\LSPD\\Audio\\porn\\porn_1443.wav\n"
     ]
    },
    {
     "name": "stderr",
     "output_type": "stream",
     "text": [
      "                                                                                                                                                                    \r"
     ]
    },
    {
     "name": "stdout",
     "output_type": "stream",
     "text": [
      "MoviePy - Done.\n",
      "MoviePy - Writing audio in A:\\AI DB\\LSPD\\Audio\\porn\\porn_1444.wav\n"
     ]
    },
    {
     "name": "stderr",
     "output_type": "stream",
     "text": [
      "                                                                                                                                                                    \r"
     ]
    },
    {
     "name": "stdout",
     "output_type": "stream",
     "text": [
      "MoviePy - Done.\n",
      "MoviePy - Writing audio in A:\\AI DB\\LSPD\\Audio\\porn\\porn_1449.wav\n"
     ]
    },
    {
     "name": "stderr",
     "output_type": "stream",
     "text": [
      "                                                                                                                                                                    \r"
     ]
    },
    {
     "name": "stdout",
     "output_type": "stream",
     "text": [
      "MoviePy - Done.\n",
      "MoviePy - Writing audio in A:\\AI DB\\LSPD\\Audio\\porn\\porn_1450.wav\n"
     ]
    },
    {
     "name": "stderr",
     "output_type": "stream",
     "text": [
      "                                                                                                                                                                    \r"
     ]
    },
    {
     "name": "stdout",
     "output_type": "stream",
     "text": [
      "MoviePy - Done.\n",
      "MoviePy - Writing audio in A:\\AI DB\\LSPD\\Audio\\porn\\porn_1454.wav\n"
     ]
    },
    {
     "name": "stderr",
     "output_type": "stream",
     "text": [
      "                                                                                                                                                                    \r"
     ]
    },
    {
     "name": "stdout",
     "output_type": "stream",
     "text": [
      "MoviePy - Done.\n",
      "MoviePy - Writing audio in A:\\AI DB\\LSPD\\Audio\\porn\\porn_1461.wav\n"
     ]
    },
    {
     "name": "stderr",
     "output_type": "stream",
     "text": [
      "                                                                                                                                                                    \r"
     ]
    },
    {
     "name": "stdout",
     "output_type": "stream",
     "text": [
      "MoviePy - Done.\n",
      "MoviePy - Writing audio in A:\\AI DB\\LSPD\\Audio\\porn\\porn_1463.wav\n"
     ]
    },
    {
     "name": "stderr",
     "output_type": "stream",
     "text": [
      "                                                                                                                                                                    \r"
     ]
    },
    {
     "name": "stdout",
     "output_type": "stream",
     "text": [
      "MoviePy - Done.\n",
      "MoviePy - Writing audio in A:\\AI DB\\LSPD\\Audio\\porn\\porn_1466.wav\n"
     ]
    },
    {
     "name": "stderr",
     "output_type": "stream",
     "text": [
      "                                                                                                                                                                    \r"
     ]
    },
    {
     "name": "stdout",
     "output_type": "stream",
     "text": [
      "MoviePy - Done.\n",
      "MoviePy - Writing audio in A:\\AI DB\\LSPD\\Audio\\porn\\porn_1473.wav\n"
     ]
    },
    {
     "name": "stderr",
     "output_type": "stream",
     "text": [
      "                                                                                                                                                                    \r"
     ]
    },
    {
     "name": "stdout",
     "output_type": "stream",
     "text": [
      "MoviePy - Done.\n",
      "MoviePy - Writing audio in A:\\AI DB\\LSPD\\Audio\\porn\\porn_1475.wav\n"
     ]
    },
    {
     "name": "stderr",
     "output_type": "stream",
     "text": [
      "                                                                                                                                                                    \r"
     ]
    },
    {
     "name": "stdout",
     "output_type": "stream",
     "text": [
      "MoviePy - Done.\n",
      "MoviePy - Writing audio in A:\\AI DB\\LSPD\\Audio\\porn\\porn_1477.wav\n"
     ]
    },
    {
     "name": "stderr",
     "output_type": "stream",
     "text": [
      "                                                                                                                                                                    \r"
     ]
    },
    {
     "name": "stdout",
     "output_type": "stream",
     "text": [
      "MoviePy - Done.\n",
      "MoviePy - Writing audio in A:\\AI DB\\LSPD\\Audio\\porn\\porn_1479.wav\n"
     ]
    },
    {
     "name": "stderr",
     "output_type": "stream",
     "text": [
      "                                                                                                                                                                    \r"
     ]
    },
    {
     "name": "stdout",
     "output_type": "stream",
     "text": [
      "MoviePy - Done.\n",
      "MoviePy - Writing audio in A:\\AI DB\\LSPD\\Audio\\porn\\porn_148.wav\n"
     ]
    },
    {
     "name": "stderr",
     "output_type": "stream",
     "text": [
      "                                                                                                                                                                    \r"
     ]
    },
    {
     "name": "stdout",
     "output_type": "stream",
     "text": [
      "MoviePy - Done.\n",
      "MoviePy - Writing audio in A:\\AI DB\\LSPD\\Audio\\porn\\porn_1480.wav\n"
     ]
    },
    {
     "name": "stderr",
     "output_type": "stream",
     "text": [
      "                                                                                                                                                                    \r"
     ]
    },
    {
     "name": "stdout",
     "output_type": "stream",
     "text": [
      "MoviePy - Done.\n",
      "MoviePy - Writing audio in A:\\AI DB\\LSPD\\Audio\\porn\\porn_1481.wav\n"
     ]
    },
    {
     "name": "stderr",
     "output_type": "stream",
     "text": [
      "                                                                                                                                                                    \r"
     ]
    },
    {
     "name": "stdout",
     "output_type": "stream",
     "text": [
      "MoviePy - Done.\n",
      "MoviePy - Writing audio in A:\\AI DB\\LSPD\\Audio\\porn\\porn_1482.wav\n"
     ]
    },
    {
     "name": "stderr",
     "output_type": "stream",
     "text": [
      "                                                                                                                                                                    \r"
     ]
    },
    {
     "name": "stdout",
     "output_type": "stream",
     "text": [
      "MoviePy - Done.\n",
      "MoviePy - Writing audio in A:\\AI DB\\LSPD\\Audio\\porn\\porn_149.wav\n"
     ]
    },
    {
     "name": "stderr",
     "output_type": "stream",
     "text": [
      "                                                                                                                                                                    \r"
     ]
    },
    {
     "name": "stdout",
     "output_type": "stream",
     "text": [
      "MoviePy - Done.\n",
      "MoviePy - Writing audio in A:\\AI DB\\LSPD\\Audio\\porn\\porn_1490.wav\n"
     ]
    },
    {
     "name": "stderr",
     "output_type": "stream",
     "text": [
      "                                                                                                                                                                    \r"
     ]
    },
    {
     "name": "stdout",
     "output_type": "stream",
     "text": [
      "MoviePy - Done.\n",
      "MoviePy - Writing audio in A:\\AI DB\\LSPD\\Audio\\porn\\porn_1497.wav\n"
     ]
    },
    {
     "name": "stderr",
     "output_type": "stream",
     "text": [
      "                                                                                                                                                                    \r"
     ]
    },
    {
     "name": "stdout",
     "output_type": "stream",
     "text": [
      "MoviePy - Done.\n",
      "MoviePy - Writing audio in A:\\AI DB\\LSPD\\Audio\\porn\\porn_1501.wav\n"
     ]
    },
    {
     "name": "stderr",
     "output_type": "stream",
     "text": [
      "                                                                                                                                                                    \r"
     ]
    },
    {
     "name": "stdout",
     "output_type": "stream",
     "text": [
      "MoviePy - Done.\n",
      "MoviePy - Writing audio in A:\\AI DB\\LSPD\\Audio\\porn\\porn_1504.wav\n"
     ]
    },
    {
     "name": "stderr",
     "output_type": "stream",
     "text": [
      "                                                                                                                                                                    \r"
     ]
    },
    {
     "name": "stdout",
     "output_type": "stream",
     "text": [
      "MoviePy - Done.\n",
      "MoviePy - Writing audio in A:\\AI DB\\LSPD\\Audio\\porn\\porn_1506.wav\n"
     ]
    },
    {
     "name": "stderr",
     "output_type": "stream",
     "text": [
      "                                                                                                                                                                    \r"
     ]
    },
    {
     "name": "stdout",
     "output_type": "stream",
     "text": [
      "MoviePy - Done.\n",
      "MoviePy - Writing audio in A:\\AI DB\\LSPD\\Audio\\porn\\porn_1507.wav\n"
     ]
    },
    {
     "name": "stderr",
     "output_type": "stream",
     "text": [
      "                                                                                                                                                                    \r"
     ]
    },
    {
     "name": "stdout",
     "output_type": "stream",
     "text": [
      "MoviePy - Done.\n",
      "MoviePy - Writing audio in A:\\AI DB\\LSPD\\Audio\\porn\\porn_151.wav\n"
     ]
    },
    {
     "name": "stderr",
     "output_type": "stream",
     "text": [
      "                                                                                                                                                                    \r"
     ]
    },
    {
     "name": "stdout",
     "output_type": "stream",
     "text": [
      "MoviePy - Done.\n",
      "MoviePy - Writing audio in A:\\AI DB\\LSPD\\Audio\\porn\\porn_1510.wav\n"
     ]
    },
    {
     "name": "stderr",
     "output_type": "stream",
     "text": [
      "                                                                                                                                                                    \r"
     ]
    },
    {
     "name": "stdout",
     "output_type": "stream",
     "text": [
      "MoviePy - Done.\n",
      "MoviePy - Writing audio in A:\\AI DB\\LSPD\\Audio\\porn\\porn_1513.wav\n"
     ]
    },
    {
     "name": "stderr",
     "output_type": "stream",
     "text": [
      "                                                                                                                                                                    \r"
     ]
    },
    {
     "name": "stdout",
     "output_type": "stream",
     "text": [
      "MoviePy - Done.\n",
      "MoviePy - Writing audio in A:\\AI DB\\LSPD\\Audio\\porn\\porn_1516.wav\n"
     ]
    },
    {
     "name": "stderr",
     "output_type": "stream",
     "text": [
      "                                                                                                                                                                    \r"
     ]
    },
    {
     "name": "stdout",
     "output_type": "stream",
     "text": [
      "MoviePy - Done.\n",
      "MoviePy - Writing audio in A:\\AI DB\\LSPD\\Audio\\porn\\porn_1520.wav\n"
     ]
    },
    {
     "name": "stderr",
     "output_type": "stream",
     "text": [
      "                                                                                                                                                                    \r"
     ]
    },
    {
     "name": "stdout",
     "output_type": "stream",
     "text": [
      "MoviePy - Done.\n",
      "MoviePy - Writing audio in A:\\AI DB\\LSPD\\Audio\\porn\\porn_1525.wav\n"
     ]
    },
    {
     "name": "stderr",
     "output_type": "stream",
     "text": [
      "                                                                                                                                                                    \r"
     ]
    },
    {
     "name": "stdout",
     "output_type": "stream",
     "text": [
      "MoviePy - Done.\n",
      "MoviePy - Writing audio in A:\\AI DB\\LSPD\\Audio\\porn\\porn_1526.wav\n"
     ]
    },
    {
     "name": "stderr",
     "output_type": "stream",
     "text": [
      "                                                                                                                                                                    \r"
     ]
    },
    {
     "name": "stdout",
     "output_type": "stream",
     "text": [
      "MoviePy - Done.\n",
      "MoviePy - Writing audio in A:\\AI DB\\LSPD\\Audio\\porn\\porn_1529.wav\n"
     ]
    },
    {
     "name": "stderr",
     "output_type": "stream",
     "text": [
      "                                                                                                                                                                    \r"
     ]
    },
    {
     "name": "stdout",
     "output_type": "stream",
     "text": [
      "MoviePy - Done.\n",
      "MoviePy - Writing audio in A:\\AI DB\\LSPD\\Audio\\porn\\porn_153.wav\n"
     ]
    },
    {
     "name": "stderr",
     "output_type": "stream",
     "text": [
      "                                                                                                                                                                    \r"
     ]
    },
    {
     "name": "stdout",
     "output_type": "stream",
     "text": [
      "MoviePy - Done.\n",
      "MoviePy - Writing audio in A:\\AI DB\\LSPD\\Audio\\porn\\porn_1533.wav\n"
     ]
    },
    {
     "name": "stderr",
     "output_type": "stream",
     "text": [
      "                                                                                                                                                                    \r"
     ]
    },
    {
     "name": "stdout",
     "output_type": "stream",
     "text": [
      "MoviePy - Done.\n",
      "MoviePy - Writing audio in A:\\AI DB\\LSPD\\Audio\\porn\\porn_1534.wav\n"
     ]
    },
    {
     "name": "stderr",
     "output_type": "stream",
     "text": [
      "                                                                                                                                                                    \r"
     ]
    },
    {
     "name": "stdout",
     "output_type": "stream",
     "text": [
      "MoviePy - Done.\n",
      "MoviePy - Writing audio in A:\\AI DB\\LSPD\\Audio\\porn\\porn_1540.wav\n"
     ]
    },
    {
     "name": "stderr",
     "output_type": "stream",
     "text": [
      "                                                                                                                                                                    \r"
     ]
    },
    {
     "name": "stdout",
     "output_type": "stream",
     "text": [
      "MoviePy - Done.\n",
      "MoviePy - Writing audio in A:\\AI DB\\LSPD\\Audio\\porn\\porn_1543.wav\n"
     ]
    },
    {
     "name": "stderr",
     "output_type": "stream",
     "text": [
      "                                                                                                                                                                    \r"
     ]
    },
    {
     "name": "stdout",
     "output_type": "stream",
     "text": [
      "MoviePy - Done.\n",
      "MoviePy - Writing audio in A:\\AI DB\\LSPD\\Audio\\porn\\porn_1545.wav\n"
     ]
    },
    {
     "name": "stderr",
     "output_type": "stream",
     "text": [
      "                                                                                                                                                                    \r"
     ]
    },
    {
     "name": "stdout",
     "output_type": "stream",
     "text": [
      "MoviePy - Done.\n",
      "MoviePy - Writing audio in A:\\AI DB\\LSPD\\Audio\\porn\\porn_1546.wav\n"
     ]
    },
    {
     "name": "stderr",
     "output_type": "stream",
     "text": [
      "                                                                                                                                                                    \r"
     ]
    },
    {
     "name": "stdout",
     "output_type": "stream",
     "text": [
      "MoviePy - Done.\n",
      "MoviePy - Writing audio in A:\\AI DB\\LSPD\\Audio\\porn\\porn_1547.wav\n"
     ]
    },
    {
     "name": "stderr",
     "output_type": "stream",
     "text": [
      "                                                                                                                                                                    \r"
     ]
    },
    {
     "name": "stdout",
     "output_type": "stream",
     "text": [
      "MoviePy - Done.\n",
      "MoviePy - Writing audio in A:\\AI DB\\LSPD\\Audio\\porn\\porn_1548.wav\n"
     ]
    },
    {
     "name": "stderr",
     "output_type": "stream",
     "text": [
      "                                                                                                                                                                    \r"
     ]
    },
    {
     "name": "stdout",
     "output_type": "stream",
     "text": [
      "MoviePy - Done.\n",
      "MoviePy - Writing audio in A:\\AI DB\\LSPD\\Audio\\porn\\porn_1565.wav\n"
     ]
    },
    {
     "name": "stderr",
     "output_type": "stream",
     "text": [
      "                                                                                                                                                                    \r"
     ]
    },
    {
     "name": "stdout",
     "output_type": "stream",
     "text": [
      "MoviePy - Done.\n",
      "MoviePy - Writing audio in A:\\AI DB\\LSPD\\Audio\\porn\\porn_1567.wav\n"
     ]
    },
    {
     "name": "stderr",
     "output_type": "stream",
     "text": [
      "                                                                                                                                                                    \r"
     ]
    },
    {
     "name": "stdout",
     "output_type": "stream",
     "text": [
      "MoviePy - Done.\n",
      "MoviePy - Writing audio in A:\\AI DB\\LSPD\\Audio\\porn\\porn_1568.wav\n"
     ]
    },
    {
     "name": "stderr",
     "output_type": "stream",
     "text": [
      "                                                                                                                                                                    \r"
     ]
    },
    {
     "name": "stdout",
     "output_type": "stream",
     "text": [
      "MoviePy - Done.\n",
      "MoviePy - Writing audio in A:\\AI DB\\LSPD\\Audio\\porn\\porn_1572.wav\n"
     ]
    },
    {
     "name": "stderr",
     "output_type": "stream",
     "text": [
      "                                                                                                                                                                    \r"
     ]
    },
    {
     "name": "stdout",
     "output_type": "stream",
     "text": [
      "MoviePy - Done.\n",
      "MoviePy - Writing audio in A:\\AI DB\\LSPD\\Audio\\porn\\porn_1573.wav\n"
     ]
    },
    {
     "name": "stderr",
     "output_type": "stream",
     "text": [
      "                                                                                                                                                                    \r"
     ]
    },
    {
     "name": "stdout",
     "output_type": "stream",
     "text": [
      "MoviePy - Done.\n",
      "MoviePy - Writing audio in A:\\AI DB\\LSPD\\Audio\\porn\\porn_1574.wav\n"
     ]
    },
    {
     "name": "stderr",
     "output_type": "stream",
     "text": [
      "                                                                                                                                                                    \r"
     ]
    },
    {
     "name": "stdout",
     "output_type": "stream",
     "text": [
      "MoviePy - Done.\n",
      "MoviePy - Writing audio in A:\\AI DB\\LSPD\\Audio\\porn\\porn_1576.wav\n"
     ]
    },
    {
     "name": "stderr",
     "output_type": "stream",
     "text": [
      "                                                                                                                                                                    \r"
     ]
    },
    {
     "name": "stdout",
     "output_type": "stream",
     "text": [
      "MoviePy - Done.\n",
      "MoviePy - Writing audio in A:\\AI DB\\LSPD\\Audio\\porn\\porn_1577.wav\n"
     ]
    },
    {
     "name": "stderr",
     "output_type": "stream",
     "text": [
      "                                                                                                                                                                    \r"
     ]
    },
    {
     "name": "stdout",
     "output_type": "stream",
     "text": [
      "MoviePy - Done.\n",
      "MoviePy - Writing audio in A:\\AI DB\\LSPD\\Audio\\porn\\porn_1579.wav\n"
     ]
    },
    {
     "name": "stderr",
     "output_type": "stream",
     "text": [
      "                                                                                                                                                                    \r"
     ]
    },
    {
     "name": "stdout",
     "output_type": "stream",
     "text": [
      "MoviePy - Done.\n",
      "MoviePy - Writing audio in A:\\AI DB\\LSPD\\Audio\\porn\\porn_158.wav\n"
     ]
    },
    {
     "name": "stderr",
     "output_type": "stream",
     "text": [
      "                                                                                                                                                                    \r"
     ]
    },
    {
     "name": "stdout",
     "output_type": "stream",
     "text": [
      "MoviePy - Done.\n",
      "MoviePy - Writing audio in A:\\AI DB\\LSPD\\Audio\\porn\\porn_1586.wav\n"
     ]
    },
    {
     "name": "stderr",
     "output_type": "stream",
     "text": [
      "                                                                                                                                                                    \r"
     ]
    },
    {
     "name": "stdout",
     "output_type": "stream",
     "text": [
      "MoviePy - Done.\n",
      "MoviePy - Writing audio in A:\\AI DB\\LSPD\\Audio\\porn\\porn_1587.wav\n"
     ]
    },
    {
     "name": "stderr",
     "output_type": "stream",
     "text": [
      "                                                                                                                                                                    \r"
     ]
    },
    {
     "name": "stdout",
     "output_type": "stream",
     "text": [
      "MoviePy - Done.\n",
      "MoviePy - Writing audio in A:\\AI DB\\LSPD\\Audio\\porn\\porn_1591.wav\n"
     ]
    },
    {
     "name": "stderr",
     "output_type": "stream",
     "text": [
      "                                                                                                                                                                    \r"
     ]
    },
    {
     "name": "stdout",
     "output_type": "stream",
     "text": [
      "MoviePy - Done.\n",
      "MoviePy - Writing audio in A:\\AI DB\\LSPD\\Audio\\porn\\porn_1592.wav\n"
     ]
    },
    {
     "name": "stderr",
     "output_type": "stream",
     "text": [
      "                                                                                                                                                                    \r"
     ]
    },
    {
     "name": "stdout",
     "output_type": "stream",
     "text": [
      "MoviePy - Done.\n",
      "MoviePy - Writing audio in A:\\AI DB\\LSPD\\Audio\\porn\\porn_1594.wav\n"
     ]
    },
    {
     "name": "stderr",
     "output_type": "stream",
     "text": [
      "                                                                                                                                                                    \r"
     ]
    },
    {
     "name": "stdout",
     "output_type": "stream",
     "text": [
      "MoviePy - Done.\n",
      "MoviePy - Writing audio in A:\\AI DB\\LSPD\\Audio\\porn\\porn_1595.wav\n"
     ]
    },
    {
     "name": "stderr",
     "output_type": "stream",
     "text": [
      "                                                                                                                                                                    \r"
     ]
    },
    {
     "name": "stdout",
     "output_type": "stream",
     "text": [
      "MoviePy - Done.\n",
      "MoviePy - Writing audio in A:\\AI DB\\LSPD\\Audio\\porn\\porn_1596.wav\n"
     ]
    },
    {
     "name": "stderr",
     "output_type": "stream",
     "text": [
      "                                                                                                                                                                    \r"
     ]
    },
    {
     "name": "stdout",
     "output_type": "stream",
     "text": [
      "MoviePy - Done.\n",
      "MoviePy - Writing audio in A:\\AI DB\\LSPD\\Audio\\porn\\porn_1598.wav\n"
     ]
    },
    {
     "name": "stderr",
     "output_type": "stream",
     "text": [
      "                                                                                                                                                                    \r"
     ]
    },
    {
     "name": "stdout",
     "output_type": "stream",
     "text": [
      "MoviePy - Done.\n",
      "MoviePy - Writing audio in A:\\AI DB\\LSPD\\Audio\\porn\\porn_160.wav\n"
     ]
    },
    {
     "name": "stderr",
     "output_type": "stream",
     "text": [
      "                                                                                                                                                                    \r"
     ]
    },
    {
     "name": "stdout",
     "output_type": "stream",
     "text": [
      "MoviePy - Done.\n",
      "MoviePy - Writing audio in A:\\AI DB\\LSPD\\Audio\\porn\\porn_1600.wav\n"
     ]
    },
    {
     "name": "stderr",
     "output_type": "stream",
     "text": [
      "                                                                                                                                                                    \r"
     ]
    },
    {
     "name": "stdout",
     "output_type": "stream",
     "text": [
      "MoviePy - Done.\n",
      "MoviePy - Writing audio in A:\\AI DB\\LSPD\\Audio\\porn\\porn_1601.wav\n"
     ]
    },
    {
     "name": "stderr",
     "output_type": "stream",
     "text": [
      "                                                                                                                                                                    \r"
     ]
    },
    {
     "name": "stdout",
     "output_type": "stream",
     "text": [
      "MoviePy - Done.\n",
      "MoviePy - Writing audio in A:\\AI DB\\LSPD\\Audio\\porn\\porn_1607.wav\n"
     ]
    },
    {
     "name": "stderr",
     "output_type": "stream",
     "text": [
      "                                                                                                                                                                    \r"
     ]
    },
    {
     "name": "stdout",
     "output_type": "stream",
     "text": [
      "MoviePy - Done.\n",
      "MoviePy - Writing audio in A:\\AI DB\\LSPD\\Audio\\porn\\porn_1609.wav\n"
     ]
    },
    {
     "name": "stderr",
     "output_type": "stream",
     "text": [
      "                                                                                                                                                                    \r"
     ]
    },
    {
     "name": "stdout",
     "output_type": "stream",
     "text": [
      "MoviePy - Done.\n",
      "MoviePy - Writing audio in A:\\AI DB\\LSPD\\Audio\\porn\\porn_161.wav\n"
     ]
    },
    {
     "name": "stderr",
     "output_type": "stream",
     "text": [
      "                                                                                                                                                                    \r"
     ]
    },
    {
     "name": "stdout",
     "output_type": "stream",
     "text": [
      "MoviePy - Done.\n",
      "MoviePy - Writing audio in A:\\AI DB\\LSPD\\Audio\\porn\\porn_1610.wav\n"
     ]
    },
    {
     "name": "stderr",
     "output_type": "stream",
     "text": [
      "                                                                                                                                                                    \r"
     ]
    },
    {
     "name": "stdout",
     "output_type": "stream",
     "text": [
      "MoviePy - Done.\n",
      "MoviePy - Writing audio in A:\\AI DB\\LSPD\\Audio\\porn\\porn_1611.wav\n"
     ]
    },
    {
     "name": "stderr",
     "output_type": "stream",
     "text": [
      "                                                                                                                                                                    \r"
     ]
    },
    {
     "name": "stdout",
     "output_type": "stream",
     "text": [
      "MoviePy - Done.\n",
      "MoviePy - Writing audio in A:\\AI DB\\LSPD\\Audio\\porn\\porn_1617.wav\n"
     ]
    },
    {
     "name": "stderr",
     "output_type": "stream",
     "text": [
      "                                                                                                                                                                    \r"
     ]
    },
    {
     "name": "stdout",
     "output_type": "stream",
     "text": [
      "MoviePy - Done.\n",
      "MoviePy - Writing audio in A:\\AI DB\\LSPD\\Audio\\porn\\porn_162.wav\n"
     ]
    },
    {
     "name": "stderr",
     "output_type": "stream",
     "text": [
      "                                                                                                                                                                    \r"
     ]
    },
    {
     "name": "stdout",
     "output_type": "stream",
     "text": [
      "MoviePy - Done.\n",
      "MoviePy - Writing audio in A:\\AI DB\\LSPD\\Audio\\porn\\porn_1620.wav\n"
     ]
    },
    {
     "name": "stderr",
     "output_type": "stream",
     "text": [
      "                                                                                                                                                                    "
     ]
    },
    {
     "name": "stdout",
     "output_type": "stream",
     "text": [
      "MoviePy - Done.\n"
     ]
    },
    {
     "name": "stderr",
     "output_type": "stream",
     "text": [
      "\r"
     ]
    },
    {
     "name": "stdout",
     "output_type": "stream",
     "text": [
      "MoviePy - Writing audio in A:\\AI DB\\LSPD\\Audio\\porn\\porn_1621.wav\n"
     ]
    },
    {
     "name": "stderr",
     "output_type": "stream",
     "text": [
      "                                                                                                                                                                    \r"
     ]
    },
    {
     "name": "stdout",
     "output_type": "stream",
     "text": [
      "MoviePy - Done.\n",
      "MoviePy - Writing audio in A:\\AI DB\\LSPD\\Audio\\porn\\porn_1623.wav\n"
     ]
    },
    {
     "name": "stderr",
     "output_type": "stream",
     "text": [
      "                                                                                                                                                                    \r"
     ]
    },
    {
     "name": "stdout",
     "output_type": "stream",
     "text": [
      "MoviePy - Done.\n",
      "MoviePy - Writing audio in A:\\AI DB\\LSPD\\Audio\\porn\\porn_1625.wav\n"
     ]
    },
    {
     "name": "stderr",
     "output_type": "stream",
     "text": [
      "                                                                                                                                                                    \r"
     ]
    },
    {
     "name": "stdout",
     "output_type": "stream",
     "text": [
      "MoviePy - Done.\n",
      "MoviePy - Writing audio in A:\\AI DB\\LSPD\\Audio\\porn\\porn_1626.wav\n"
     ]
    },
    {
     "name": "stderr",
     "output_type": "stream",
     "text": [
      "                                                                                                                                                                    \r"
     ]
    },
    {
     "name": "stdout",
     "output_type": "stream",
     "text": [
      "MoviePy - Done.\n",
      "MoviePy - Writing audio in A:\\AI DB\\LSPD\\Audio\\porn\\porn_1627.wav\n"
     ]
    },
    {
     "name": "stderr",
     "output_type": "stream",
     "text": [
      "                                                                                                                                                                    \r"
     ]
    },
    {
     "name": "stdout",
     "output_type": "stream",
     "text": [
      "MoviePy - Done.\n",
      "MoviePy - Writing audio in A:\\AI DB\\LSPD\\Audio\\porn\\porn_163.wav\n"
     ]
    },
    {
     "name": "stderr",
     "output_type": "stream",
     "text": [
      "                                                                                                                                                                    \r"
     ]
    },
    {
     "name": "stdout",
     "output_type": "stream",
     "text": [
      "MoviePy - Done.\n",
      "MoviePy - Writing audio in A:\\AI DB\\LSPD\\Audio\\porn\\porn_1631.wav\n"
     ]
    },
    {
     "name": "stderr",
     "output_type": "stream",
     "text": [
      "                                                                                                                                                                    \r"
     ]
    },
    {
     "name": "stdout",
     "output_type": "stream",
     "text": [
      "MoviePy - Done.\n",
      "MoviePy - Writing audio in A:\\AI DB\\LSPD\\Audio\\porn\\porn_1632.wav\n"
     ]
    },
    {
     "name": "stderr",
     "output_type": "stream",
     "text": [
      "                                                                                                                                                                    \r"
     ]
    },
    {
     "name": "stdout",
     "output_type": "stream",
     "text": [
      "MoviePy - Done.\n",
      "MoviePy - Writing audio in A:\\AI DB\\LSPD\\Audio\\porn\\porn_1636.wav\n"
     ]
    },
    {
     "name": "stderr",
     "output_type": "stream",
     "text": [
      "                                                                                                                                                                    \r"
     ]
    },
    {
     "name": "stdout",
     "output_type": "stream",
     "text": [
      "MoviePy - Done.\n",
      "MoviePy - Writing audio in A:\\AI DB\\LSPD\\Audio\\porn\\porn_1637.wav\n"
     ]
    },
    {
     "name": "stderr",
     "output_type": "stream",
     "text": [
      "                                                                                                                                                                    \r"
     ]
    },
    {
     "name": "stdout",
     "output_type": "stream",
     "text": [
      "MoviePy - Done.\n",
      "MoviePy - Writing audio in A:\\AI DB\\LSPD\\Audio\\porn\\porn_164.wav\n"
     ]
    },
    {
     "name": "stderr",
     "output_type": "stream",
     "text": [
      "                                                                                                                                                                    \r"
     ]
    },
    {
     "name": "stdout",
     "output_type": "stream",
     "text": [
      "MoviePy - Done.\n",
      "MoviePy - Writing audio in A:\\AI DB\\LSPD\\Audio\\porn\\porn_1641.wav\n"
     ]
    },
    {
     "name": "stderr",
     "output_type": "stream",
     "text": [
      "                                                                                                                                                                    \r"
     ]
    },
    {
     "name": "stdout",
     "output_type": "stream",
     "text": [
      "MoviePy - Done.\n",
      "MoviePy - Writing audio in A:\\AI DB\\LSPD\\Audio\\porn\\porn_1642.wav\n"
     ]
    },
    {
     "name": "stderr",
     "output_type": "stream",
     "text": [
      "                                                                                                                                                                    \r"
     ]
    },
    {
     "name": "stdout",
     "output_type": "stream",
     "text": [
      "MoviePy - Done.\n",
      "MoviePy - Writing audio in A:\\AI DB\\LSPD\\Audio\\porn\\porn_1643.wav\n"
     ]
    },
    {
     "name": "stderr",
     "output_type": "stream",
     "text": [
      "                                                                                                                                                                    \r"
     ]
    },
    {
     "name": "stdout",
     "output_type": "stream",
     "text": [
      "MoviePy - Done.\n",
      "MoviePy - Writing audio in A:\\AI DB\\LSPD\\Audio\\porn\\porn_1646.wav\n"
     ]
    },
    {
     "name": "stderr",
     "output_type": "stream",
     "text": [
      "                                                                                                                                                                    \r"
     ]
    },
    {
     "name": "stdout",
     "output_type": "stream",
     "text": [
      "MoviePy - Done.\n",
      "MoviePy - Writing audio in A:\\AI DB\\LSPD\\Audio\\porn\\porn_1648.wav\n"
     ]
    },
    {
     "name": "stderr",
     "output_type": "stream",
     "text": [
      "                                                                                                                                                                    \r"
     ]
    },
    {
     "name": "stdout",
     "output_type": "stream",
     "text": [
      "MoviePy - Done.\n",
      "MoviePy - Writing audio in A:\\AI DB\\LSPD\\Audio\\porn\\porn_165.wav\n"
     ]
    },
    {
     "name": "stderr",
     "output_type": "stream",
     "text": [
      "                                                                                                                                                                    \r"
     ]
    },
    {
     "name": "stdout",
     "output_type": "stream",
     "text": [
      "MoviePy - Done.\n",
      "MoviePy - Writing audio in A:\\AI DB\\LSPD\\Audio\\porn\\porn_1650.wav\n"
     ]
    },
    {
     "name": "stderr",
     "output_type": "stream",
     "text": [
      "                                                                                                                                                                    "
     ]
    },
    {
     "name": "stdout",
     "output_type": "stream",
     "text": [
      "MoviePy - Done.\n"
     ]
    },
    {
     "name": "stderr",
     "output_type": "stream",
     "text": [
      "\r"
     ]
    },
    {
     "name": "stdout",
     "output_type": "stream",
     "text": [
      "MoviePy - Writing audio in A:\\AI DB\\LSPD\\Audio\\porn\\porn_1652.wav\n"
     ]
    },
    {
     "name": "stderr",
     "output_type": "stream",
     "text": [
      "                                                                                                                                                                    \r"
     ]
    },
    {
     "name": "stdout",
     "output_type": "stream",
     "text": [
      "MoviePy - Done.\n",
      "MoviePy - Writing audio in A:\\AI DB\\LSPD\\Audio\\porn\\porn_1655.wav\n"
     ]
    },
    {
     "name": "stderr",
     "output_type": "stream",
     "text": [
      "                                                                                                                                                                    \r"
     ]
    },
    {
     "name": "stdout",
     "output_type": "stream",
     "text": [
      "MoviePy - Done.\n",
      "MoviePy - Writing audio in A:\\AI DB\\LSPD\\Audio\\porn\\porn_1656.wav\n"
     ]
    },
    {
     "name": "stderr",
     "output_type": "stream",
     "text": [
      "                                                                                                                                                                    \r"
     ]
    },
    {
     "name": "stdout",
     "output_type": "stream",
     "text": [
      "MoviePy - Done.\n",
      "MoviePy - Writing audio in A:\\AI DB\\LSPD\\Audio\\porn\\porn_1657.wav\n"
     ]
    },
    {
     "name": "stderr",
     "output_type": "stream",
     "text": [
      "                                                                                                                                                                    \r"
     ]
    },
    {
     "name": "stdout",
     "output_type": "stream",
     "text": [
      "MoviePy - Done.\n",
      "MoviePy - Writing audio in A:\\AI DB\\LSPD\\Audio\\porn\\porn_1659.wav\n"
     ]
    },
    {
     "name": "stderr",
     "output_type": "stream",
     "text": [
      "                                                                                                                                                                    \r"
     ]
    },
    {
     "name": "stdout",
     "output_type": "stream",
     "text": [
      "MoviePy - Done.\n",
      "MoviePy - Writing audio in A:\\AI DB\\LSPD\\Audio\\porn\\porn_1660.wav\n"
     ]
    },
    {
     "name": "stderr",
     "output_type": "stream",
     "text": [
      "                                                                                                                                                                    \r"
     ]
    },
    {
     "name": "stdout",
     "output_type": "stream",
     "text": [
      "MoviePy - Done.\n",
      "MoviePy - Writing audio in A:\\AI DB\\LSPD\\Audio\\porn\\porn_1663.wav\n"
     ]
    },
    {
     "name": "stderr",
     "output_type": "stream",
     "text": [
      "                                                                                                                                                                    \r"
     ]
    },
    {
     "name": "stdout",
     "output_type": "stream",
     "text": [
      "MoviePy - Done.\n",
      "MoviePy - Writing audio in A:\\AI DB\\LSPD\\Audio\\porn\\porn_1665.wav\n"
     ]
    },
    {
     "name": "stderr",
     "output_type": "stream",
     "text": [
      "                                                                                                                                                                    \r"
     ]
    },
    {
     "name": "stdout",
     "output_type": "stream",
     "text": [
      "MoviePy - Done.\n",
      "MoviePy - Writing audio in A:\\AI DB\\LSPD\\Audio\\porn\\porn_1666.wav\n"
     ]
    },
    {
     "name": "stderr",
     "output_type": "stream",
     "text": [
      "                                                                                                                                                                    \r"
     ]
    },
    {
     "name": "stdout",
     "output_type": "stream",
     "text": [
      "MoviePy - Done.\n",
      "MoviePy - Writing audio in A:\\AI DB\\LSPD\\Audio\\porn\\porn_1668.wav\n"
     ]
    },
    {
     "name": "stderr",
     "output_type": "stream",
     "text": [
      "                                                                                                                                                                    \r"
     ]
    },
    {
     "name": "stdout",
     "output_type": "stream",
     "text": [
      "MoviePy - Done.\n",
      "MoviePy - Writing audio in A:\\AI DB\\LSPD\\Audio\\porn\\porn_1669.wav\n"
     ]
    },
    {
     "name": "stderr",
     "output_type": "stream",
     "text": [
      "                                                                                                                                                                    \r"
     ]
    },
    {
     "name": "stdout",
     "output_type": "stream",
     "text": [
      "MoviePy - Done.\n",
      "MoviePy - Writing audio in A:\\AI DB\\LSPD\\Audio\\porn\\porn_167.wav\n"
     ]
    },
    {
     "name": "stderr",
     "output_type": "stream",
     "text": [
      "                                                                                                                                                                    \r"
     ]
    },
    {
     "name": "stdout",
     "output_type": "stream",
     "text": [
      "MoviePy - Done.\n",
      "MoviePy - Writing audio in A:\\AI DB\\LSPD\\Audio\\porn\\porn_1670.wav\n"
     ]
    },
    {
     "name": "stderr",
     "output_type": "stream",
     "text": [
      "                                                                                                                                                                    \r"
     ]
    },
    {
     "name": "stdout",
     "output_type": "stream",
     "text": [
      "MoviePy - Done.\n",
      "MoviePy - Writing audio in A:\\AI DB\\LSPD\\Audio\\porn\\porn_1673.wav\n"
     ]
    },
    {
     "name": "stderr",
     "output_type": "stream",
     "text": [
      "                                                                                                                                                                    \r"
     ]
    },
    {
     "name": "stdout",
     "output_type": "stream",
     "text": [
      "MoviePy - Done.\n",
      "MoviePy - Writing audio in A:\\AI DB\\LSPD\\Audio\\porn\\porn_1676.wav\n"
     ]
    },
    {
     "name": "stderr",
     "output_type": "stream",
     "text": [
      "                                                                                                                                                                    \r"
     ]
    },
    {
     "name": "stdout",
     "output_type": "stream",
     "text": [
      "MoviePy - Done.\n",
      "MoviePy - Writing audio in A:\\AI DB\\LSPD\\Audio\\porn\\porn_1678.wav\n"
     ]
    },
    {
     "name": "stderr",
     "output_type": "stream",
     "text": [
      "                                                                                                                                                                    \r"
     ]
    },
    {
     "name": "stdout",
     "output_type": "stream",
     "text": [
      "MoviePy - Done.\n",
      "MoviePy - Writing audio in A:\\AI DB\\LSPD\\Audio\\porn\\porn_1679.wav\n"
     ]
    },
    {
     "name": "stderr",
     "output_type": "stream",
     "text": [
      "                                                                                                                                                                    \r"
     ]
    },
    {
     "name": "stdout",
     "output_type": "stream",
     "text": [
      "MoviePy - Done.\n",
      "MoviePy - Writing audio in A:\\AI DB\\LSPD\\Audio\\porn\\porn_168.wav\n"
     ]
    },
    {
     "name": "stderr",
     "output_type": "stream",
     "text": [
      "                                                                                                                                                                    \r"
     ]
    },
    {
     "name": "stdout",
     "output_type": "stream",
     "text": [
      "MoviePy - Done.\n",
      "MoviePy - Writing audio in A:\\AI DB\\LSPD\\Audio\\porn\\porn_1681.wav\n"
     ]
    },
    {
     "name": "stderr",
     "output_type": "stream",
     "text": [
      "                                                                                                                                                                    \r"
     ]
    },
    {
     "name": "stdout",
     "output_type": "stream",
     "text": [
      "MoviePy - Done.\n",
      "MoviePy - Writing audio in A:\\AI DB\\LSPD\\Audio\\porn\\porn_1685.wav\n"
     ]
    },
    {
     "name": "stderr",
     "output_type": "stream",
     "text": [
      "                                                                                                                                                                    \r"
     ]
    },
    {
     "name": "stdout",
     "output_type": "stream",
     "text": [
      "MoviePy - Done.\n",
      "MoviePy - Writing audio in A:\\AI DB\\LSPD\\Audio\\porn\\porn_1688.wav\n"
     ]
    },
    {
     "name": "stderr",
     "output_type": "stream",
     "text": [
      "                                                                                                                                                                    \r"
     ]
    },
    {
     "name": "stdout",
     "output_type": "stream",
     "text": [
      "MoviePy - Done.\n",
      "MoviePy - Writing audio in A:\\AI DB\\LSPD\\Audio\\porn\\porn_1689.wav\n"
     ]
    },
    {
     "name": "stderr",
     "output_type": "stream",
     "text": [
      "                                                                                                                                                                    \r"
     ]
    },
    {
     "name": "stdout",
     "output_type": "stream",
     "text": [
      "MoviePy - Done.\n",
      "MoviePy - Writing audio in A:\\AI DB\\LSPD\\Audio\\porn\\porn_1690.wav\n"
     ]
    },
    {
     "name": "stderr",
     "output_type": "stream",
     "text": [
      "                                                                                                                                                                    \r"
     ]
    },
    {
     "name": "stdout",
     "output_type": "stream",
     "text": [
      "MoviePy - Done.\n",
      "MoviePy - Writing audio in A:\\AI DB\\LSPD\\Audio\\porn\\porn_1692.wav\n"
     ]
    },
    {
     "name": "stderr",
     "output_type": "stream",
     "text": [
      "                                                                                                                                                                    \r"
     ]
    },
    {
     "name": "stdout",
     "output_type": "stream",
     "text": [
      "MoviePy - Done.\n",
      "MoviePy - Writing audio in A:\\AI DB\\LSPD\\Audio\\porn\\porn_1693.wav\n"
     ]
    },
    {
     "name": "stderr",
     "output_type": "stream",
     "text": [
      "                                                                                                                                                                    \r"
     ]
    },
    {
     "name": "stdout",
     "output_type": "stream",
     "text": [
      "MoviePy - Done.\n",
      "MoviePy - Writing audio in A:\\AI DB\\LSPD\\Audio\\porn\\porn_1695.wav\n"
     ]
    },
    {
     "name": "stderr",
     "output_type": "stream",
     "text": [
      "                                                                                                                                                                    \r"
     ]
    },
    {
     "name": "stdout",
     "output_type": "stream",
     "text": [
      "MoviePy - Done.\n",
      "MoviePy - Writing audio in A:\\AI DB\\LSPD\\Audio\\porn\\porn_1697.wav\n"
     ]
    },
    {
     "name": "stderr",
     "output_type": "stream",
     "text": [
      "                                                                                                                                                                    \r"
     ]
    },
    {
     "name": "stdout",
     "output_type": "stream",
     "text": [
      "MoviePy - Done.\n",
      "MoviePy - Writing audio in A:\\AI DB\\LSPD\\Audio\\porn\\porn_1698.wav\n"
     ]
    },
    {
     "name": "stderr",
     "output_type": "stream",
     "text": [
      "                                                                                                                                                                    \r"
     ]
    },
    {
     "name": "stdout",
     "output_type": "stream",
     "text": [
      "MoviePy - Done.\n",
      "MoviePy - Writing audio in A:\\AI DB\\LSPD\\Audio\\porn\\porn_17.wav\n"
     ]
    },
    {
     "name": "stderr",
     "output_type": "stream",
     "text": [
      "                                                                                                                                                                    \r"
     ]
    },
    {
     "name": "stdout",
     "output_type": "stream",
     "text": [
      "MoviePy - Done.\n",
      "MoviePy - Writing audio in A:\\AI DB\\LSPD\\Audio\\porn\\porn_1706.wav\n"
     ]
    },
    {
     "name": "stderr",
     "output_type": "stream",
     "text": [
      "                                                                                                                                                                    \r"
     ]
    },
    {
     "name": "stdout",
     "output_type": "stream",
     "text": [
      "MoviePy - Done.\n",
      "MoviePy - Writing audio in A:\\AI DB\\LSPD\\Audio\\porn\\porn_1707.wav\n"
     ]
    },
    {
     "name": "stderr",
     "output_type": "stream",
     "text": [
      "                                                                                                                                                                    \r"
     ]
    },
    {
     "name": "stdout",
     "output_type": "stream",
     "text": [
      "MoviePy - Done.\n",
      "MoviePy - Writing audio in A:\\AI DB\\LSPD\\Audio\\porn\\porn_1708.wav\n"
     ]
    },
    {
     "name": "stderr",
     "output_type": "stream",
     "text": [
      "                                                                                                                                                                    \r"
     ]
    },
    {
     "name": "stdout",
     "output_type": "stream",
     "text": [
      "MoviePy - Done.\n",
      "MoviePy - Writing audio in A:\\AI DB\\LSPD\\Audio\\porn\\porn_1709.wav\n"
     ]
    },
    {
     "name": "stderr",
     "output_type": "stream",
     "text": [
      "                                                                                                                                                                    \r"
     ]
    },
    {
     "name": "stdout",
     "output_type": "stream",
     "text": [
      "MoviePy - Done.\n",
      "MoviePy - Writing audio in A:\\AI DB\\LSPD\\Audio\\porn\\porn_1712.wav\n"
     ]
    },
    {
     "name": "stderr",
     "output_type": "stream",
     "text": [
      "                                                                                                                                                                    \r"
     ]
    },
    {
     "name": "stdout",
     "output_type": "stream",
     "text": [
      "MoviePy - Done.\n",
      "MoviePy - Writing audio in A:\\AI DB\\LSPD\\Audio\\porn\\porn_1713.wav\n"
     ]
    },
    {
     "name": "stderr",
     "output_type": "stream",
     "text": [
      "                                                                                                                                                                    \r"
     ]
    },
    {
     "name": "stdout",
     "output_type": "stream",
     "text": [
      "MoviePy - Done.\n",
      "MoviePy - Writing audio in A:\\AI DB\\LSPD\\Audio\\porn\\porn_1714.wav\n"
     ]
    },
    {
     "name": "stderr",
     "output_type": "stream",
     "text": [
      "                                                                                                                                                                    \r"
     ]
    },
    {
     "name": "stdout",
     "output_type": "stream",
     "text": [
      "MoviePy - Done.\n",
      "MoviePy - Writing audio in A:\\AI DB\\LSPD\\Audio\\porn\\porn_1715.wav\n"
     ]
    },
    {
     "name": "stderr",
     "output_type": "stream",
     "text": [
      "                                                                                                                                                                    \r"
     ]
    },
    {
     "name": "stdout",
     "output_type": "stream",
     "text": [
      "MoviePy - Done.\n",
      "MoviePy - Writing audio in A:\\AI DB\\LSPD\\Audio\\porn\\porn_1717.wav\n"
     ]
    },
    {
     "name": "stderr",
     "output_type": "stream",
     "text": [
      "                                                                                                                                                                    \r"
     ]
    },
    {
     "name": "stdout",
     "output_type": "stream",
     "text": [
      "MoviePy - Done.\n",
      "MoviePy - Writing audio in A:\\AI DB\\LSPD\\Audio\\porn\\porn_172.wav\n"
     ]
    },
    {
     "name": "stderr",
     "output_type": "stream",
     "text": [
      "                                                                                                                                                                    \r"
     ]
    },
    {
     "name": "stdout",
     "output_type": "stream",
     "text": [
      "MoviePy - Done.\n",
      "MoviePy - Writing audio in A:\\AI DB\\LSPD\\Audio\\porn\\porn_1720.wav\n"
     ]
    },
    {
     "name": "stderr",
     "output_type": "stream",
     "text": [
      "                                                                                                                                                                    \r"
     ]
    },
    {
     "name": "stdout",
     "output_type": "stream",
     "text": [
      "MoviePy - Done.\n",
      "MoviePy - Writing audio in A:\\AI DB\\LSPD\\Audio\\porn\\porn_1722.wav\n"
     ]
    },
    {
     "name": "stderr",
     "output_type": "stream",
     "text": [
      "                                                                                                                                                                    \r"
     ]
    },
    {
     "name": "stdout",
     "output_type": "stream",
     "text": [
      "MoviePy - Done.\n",
      "MoviePy - Writing audio in A:\\AI DB\\LSPD\\Audio\\porn\\porn_1724.wav\n"
     ]
    },
    {
     "name": "stderr",
     "output_type": "stream",
     "text": [
      "                                                                                                                                                                    \r"
     ]
    },
    {
     "name": "stdout",
     "output_type": "stream",
     "text": [
      "MoviePy - Done.\n",
      "MoviePy - Writing audio in A:\\AI DB\\LSPD\\Audio\\porn\\porn_1725.wav\n"
     ]
    },
    {
     "name": "stderr",
     "output_type": "stream",
     "text": [
      "                                                                                                                                                                    \r"
     ]
    },
    {
     "name": "stdout",
     "output_type": "stream",
     "text": [
      "MoviePy - Done.\n",
      "MoviePy - Writing audio in A:\\AI DB\\LSPD\\Audio\\porn\\porn_1727.wav\n"
     ]
    },
    {
     "name": "stderr",
     "output_type": "stream",
     "text": [
      "                                                                                                                                                                    "
     ]
    },
    {
     "name": "stdout",
     "output_type": "stream",
     "text": [
      "MoviePy - Done.\n"
     ]
    },
    {
     "name": "stderr",
     "output_type": "stream",
     "text": [
      "\r"
     ]
    },
    {
     "name": "stdout",
     "output_type": "stream",
     "text": [
      "MoviePy - Writing audio in A:\\AI DB\\LSPD\\Audio\\porn\\porn_173.wav\n"
     ]
    },
    {
     "name": "stderr",
     "output_type": "stream",
     "text": [
      "                                                                                                                                                                    \r"
     ]
    },
    {
     "name": "stdout",
     "output_type": "stream",
     "text": [
      "MoviePy - Done.\n",
      "MoviePy - Writing audio in A:\\AI DB\\LSPD\\Audio\\porn\\porn_1730.wav\n"
     ]
    },
    {
     "name": "stderr",
     "output_type": "stream",
     "text": [
      "                                                                                                                                                                    \r"
     ]
    },
    {
     "name": "stdout",
     "output_type": "stream",
     "text": [
      "MoviePy - Done.\n",
      "MoviePy - Writing audio in A:\\AI DB\\LSPD\\Audio\\porn\\porn_1733.wav\n"
     ]
    },
    {
     "name": "stderr",
     "output_type": "stream",
     "text": [
      "                                                                                                                                                                    \r"
     ]
    },
    {
     "name": "stdout",
     "output_type": "stream",
     "text": [
      "MoviePy - Done.\n",
      "MoviePy - Writing audio in A:\\AI DB\\LSPD\\Audio\\porn\\porn_1736.wav\n"
     ]
    },
    {
     "name": "stderr",
     "output_type": "stream",
     "text": [
      "                                                                                                                                                                    \r"
     ]
    },
    {
     "name": "stdout",
     "output_type": "stream",
     "text": [
      "MoviePy - Done.\n",
      "MoviePy - Writing audio in A:\\AI DB\\LSPD\\Audio\\porn\\porn_1738.wav\n"
     ]
    },
    {
     "name": "stderr",
     "output_type": "stream",
     "text": [
      "                                                                                                                                                                    \r"
     ]
    },
    {
     "name": "stdout",
     "output_type": "stream",
     "text": [
      "MoviePy - Done.\n",
      "MoviePy - Writing audio in A:\\AI DB\\LSPD\\Audio\\porn\\porn_174.wav\n"
     ]
    },
    {
     "name": "stderr",
     "output_type": "stream",
     "text": [
      "                                                                                                                                                                    \r"
     ]
    },
    {
     "name": "stdout",
     "output_type": "stream",
     "text": [
      "MoviePy - Done.\n",
      "MoviePy - Writing audio in A:\\AI DB\\LSPD\\Audio\\porn\\porn_1742.wav\n"
     ]
    },
    {
     "name": "stderr",
     "output_type": "stream",
     "text": [
      "                                                                                                                                                                    \r"
     ]
    },
    {
     "name": "stdout",
     "output_type": "stream",
     "text": [
      "MoviePy - Done.\n",
      "MoviePy - Writing audio in A:\\AI DB\\LSPD\\Audio\\porn\\porn_1745.wav\n"
     ]
    },
    {
     "name": "stderr",
     "output_type": "stream",
     "text": [
      "                                                                                                                                                                    \r"
     ]
    },
    {
     "name": "stdout",
     "output_type": "stream",
     "text": [
      "MoviePy - Done.\n",
      "MoviePy - Writing audio in A:\\AI DB\\LSPD\\Audio\\porn\\porn_1747.wav\n"
     ]
    },
    {
     "name": "stderr",
     "output_type": "stream",
     "text": [
      "                                                                                                                                                                    \r"
     ]
    },
    {
     "name": "stdout",
     "output_type": "stream",
     "text": [
      "MoviePy - Done.\n",
      "MoviePy - Writing audio in A:\\AI DB\\LSPD\\Audio\\porn\\porn_1748.wav\n"
     ]
    },
    {
     "name": "stderr",
     "output_type": "stream",
     "text": [
      "                                                                                                                                                                    \r"
     ]
    },
    {
     "name": "stdout",
     "output_type": "stream",
     "text": [
      "MoviePy - Done.\n",
      "MoviePy - Writing audio in A:\\AI DB\\LSPD\\Audio\\porn\\porn_175.wav\n"
     ]
    },
    {
     "name": "stderr",
     "output_type": "stream",
     "text": [
      "                                                                                                                                                                    \r"
     ]
    },
    {
     "name": "stdout",
     "output_type": "stream",
     "text": [
      "MoviePy - Done.\n",
      "MoviePy - Writing audio in A:\\AI DB\\LSPD\\Audio\\porn\\porn_1750.wav\n"
     ]
    },
    {
     "name": "stderr",
     "output_type": "stream",
     "text": [
      "                                                                                                                                                                    \r"
     ]
    },
    {
     "name": "stdout",
     "output_type": "stream",
     "text": [
      "MoviePy - Done.\n",
      "MoviePy - Writing audio in A:\\AI DB\\LSPD\\Audio\\porn\\porn_1751.wav\n"
     ]
    },
    {
     "name": "stderr",
     "output_type": "stream",
     "text": [
      "                                                                                                                                                                    \r"
     ]
    },
    {
     "name": "stdout",
     "output_type": "stream",
     "text": [
      "MoviePy - Done.\n",
      "MoviePy - Writing audio in A:\\AI DB\\LSPD\\Audio\\porn\\porn_1752.wav\n"
     ]
    },
    {
     "name": "stderr",
     "output_type": "stream",
     "text": [
      "                                                                                                                                                                    \r"
     ]
    },
    {
     "name": "stdout",
     "output_type": "stream",
     "text": [
      "MoviePy - Done.\n",
      "MoviePy - Writing audio in A:\\AI DB\\LSPD\\Audio\\porn\\porn_1753.wav\n"
     ]
    },
    {
     "name": "stderr",
     "output_type": "stream",
     "text": [
      "                                                                                                                                                                    \r"
     ]
    },
    {
     "name": "stdout",
     "output_type": "stream",
     "text": [
      "MoviePy - Done.\n",
      "MoviePy - Writing audio in A:\\AI DB\\LSPD\\Audio\\porn\\porn_1756.wav\n"
     ]
    },
    {
     "name": "stderr",
     "output_type": "stream",
     "text": [
      "                                                                                                                                                                    \r"
     ]
    },
    {
     "name": "stdout",
     "output_type": "stream",
     "text": [
      "MoviePy - Done.\n",
      "MoviePy - Writing audio in A:\\AI DB\\LSPD\\Audio\\porn\\porn_176.wav\n"
     ]
    },
    {
     "name": "stderr",
     "output_type": "stream",
     "text": [
      "                                                                                                                                                                    \r"
     ]
    },
    {
     "name": "stdout",
     "output_type": "stream",
     "text": [
      "MoviePy - Done.\n",
      "MoviePy - Writing audio in A:\\AI DB\\LSPD\\Audio\\porn\\porn_1760.wav\n"
     ]
    },
    {
     "name": "stderr",
     "output_type": "stream",
     "text": [
      "                                                                                                                                                                    \r"
     ]
    },
    {
     "name": "stdout",
     "output_type": "stream",
     "text": [
      "MoviePy - Done.\n",
      "MoviePy - Writing audio in A:\\AI DB\\LSPD\\Audio\\porn\\porn_1764.wav\n"
     ]
    },
    {
     "name": "stderr",
     "output_type": "stream",
     "text": [
      "                                                                                                                                                                    \r"
     ]
    },
    {
     "name": "stdout",
     "output_type": "stream",
     "text": [
      "MoviePy - Done.\n",
      "MoviePy - Writing audio in A:\\AI DB\\LSPD\\Audio\\porn\\porn_1765.wav\n"
     ]
    },
    {
     "name": "stderr",
     "output_type": "stream",
     "text": [
      "                                                                                                                                                                    \r"
     ]
    },
    {
     "name": "stdout",
     "output_type": "stream",
     "text": [
      "MoviePy - Done.\n",
      "MoviePy - Writing audio in A:\\AI DB\\LSPD\\Audio\\porn\\porn_1766.wav\n"
     ]
    },
    {
     "name": "stderr",
     "output_type": "stream",
     "text": [
      "                                                                                                                                                                    \r"
     ]
    },
    {
     "name": "stdout",
     "output_type": "stream",
     "text": [
      "MoviePy - Done.\n",
      "MoviePy - Writing audio in A:\\AI DB\\LSPD\\Audio\\porn\\porn_1767.wav\n"
     ]
    },
    {
     "name": "stderr",
     "output_type": "stream",
     "text": [
      "                                                                                                                                                                    \r"
     ]
    },
    {
     "name": "stdout",
     "output_type": "stream",
     "text": [
      "MoviePy - Done.\n",
      "MoviePy - Writing audio in A:\\AI DB\\LSPD\\Audio\\porn\\porn_1768.wav\n"
     ]
    },
    {
     "name": "stderr",
     "output_type": "stream",
     "text": [
      "                                                                                                                                                                    \r"
     ]
    },
    {
     "name": "stdout",
     "output_type": "stream",
     "text": [
      "MoviePy - Done.\n",
      "MoviePy - Writing audio in A:\\AI DB\\LSPD\\Audio\\porn\\porn_1769.wav\n"
     ]
    },
    {
     "name": "stderr",
     "output_type": "stream",
     "text": [
      "                                                                                                                                                                    \r"
     ]
    },
    {
     "name": "stdout",
     "output_type": "stream",
     "text": [
      "MoviePy - Done.\n",
      "MoviePy - Writing audio in A:\\AI DB\\LSPD\\Audio\\porn\\porn_177.wav\n"
     ]
    },
    {
     "name": "stderr",
     "output_type": "stream",
     "text": [
      "                                                                                                                                                                    \r"
     ]
    },
    {
     "name": "stdout",
     "output_type": "stream",
     "text": [
      "MoviePy - Done.\n",
      "MoviePy - Writing audio in A:\\AI DB\\LSPD\\Audio\\porn\\porn_1771.wav\n"
     ]
    },
    {
     "name": "stderr",
     "output_type": "stream",
     "text": [
      "                                                                                                                                                                    "
     ]
    },
    {
     "name": "stdout",
     "output_type": "stream",
     "text": [
      "MoviePy - Done.\n"
     ]
    },
    {
     "name": "stderr",
     "output_type": "stream",
     "text": [
      "\r"
     ]
    },
    {
     "name": "stdout",
     "output_type": "stream",
     "text": [
      "MoviePy - Writing audio in A:\\AI DB\\LSPD\\Audio\\porn\\porn_1774.wav\n"
     ]
    },
    {
     "name": "stderr",
     "output_type": "stream",
     "text": [
      "                                                                                                                                                                    \r"
     ]
    },
    {
     "name": "stdout",
     "output_type": "stream",
     "text": [
      "MoviePy - Done.\n",
      "MoviePy - Writing audio in A:\\AI DB\\LSPD\\Audio\\porn\\porn_1776.wav\n"
     ]
    },
    {
     "name": "stderr",
     "output_type": "stream",
     "text": [
      "                                                                                                                                                                    \r"
     ]
    },
    {
     "name": "stdout",
     "output_type": "stream",
     "text": [
      "MoviePy - Done.\n",
      "MoviePy - Writing audio in A:\\AI DB\\LSPD\\Audio\\porn\\porn_1779.wav\n"
     ]
    },
    {
     "name": "stderr",
     "output_type": "stream",
     "text": [
      "                                                                                                                                                                    \r"
     ]
    },
    {
     "name": "stdout",
     "output_type": "stream",
     "text": [
      "MoviePy - Done.\n",
      "MoviePy - Writing audio in A:\\AI DB\\LSPD\\Audio\\porn\\porn_1781.wav\n"
     ]
    },
    {
     "name": "stderr",
     "output_type": "stream",
     "text": [
      "                                                                                                                                                                    \r"
     ]
    },
    {
     "name": "stdout",
     "output_type": "stream",
     "text": [
      "MoviePy - Done.\n",
      "MoviePy - Writing audio in A:\\AI DB\\LSPD\\Audio\\porn\\porn_1782.wav\n"
     ]
    },
    {
     "name": "stderr",
     "output_type": "stream",
     "text": [
      "                                                                                                                                                                    \r"
     ]
    },
    {
     "name": "stdout",
     "output_type": "stream",
     "text": [
      "MoviePy - Done.\n",
      "MoviePy - Writing audio in A:\\AI DB\\LSPD\\Audio\\porn\\porn_1784.wav\n"
     ]
    },
    {
     "name": "stderr",
     "output_type": "stream",
     "text": [
      "                                                                                                                                                                    \r"
     ]
    },
    {
     "name": "stdout",
     "output_type": "stream",
     "text": [
      "MoviePy - Done.\n",
      "MoviePy - Writing audio in A:\\AI DB\\LSPD\\Audio\\porn\\porn_1786.wav\n"
     ]
    },
    {
     "name": "stderr",
     "output_type": "stream",
     "text": [
      "                                                                                                                                                                    \r"
     ]
    },
    {
     "name": "stdout",
     "output_type": "stream",
     "text": [
      "MoviePy - Done.\n",
      "MoviePy - Writing audio in A:\\AI DB\\LSPD\\Audio\\porn\\porn_1792.wav\n"
     ]
    },
    {
     "name": "stderr",
     "output_type": "stream",
     "text": [
      "                                                                                                                                                                    \r"
     ]
    },
    {
     "name": "stdout",
     "output_type": "stream",
     "text": [
      "MoviePy - Done.\n",
      "MoviePy - Writing audio in A:\\AI DB\\LSPD\\Audio\\porn\\porn_1796.wav\n"
     ]
    },
    {
     "name": "stderr",
     "output_type": "stream",
     "text": [
      "                                                                                                                                                                    \r"
     ]
    },
    {
     "name": "stdout",
     "output_type": "stream",
     "text": [
      "MoviePy - Done.\n",
      "MoviePy - Writing audio in A:\\AI DB\\LSPD\\Audio\\porn\\porn_1798.wav\n"
     ]
    },
    {
     "name": "stderr",
     "output_type": "stream",
     "text": [
      "                                                                                                                                                                    \r"
     ]
    },
    {
     "name": "stdout",
     "output_type": "stream",
     "text": [
      "MoviePy - Done.\n",
      "MoviePy - Writing audio in A:\\AI DB\\LSPD\\Audio\\porn\\porn_18.wav\n"
     ]
    },
    {
     "name": "stderr",
     "output_type": "stream",
     "text": [
      "                                                                                                                                                                    \r"
     ]
    },
    {
     "name": "stdout",
     "output_type": "stream",
     "text": [
      "MoviePy - Done.\n",
      "MoviePy - Writing audio in A:\\AI DB\\LSPD\\Audio\\porn\\porn_1802.wav\n"
     ]
    },
    {
     "name": "stderr",
     "output_type": "stream",
     "text": [
      "                                                                                                                                                                    \r"
     ]
    },
    {
     "name": "stdout",
     "output_type": "stream",
     "text": [
      "MoviePy - Done.\n",
      "MoviePy - Writing audio in A:\\AI DB\\LSPD\\Audio\\porn\\porn_1804.wav\n"
     ]
    },
    {
     "name": "stderr",
     "output_type": "stream",
     "text": [
      "                                                                                                                                                                    \r"
     ]
    },
    {
     "name": "stdout",
     "output_type": "stream",
     "text": [
      "MoviePy - Done.\n",
      "MoviePy - Writing audio in A:\\AI DB\\LSPD\\Audio\\porn\\porn_1805.wav\n"
     ]
    },
    {
     "name": "stderr",
     "output_type": "stream",
     "text": [
      "                                                                                                                                                                    \r"
     ]
    },
    {
     "name": "stdout",
     "output_type": "stream",
     "text": [
      "MoviePy - Done.\n",
      "MoviePy - Writing audio in A:\\AI DB\\LSPD\\Audio\\porn\\porn_1808.wav\n"
     ]
    },
    {
     "name": "stderr",
     "output_type": "stream",
     "text": [
      "                                                                                                                                                                    \r"
     ]
    },
    {
     "name": "stdout",
     "output_type": "stream",
     "text": [
      "MoviePy - Done.\n",
      "MoviePy - Writing audio in A:\\AI DB\\LSPD\\Audio\\porn\\porn_181.wav\n"
     ]
    },
    {
     "name": "stderr",
     "output_type": "stream",
     "text": [
      "                                                                                                                                                                    \r"
     ]
    },
    {
     "name": "stdout",
     "output_type": "stream",
     "text": [
      "MoviePy - Done.\n",
      "MoviePy - Writing audio in A:\\AI DB\\LSPD\\Audio\\porn\\porn_1811.wav\n"
     ]
    },
    {
     "name": "stderr",
     "output_type": "stream",
     "text": [
      "                                                                                                                                                                    \r"
     ]
    },
    {
     "name": "stdout",
     "output_type": "stream",
     "text": [
      "MoviePy - Done.\n",
      "MoviePy - Writing audio in A:\\AI DB\\LSPD\\Audio\\porn\\porn_1814.wav\n"
     ]
    },
    {
     "name": "stderr",
     "output_type": "stream",
     "text": [
      "                                                                                                                                                                    \r"
     ]
    },
    {
     "name": "stdout",
     "output_type": "stream",
     "text": [
      "MoviePy - Done.\n",
      "MoviePy - Writing audio in A:\\AI DB\\LSPD\\Audio\\porn\\porn_1815.wav\n"
     ]
    },
    {
     "name": "stderr",
     "output_type": "stream",
     "text": [
      "                                                                                                                                                                    \r"
     ]
    },
    {
     "name": "stdout",
     "output_type": "stream",
     "text": [
      "MoviePy - Done.\n",
      "MoviePy - Writing audio in A:\\AI DB\\LSPD\\Audio\\porn\\porn_1819.wav\n"
     ]
    },
    {
     "name": "stderr",
     "output_type": "stream",
     "text": [
      "                                                                                                                                                                    \r"
     ]
    },
    {
     "name": "stdout",
     "output_type": "stream",
     "text": [
      "MoviePy - Done.\n",
      "MoviePy - Writing audio in A:\\AI DB\\LSPD\\Audio\\porn\\porn_182.wav\n"
     ]
    },
    {
     "name": "stderr",
     "output_type": "stream",
     "text": [
      "                                                                                                                                                                    \r"
     ]
    },
    {
     "name": "stdout",
     "output_type": "stream",
     "text": [
      "MoviePy - Done.\n",
      "MoviePy - Writing audio in A:\\AI DB\\LSPD\\Audio\\porn\\porn_1828.wav\n"
     ]
    },
    {
     "name": "stderr",
     "output_type": "stream",
     "text": [
      "                                                                                                                                                                    \r"
     ]
    },
    {
     "name": "stdout",
     "output_type": "stream",
     "text": [
      "MoviePy - Done.\n",
      "MoviePy - Writing audio in A:\\AI DB\\LSPD\\Audio\\porn\\porn_183.wav\n"
     ]
    },
    {
     "name": "stderr",
     "output_type": "stream",
     "text": [
      "                                                                                                                                                                    \r"
     ]
    },
    {
     "name": "stdout",
     "output_type": "stream",
     "text": [
      "MoviePy - Done.\n",
      "MoviePy - Writing audio in A:\\AI DB\\LSPD\\Audio\\porn\\porn_1831.wav\n"
     ]
    },
    {
     "name": "stderr",
     "output_type": "stream",
     "text": [
      "                                                                                                                                                                    \r"
     ]
    },
    {
     "name": "stdout",
     "output_type": "stream",
     "text": [
      "MoviePy - Done.\n",
      "MoviePy - Writing audio in A:\\AI DB\\LSPD\\Audio\\porn\\porn_1832.wav\n"
     ]
    },
    {
     "name": "stderr",
     "output_type": "stream",
     "text": [
      "                                                                                                                                                                    \r"
     ]
    },
    {
     "name": "stdout",
     "output_type": "stream",
     "text": [
      "MoviePy - Done.\n",
      "MoviePy - Writing audio in A:\\AI DB\\LSPD\\Audio\\porn\\porn_1838.wav\n"
     ]
    },
    {
     "name": "stderr",
     "output_type": "stream",
     "text": [
      "                                                                                                                                                                    \r"
     ]
    },
    {
     "name": "stdout",
     "output_type": "stream",
     "text": [
      "MoviePy - Done.\n",
      "MoviePy - Writing audio in A:\\AI DB\\LSPD\\Audio\\porn\\porn_1840.wav\n"
     ]
    },
    {
     "name": "stderr",
     "output_type": "stream",
     "text": [
      "                                                                                                                                                                    \r"
     ]
    },
    {
     "name": "stdout",
     "output_type": "stream",
     "text": [
      "MoviePy - Done.\n",
      "MoviePy - Writing audio in A:\\AI DB\\LSPD\\Audio\\porn\\porn_1842.wav\n"
     ]
    },
    {
     "name": "stderr",
     "output_type": "stream",
     "text": [
      "                                                                                                                                                                    \r"
     ]
    },
    {
     "name": "stdout",
     "output_type": "stream",
     "text": [
      "MoviePy - Done.\n",
      "MoviePy - Writing audio in A:\\AI DB\\LSPD\\Audio\\porn\\porn_1846.wav\n"
     ]
    },
    {
     "name": "stderr",
     "output_type": "stream",
     "text": [
      "                                                                                                                                                                    \r"
     ]
    },
    {
     "name": "stdout",
     "output_type": "stream",
     "text": [
      "MoviePy - Done.\n",
      "MoviePy - Writing audio in A:\\AI DB\\LSPD\\Audio\\porn\\porn_185.wav\n"
     ]
    },
    {
     "name": "stderr",
     "output_type": "stream",
     "text": [
      "                                                                                                                                                                    \r"
     ]
    },
    {
     "name": "stdout",
     "output_type": "stream",
     "text": [
      "MoviePy - Done.\n",
      "MoviePy - Writing audio in A:\\AI DB\\LSPD\\Audio\\porn\\porn_1850.wav\n"
     ]
    },
    {
     "name": "stderr",
     "output_type": "stream",
     "text": [
      "                                                                                                                                                                    \r"
     ]
    },
    {
     "name": "stdout",
     "output_type": "stream",
     "text": [
      "MoviePy - Done.\n",
      "MoviePy - Writing audio in A:\\AI DB\\LSPD\\Audio\\porn\\porn_1856.wav\n"
     ]
    },
    {
     "name": "stderr",
     "output_type": "stream",
     "text": [
      "                                                                                                                                                                    \r"
     ]
    },
    {
     "name": "stdout",
     "output_type": "stream",
     "text": [
      "MoviePy - Done.\n",
      "MoviePy - Writing audio in A:\\AI DB\\LSPD\\Audio\\porn\\porn_1858.wav\n"
     ]
    },
    {
     "name": "stderr",
     "output_type": "stream",
     "text": [
      "                                                                                                                                                                    \r"
     ]
    },
    {
     "name": "stdout",
     "output_type": "stream",
     "text": [
      "MoviePy - Done.\n",
      "MoviePy - Writing audio in A:\\AI DB\\LSPD\\Audio\\porn\\porn_1861.wav\n"
     ]
    },
    {
     "name": "stderr",
     "output_type": "stream",
     "text": [
      "                                                                                                                                                                    \r"
     ]
    },
    {
     "name": "stdout",
     "output_type": "stream",
     "text": [
      "MoviePy - Done.\n",
      "MoviePy - Writing audio in A:\\AI DB\\LSPD\\Audio\\porn\\porn_1867.wav\n"
     ]
    },
    {
     "name": "stderr",
     "output_type": "stream",
     "text": [
      "                                                                                                                                                                    \r"
     ]
    },
    {
     "name": "stdout",
     "output_type": "stream",
     "text": [
      "MoviePy - Done.\n",
      "MoviePy - Writing audio in A:\\AI DB\\LSPD\\Audio\\porn\\porn_1871.wav\n"
     ]
    },
    {
     "name": "stderr",
     "output_type": "stream",
     "text": [
      "                                                                                                                                                                    \r"
     ]
    },
    {
     "name": "stdout",
     "output_type": "stream",
     "text": [
      "MoviePy - Done.\n",
      "MoviePy - Writing audio in A:\\AI DB\\LSPD\\Audio\\porn\\porn_1872.wav\n"
     ]
    },
    {
     "name": "stderr",
     "output_type": "stream",
     "text": [
      "                                                                                                                                                                    "
     ]
    },
    {
     "name": "stdout",
     "output_type": "stream",
     "text": [
      "MoviePy - Done.\n"
     ]
    },
    {
     "name": "stderr",
     "output_type": "stream",
     "text": [
      "\r"
     ]
    },
    {
     "name": "stdout",
     "output_type": "stream",
     "text": [
      "MoviePy - Writing audio in A:\\AI DB\\LSPD\\Audio\\porn\\porn_1874.wav\n"
     ]
    },
    {
     "name": "stderr",
     "output_type": "stream",
     "text": [
      "                                                                                                                                                                    \r"
     ]
    },
    {
     "name": "stdout",
     "output_type": "stream",
     "text": [
      "MoviePy - Done.\n",
      "MoviePy - Writing audio in A:\\AI DB\\LSPD\\Audio\\porn\\porn_1876.wav\n"
     ]
    },
    {
     "name": "stderr",
     "output_type": "stream",
     "text": [
      "                                                                                                                                                                    \r"
     ]
    },
    {
     "name": "stdout",
     "output_type": "stream",
     "text": [
      "MoviePy - Done.\n",
      "MoviePy - Writing audio in A:\\AI DB\\LSPD\\Audio\\porn\\porn_1877.wav\n"
     ]
    },
    {
     "name": "stderr",
     "output_type": "stream",
     "text": [
      "                                                                                                                                                                    \r"
     ]
    },
    {
     "name": "stdout",
     "output_type": "stream",
     "text": [
      "MoviePy - Done.\n",
      "MoviePy - Writing audio in A:\\AI DB\\LSPD\\Audio\\porn\\porn_1884.wav\n"
     ]
    },
    {
     "name": "stderr",
     "output_type": "stream",
     "text": [
      "                                                                                                                                                                    \r"
     ]
    },
    {
     "name": "stdout",
     "output_type": "stream",
     "text": [
      "MoviePy - Done.\n",
      "MoviePy - Writing audio in A:\\AI DB\\LSPD\\Audio\\porn\\porn_1887.wav\n"
     ]
    },
    {
     "name": "stderr",
     "output_type": "stream",
     "text": [
      "                                                                                                                                                                    \r"
     ]
    },
    {
     "name": "stdout",
     "output_type": "stream",
     "text": [
      "MoviePy - Done.\n",
      "MoviePy - Writing audio in A:\\AI DB\\LSPD\\Audio\\porn\\porn_1888.wav\n"
     ]
    },
    {
     "name": "stderr",
     "output_type": "stream",
     "text": [
      "                                                                                                                                                                    \r"
     ]
    },
    {
     "name": "stdout",
     "output_type": "stream",
     "text": [
      "MoviePy - Done.\n",
      "MoviePy - Writing audio in A:\\AI DB\\LSPD\\Audio\\porn\\porn_1889.wav\n"
     ]
    },
    {
     "name": "stderr",
     "output_type": "stream",
     "text": [
      "                                                                                                                                                                    \r"
     ]
    },
    {
     "name": "stdout",
     "output_type": "stream",
     "text": [
      "MoviePy - Done.\n",
      "MoviePy - Writing audio in A:\\AI DB\\LSPD\\Audio\\porn\\porn_1890.wav\n"
     ]
    },
    {
     "name": "stderr",
     "output_type": "stream",
     "text": [
      "                                                                                                                                                                    \r"
     ]
    },
    {
     "name": "stdout",
     "output_type": "stream",
     "text": [
      "MoviePy - Done.\n",
      "MoviePy - Writing audio in A:\\AI DB\\LSPD\\Audio\\porn\\porn_1896.wav\n"
     ]
    },
    {
     "name": "stderr",
     "output_type": "stream",
     "text": [
      "                                                                                                                                                                    \r"
     ]
    },
    {
     "name": "stdout",
     "output_type": "stream",
     "text": [
      "MoviePy - Done.\n",
      "MoviePy - Writing audio in A:\\AI DB\\LSPD\\Audio\\porn\\porn_19.wav\n"
     ]
    },
    {
     "name": "stderr",
     "output_type": "stream",
     "text": [
      "                                                                                                                                                                    \r"
     ]
    },
    {
     "name": "stdout",
     "output_type": "stream",
     "text": [
      "MoviePy - Done.\n",
      "MoviePy - Writing audio in A:\\AI DB\\LSPD\\Audio\\porn\\porn_190.wav\n"
     ]
    },
    {
     "name": "stderr",
     "output_type": "stream",
     "text": [
      "                                                                                                                                                                    \r"
     ]
    },
    {
     "name": "stdout",
     "output_type": "stream",
     "text": [
      "MoviePy - Done.\n",
      "MoviePy - Writing audio in A:\\AI DB\\LSPD\\Audio\\porn\\porn_1900.wav\n"
     ]
    },
    {
     "name": "stderr",
     "output_type": "stream",
     "text": [
      "                                                                                                                                                                    \r"
     ]
    },
    {
     "name": "stdout",
     "output_type": "stream",
     "text": [
      "MoviePy - Done.\n",
      "MoviePy - Writing audio in A:\\AI DB\\LSPD\\Audio\\porn\\porn_1901.wav\n"
     ]
    },
    {
     "name": "stderr",
     "output_type": "stream",
     "text": [
      "                                                                                                                                                                    \r"
     ]
    },
    {
     "name": "stdout",
     "output_type": "stream",
     "text": [
      "MoviePy - Done.\n",
      "MoviePy - Writing audio in A:\\AI DB\\LSPD\\Audio\\porn\\porn_1905.wav\n"
     ]
    },
    {
     "name": "stderr",
     "output_type": "stream",
     "text": [
      "                                                                                                                                                                    \r"
     ]
    },
    {
     "name": "stdout",
     "output_type": "stream",
     "text": [
      "MoviePy - Done.\n",
      "MoviePy - Writing audio in A:\\AI DB\\LSPD\\Audio\\porn\\porn_1908.wav\n"
     ]
    },
    {
     "name": "stderr",
     "output_type": "stream",
     "text": [
      "                                                                                                                                                                    \r"
     ]
    },
    {
     "name": "stdout",
     "output_type": "stream",
     "text": [
      "MoviePy - Done.\n",
      "MoviePy - Writing audio in A:\\AI DB\\LSPD\\Audio\\porn\\porn_1909.wav\n"
     ]
    },
    {
     "name": "stderr",
     "output_type": "stream",
     "text": [
      "                                                                                                                                                                    \r"
     ]
    },
    {
     "name": "stdout",
     "output_type": "stream",
     "text": [
      "MoviePy - Done.\n",
      "MoviePy - Writing audio in A:\\AI DB\\LSPD\\Audio\\porn\\porn_1910.wav\n"
     ]
    },
    {
     "name": "stderr",
     "output_type": "stream",
     "text": [
      "                                                                                                                                                                    \r"
     ]
    },
    {
     "name": "stdout",
     "output_type": "stream",
     "text": [
      "MoviePy - Done.\n",
      "MoviePy - Writing audio in A:\\AI DB\\LSPD\\Audio\\porn\\porn_1911.wav\n"
     ]
    },
    {
     "name": "stderr",
     "output_type": "stream",
     "text": [
      "                                                                                                                                                                    \r"
     ]
    },
    {
     "name": "stdout",
     "output_type": "stream",
     "text": [
      "MoviePy - Done.\n",
      "MoviePy - Writing audio in A:\\AI DB\\LSPD\\Audio\\porn\\porn_1914.wav\n"
     ]
    },
    {
     "name": "stderr",
     "output_type": "stream",
     "text": [
      "                                                                                                                                                                    \r"
     ]
    },
    {
     "name": "stdout",
     "output_type": "stream",
     "text": [
      "MoviePy - Done.\n",
      "MoviePy - Writing audio in A:\\AI DB\\LSPD\\Audio\\porn\\porn_192.wav\n"
     ]
    },
    {
     "name": "stderr",
     "output_type": "stream",
     "text": [
      "                                                                                                                                                                    "
     ]
    },
    {
     "name": "stdout",
     "output_type": "stream",
     "text": [
      "MoviePy - Done.\n"
     ]
    },
    {
     "name": "stderr",
     "output_type": "stream",
     "text": [
      "\r"
     ]
    },
    {
     "name": "stdout",
     "output_type": "stream",
     "text": [
      "MoviePy - Writing audio in A:\\AI DB\\LSPD\\Audio\\porn\\porn_1921.wav\n"
     ]
    },
    {
     "name": "stderr",
     "output_type": "stream",
     "text": [
      "                                                                                                                                                                    \r"
     ]
    },
    {
     "name": "stdout",
     "output_type": "stream",
     "text": [
      "MoviePy - Done.\n",
      "MoviePy - Writing audio in A:\\AI DB\\LSPD\\Audio\\porn\\porn_193.wav\n"
     ]
    },
    {
     "name": "stderr",
     "output_type": "stream",
     "text": [
      "                                                                                                                                                                    \r"
     ]
    },
    {
     "name": "stdout",
     "output_type": "stream",
     "text": [
      "MoviePy - Done.\n",
      "MoviePy - Writing audio in A:\\AI DB\\LSPD\\Audio\\porn\\porn_1934.wav\n"
     ]
    },
    {
     "name": "stderr",
     "output_type": "stream",
     "text": [
      "                                                                                                                                                                    \r"
     ]
    },
    {
     "name": "stdout",
     "output_type": "stream",
     "text": [
      "MoviePy - Done.\n",
      "MoviePy - Writing audio in A:\\AI DB\\LSPD\\Audio\\porn\\porn_1935.wav\n"
     ]
    },
    {
     "name": "stderr",
     "output_type": "stream",
     "text": [
      "                                                                                                                                                                    \r"
     ]
    },
    {
     "name": "stdout",
     "output_type": "stream",
     "text": [
      "MoviePy - Done.\n",
      "MoviePy - Writing audio in A:\\AI DB\\LSPD\\Audio\\porn\\porn_1939.wav\n"
     ]
    },
    {
     "name": "stderr",
     "output_type": "stream",
     "text": [
      "                                                                                                                                                                    \r"
     ]
    },
    {
     "name": "stdout",
     "output_type": "stream",
     "text": [
      "MoviePy - Done.\n",
      "MoviePy - Writing audio in A:\\AI DB\\LSPD\\Audio\\porn\\porn_194.wav\n"
     ]
    },
    {
     "name": "stderr",
     "output_type": "stream",
     "text": [
      "                                                                                                                                                                    \r"
     ]
    },
    {
     "name": "stdout",
     "output_type": "stream",
     "text": [
      "MoviePy - Done.\n",
      "MoviePy - Writing audio in A:\\AI DB\\LSPD\\Audio\\porn\\porn_1941.wav\n"
     ]
    },
    {
     "name": "stderr",
     "output_type": "stream",
     "text": [
      "                                                                                                                                                                    \r"
     ]
    },
    {
     "name": "stdout",
     "output_type": "stream",
     "text": [
      "MoviePy - Done.\n",
      "MoviePy - Writing audio in A:\\AI DB\\LSPD\\Audio\\porn\\porn_1943.wav\n"
     ]
    },
    {
     "name": "stderr",
     "output_type": "stream",
     "text": [
      "                                                                                                                                                                    \r"
     ]
    },
    {
     "name": "stdout",
     "output_type": "stream",
     "text": [
      "MoviePy - Done.\n",
      "MoviePy - Writing audio in A:\\AI DB\\LSPD\\Audio\\porn\\porn_1944.wav\n"
     ]
    },
    {
     "name": "stderr",
     "output_type": "stream",
     "text": [
      "                                                                                                                                                                    \r"
     ]
    },
    {
     "name": "stdout",
     "output_type": "stream",
     "text": [
      "MoviePy - Done.\n",
      "MoviePy - Writing audio in A:\\AI DB\\LSPD\\Audio\\porn\\porn_1946.wav\n"
     ]
    },
    {
     "name": "stderr",
     "output_type": "stream",
     "text": [
      "                                                                                                                                                                    \r"
     ]
    },
    {
     "name": "stdout",
     "output_type": "stream",
     "text": [
      "MoviePy - Done.\n",
      "MoviePy - Writing audio in A:\\AI DB\\LSPD\\Audio\\porn\\porn_195.wav\n"
     ]
    },
    {
     "name": "stderr",
     "output_type": "stream",
     "text": [
      "                                                                                                                                                                    \r"
     ]
    },
    {
     "name": "stdout",
     "output_type": "stream",
     "text": [
      "MoviePy - Done.\n",
      "MoviePy - Writing audio in A:\\AI DB\\LSPD\\Audio\\porn\\porn_1950.wav\n"
     ]
    },
    {
     "name": "stderr",
     "output_type": "stream",
     "text": [
      "                                                                                                                                                                    \r"
     ]
    },
    {
     "name": "stdout",
     "output_type": "stream",
     "text": [
      "MoviePy - Done.\n",
      "MoviePy - Writing audio in A:\\AI DB\\LSPD\\Audio\\porn\\porn_1951.wav\n"
     ]
    },
    {
     "name": "stderr",
     "output_type": "stream",
     "text": [
      "                                                                                                                                                                    \r"
     ]
    },
    {
     "name": "stdout",
     "output_type": "stream",
     "text": [
      "MoviePy - Done.\n",
      "MoviePy - Writing audio in A:\\AI DB\\LSPD\\Audio\\porn\\porn_1955.wav\n"
     ]
    },
    {
     "name": "stderr",
     "output_type": "stream",
     "text": [
      "                                                                                                                                                                    \r"
     ]
    },
    {
     "name": "stdout",
     "output_type": "stream",
     "text": [
      "MoviePy - Done.\n",
      "MoviePy - Writing audio in A:\\AI DB\\LSPD\\Audio\\porn\\porn_1956.wav\n"
     ]
    },
    {
     "name": "stderr",
     "output_type": "stream",
     "text": [
      "                                                                                                                                                                    \r"
     ]
    },
    {
     "name": "stdout",
     "output_type": "stream",
     "text": [
      "MoviePy - Done.\n",
      "MoviePy - Writing audio in A:\\AI DB\\LSPD\\Audio\\porn\\porn_1957.wav\n"
     ]
    },
    {
     "name": "stderr",
     "output_type": "stream",
     "text": [
      "                                                                                                                                                                    \r"
     ]
    },
    {
     "name": "stdout",
     "output_type": "stream",
     "text": [
      "MoviePy - Done.\n",
      "MoviePy - Writing audio in A:\\AI DB\\LSPD\\Audio\\porn\\porn_1958.wav\n"
     ]
    },
    {
     "name": "stderr",
     "output_type": "stream",
     "text": [
      "                                                                                                                                                                    \r"
     ]
    },
    {
     "name": "stdout",
     "output_type": "stream",
     "text": [
      "MoviePy - Done.\n",
      "MoviePy - Writing audio in A:\\AI DB\\LSPD\\Audio\\porn\\porn_196.wav\n"
     ]
    },
    {
     "name": "stderr",
     "output_type": "stream",
     "text": [
      "                                                                                                                                                                    \r"
     ]
    },
    {
     "name": "stdout",
     "output_type": "stream",
     "text": [
      "MoviePy - Done.\n",
      "MoviePy - Writing audio in A:\\AI DB\\LSPD\\Audio\\porn\\porn_1961.wav\n"
     ]
    },
    {
     "name": "stderr",
     "output_type": "stream",
     "text": [
      "                                                                                                                                                                    \r"
     ]
    },
    {
     "name": "stdout",
     "output_type": "stream",
     "text": [
      "MoviePy - Done.\n",
      "MoviePy - Writing audio in A:\\AI DB\\LSPD\\Audio\\porn\\porn_1962.wav\n"
     ]
    },
    {
     "name": "stderr",
     "output_type": "stream",
     "text": [
      "                                                                                                                                                                    \r"
     ]
    },
    {
     "name": "stdout",
     "output_type": "stream",
     "text": [
      "MoviePy - Done.\n",
      "MoviePy - Writing audio in A:\\AI DB\\LSPD\\Audio\\porn\\porn_1963.wav\n"
     ]
    },
    {
     "name": "stderr",
     "output_type": "stream",
     "text": [
      "                                                                                                                                                                    \r"
     ]
    },
    {
     "name": "stdout",
     "output_type": "stream",
     "text": [
      "MoviePy - Done.\n",
      "MoviePy - Writing audio in A:\\AI DB\\LSPD\\Audio\\porn\\porn_1964.wav\n"
     ]
    },
    {
     "name": "stderr",
     "output_type": "stream",
     "text": [
      "                                                                                                                                                                    \r"
     ]
    },
    {
     "name": "stdout",
     "output_type": "stream",
     "text": [
      "MoviePy - Done.\n",
      "MoviePy - Writing audio in A:\\AI DB\\LSPD\\Audio\\porn\\porn_1966.wav\n"
     ]
    },
    {
     "name": "stderr",
     "output_type": "stream",
     "text": [
      "                                                                                                                                                                    \r"
     ]
    },
    {
     "name": "stdout",
     "output_type": "stream",
     "text": [
      "MoviePy - Done.\n",
      "MoviePy - Writing audio in A:\\AI DB\\LSPD\\Audio\\porn\\porn_1968.wav\n"
     ]
    },
    {
     "name": "stderr",
     "output_type": "stream",
     "text": [
      "                                                                                                                                                                    "
     ]
    },
    {
     "name": "stdout",
     "output_type": "stream",
     "text": [
      "MoviePy - Done.\n"
     ]
    },
    {
     "name": "stderr",
     "output_type": "stream",
     "text": [
      "\r"
     ]
    },
    {
     "name": "stdout",
     "output_type": "stream",
     "text": [
      "MoviePy - Writing audio in A:\\AI DB\\LSPD\\Audio\\porn\\porn_1974.wav\n"
     ]
    },
    {
     "name": "stderr",
     "output_type": "stream",
     "text": [
      "                                                                                                                                                                    \r"
     ]
    },
    {
     "name": "stdout",
     "output_type": "stream",
     "text": [
      "MoviePy - Done.\n",
      "MoviePy - Writing audio in A:\\AI DB\\LSPD\\Audio\\porn\\porn_1975.wav\n"
     ]
    },
    {
     "name": "stderr",
     "output_type": "stream",
     "text": [
      "                                                                                                                                                                    \r"
     ]
    },
    {
     "name": "stdout",
     "output_type": "stream",
     "text": [
      "MoviePy - Done.\n",
      "MoviePy - Writing audio in A:\\AI DB\\LSPD\\Audio\\porn\\porn_198.wav\n"
     ]
    },
    {
     "name": "stderr",
     "output_type": "stream",
     "text": [
      "                                                                                                                                                                    "
     ]
    },
    {
     "name": "stdout",
     "output_type": "stream",
     "text": [
      "MoviePy - Done.\n"
     ]
    },
    {
     "name": "stderr",
     "output_type": "stream",
     "text": [
      "\r"
     ]
    },
    {
     "name": "stdout",
     "output_type": "stream",
     "text": [
      "MoviePy - Writing audio in A:\\AI DB\\LSPD\\Audio\\porn\\porn_1987.wav\n"
     ]
    },
    {
     "name": "stderr",
     "output_type": "stream",
     "text": [
      "                                                                                                                                                                    \r"
     ]
    },
    {
     "name": "stdout",
     "output_type": "stream",
     "text": [
      "MoviePy - Done.\n",
      "MoviePy - Writing audio in A:\\AI DB\\LSPD\\Audio\\porn\\porn_1988.wav\n"
     ]
    },
    {
     "name": "stderr",
     "output_type": "stream",
     "text": [
      "                                                                                                                                                                    \r"
     ]
    },
    {
     "name": "stdout",
     "output_type": "stream",
     "text": [
      "MoviePy - Done.\n",
      "MoviePy - Writing audio in A:\\AI DB\\LSPD\\Audio\\porn\\porn_1989.wav\n"
     ]
    },
    {
     "name": "stderr",
     "output_type": "stream",
     "text": [
      "                                                                                                                                                                    \r"
     ]
    },
    {
     "name": "stdout",
     "output_type": "stream",
     "text": [
      "MoviePy - Done.\n",
      "MoviePy - Writing audio in A:\\AI DB\\LSPD\\Audio\\porn\\porn_199.wav\n"
     ]
    },
    {
     "name": "stderr",
     "output_type": "stream",
     "text": [
      "                                                                                                                                                                    \r"
     ]
    },
    {
     "name": "stdout",
     "output_type": "stream",
     "text": [
      "MoviePy - Done.\n",
      "MoviePy - Writing audio in A:\\AI DB\\LSPD\\Audio\\porn\\porn_1990.wav\n"
     ]
    },
    {
     "name": "stderr",
     "output_type": "stream",
     "text": [
      "                                                                                                                                                                    \r"
     ]
    },
    {
     "name": "stdout",
     "output_type": "stream",
     "text": [
      "MoviePy - Done.\n",
      "MoviePy - Writing audio in A:\\AI DB\\LSPD\\Audio\\porn\\porn_1993.wav\n"
     ]
    },
    {
     "name": "stderr",
     "output_type": "stream",
     "text": [
      "                                                                                                                                                                    \r"
     ]
    },
    {
     "name": "stdout",
     "output_type": "stream",
     "text": [
      "MoviePy - Done.\n",
      "MoviePy - Writing audio in A:\\AI DB\\LSPD\\Audio\\porn\\porn_1994.wav\n"
     ]
    },
    {
     "name": "stderr",
     "output_type": "stream",
     "text": [
      "                                                                                                                                                                    \r"
     ]
    },
    {
     "name": "stdout",
     "output_type": "stream",
     "text": [
      "MoviePy - Done.\n",
      "MoviePy - Writing audio in A:\\AI DB\\LSPD\\Audio\\porn\\porn_1997.wav\n"
     ]
    },
    {
     "name": "stderr",
     "output_type": "stream",
     "text": [
      "                                                                                                                                                                    \r"
     ]
    },
    {
     "name": "stdout",
     "output_type": "stream",
     "text": [
      "MoviePy - Done.\n",
      "MoviePy - Writing audio in A:\\AI DB\\LSPD\\Audio\\porn\\porn_2000.wav\n"
     ]
    },
    {
     "name": "stderr",
     "output_type": "stream",
     "text": [
      "                                                                                                                                                                    \r"
     ]
    },
    {
     "name": "stdout",
     "output_type": "stream",
     "text": [
      "MoviePy - Done.\n",
      "MoviePy - Writing audio in A:\\AI DB\\LSPD\\Audio\\porn\\porn_203.wav\n"
     ]
    },
    {
     "name": "stderr",
     "output_type": "stream",
     "text": [
      "                                                                                                                                                                    \r"
     ]
    },
    {
     "name": "stdout",
     "output_type": "stream",
     "text": [
      "MoviePy - Done.\n",
      "MoviePy - Writing audio in A:\\AI DB\\LSPD\\Audio\\porn\\porn_204.wav\n"
     ]
    },
    {
     "name": "stderr",
     "output_type": "stream",
     "text": [
      "                                                                                                                                                                    \r"
     ]
    },
    {
     "name": "stdout",
     "output_type": "stream",
     "text": [
      "MoviePy - Done.\n",
      "MoviePy - Writing audio in A:\\AI DB\\LSPD\\Audio\\porn\\porn_209.wav\n"
     ]
    },
    {
     "name": "stderr",
     "output_type": "stream",
     "text": [
      "                                                                                                                                                                    \r"
     ]
    },
    {
     "name": "stdout",
     "output_type": "stream",
     "text": [
      "MoviePy - Done.\n",
      "MoviePy - Writing audio in A:\\AI DB\\LSPD\\Audio\\porn\\porn_21.wav\n"
     ]
    },
    {
     "name": "stderr",
     "output_type": "stream",
     "text": [
      "                                                                                                                                                                    \r"
     ]
    },
    {
     "name": "stdout",
     "output_type": "stream",
     "text": [
      "MoviePy - Done.\n",
      "MoviePy - Writing audio in A:\\AI DB\\LSPD\\Audio\\porn\\porn_211.wav\n"
     ]
    },
    {
     "name": "stderr",
     "output_type": "stream",
     "text": [
      "                                                                                                                                                                    \r"
     ]
    },
    {
     "name": "stdout",
     "output_type": "stream",
     "text": [
      "MoviePy - Done.\n",
      "MoviePy - Writing audio in A:\\AI DB\\LSPD\\Audio\\porn\\porn_213.wav\n"
     ]
    },
    {
     "name": "stderr",
     "output_type": "stream",
     "text": [
      "                                                                                                                                                                    \r"
     ]
    },
    {
     "name": "stdout",
     "output_type": "stream",
     "text": [
      "MoviePy - Done.\n",
      "MoviePy - Writing audio in A:\\AI DB\\LSPD\\Audio\\porn\\porn_217.wav\n"
     ]
    },
    {
     "name": "stderr",
     "output_type": "stream",
     "text": [
      "                                                                                                                                                                    \r"
     ]
    },
    {
     "name": "stdout",
     "output_type": "stream",
     "text": [
      "MoviePy - Done.\n",
      "MoviePy - Writing audio in A:\\AI DB\\LSPD\\Audio\\porn\\porn_22.wav\n"
     ]
    },
    {
     "name": "stderr",
     "output_type": "stream",
     "text": [
      "                                                                                                                                                                    \r"
     ]
    },
    {
     "name": "stdout",
     "output_type": "stream",
     "text": [
      "MoviePy - Done.\n",
      "MoviePy - Writing audio in A:\\AI DB\\LSPD\\Audio\\porn\\porn_221.wav\n"
     ]
    },
    {
     "name": "stderr",
     "output_type": "stream",
     "text": [
      "                                                                                                                                                                    \r"
     ]
    },
    {
     "name": "stdout",
     "output_type": "stream",
     "text": [
      "MoviePy - Done.\n",
      "MoviePy - Writing audio in A:\\AI DB\\LSPD\\Audio\\porn\\porn_224.wav\n"
     ]
    },
    {
     "name": "stderr",
     "output_type": "stream",
     "text": [
      "                                                                                                                                                                    \r"
     ]
    },
    {
     "name": "stdout",
     "output_type": "stream",
     "text": [
      "MoviePy - Done.\n",
      "MoviePy - Writing audio in A:\\AI DB\\LSPD\\Audio\\porn\\porn_227.wav\n"
     ]
    },
    {
     "name": "stderr",
     "output_type": "stream",
     "text": [
      "                                                                                                                                                                    \r"
     ]
    },
    {
     "name": "stdout",
     "output_type": "stream",
     "text": [
      "MoviePy - Done.\n",
      "MoviePy - Writing audio in A:\\AI DB\\LSPD\\Audio\\porn\\porn_23.wav\n"
     ]
    },
    {
     "name": "stderr",
     "output_type": "stream",
     "text": [
      "                                                                                                                                                                    \r"
     ]
    },
    {
     "name": "stdout",
     "output_type": "stream",
     "text": [
      "MoviePy - Done.\n",
      "MoviePy - Writing audio in A:\\AI DB\\LSPD\\Audio\\porn\\porn_232.wav\n"
     ]
    },
    {
     "name": "stderr",
     "output_type": "stream",
     "text": [
      "                                                                                                                                                                    \r"
     ]
    },
    {
     "name": "stdout",
     "output_type": "stream",
     "text": [
      "MoviePy - Done.\n",
      "MoviePy - Writing audio in A:\\AI DB\\LSPD\\Audio\\porn\\porn_234.wav\n"
     ]
    },
    {
     "name": "stderr",
     "output_type": "stream",
     "text": [
      "                                                                                                                                                                    \r"
     ]
    },
    {
     "name": "stdout",
     "output_type": "stream",
     "text": [
      "MoviePy - Done.\n",
      "MoviePy - Writing audio in A:\\AI DB\\LSPD\\Audio\\porn\\porn_236.wav\n"
     ]
    },
    {
     "name": "stderr",
     "output_type": "stream",
     "text": [
      "                                                                                                                                                                    \r"
     ]
    },
    {
     "name": "stdout",
     "output_type": "stream",
     "text": [
      "MoviePy - Done.\n",
      "MoviePy - Writing audio in A:\\AI DB\\LSPD\\Audio\\porn\\porn_237.wav\n"
     ]
    },
    {
     "name": "stderr",
     "output_type": "stream",
     "text": [
      "                                                                                                                                                                    \r"
     ]
    },
    {
     "name": "stdout",
     "output_type": "stream",
     "text": [
      "MoviePy - Done.\n",
      "MoviePy - Writing audio in A:\\AI DB\\LSPD\\Audio\\porn\\porn_238.wav\n"
     ]
    },
    {
     "name": "stderr",
     "output_type": "stream",
     "text": [
      "                                                                                                                                                                    \r"
     ]
    },
    {
     "name": "stdout",
     "output_type": "stream",
     "text": [
      "MoviePy - Done.\n",
      "MoviePy - Writing audio in A:\\AI DB\\LSPD\\Audio\\porn\\porn_24.wav\n"
     ]
    },
    {
     "name": "stderr",
     "output_type": "stream",
     "text": [
      "                                                                                                                                                                    \r"
     ]
    },
    {
     "name": "stdout",
     "output_type": "stream",
     "text": [
      "MoviePy - Done.\n",
      "MoviePy - Writing audio in A:\\AI DB\\LSPD\\Audio\\porn\\porn_240.wav\n"
     ]
    },
    {
     "name": "stderr",
     "output_type": "stream",
     "text": [
      "                                                                                                                                                                    \r"
     ]
    },
    {
     "name": "stdout",
     "output_type": "stream",
     "text": [
      "MoviePy - Done.\n",
      "MoviePy - Writing audio in A:\\AI DB\\LSPD\\Audio\\porn\\porn_242.wav\n"
     ]
    },
    {
     "name": "stderr",
     "output_type": "stream",
     "text": [
      "                                                                                                                                                                    \r"
     ]
    },
    {
     "name": "stdout",
     "output_type": "stream",
     "text": [
      "MoviePy - Done.\n",
      "MoviePy - Writing audio in A:\\AI DB\\LSPD\\Audio\\porn\\porn_243.wav\n"
     ]
    },
    {
     "name": "stderr",
     "output_type": "stream",
     "text": [
      "                                                                                                                                                                    \r"
     ]
    },
    {
     "name": "stdout",
     "output_type": "stream",
     "text": [
      "MoviePy - Done.\n",
      "MoviePy - Writing audio in A:\\AI DB\\LSPD\\Audio\\porn\\porn_244.wav\n"
     ]
    },
    {
     "name": "stderr",
     "output_type": "stream",
     "text": [
      "                                                                                                                                                                    \r"
     ]
    },
    {
     "name": "stdout",
     "output_type": "stream",
     "text": [
      "MoviePy - Done.\n",
      "MoviePy - Writing audio in A:\\AI DB\\LSPD\\Audio\\porn\\porn_245.wav\n"
     ]
    },
    {
     "name": "stderr",
     "output_type": "stream",
     "text": [
      "                                                                                                                                                                    \r"
     ]
    },
    {
     "name": "stdout",
     "output_type": "stream",
     "text": [
      "MoviePy - Done.\n",
      "MoviePy - Writing audio in A:\\AI DB\\LSPD\\Audio\\porn\\porn_247.wav\n"
     ]
    },
    {
     "name": "stderr",
     "output_type": "stream",
     "text": [
      "                                                                                                                                                                    \r"
     ]
    },
    {
     "name": "stdout",
     "output_type": "stream",
     "text": [
      "MoviePy - Done.\n",
      "MoviePy - Writing audio in A:\\AI DB\\LSPD\\Audio\\porn\\porn_248.wav\n"
     ]
    },
    {
     "name": "stderr",
     "output_type": "stream",
     "text": [
      "                                                                                                                                                                    \r"
     ]
    },
    {
     "name": "stdout",
     "output_type": "stream",
     "text": [
      "MoviePy - Done.\n",
      "MoviePy - Writing audio in A:\\AI DB\\LSPD\\Audio\\porn\\porn_25.wav\n"
     ]
    },
    {
     "name": "stderr",
     "output_type": "stream",
     "text": [
      "                                                                                                                                                                    \r"
     ]
    },
    {
     "name": "stdout",
     "output_type": "stream",
     "text": [
      "MoviePy - Done.\n",
      "MoviePy - Writing audio in A:\\AI DB\\LSPD\\Audio\\porn\\porn_250.wav\n"
     ]
    },
    {
     "name": "stderr",
     "output_type": "stream",
     "text": [
      "                                                                                                                                                                    \r"
     ]
    },
    {
     "name": "stdout",
     "output_type": "stream",
     "text": [
      "MoviePy - Done.\n",
      "MoviePy - Writing audio in A:\\AI DB\\LSPD\\Audio\\porn\\porn_251.wav\n"
     ]
    },
    {
     "name": "stderr",
     "output_type": "stream",
     "text": [
      "                                                                                                                                                                    \r"
     ]
    },
    {
     "name": "stdout",
     "output_type": "stream",
     "text": [
      "MoviePy - Done.\n",
      "MoviePy - Writing audio in A:\\AI DB\\LSPD\\Audio\\porn\\porn_252.wav\n"
     ]
    },
    {
     "name": "stderr",
     "output_type": "stream",
     "text": [
      "                                                                                                                                                                    \r"
     ]
    },
    {
     "name": "stdout",
     "output_type": "stream",
     "text": [
      "MoviePy - Done.\n",
      "MoviePy - Writing audio in A:\\AI DB\\LSPD\\Audio\\porn\\porn_253.wav\n"
     ]
    },
    {
     "name": "stderr",
     "output_type": "stream",
     "text": [
      "                                                                                                                                                                    \r"
     ]
    },
    {
     "name": "stdout",
     "output_type": "stream",
     "text": [
      "MoviePy - Done.\n",
      "MoviePy - Writing audio in A:\\AI DB\\LSPD\\Audio\\porn\\porn_254.wav\n"
     ]
    },
    {
     "name": "stderr",
     "output_type": "stream",
     "text": [
      "                                                                                                                                                                    \r"
     ]
    },
    {
     "name": "stdout",
     "output_type": "stream",
     "text": [
      "MoviePy - Done.\n",
      "MoviePy - Writing audio in A:\\AI DB\\LSPD\\Audio\\porn\\porn_255.wav\n"
     ]
    },
    {
     "name": "stderr",
     "output_type": "stream",
     "text": [
      "                                                                                                                                                                    \r"
     ]
    },
    {
     "name": "stdout",
     "output_type": "stream",
     "text": [
      "MoviePy - Done.\n",
      "MoviePy - Writing audio in A:\\AI DB\\LSPD\\Audio\\porn\\porn_256.wav\n"
     ]
    },
    {
     "name": "stderr",
     "output_type": "stream",
     "text": [
      "                                                                                                                                                                    \r"
     ]
    },
    {
     "name": "stdout",
     "output_type": "stream",
     "text": [
      "MoviePy - Done.\n",
      "MoviePy - Writing audio in A:\\AI DB\\LSPD\\Audio\\porn\\porn_257.wav\n"
     ]
    },
    {
     "name": "stderr",
     "output_type": "stream",
     "text": [
      "                                                                                                                                                                    \r"
     ]
    },
    {
     "name": "stdout",
     "output_type": "stream",
     "text": [
      "MoviePy - Done.\n",
      "MoviePy - Writing audio in A:\\AI DB\\LSPD\\Audio\\porn\\porn_258.wav\n"
     ]
    },
    {
     "name": "stderr",
     "output_type": "stream",
     "text": [
      "                                                                                                                                                                    \r"
     ]
    },
    {
     "name": "stdout",
     "output_type": "stream",
     "text": [
      "MoviePy - Done.\n",
      "MoviePy - Writing audio in A:\\AI DB\\LSPD\\Audio\\porn\\porn_259.wav\n"
     ]
    },
    {
     "name": "stderr",
     "output_type": "stream",
     "text": [
      "                                                                                                                                                                    \r"
     ]
    },
    {
     "name": "stdout",
     "output_type": "stream",
     "text": [
      "MoviePy - Done.\n",
      "MoviePy - Writing audio in A:\\AI DB\\LSPD\\Audio\\porn\\porn_26.wav\n"
     ]
    },
    {
     "name": "stderr",
     "output_type": "stream",
     "text": [
      "                                                                                                                                                                    \r"
     ]
    },
    {
     "name": "stdout",
     "output_type": "stream",
     "text": [
      "MoviePy - Done.\n",
      "MoviePy - Writing audio in A:\\AI DB\\LSPD\\Audio\\porn\\porn_261.wav\n"
     ]
    },
    {
     "name": "stderr",
     "output_type": "stream",
     "text": [
      "                                                                                                                                                                    \r"
     ]
    },
    {
     "name": "stdout",
     "output_type": "stream",
     "text": [
      "MoviePy - Done.\n",
      "MoviePy - Writing audio in A:\\AI DB\\LSPD\\Audio\\porn\\porn_263.wav\n"
     ]
    },
    {
     "name": "stderr",
     "output_type": "stream",
     "text": [
      "                                                                                                                                                                    \r"
     ]
    },
    {
     "name": "stdout",
     "output_type": "stream",
     "text": [
      "MoviePy - Done.\n",
      "MoviePy - Writing audio in A:\\AI DB\\LSPD\\Audio\\porn\\porn_264.wav\n"
     ]
    },
    {
     "name": "stderr",
     "output_type": "stream",
     "text": [
      "                                                                                                                                                                    \r"
     ]
    },
    {
     "name": "stdout",
     "output_type": "stream",
     "text": [
      "MoviePy - Done.\n",
      "MoviePy - Writing audio in A:\\AI DB\\LSPD\\Audio\\porn\\porn_265.wav\n"
     ]
    },
    {
     "name": "stderr",
     "output_type": "stream",
     "text": [
      "                                                                                                                                                                    \r"
     ]
    },
    {
     "name": "stdout",
     "output_type": "stream",
     "text": [
      "MoviePy - Done.\n",
      "MoviePy - Writing audio in A:\\AI DB\\LSPD\\Audio\\porn\\porn_267.wav\n"
     ]
    },
    {
     "name": "stderr",
     "output_type": "stream",
     "text": [
      "                                                                                                                                                                    \r"
     ]
    },
    {
     "name": "stdout",
     "output_type": "stream",
     "text": [
      "MoviePy - Done.\n",
      "MoviePy - Writing audio in A:\\AI DB\\LSPD\\Audio\\porn\\porn_269.wav\n"
     ]
    },
    {
     "name": "stderr",
     "output_type": "stream",
     "text": [
      "                                                                                                                                                                    \r"
     ]
    },
    {
     "name": "stdout",
     "output_type": "stream",
     "text": [
      "MoviePy - Done.\n",
      "MoviePy - Writing audio in A:\\AI DB\\LSPD\\Audio\\porn\\porn_27.wav\n"
     ]
    },
    {
     "name": "stderr",
     "output_type": "stream",
     "text": [
      "                                                                                                                                                                    \r"
     ]
    },
    {
     "name": "stdout",
     "output_type": "stream",
     "text": [
      "MoviePy - Done.\n",
      "MoviePy - Writing audio in A:\\AI DB\\LSPD\\Audio\\porn\\porn_270.wav\n"
     ]
    },
    {
     "name": "stderr",
     "output_type": "stream",
     "text": [
      "                                                                                                                                                                    \r"
     ]
    },
    {
     "name": "stdout",
     "output_type": "stream",
     "text": [
      "MoviePy - Done.\n",
      "MoviePy - Writing audio in A:\\AI DB\\LSPD\\Audio\\porn\\porn_271.wav\n"
     ]
    },
    {
     "name": "stderr",
     "output_type": "stream",
     "text": [
      "                                                                                                                                                                    \r"
     ]
    },
    {
     "name": "stdout",
     "output_type": "stream",
     "text": [
      "MoviePy - Done.\n",
      "MoviePy - Writing audio in A:\\AI DB\\LSPD\\Audio\\porn\\porn_272.wav\n"
     ]
    },
    {
     "name": "stderr",
     "output_type": "stream",
     "text": [
      "                                                                                                                                                                    \r"
     ]
    },
    {
     "name": "stdout",
     "output_type": "stream",
     "text": [
      "MoviePy - Done.\n",
      "MoviePy - Writing audio in A:\\AI DB\\LSPD\\Audio\\porn\\porn_273.wav\n"
     ]
    },
    {
     "name": "stderr",
     "output_type": "stream",
     "text": [
      "                                                                                                                                                                    \r"
     ]
    },
    {
     "name": "stdout",
     "output_type": "stream",
     "text": [
      "MoviePy - Done.\n",
      "MoviePy - Writing audio in A:\\AI DB\\LSPD\\Audio\\porn\\porn_275.wav\n"
     ]
    },
    {
     "name": "stderr",
     "output_type": "stream",
     "text": [
      "                                                                                                                                                                    \r"
     ]
    },
    {
     "name": "stdout",
     "output_type": "stream",
     "text": [
      "MoviePy - Done.\n",
      "MoviePy - Writing audio in A:\\AI DB\\LSPD\\Audio\\porn\\porn_277.wav\n"
     ]
    },
    {
     "name": "stderr",
     "output_type": "stream",
     "text": [
      "                                                                                                                                                                    \r"
     ]
    },
    {
     "name": "stdout",
     "output_type": "stream",
     "text": [
      "MoviePy - Done.\n",
      "MoviePy - Writing audio in A:\\AI DB\\LSPD\\Audio\\porn\\porn_278.wav\n"
     ]
    },
    {
     "name": "stderr",
     "output_type": "stream",
     "text": [
      "                                                                                                                                                                    \r"
     ]
    },
    {
     "name": "stdout",
     "output_type": "stream",
     "text": [
      "MoviePy - Done.\n",
      "MoviePy - Writing audio in A:\\AI DB\\LSPD\\Audio\\porn\\porn_281.wav\n"
     ]
    },
    {
     "name": "stderr",
     "output_type": "stream",
     "text": [
      "                                                                                                                                                                    \r"
     ]
    },
    {
     "name": "stdout",
     "output_type": "stream",
     "text": [
      "MoviePy - Done.\n",
      "MoviePy - Writing audio in A:\\AI DB\\LSPD\\Audio\\porn\\porn_282.wav\n"
     ]
    },
    {
     "name": "stderr",
     "output_type": "stream",
     "text": [
      "                                                                                                                                                                    \r"
     ]
    },
    {
     "name": "stdout",
     "output_type": "stream",
     "text": [
      "MoviePy - Done.\n",
      "MoviePy - Writing audio in A:\\AI DB\\LSPD\\Audio\\porn\\porn_283.wav\n"
     ]
    },
    {
     "name": "stderr",
     "output_type": "stream",
     "text": [
      "                                                                                                                                                                    \r"
     ]
    },
    {
     "name": "stdout",
     "output_type": "stream",
     "text": [
      "MoviePy - Done.\n",
      "MoviePy - Writing audio in A:\\AI DB\\LSPD\\Audio\\porn\\porn_285.wav\n"
     ]
    },
    {
     "name": "stderr",
     "output_type": "stream",
     "text": [
      "                                                                                                                                                                    \r"
     ]
    },
    {
     "name": "stdout",
     "output_type": "stream",
     "text": [
      "MoviePy - Done.\n",
      "MoviePy - Writing audio in A:\\AI DB\\LSPD\\Audio\\porn\\porn_286.wav\n"
     ]
    },
    {
     "name": "stderr",
     "output_type": "stream",
     "text": [
      "                                                                                                                                                                    \r"
     ]
    },
    {
     "name": "stdout",
     "output_type": "stream",
     "text": [
      "MoviePy - Done.\n",
      "MoviePy - Writing audio in A:\\AI DB\\LSPD\\Audio\\porn\\porn_287.wav\n"
     ]
    },
    {
     "name": "stderr",
     "output_type": "stream",
     "text": [
      "                                                                                                                                                                    \r"
     ]
    },
    {
     "name": "stdout",
     "output_type": "stream",
     "text": [
      "MoviePy - Done.\n",
      "MoviePy - Writing audio in A:\\AI DB\\LSPD\\Audio\\porn\\porn_289.wav\n"
     ]
    },
    {
     "name": "stderr",
     "output_type": "stream",
     "text": [
      "                                                                                                                                                                    \r"
     ]
    },
    {
     "name": "stdout",
     "output_type": "stream",
     "text": [
      "MoviePy - Done.\n",
      "MoviePy - Writing audio in A:\\AI DB\\LSPD\\Audio\\porn\\porn_290.wav\n"
     ]
    },
    {
     "name": "stderr",
     "output_type": "stream",
     "text": [
      "                                                                                                                                                                    \r"
     ]
    },
    {
     "name": "stdout",
     "output_type": "stream",
     "text": [
      "MoviePy - Done.\n",
      "MoviePy - Writing audio in A:\\AI DB\\LSPD\\Audio\\porn\\porn_291.wav\n"
     ]
    },
    {
     "name": "stderr",
     "output_type": "stream",
     "text": [
      "                                                                                                                                                                    \r"
     ]
    },
    {
     "name": "stdout",
     "output_type": "stream",
     "text": [
      "MoviePy - Done.\n",
      "MoviePy - Writing audio in A:\\AI DB\\LSPD\\Audio\\porn\\porn_293.wav\n"
     ]
    },
    {
     "name": "stderr",
     "output_type": "stream",
     "text": [
      "                                                                                                                                                                    \r"
     ]
    },
    {
     "name": "stdout",
     "output_type": "stream",
     "text": [
      "MoviePy - Done.\n",
      "MoviePy - Writing audio in A:\\AI DB\\LSPD\\Audio\\porn\\porn_294.wav\n"
     ]
    },
    {
     "name": "stderr",
     "output_type": "stream",
     "text": [
      "                                                                                                                                                                    \r"
     ]
    },
    {
     "name": "stdout",
     "output_type": "stream",
     "text": [
      "MoviePy - Done.\n",
      "MoviePy - Writing audio in A:\\AI DB\\LSPD\\Audio\\porn\\porn_298.wav\n"
     ]
    },
    {
     "name": "stderr",
     "output_type": "stream",
     "text": [
      "                                                                                                                                                                    \r"
     ]
    },
    {
     "name": "stdout",
     "output_type": "stream",
     "text": [
      "MoviePy - Done.\n",
      "MoviePy - Writing audio in A:\\AI DB\\LSPD\\Audio\\porn\\porn_30.wav\n"
     ]
    },
    {
     "name": "stderr",
     "output_type": "stream",
     "text": [
      "                                                                                                                                                                    \r"
     ]
    },
    {
     "name": "stdout",
     "output_type": "stream",
     "text": [
      "MoviePy - Done.\n",
      "MoviePy - Writing audio in A:\\AI DB\\LSPD\\Audio\\porn\\porn_300.wav\n"
     ]
    },
    {
     "name": "stderr",
     "output_type": "stream",
     "text": [
      "                                                                                                                                                                    \r"
     ]
    },
    {
     "name": "stdout",
     "output_type": "stream",
     "text": [
      "MoviePy - Done.\n",
      "MoviePy - Writing audio in A:\\AI DB\\LSPD\\Audio\\porn\\porn_302.wav\n"
     ]
    },
    {
     "name": "stderr",
     "output_type": "stream",
     "text": [
      "                                                                                                                                                                    \r"
     ]
    },
    {
     "name": "stdout",
     "output_type": "stream",
     "text": [
      "MoviePy - Done.\n",
      "MoviePy - Writing audio in A:\\AI DB\\LSPD\\Audio\\porn\\porn_304.wav\n"
     ]
    },
    {
     "name": "stderr",
     "output_type": "stream",
     "text": [
      "                                                                                                                                                                    \r"
     ]
    },
    {
     "name": "stdout",
     "output_type": "stream",
     "text": [
      "MoviePy - Done.\n",
      "MoviePy - Writing audio in A:\\AI DB\\LSPD\\Audio\\porn\\porn_305.wav\n"
     ]
    },
    {
     "name": "stderr",
     "output_type": "stream",
     "text": [
      "                                                                                                                                                                    "
     ]
    },
    {
     "name": "stdout",
     "output_type": "stream",
     "text": [
      "MoviePy - Done.\n"
     ]
    },
    {
     "name": "stderr",
     "output_type": "stream",
     "text": [
      "\r"
     ]
    },
    {
     "name": "stdout",
     "output_type": "stream",
     "text": [
      "MoviePy - Writing audio in A:\\AI DB\\LSPD\\Audio\\porn\\porn_306.wav\n"
     ]
    },
    {
     "name": "stderr",
     "output_type": "stream",
     "text": [
      "                                                                                                                                                                    "
     ]
    },
    {
     "name": "stdout",
     "output_type": "stream",
     "text": [
      "MoviePy - Done.\n"
     ]
    },
    {
     "name": "stderr",
     "output_type": "stream",
     "text": [
      "\r"
     ]
    },
    {
     "name": "stdout",
     "output_type": "stream",
     "text": [
      "MoviePy - Writing audio in A:\\AI DB\\LSPD\\Audio\\porn\\porn_308.wav\n"
     ]
    },
    {
     "name": "stderr",
     "output_type": "stream",
     "text": [
      "                                                                                                                                                                    \r"
     ]
    },
    {
     "name": "stdout",
     "output_type": "stream",
     "text": [
      "MoviePy - Done.\n",
      "MoviePy - Writing audio in A:\\AI DB\\LSPD\\Audio\\porn\\porn_31.wav\n"
     ]
    },
    {
     "name": "stderr",
     "output_type": "stream",
     "text": [
      "                                                                                                                                                                    \r"
     ]
    },
    {
     "name": "stdout",
     "output_type": "stream",
     "text": [
      "MoviePy - Done.\n",
      "MoviePy - Writing audio in A:\\AI DB\\LSPD\\Audio\\porn\\porn_311.wav\n"
     ]
    },
    {
     "name": "stderr",
     "output_type": "stream",
     "text": [
      "                                                                                                                                                                    \r"
     ]
    },
    {
     "name": "stdout",
     "output_type": "stream",
     "text": [
      "MoviePy - Done.\n",
      "MoviePy - Writing audio in A:\\AI DB\\LSPD\\Audio\\porn\\porn_313.wav\n"
     ]
    },
    {
     "name": "stderr",
     "output_type": "stream",
     "text": [
      "                                                                                                                                                                    \r"
     ]
    },
    {
     "name": "stdout",
     "output_type": "stream",
     "text": [
      "MoviePy - Done.\n",
      "MoviePy - Writing audio in A:\\AI DB\\LSPD\\Audio\\porn\\porn_315.wav\n"
     ]
    },
    {
     "name": "stderr",
     "output_type": "stream",
     "text": [
      "                                                                                                                                                                    "
     ]
    },
    {
     "name": "stdout",
     "output_type": "stream",
     "text": [
      "MoviePy - Done.\n"
     ]
    },
    {
     "name": "stderr",
     "output_type": "stream",
     "text": [
      "\r"
     ]
    },
    {
     "name": "stdout",
     "output_type": "stream",
     "text": [
      "MoviePy - Writing audio in A:\\AI DB\\LSPD\\Audio\\porn\\porn_316.wav\n"
     ]
    },
    {
     "name": "stderr",
     "output_type": "stream",
     "text": [
      "                                                                                                                                                                    \r"
     ]
    },
    {
     "name": "stdout",
     "output_type": "stream",
     "text": [
      "MoviePy - Done.\n",
      "MoviePy - Writing audio in A:\\AI DB\\LSPD\\Audio\\porn\\porn_319.wav\n"
     ]
    },
    {
     "name": "stderr",
     "output_type": "stream",
     "text": [
      "                                                                                                                                                                    \r"
     ]
    },
    {
     "name": "stdout",
     "output_type": "stream",
     "text": [
      "MoviePy - Done.\n",
      "MoviePy - Writing audio in A:\\AI DB\\LSPD\\Audio\\porn\\porn_320.wav\n"
     ]
    },
    {
     "name": "stderr",
     "output_type": "stream",
     "text": [
      "                                                                                                                                                                    \r"
     ]
    },
    {
     "name": "stdout",
     "output_type": "stream",
     "text": [
      "MoviePy - Done.\n",
      "MoviePy - Writing audio in A:\\AI DB\\LSPD\\Audio\\porn\\porn_326.wav\n"
     ]
    },
    {
     "name": "stderr",
     "output_type": "stream",
     "text": [
      "                                                                                                                                                                    \r"
     ]
    },
    {
     "name": "stdout",
     "output_type": "stream",
     "text": [
      "MoviePy - Done.\n",
      "MoviePy - Writing audio in A:\\AI DB\\LSPD\\Audio\\porn\\porn_327.wav\n"
     ]
    },
    {
     "name": "stderr",
     "output_type": "stream",
     "text": [
      "                                                                                                                                                                    \r"
     ]
    },
    {
     "name": "stdout",
     "output_type": "stream",
     "text": [
      "MoviePy - Done.\n",
      "MoviePy - Writing audio in A:\\AI DB\\LSPD\\Audio\\porn\\porn_328.wav\n"
     ]
    },
    {
     "name": "stderr",
     "output_type": "stream",
     "text": [
      "                                                                                                                                                                    \r"
     ]
    },
    {
     "name": "stdout",
     "output_type": "stream",
     "text": [
      "MoviePy - Done.\n",
      "MoviePy - Writing audio in A:\\AI DB\\LSPD\\Audio\\porn\\porn_329.wav\n"
     ]
    },
    {
     "name": "stderr",
     "output_type": "stream",
     "text": [
      "                                                                                                                                                                    \r"
     ]
    },
    {
     "name": "stdout",
     "output_type": "stream",
     "text": [
      "MoviePy - Done.\n",
      "MoviePy - Writing audio in A:\\AI DB\\LSPD\\Audio\\porn\\porn_33.wav\n"
     ]
    },
    {
     "name": "stderr",
     "output_type": "stream",
     "text": [
      "                                                                                                                                                                    \r"
     ]
    },
    {
     "name": "stdout",
     "output_type": "stream",
     "text": [
      "MoviePy - Done.\n",
      "MoviePy - Writing audio in A:\\AI DB\\LSPD\\Audio\\porn\\porn_331.wav\n"
     ]
    },
    {
     "name": "stderr",
     "output_type": "stream",
     "text": [
      "                                                                                                                                                                    \r"
     ]
    },
    {
     "name": "stdout",
     "output_type": "stream",
     "text": [
      "MoviePy - Done.\n",
      "MoviePy - Writing audio in A:\\AI DB\\LSPD\\Audio\\porn\\porn_333.wav\n"
     ]
    },
    {
     "name": "stderr",
     "output_type": "stream",
     "text": [
      "                                                                                                                                                                    "
     ]
    },
    {
     "name": "stdout",
     "output_type": "stream",
     "text": [
      "MoviePy - Done.\n"
     ]
    },
    {
     "name": "stderr",
     "output_type": "stream",
     "text": [
      "\r"
     ]
    },
    {
     "name": "stdout",
     "output_type": "stream",
     "text": [
      "MoviePy - Writing audio in A:\\AI DB\\LSPD\\Audio\\porn\\porn_334.wav\n"
     ]
    },
    {
     "name": "stderr",
     "output_type": "stream",
     "text": [
      "                                                                                                                                                                    \r"
     ]
    },
    {
     "name": "stdout",
     "output_type": "stream",
     "text": [
      "MoviePy - Done.\n",
      "MoviePy - Writing audio in A:\\AI DB\\LSPD\\Audio\\porn\\porn_336.wav\n"
     ]
    },
    {
     "name": "stderr",
     "output_type": "stream",
     "text": [
      "                                                                                                                                                                    \r"
     ]
    },
    {
     "name": "stdout",
     "output_type": "stream",
     "text": [
      "MoviePy - Done.\n",
      "MoviePy - Writing audio in A:\\AI DB\\LSPD\\Audio\\porn\\porn_339.wav\n"
     ]
    },
    {
     "name": "stderr",
     "output_type": "stream",
     "text": [
      "                                                                                                                                                                    \r"
     ]
    },
    {
     "name": "stdout",
     "output_type": "stream",
     "text": [
      "MoviePy - Done.\n",
      "MoviePy - Writing audio in A:\\AI DB\\LSPD\\Audio\\porn\\porn_34.wav\n"
     ]
    },
    {
     "name": "stderr",
     "output_type": "stream",
     "text": [
      "                                                                                                                                                                    \r"
     ]
    },
    {
     "name": "stdout",
     "output_type": "stream",
     "text": [
      "MoviePy - Done.\n",
      "MoviePy - Writing audio in A:\\AI DB\\LSPD\\Audio\\porn\\porn_344.wav\n"
     ]
    },
    {
     "name": "stderr",
     "output_type": "stream",
     "text": [
      "                                                                                                                                                                    \r"
     ]
    },
    {
     "name": "stdout",
     "output_type": "stream",
     "text": [
      "MoviePy - Done.\n",
      "MoviePy - Writing audio in A:\\AI DB\\LSPD\\Audio\\porn\\porn_346.wav\n"
     ]
    },
    {
     "name": "stderr",
     "output_type": "stream",
     "text": [
      "                                                                                                                                                                    \r"
     ]
    },
    {
     "name": "stdout",
     "output_type": "stream",
     "text": [
      "MoviePy - Done.\n",
      "MoviePy - Writing audio in A:\\AI DB\\LSPD\\Audio\\porn\\porn_347.wav\n"
     ]
    },
    {
     "name": "stderr",
     "output_type": "stream",
     "text": [
      "                                                                                                                                                                    \r"
     ]
    },
    {
     "name": "stdout",
     "output_type": "stream",
     "text": [
      "MoviePy - Done.\n",
      "MoviePy - Writing audio in A:\\AI DB\\LSPD\\Audio\\porn\\porn_348.wav\n"
     ]
    },
    {
     "name": "stderr",
     "output_type": "stream",
     "text": [
      "                                                                                                                                                                    \r"
     ]
    },
    {
     "name": "stdout",
     "output_type": "stream",
     "text": [
      "MoviePy - Done.\n",
      "MoviePy - Writing audio in A:\\AI DB\\LSPD\\Audio\\porn\\porn_350.wav\n"
     ]
    },
    {
     "name": "stderr",
     "output_type": "stream",
     "text": [
      "                                                                                                                                                                    \r"
     ]
    },
    {
     "name": "stdout",
     "output_type": "stream",
     "text": [
      "MoviePy - Done.\n",
      "MoviePy - Writing audio in A:\\AI DB\\LSPD\\Audio\\porn\\porn_352.wav\n"
     ]
    },
    {
     "name": "stderr",
     "output_type": "stream",
     "text": [
      "                                                                                                                                                                    \r"
     ]
    },
    {
     "name": "stdout",
     "output_type": "stream",
     "text": [
      "MoviePy - Done.\n",
      "MoviePy - Writing audio in A:\\AI DB\\LSPD\\Audio\\porn\\porn_353.wav\n"
     ]
    },
    {
     "name": "stderr",
     "output_type": "stream",
     "text": [
      "                                                                                                                                                                    \r"
     ]
    },
    {
     "name": "stdout",
     "output_type": "stream",
     "text": [
      "MoviePy - Done.\n",
      "MoviePy - Writing audio in A:\\AI DB\\LSPD\\Audio\\porn\\porn_354.wav\n"
     ]
    },
    {
     "name": "stderr",
     "output_type": "stream",
     "text": [
      "                                                                                                                                                                    \r"
     ]
    },
    {
     "name": "stdout",
     "output_type": "stream",
     "text": [
      "MoviePy - Done.\n",
      "MoviePy - Writing audio in A:\\AI DB\\LSPD\\Audio\\porn\\porn_357.wav\n"
     ]
    },
    {
     "name": "stderr",
     "output_type": "stream",
     "text": [
      "                                                                                                                                                                    \r"
     ]
    },
    {
     "name": "stdout",
     "output_type": "stream",
     "text": [
      "MoviePy - Done.\n",
      "MoviePy - Writing audio in A:\\AI DB\\LSPD\\Audio\\porn\\porn_359.wav\n"
     ]
    },
    {
     "name": "stderr",
     "output_type": "stream",
     "text": [
      "                                                                                                                                                                    \r"
     ]
    },
    {
     "name": "stdout",
     "output_type": "stream",
     "text": [
      "MoviePy - Done.\n",
      "MoviePy - Writing audio in A:\\AI DB\\LSPD\\Audio\\porn\\porn_360.wav\n"
     ]
    },
    {
     "name": "stderr",
     "output_type": "stream",
     "text": [
      "                                                                                                                                                                    \r"
     ]
    },
    {
     "name": "stdout",
     "output_type": "stream",
     "text": [
      "MoviePy - Done.\n",
      "MoviePy - Writing audio in A:\\AI DB\\LSPD\\Audio\\porn\\porn_361.wav\n"
     ]
    },
    {
     "name": "stderr",
     "output_type": "stream",
     "text": [
      "                                                                                                                                                                    "
     ]
    },
    {
     "name": "stdout",
     "output_type": "stream",
     "text": [
      "MoviePy - Done.\n"
     ]
    },
    {
     "name": "stderr",
     "output_type": "stream",
     "text": [
      "\r"
     ]
    },
    {
     "name": "stdout",
     "output_type": "stream",
     "text": [
      "MoviePy - Writing audio in A:\\AI DB\\LSPD\\Audio\\porn\\porn_365.wav\n"
     ]
    },
    {
     "name": "stderr",
     "output_type": "stream",
     "text": [
      "                                                                                                                                                                    \r"
     ]
    },
    {
     "name": "stdout",
     "output_type": "stream",
     "text": [
      "MoviePy - Done.\n",
      "MoviePy - Writing audio in A:\\AI DB\\LSPD\\Audio\\porn\\porn_367.wav\n"
     ]
    },
    {
     "name": "stderr",
     "output_type": "stream",
     "text": [
      "                                                                                                                                                                    \r"
     ]
    },
    {
     "name": "stdout",
     "output_type": "stream",
     "text": [
      "MoviePy - Done.\n",
      "MoviePy - Writing audio in A:\\AI DB\\LSPD\\Audio\\porn\\porn_372.wav\n"
     ]
    },
    {
     "name": "stderr",
     "output_type": "stream",
     "text": [
      "                                                                                                                                                                    \r"
     ]
    },
    {
     "name": "stdout",
     "output_type": "stream",
     "text": [
      "MoviePy - Done.\n",
      "MoviePy - Writing audio in A:\\AI DB\\LSPD\\Audio\\porn\\porn_375.wav\n"
     ]
    },
    {
     "name": "stderr",
     "output_type": "stream",
     "text": [
      "                                                                                                                                                                    \r"
     ]
    },
    {
     "name": "stdout",
     "output_type": "stream",
     "text": [
      "MoviePy - Done.\n",
      "MoviePy - Writing audio in A:\\AI DB\\LSPD\\Audio\\porn\\porn_377.wav\n"
     ]
    },
    {
     "name": "stderr",
     "output_type": "stream",
     "text": [
      "                                                                                                                                                                    \r"
     ]
    },
    {
     "name": "stdout",
     "output_type": "stream",
     "text": [
      "MoviePy - Done.\n",
      "MoviePy - Writing audio in A:\\AI DB\\LSPD\\Audio\\porn\\porn_378.wav\n"
     ]
    },
    {
     "name": "stderr",
     "output_type": "stream",
     "text": [
      "                                                                                                                                                                    \r"
     ]
    },
    {
     "name": "stdout",
     "output_type": "stream",
     "text": [
      "MoviePy - Done.\n",
      "MoviePy - Writing audio in A:\\AI DB\\LSPD\\Audio\\porn\\porn_382.wav\n"
     ]
    },
    {
     "name": "stderr",
     "output_type": "stream",
     "text": [
      "                                                                                                                                                                    \r"
     ]
    },
    {
     "name": "stdout",
     "output_type": "stream",
     "text": [
      "MoviePy - Done.\n",
      "MoviePy - Writing audio in A:\\AI DB\\LSPD\\Audio\\porn\\porn_384.wav\n"
     ]
    },
    {
     "name": "stderr",
     "output_type": "stream",
     "text": [
      "                                                                                                                                                                    "
     ]
    },
    {
     "name": "stdout",
     "output_type": "stream",
     "text": [
      "MoviePy - Done.\n"
     ]
    },
    {
     "name": "stderr",
     "output_type": "stream",
     "text": [
      "\r"
     ]
    },
    {
     "name": "stdout",
     "output_type": "stream",
     "text": [
      "MoviePy - Writing audio in A:\\AI DB\\LSPD\\Audio\\porn\\porn_385.wav\n"
     ]
    },
    {
     "name": "stderr",
     "output_type": "stream",
     "text": [
      "                                                                                                                                                                    \r"
     ]
    },
    {
     "name": "stdout",
     "output_type": "stream",
     "text": [
      "MoviePy - Done.\n",
      "MoviePy - Writing audio in A:\\AI DB\\LSPD\\Audio\\porn\\porn_386.wav\n"
     ]
    },
    {
     "name": "stderr",
     "output_type": "stream",
     "text": [
      "                                                                                                                                                                    \r"
     ]
    },
    {
     "name": "stdout",
     "output_type": "stream",
     "text": [
      "MoviePy - Done.\n",
      "MoviePy - Writing audio in A:\\AI DB\\LSPD\\Audio\\porn\\porn_387.wav\n"
     ]
    },
    {
     "name": "stderr",
     "output_type": "stream",
     "text": [
      "                                                                                                                                                                    \r"
     ]
    },
    {
     "name": "stdout",
     "output_type": "stream",
     "text": [
      "MoviePy - Done.\n",
      "MoviePy - Writing audio in A:\\AI DB\\LSPD\\Audio\\porn\\porn_389.wav\n"
     ]
    },
    {
     "name": "stderr",
     "output_type": "stream",
     "text": [
      "                                                                                                                                                                    \r"
     ]
    },
    {
     "name": "stdout",
     "output_type": "stream",
     "text": [
      "MoviePy - Done.\n",
      "MoviePy - Writing audio in A:\\AI DB\\LSPD\\Audio\\porn\\porn_391.wav\n"
     ]
    },
    {
     "name": "stderr",
     "output_type": "stream",
     "text": [
      "                                                                                                                                                                    \r"
     ]
    },
    {
     "name": "stdout",
     "output_type": "stream",
     "text": [
      "MoviePy - Done.\n",
      "MoviePy - Writing audio in A:\\AI DB\\LSPD\\Audio\\porn\\porn_392.wav\n"
     ]
    },
    {
     "name": "stderr",
     "output_type": "stream",
     "text": [
      "                                                                                                                                                                    \r"
     ]
    },
    {
     "name": "stdout",
     "output_type": "stream",
     "text": [
      "MoviePy - Done.\n",
      "MoviePy - Writing audio in A:\\AI DB\\LSPD\\Audio\\porn\\porn_393.wav\n"
     ]
    },
    {
     "name": "stderr",
     "output_type": "stream",
     "text": [
      "                                                                                                                                                                    \r"
     ]
    },
    {
     "name": "stdout",
     "output_type": "stream",
     "text": [
      "MoviePy - Done.\n",
      "MoviePy - Writing audio in A:\\AI DB\\LSPD\\Audio\\porn\\porn_396.wav\n"
     ]
    },
    {
     "name": "stderr",
     "output_type": "stream",
     "text": [
      "                                                                                                                                                                    \r"
     ]
    },
    {
     "name": "stdout",
     "output_type": "stream",
     "text": [
      "MoviePy - Done.\n",
      "MoviePy - Writing audio in A:\\AI DB\\LSPD\\Audio\\porn\\porn_397.wav\n"
     ]
    },
    {
     "name": "stderr",
     "output_type": "stream",
     "text": [
      "                                                                                                                                                                    \r"
     ]
    },
    {
     "name": "stdout",
     "output_type": "stream",
     "text": [
      "MoviePy - Done.\n",
      "MoviePy - Writing audio in A:\\AI DB\\LSPD\\Audio\\porn\\porn_399.wav\n"
     ]
    },
    {
     "name": "stderr",
     "output_type": "stream",
     "text": [
      "                                                                                                                                                                    \r"
     ]
    },
    {
     "name": "stdout",
     "output_type": "stream",
     "text": [
      "MoviePy - Done.\n",
      "MoviePy - Writing audio in A:\\AI DB\\LSPD\\Audio\\porn\\porn_4.wav\n"
     ]
    },
    {
     "name": "stderr",
     "output_type": "stream",
     "text": [
      "                                                                                                                                                                    \r"
     ]
    },
    {
     "name": "stdout",
     "output_type": "stream",
     "text": [
      "MoviePy - Done.\n",
      "MoviePy - Writing audio in A:\\AI DB\\LSPD\\Audio\\porn\\porn_40.wav\n"
     ]
    },
    {
     "name": "stderr",
     "output_type": "stream",
     "text": [
      "                                                                                                                                                                    \r"
     ]
    },
    {
     "name": "stdout",
     "output_type": "stream",
     "text": [
      "MoviePy - Done.\n",
      "MoviePy - Writing audio in A:\\AI DB\\LSPD\\Audio\\porn\\porn_401.wav\n"
     ]
    },
    {
     "name": "stderr",
     "output_type": "stream",
     "text": [
      "                                                                                                                                                                    \r"
     ]
    },
    {
     "name": "stdout",
     "output_type": "stream",
     "text": [
      "MoviePy - Done.\n",
      "MoviePy - Writing audio in A:\\AI DB\\LSPD\\Audio\\porn\\porn_402.wav\n"
     ]
    },
    {
     "name": "stderr",
     "output_type": "stream",
     "text": [
      "                                                                                                                                                                    \r"
     ]
    },
    {
     "name": "stdout",
     "output_type": "stream",
     "text": [
      "MoviePy - Done.\n",
      "MoviePy - Writing audio in A:\\AI DB\\LSPD\\Audio\\porn\\porn_405.wav\n"
     ]
    },
    {
     "name": "stderr",
     "output_type": "stream",
     "text": [
      "                                                                                                                                                                    \r"
     ]
    },
    {
     "name": "stdout",
     "output_type": "stream",
     "text": [
      "MoviePy - Done.\n",
      "MoviePy - Writing audio in A:\\AI DB\\LSPD\\Audio\\porn\\porn_406.wav\n"
     ]
    },
    {
     "name": "stderr",
     "output_type": "stream",
     "text": [
      "                                                                                                                                                                    \r"
     ]
    },
    {
     "name": "stdout",
     "output_type": "stream",
     "text": [
      "MoviePy - Done.\n",
      "MoviePy - Writing audio in A:\\AI DB\\LSPD\\Audio\\porn\\porn_407.wav\n"
     ]
    },
    {
     "name": "stderr",
     "output_type": "stream",
     "text": [
      "                                                                                                                                                                    \r"
     ]
    },
    {
     "name": "stdout",
     "output_type": "stream",
     "text": [
      "MoviePy - Done.\n",
      "MoviePy - Writing audio in A:\\AI DB\\LSPD\\Audio\\porn\\porn_409.wav\n"
     ]
    },
    {
     "name": "stderr",
     "output_type": "stream",
     "text": [
      "                                                                                                                                                                    \r"
     ]
    },
    {
     "name": "stdout",
     "output_type": "stream",
     "text": [
      "MoviePy - Done.\n",
      "MoviePy - Writing audio in A:\\AI DB\\LSPD\\Audio\\porn\\porn_410.wav\n"
     ]
    },
    {
     "name": "stderr",
     "output_type": "stream",
     "text": [
      "                                                                                                                                                                    \r"
     ]
    },
    {
     "name": "stdout",
     "output_type": "stream",
     "text": [
      "MoviePy - Done.\n",
      "MoviePy - Writing audio in A:\\AI DB\\LSPD\\Audio\\porn\\porn_411.wav\n"
     ]
    },
    {
     "name": "stderr",
     "output_type": "stream",
     "text": [
      "                                                                                                                                                                    \r"
     ]
    },
    {
     "name": "stdout",
     "output_type": "stream",
     "text": [
      "MoviePy - Done.\n",
      "MoviePy - Writing audio in A:\\AI DB\\LSPD\\Audio\\porn\\porn_412.wav\n"
     ]
    },
    {
     "name": "stderr",
     "output_type": "stream",
     "text": [
      "                                                                                                                                                                    \r"
     ]
    },
    {
     "name": "stdout",
     "output_type": "stream",
     "text": [
      "MoviePy - Done.\n",
      "MoviePy - Writing audio in A:\\AI DB\\LSPD\\Audio\\porn\\porn_415.wav\n"
     ]
    },
    {
     "name": "stderr",
     "output_type": "stream",
     "text": [
      "                                                                                                                                                                    \r"
     ]
    },
    {
     "name": "stdout",
     "output_type": "stream",
     "text": [
      "MoviePy - Done.\n",
      "MoviePy - Writing audio in A:\\AI DB\\LSPD\\Audio\\porn\\porn_416.wav\n"
     ]
    },
    {
     "name": "stderr",
     "output_type": "stream",
     "text": [
      "                                                                                                                                                                    \r"
     ]
    },
    {
     "name": "stdout",
     "output_type": "stream",
     "text": [
      "MoviePy - Done.\n",
      "MoviePy - Writing audio in A:\\AI DB\\LSPD\\Audio\\porn\\porn_418.wav\n"
     ]
    },
    {
     "name": "stderr",
     "output_type": "stream",
     "text": [
      "                                                                                                                                                                    \r"
     ]
    },
    {
     "name": "stdout",
     "output_type": "stream",
     "text": [
      "MoviePy - Done.\n",
      "MoviePy - Writing audio in A:\\AI DB\\LSPD\\Audio\\porn\\porn_42.wav\n"
     ]
    },
    {
     "name": "stderr",
     "output_type": "stream",
     "text": [
      "                                                                                                                                                                    \r"
     ]
    },
    {
     "name": "stdout",
     "output_type": "stream",
     "text": [
      "MoviePy - Done.\n",
      "MoviePy - Writing audio in A:\\AI DB\\LSPD\\Audio\\porn\\porn_420.wav\n"
     ]
    },
    {
     "name": "stderr",
     "output_type": "stream",
     "text": [
      "                                                                                                                                                                    \r"
     ]
    },
    {
     "name": "stdout",
     "output_type": "stream",
     "text": [
      "MoviePy - Done.\n",
      "MoviePy - Writing audio in A:\\AI DB\\LSPD\\Audio\\porn\\porn_425.wav\n"
     ]
    },
    {
     "name": "stderr",
     "output_type": "stream",
     "text": [
      "                                                                                                                                                                    \r"
     ]
    },
    {
     "name": "stdout",
     "output_type": "stream",
     "text": [
      "MoviePy - Done.\n",
      "MoviePy - Writing audio in A:\\AI DB\\LSPD\\Audio\\porn\\porn_426.wav\n"
     ]
    },
    {
     "name": "stderr",
     "output_type": "stream",
     "text": [
      "                                                                                                                                                                    \r"
     ]
    },
    {
     "name": "stdout",
     "output_type": "stream",
     "text": [
      "MoviePy - Done.\n",
      "MoviePy - Writing audio in A:\\AI DB\\LSPD\\Audio\\porn\\porn_429.wav\n"
     ]
    },
    {
     "name": "stderr",
     "output_type": "stream",
     "text": [
      "chunk:  39%|████████████████████████████████████████▊                                                               | 3002/7646 [00:17<00:00, 5222.65it/s, now=None]"
     ]
    }
   ],
   "source": [
    "extract_audio_from_videos(video_directory, filenames, output_directory)"
   ]
  },
  {
   "cell_type": "code",
   "execution_count": 6,
   "id": "df5c1b29-5d9b-44b9-bdaf-c6f3862375d7",
   "metadata": {},
   "outputs": [],
   "source": [
    "from pydub import AudioSegment\n",
    "from pydub.utils import mediainfo\n",
    "import random"
   ]
  },
  {
   "cell_type": "code",
   "execution_count": 7,
   "id": "50b01d02-eb44-4b03-87c2-dba468169cd4",
   "metadata": {},
   "outputs": [],
   "source": [
    "def extract_audio_from_videos(video_dir, output_dir, num_files_to_extract, audio_threshold=-50.0):\n",
    "    # Ensure the output directory exists\n",
    "    if not os.path.exists(output_dir):\n",
    "        os.makedirs(output_dir)\n",
    "\n",
    "    # List all files in the video directory\n",
    "    video_files = [f for f in os.listdir(video_dir) if os.path.isfile(os.path.join(video_dir, f))]\n",
    "    \n",
    "    if len(video_files) < num_files_to_extract:\n",
    "        print(f\"Only {len(video_files)} video files found, less than the requested {num_files_to_extract}.\")\n",
    "        num_files_to_extract = len(video_files)\n",
    "    \n",
    "    # Randomly select specified number of video files\n",
    "    selected_videos = random.sample(video_files, num_files_to_extract)\n",
    "\n",
    "    # Process each selected video file\n",
    "    for video_name in selected_videos:\n",
    "        video_path = os.path.join(video_dir, video_name)\n",
    "        try:\n",
    "            video_clip = VideoFileClip(video_path)\n",
    "            \n",
    "            # Check if the video has audio\n",
    "            if video_clip.audio is None:\n",
    "                print(f\"No audio found in {video_name}\")\n",
    "                continue\n",
    "            \n",
    "            # Get audio data\n",
    "            audio_path_temp = os.path.join(output_dir, \"temp_audio.wav\")\n",
    "            video_clip.audio.write_audiofile(audio_path_temp)\n",
    "\n",
    "            # Load audio file with pydub\n",
    "            audio = AudioSegment.from_file(audio_path_temp)\n",
    "            \n",
    "            # Calculate the average dBFS (Decibels relative to Full Scale)\n",
    "            audio_dBFS = audio.dBFS\n",
    "\n",
    "            if audio_dBFS < audio_threshold:\n",
    "                print(f\"Audio in {video_name} is too quiet (average dBFS: {audio_dBFS}). Skipping.\")\n",
    "                continue\n",
    "\n",
    "            # Save the audio file if it passes the dBFS threshold\n",
    "            audio_path = os.path.join(output_dir, os.path.splitext(video_name)[0] + '.wav')\n",
    "            audio.export(audio_path, format=\"wav\")\n",
    "            print(f\"Extracted audio from {video_name} to {audio_path}\")\n",
    "        except Exception as e:\n",
    "            print(f\"Failed to extract audio from {video_name}: {e}\")\n",
    "        finally:\n",
    "            # Clean up the temporary audio file if it exists\n",
    "            if os.path.exists(audio_path_temp):\n",
    "                os.remove(audio_path_temp)"
   ]
  },
  {
   "cell_type": "code",
   "execution_count": 8,
   "id": "00a8fc50-c2f0-407e-8c22-d51711b78476",
   "metadata": {},
   "outputs": [],
   "source": [
    "video_directory2 = r'A:\\AI DB\\LSPD\\Videos\\normal_final'\n",
    "output_directory2 = r'A:\\AI DB\\LSPD\\Audio\\normal'"
   ]
  },
  {
   "cell_type": "code",
   "execution_count": 10,
   "id": "150cea36-42c2-4794-96b8-f1f7eb2fa232",
   "metadata": {},
   "outputs": [
    {
     "name": "stdout",
     "output_type": "stream",
     "text": [
      "MoviePy - Writing audio in A:\\AI DB\\LSPD\\Audio\\normal\\temp_audio.wav\n"
     ]
    },
    {
     "name": "stderr",
     "output_type": "stream",
     "text": [
      "                                                                                                                       \r"
     ]
    },
    {
     "name": "stdout",
     "output_type": "stream",
     "text": [
      "MoviePy - Done.\n",
      "Extracted audio from nonporn_219.mp4 to A:\\AI DB\\LSPD\\Audio\\normal\\nonporn_219.wav\n",
      "MoviePy - Writing audio in A:\\AI DB\\LSPD\\Audio\\normal\\temp_audio.wav\n"
     ]
    },
    {
     "name": "stderr",
     "output_type": "stream",
     "text": [
      "                                                                                                                       \r"
     ]
    },
    {
     "name": "stdout",
     "output_type": "stream",
     "text": [
      "MoviePy - Done.\n",
      "Extracted audio from nonporn_1328.mp4 to A:\\AI DB\\LSPD\\Audio\\normal\\nonporn_1328.wav\n",
      "MoviePy - Writing audio in A:\\AI DB\\LSPD\\Audio\\normal\\temp_audio.wav\n"
     ]
    },
    {
     "name": "stderr",
     "output_type": "stream",
     "text": [
      "                                                                                                                       \r"
     ]
    },
    {
     "name": "stdout",
     "output_type": "stream",
     "text": [
      "MoviePy - Done.\n",
      "Extracted audio from nonporn_349.mp4 to A:\\AI DB\\LSPD\\Audio\\normal\\nonporn_349.wav\n",
      "MoviePy - Writing audio in A:\\AI DB\\LSPD\\Audio\\normal\\temp_audio.wav\n"
     ]
    },
    {
     "name": "stderr",
     "output_type": "stream",
     "text": [
      "                                                                                                                       \r"
     ]
    },
    {
     "name": "stdout",
     "output_type": "stream",
     "text": [
      "MoviePy - Done.\n",
      "Audio in nonporn_616.mp4 is too quiet (average dBFS: -73.40703789890921). Skipping.\n",
      "No audio found in nonporn_1982.mp4\n",
      "MoviePy - Writing audio in A:\\AI DB\\LSPD\\Audio\\normal\\temp_audio.wav\n"
     ]
    },
    {
     "name": "stderr",
     "output_type": "stream",
     "text": [
      "                                                                                                                       \r"
     ]
    },
    {
     "name": "stdout",
     "output_type": "stream",
     "text": [
      "MoviePy - Done.\n",
      "Extracted audio from nonporn_522.mp4 to A:\\AI DB\\LSPD\\Audio\\normal\\nonporn_522.wav\n",
      "No audio found in nonporn_1066.mp4\n",
      "No audio found in nonporn_870.mp4\n",
      "No audio found in nonporn_1592.mp4\n",
      "No audio found in nonporn_256.mp4\n",
      "MoviePy - Writing audio in A:\\AI DB\\LSPD\\Audio\\normal\\temp_audio.wav\n"
     ]
    },
    {
     "name": "stderr",
     "output_type": "stream",
     "text": [
      "                                                                                                                       \r"
     ]
    },
    {
     "name": "stdout",
     "output_type": "stream",
     "text": [
      "MoviePy - Done.\n",
      "Extracted audio from nonporn_593.mp4 to A:\\AI DB\\LSPD\\Audio\\normal\\nonporn_593.wav\n",
      "MoviePy - Writing audio in A:\\AI DB\\LSPD\\Audio\\normal\\temp_audio.wav\n"
     ]
    },
    {
     "name": "stderr",
     "output_type": "stream",
     "text": [
      "                                                                                                                       \r"
     ]
    },
    {
     "name": "stdout",
     "output_type": "stream",
     "text": [
      "MoviePy - Done.\n",
      "Extracted audio from nonporn_252.mp4 to A:\\AI DB\\LSPD\\Audio\\normal\\nonporn_252.wav\n",
      "No audio found in nonporn_1209.mp4\n",
      "No audio found in nonporn_1983.mp4\n",
      "No audio found in nonporn_439.mp4\n",
      "MoviePy - Writing audio in A:\\AI DB\\LSPD\\Audio\\normal\\temp_audio.wav\n"
     ]
    },
    {
     "name": "stderr",
     "output_type": "stream",
     "text": [
      "                                                                                                                       \r"
     ]
    },
    {
     "name": "stdout",
     "output_type": "stream",
     "text": [
      "MoviePy - Done.\n",
      "Extracted audio from nonporn_40.mp4 to A:\\AI DB\\LSPD\\Audio\\normal\\nonporn_40.wav\n",
      "No audio found in nonporn_333.mp4\n",
      "MoviePy - Writing audio in A:\\AI DB\\LSPD\\Audio\\normal\\temp_audio.wav\n"
     ]
    },
    {
     "name": "stderr",
     "output_type": "stream",
     "text": [
      "                                                                                                                       \r"
     ]
    },
    {
     "name": "stdout",
     "output_type": "stream",
     "text": [
      "MoviePy - Done.\n",
      "Extracted audio from nonporn_834.mp4 to A:\\AI DB\\LSPD\\Audio\\normal\\nonporn_834.wav\n",
      "No audio found in nonporn_1279.mp4\n",
      "MoviePy - Writing audio in A:\\AI DB\\LSPD\\Audio\\normal\\temp_audio.wav\n"
     ]
    },
    {
     "name": "stderr",
     "output_type": "stream",
     "text": [
      "                                                                                                                       \r"
     ]
    },
    {
     "name": "stdout",
     "output_type": "stream",
     "text": [
      "MoviePy - Done.\n",
      "Extracted audio from nonporn_381.mp4 to A:\\AI DB\\LSPD\\Audio\\normal\\nonporn_381.wav\n",
      "No audio found in nonporn_1158.mp4\n",
      "MoviePy - Writing audio in A:\\AI DB\\LSPD\\Audio\\normal\\temp_audio.wav\n"
     ]
    },
    {
     "name": "stderr",
     "output_type": "stream",
     "text": [
      "                                                                                                                       \r"
     ]
    },
    {
     "name": "stdout",
     "output_type": "stream",
     "text": [
      "MoviePy - Done.\n",
      "Extracted audio from nonporn_608.mp4 to A:\\AI DB\\LSPD\\Audio\\normal\\nonporn_608.wav\n",
      "No audio found in nonporn_477.mp4\n",
      "No audio found in nonporn_1105.mp4\n",
      "MoviePy - Writing audio in A:\\AI DB\\LSPD\\Audio\\normal\\temp_audio.wav\n"
     ]
    },
    {
     "name": "stderr",
     "output_type": "stream",
     "text": [
      "                                                                                                                       \r"
     ]
    },
    {
     "name": "stdout",
     "output_type": "stream",
     "text": [
      "MoviePy - Done.\n",
      "Extracted audio from nonporn_736.mp4 to A:\\AI DB\\LSPD\\Audio\\normal\\nonporn_736.wav\n",
      "MoviePy - Writing audio in A:\\AI DB\\LSPD\\Audio\\normal\\temp_audio.wav\n"
     ]
    },
    {
     "name": "stderr",
     "output_type": "stream",
     "text": [
      "                                                                                                                       \r"
     ]
    },
    {
     "name": "stdout",
     "output_type": "stream",
     "text": [
      "MoviePy - Done.\n",
      "Extracted audio from nonporn_1865.mp4 to A:\\AI DB\\LSPD\\Audio\\normal\\nonporn_1865.wav\n",
      "No audio found in nonporn_1112.mp4\n",
      "No audio found in nonporn_744.mp4\n",
      "No audio found in nonporn_1980.mp4\n",
      "No audio found in nonporn_128.mp4\n",
      "No audio found in nonporn_519.mp4\n",
      "MoviePy - Writing audio in A:\\AI DB\\LSPD\\Audio\\normal\\temp_audio.wav\n"
     ]
    },
    {
     "name": "stderr",
     "output_type": "stream",
     "text": [
      "                                                                                                                       "
     ]
    },
    {
     "name": "stdout",
     "output_type": "stream",
     "text": [
      "MoviePy - Done.\n",
      "Audio in nonporn_547.mp4 is too quiet (average dBFS: -inf). Skipping.\n"
     ]
    },
    {
     "name": "stderr",
     "output_type": "stream",
     "text": [
      "\r"
     ]
    },
    {
     "name": "stdout",
     "output_type": "stream",
     "text": [
      "No audio found in nonporn_720.mp4\n",
      "MoviePy - Writing audio in A:\\AI DB\\LSPD\\Audio\\normal\\temp_audio.wav\n"
     ]
    },
    {
     "name": "stderr",
     "output_type": "stream",
     "text": [
      "                                                                                                                       \r"
     ]
    },
    {
     "name": "stdout",
     "output_type": "stream",
     "text": [
      "MoviePy - Done.\n",
      "Extracted audio from nonporn_637.mp4 to A:\\AI DB\\LSPD\\Audio\\normal\\nonporn_637.wav\n",
      "No audio found in nonporn_1608.mp4\n",
      "No audio found in nonporn_784.mp4\n",
      "MoviePy - Writing audio in A:\\AI DB\\LSPD\\Audio\\normal\\temp_audio.wav\n"
     ]
    },
    {
     "name": "stderr",
     "output_type": "stream",
     "text": [
      "                                                                                                                       \r"
     ]
    },
    {
     "name": "stdout",
     "output_type": "stream",
     "text": [
      "MoviePy - Done.\n",
      "Extracted audio from nonporn_1658.mp4 to A:\\AI DB\\LSPD\\Audio\\normal\\nonporn_1658.wav\n",
      "MoviePy - Writing audio in A:\\AI DB\\LSPD\\Audio\\normal\\temp_audio.wav\n"
     ]
    },
    {
     "name": "stderr",
     "output_type": "stream",
     "text": [
      "                                                                                                                       \r"
     ]
    },
    {
     "name": "stdout",
     "output_type": "stream",
     "text": [
      "MoviePy - Done.\n",
      "Extracted audio from nonporn_1651.mp4 to A:\\AI DB\\LSPD\\Audio\\normal\\nonporn_1651.wav\n",
      "No audio found in nonporn_1930.mp4\n",
      "No audio found in nonporn_641.mp4\n",
      "No audio found in nonporn_246.mp4\n",
      "MoviePy - Writing audio in A:\\AI DB\\LSPD\\Audio\\normal\\temp_audio.wav\n"
     ]
    },
    {
     "name": "stderr",
     "output_type": "stream",
     "text": [
      "                                                                                                                       \r"
     ]
    },
    {
     "name": "stdout",
     "output_type": "stream",
     "text": [
      "MoviePy - Done.\n",
      "Extracted audio from nonporn_1469.mp4 to A:\\AI DB\\LSPD\\Audio\\normal\\nonporn_1469.wav\n",
      "No audio found in nonporn_897.mp4\n",
      "MoviePy - Writing audio in A:\\AI DB\\LSPD\\Audio\\normal\\temp_audio.wav\n"
     ]
    },
    {
     "name": "stderr",
     "output_type": "stream",
     "text": [
      "                                                                                                                       \r"
     ]
    },
    {
     "name": "stdout",
     "output_type": "stream",
     "text": [
      "MoviePy - Done.\n",
      "Extracted audio from nonporn_669.mp4 to A:\\AI DB\\LSPD\\Audio\\normal\\nonporn_669.wav\n",
      "No audio found in nonporn_1368.mp4\n",
      "MoviePy - Writing audio in A:\\AI DB\\LSPD\\Audio\\normal\\temp_audio.wav\n"
     ]
    },
    {
     "name": "stderr",
     "output_type": "stream",
     "text": [
      "                                                                                                                       \r"
     ]
    },
    {
     "name": "stdout",
     "output_type": "stream",
     "text": [
      "MoviePy - Done.\n",
      "Extracted audio from nonporn_830.mp4 to A:\\AI DB\\LSPD\\Audio\\normal\\nonporn_830.wav\n",
      "MoviePy - Writing audio in A:\\AI DB\\LSPD\\Audio\\normal\\temp_audio.wav\n"
     ]
    },
    {
     "name": "stderr",
     "output_type": "stream",
     "text": [
      "                                                                                                                       \r"
     ]
    },
    {
     "name": "stdout",
     "output_type": "stream",
     "text": [
      "MoviePy - Done.\n",
      "Extracted audio from nonporn_597.mp4 to A:\\AI DB\\LSPD\\Audio\\normal\\nonporn_597.wav\n",
      "No audio found in nonporn_860.mp4\n",
      "No audio found in nonporn_535.mp4\n",
      "No audio found in nonporn_684.mp4\n",
      "No audio found in nonporn_1616.mp4\n",
      "No audio found in nonporn_479.mp4\n",
      "No audio found in nonporn_97.mp4\n",
      "MoviePy - Writing audio in A:\\AI DB\\LSPD\\Audio\\normal\\temp_audio.wav\n"
     ]
    },
    {
     "name": "stderr",
     "output_type": "stream",
     "text": [
      "                                                                                                                       \r"
     ]
    },
    {
     "name": "stdout",
     "output_type": "stream",
     "text": [
      "MoviePy - Done.\n",
      "Extracted audio from nonporn_2.mp4 to A:\\AI DB\\LSPD\\Audio\\normal\\nonporn_2.wav\n",
      "No audio found in nonporn_844.mp4\n",
      "MoviePy - Writing audio in A:\\AI DB\\LSPD\\Audio\\normal\\temp_audio.wav\n"
     ]
    },
    {
     "name": "stderr",
     "output_type": "stream",
     "text": [
      "                                                                                                                       \r"
     ]
    },
    {
     "name": "stdout",
     "output_type": "stream",
     "text": [
      "MoviePy - Done.\n",
      "Extracted audio from nonporn_1203.mp4 to A:\\AI DB\\LSPD\\Audio\\normal\\nonporn_1203.wav\n",
      "MoviePy - Writing audio in A:\\AI DB\\LSPD\\Audio\\normal\\temp_audio.wav\n"
     ]
    },
    {
     "name": "stderr",
     "output_type": "stream",
     "text": [
      "                                                                                                                       \r"
     ]
    },
    {
     "name": "stdout",
     "output_type": "stream",
     "text": [
      "MoviePy - Done.\n",
      "Extracted audio from nonporn_600.mp4 to A:\\AI DB\\LSPD\\Audio\\normal\\nonporn_600.wav\n",
      "No audio found in nonporn_1680.mp4\n",
      "MoviePy - Writing audio in A:\\AI DB\\LSPD\\Audio\\normal\\temp_audio.wav\n"
     ]
    },
    {
     "name": "stderr",
     "output_type": "stream",
     "text": [
      "                                                                                                                       \r"
     ]
    },
    {
     "name": "stdout",
     "output_type": "stream",
     "text": [
      "MoviePy - Done.\n",
      "Extracted audio from nonporn_344.mp4 to A:\\AI DB\\LSPD\\Audio\\normal\\nonporn_344.wav\n",
      "MoviePy - Writing audio in A:\\AI DB\\LSPD\\Audio\\normal\\temp_audio.wav\n"
     ]
    },
    {
     "name": "stderr",
     "output_type": "stream",
     "text": [
      "                                                                                                                       \r"
     ]
    },
    {
     "name": "stdout",
     "output_type": "stream",
     "text": [
      "MoviePy - Done.\n",
      "Extracted audio from nonporn_1508.mp4 to A:\\AI DB\\LSPD\\Audio\\normal\\nonporn_1508.wav\n",
      "No audio found in nonporn_154.mp4\n",
      "No audio found in nonporn_63.mp4\n",
      "MoviePy - Writing audio in A:\\AI DB\\LSPD\\Audio\\normal\\temp_audio.wav\n"
     ]
    },
    {
     "name": "stderr",
     "output_type": "stream",
     "text": [
      "                                                                                                                       \r"
     ]
    },
    {
     "name": "stdout",
     "output_type": "stream",
     "text": [
      "MoviePy - Done.\n",
      "Extracted audio from nonporn_1161.mp4 to A:\\AI DB\\LSPD\\Audio\\normal\\nonporn_1161.wav\n",
      "No audio found in nonporn_1242.mp4\n",
      "No audio found in nonporn_1017.mp4\n",
      "No audio found in nonporn_356.mp4\n",
      "MoviePy - Writing audio in A:\\AI DB\\LSPD\\Audio\\normal\\temp_audio.wav\n"
     ]
    },
    {
     "name": "stderr",
     "output_type": "stream",
     "text": [
      "                                                                                                                       \r"
     ]
    },
    {
     "name": "stdout",
     "output_type": "stream",
     "text": [
      "MoviePy - Done.\n",
      "Extracted audio from nonporn_1935.mp4 to A:\\AI DB\\LSPD\\Audio\\normal\\nonporn_1935.wav\n",
      "No audio found in nonporn_270.mp4\n",
      "MoviePy - Writing audio in A:\\AI DB\\LSPD\\Audio\\normal\\temp_audio.wav\n"
     ]
    },
    {
     "name": "stderr",
     "output_type": "stream",
     "text": [
      "                                                                                                                       \r"
     ]
    },
    {
     "name": "stdout",
     "output_type": "stream",
     "text": [
      "MoviePy - Done.\n",
      "Extracted audio from nonporn_553.mp4 to A:\\AI DB\\LSPD\\Audio\\normal\\nonporn_553.wav\n",
      "MoviePy - Writing audio in A:\\AI DB\\LSPD\\Audio\\normal\\temp_audio.wav\n"
     ]
    },
    {
     "name": "stderr",
     "output_type": "stream",
     "text": [
      "                                                                                                                       \r"
     ]
    },
    {
     "name": "stdout",
     "output_type": "stream",
     "text": [
      "MoviePy - Done.\n",
      "Extracted audio from nonporn_1730.mp4 to A:\\AI DB\\LSPD\\Audio\\normal\\nonporn_1730.wav\n",
      "No audio found in nonporn_879.mp4\n",
      "MoviePy - Writing audio in A:\\AI DB\\LSPD\\Audio\\normal\\temp_audio.wav\n"
     ]
    },
    {
     "name": "stderr",
     "output_type": "stream",
     "text": [
      "                                                                                                                       \r"
     ]
    },
    {
     "name": "stdout",
     "output_type": "stream",
     "text": [
      "MoviePy - Done.\n",
      "Extracted audio from nonporn_511.mp4 to A:\\AI DB\\LSPD\\Audio\\normal\\nonporn_511.wav\n",
      "No audio found in nonporn_1010.mp4\n",
      "No audio found in nonporn_1011.mp4\n",
      "No audio found in nonporn_1277.mp4\n",
      "No audio found in nonporn_1073.mp4\n",
      "No audio found in nonporn_769.mp4\n",
      "No audio found in nonporn_727.mp4\n",
      "MoviePy - Writing audio in A:\\AI DB\\LSPD\\Audio\\normal\\temp_audio.wav\n"
     ]
    },
    {
     "name": "stderr",
     "output_type": "stream",
     "text": [
      "                                                                                                                       \r"
     ]
    },
    {
     "name": "stdout",
     "output_type": "stream",
     "text": [
      "MoviePy - Done.\n",
      "Extracted audio from nonporn_1670.mp4 to A:\\AI DB\\LSPD\\Audio\\normal\\nonporn_1670.wav\n",
      "MoviePy - Writing audio in A:\\AI DB\\LSPD\\Audio\\normal\\temp_audio.wav\n"
     ]
    },
    {
     "name": "stderr",
     "output_type": "stream",
     "text": [
      "                                                                                                                       \r"
     ]
    },
    {
     "name": "stdout",
     "output_type": "stream",
     "text": [
      "MoviePy - Done.\n",
      "Extracted audio from nonporn_1702.mp4 to A:\\AI DB\\LSPD\\Audio\\normal\\nonporn_1702.wav\n",
      "No audio found in nonporn_944.mp4\n",
      "MoviePy - Writing audio in A:\\AI DB\\LSPD\\Audio\\normal\\temp_audio.wav\n"
     ]
    },
    {
     "name": "stderr",
     "output_type": "stream",
     "text": [
      "                                                                                                                       \r"
     ]
    },
    {
     "name": "stdout",
     "output_type": "stream",
     "text": [
      "MoviePy - Done.\n",
      "Extracted audio from nonporn_1420.mp4 to A:\\AI DB\\LSPD\\Audio\\normal\\nonporn_1420.wav\n",
      "No audio found in nonporn_557.mp4\n",
      "No audio found in nonporn_1234.mp4\n",
      "No audio found in nonporn_1731.mp4\n",
      "No audio found in nonporn_1060.mp4\n",
      "No audio found in nonporn_832.mp4\n",
      "MoviePy - Writing audio in A:\\AI DB\\LSPD\\Audio\\normal\\temp_audio.wav\n"
     ]
    },
    {
     "name": "stderr",
     "output_type": "stream",
     "text": [
      "                                                                                                                       \r"
     ]
    },
    {
     "name": "stdout",
     "output_type": "stream",
     "text": [
      "MoviePy - Done.\n",
      "Extracted audio from nonporn_1970.mp4 to A:\\AI DB\\LSPD\\Audio\\normal\\nonporn_1970.wav\n",
      "No audio found in nonporn_661.mp4\n",
      "MoviePy - Writing audio in A:\\AI DB\\LSPD\\Audio\\normal\\temp_audio.wav\n"
     ]
    },
    {
     "name": "stderr",
     "output_type": "stream",
     "text": [
      "                                                                                                                       \r"
     ]
    },
    {
     "name": "stdout",
     "output_type": "stream",
     "text": [
      "MoviePy - Done.\n",
      "Extracted audio from nonporn_47.mp4 to A:\\AI DB\\LSPD\\Audio\\normal\\nonporn_47.wav\n",
      "MoviePy - Writing audio in A:\\AI DB\\LSPD\\Audio\\normal\\temp_audio.wav\n"
     ]
    },
    {
     "name": "stderr",
     "output_type": "stream",
     "text": [
      "                                                                                                                       \r"
     ]
    },
    {
     "name": "stdout",
     "output_type": "stream",
     "text": [
      "MoviePy - Done.\n",
      "Extracted audio from nonporn_1435.mp4 to A:\\AI DB\\LSPD\\Audio\\normal\\nonporn_1435.wav\n",
      "No audio found in nonporn_573.mp4\n",
      "MoviePy - Writing audio in A:\\AI DB\\LSPD\\Audio\\normal\\temp_audio.wav\n"
     ]
    },
    {
     "name": "stderr",
     "output_type": "stream",
     "text": [
      "                                                                                                                       \r"
     ]
    },
    {
     "name": "stdout",
     "output_type": "stream",
     "text": [
      "MoviePy - Done.\n",
      "Extracted audio from nonporn_112.mp4 to A:\\AI DB\\LSPD\\Audio\\normal\\nonporn_112.wav\n",
      "No audio found in nonporn_690.mp4\n",
      "No audio found in nonporn_977.mp4\n",
      "No audio found in nonporn_263.mp4\n",
      "No audio found in nonporn_718.mp4\n",
      "No audio found in nonporn_586.mp4\n",
      "MoviePy - Writing audio in A:\\AI DB\\LSPD\\Audio\\normal\\temp_audio.wav\n"
     ]
    },
    {
     "name": "stderr",
     "output_type": "stream",
     "text": [
      "                                                                                                                       \r"
     ]
    },
    {
     "name": "stdout",
     "output_type": "stream",
     "text": [
      "MoviePy - Done.\n",
      "Extracted audio from nonporn_606.mp4 to A:\\AI DB\\LSPD\\Audio\\normal\\nonporn_606.wav\n",
      "No audio found in nonporn_911.mp4\n",
      "MoviePy - Writing audio in A:\\AI DB\\LSPD\\Audio\\normal\\temp_audio.wav\n"
     ]
    },
    {
     "name": "stderr",
     "output_type": "stream",
     "text": [
      "                                                                                                                       \r"
     ]
    },
    {
     "name": "stdout",
     "output_type": "stream",
     "text": [
      "MoviePy - Done.\n",
      "Extracted audio from nonporn_1003.mp4 to A:\\AI DB\\LSPD\\Audio\\normal\\nonporn_1003.wav\n",
      "MoviePy - Writing audio in A:\\AI DB\\LSPD\\Audio\\normal\\temp_audio.wav\n"
     ]
    },
    {
     "name": "stderr",
     "output_type": "stream",
     "text": [
      "                                                                                                                       \r"
     ]
    },
    {
     "name": "stdout",
     "output_type": "stream",
     "text": [
      "MoviePy - Done.\n",
      "Extracted audio from nonporn_611.mp4 to A:\\AI DB\\LSPD\\Audio\\normal\\nonporn_611.wav\n",
      "No audio found in nonporn_311.mp4\n",
      "No audio found in nonporn_383.mp4\n",
      "No audio found in nonporn_1110.mp4\n",
      "No audio found in nonporn_810.mp4\n",
      "MoviePy - Writing audio in A:\\AI DB\\LSPD\\Audio\\normal\\temp_audio.wav\n"
     ]
    },
    {
     "name": "stderr",
     "output_type": "stream",
     "text": [
      "                                                                                                                       \r"
     ]
    },
    {
     "name": "stdout",
     "output_type": "stream",
     "text": [
      "MoviePy - Done.\n",
      "Extracted audio from nonporn_1542.mp4 to A:\\AI DB\\LSPD\\Audio\\normal\\nonporn_1542.wav\n",
      "No audio found in nonporn_1964.mp4\n",
      "No audio found in nonporn_1061.mp4\n",
      "No audio found in nonporn_725.mp4\n",
      "No audio found in nonporn_286.mp4\n",
      "MoviePy - Writing audio in A:\\AI DB\\LSPD\\Audio\\normal\\temp_audio.wav\n"
     ]
    },
    {
     "name": "stderr",
     "output_type": "stream",
     "text": [
      "                                                                                                                       \r"
     ]
    },
    {
     "name": "stdout",
     "output_type": "stream",
     "text": [
      "MoviePy - Done.\n",
      "Extracted audio from nonporn_648.mp4 to A:\\AI DB\\LSPD\\Audio\\normal\\nonporn_648.wav\n",
      "No audio found in nonporn_1979.mp4\n",
      "No audio found in nonporn_500.mp4\n",
      "MoviePy - Writing audio in A:\\AI DB\\LSPD\\Audio\\normal\\temp_audio.wav\n"
     ]
    },
    {
     "name": "stderr",
     "output_type": "stream",
     "text": [
      "                                                                                                                       \r"
     ]
    },
    {
     "name": "stdout",
     "output_type": "stream",
     "text": [
      "MoviePy - Done.\n",
      "Extracted audio from nonporn_1752.mp4 to A:\\AI DB\\LSPD\\Audio\\normal\\nonporn_1752.wav\n",
      "No audio found in nonporn_1152.mp4\n",
      "No audio found in nonporn_1364.mp4\n",
      "No audio found in nonporn_62.mp4\n",
      "No audio found in nonporn_485.mp4\n",
      "No audio found in nonporn_569.mp4\n",
      "No audio found in nonporn_566.mp4\n",
      "No audio found in nonporn_1335.mp4\n",
      "MoviePy - Writing audio in A:\\AI DB\\LSPD\\Audio\\normal\\temp_audio.wav\n"
     ]
    },
    {
     "name": "stderr",
     "output_type": "stream",
     "text": [
      "                                                                                                                       \r"
     ]
    },
    {
     "name": "stdout",
     "output_type": "stream",
     "text": [
      "MoviePy - Done.\n",
      "Extracted audio from nonporn_139.mp4 to A:\\AI DB\\LSPD\\Audio\\normal\\nonporn_139.wav\n",
      "No audio found in nonporn_1054.mp4\n",
      "MoviePy - Writing audio in A:\\AI DB\\LSPD\\Audio\\normal\\temp_audio.wav\n"
     ]
    },
    {
     "name": "stderr",
     "output_type": "stream",
     "text": [
      "                                                                                                                       \r"
     ]
    },
    {
     "name": "stdout",
     "output_type": "stream",
     "text": [
      "MoviePy - Done.\n",
      "Audio in nonporn_552.mp4 is too quiet (average dBFS: -inf). Skipping.\n",
      "No audio found in nonporn_1683.mp4\n",
      "MoviePy - Writing audio in A:\\AI DB\\LSPD\\Audio\\normal\\temp_audio.wav\n"
     ]
    },
    {
     "name": "stderr",
     "output_type": "stream",
     "text": [
      "                                                                                                                       \r"
     ]
    },
    {
     "name": "stdout",
     "output_type": "stream",
     "text": [
      "MoviePy - Done.\n",
      "Extracted audio from nonporn_116.mp4 to A:\\AI DB\\LSPD\\Audio\\normal\\nonporn_116.wav\n",
      "MoviePy - Writing audio in A:\\AI DB\\LSPD\\Audio\\normal\\temp_audio.wav\n"
     ]
    },
    {
     "name": "stderr",
     "output_type": "stream",
     "text": [
      "                                                                                                                       \r"
     ]
    },
    {
     "name": "stdout",
     "output_type": "stream",
     "text": [
      "MoviePy - Done.\n",
      "Extracted audio from nonporn_1710.mp4 to A:\\AI DB\\LSPD\\Audio\\normal\\nonporn_1710.wav\n",
      "MoviePy - Writing audio in A:\\AI DB\\LSPD\\Audio\\normal\\temp_audio.wav\n"
     ]
    },
    {
     "name": "stderr",
     "output_type": "stream",
     "text": [
      "                                                                                                                       \r"
     ]
    },
    {
     "name": "stdout",
     "output_type": "stream",
     "text": [
      "MoviePy - Done.\n",
      "Extracted audio from nonporn_1896.mp4 to A:\\AI DB\\LSPD\\Audio\\normal\\nonporn_1896.wav\n",
      "No audio found in nonporn_731.mp4\n",
      "MoviePy - Writing audio in A:\\AI DB\\LSPD\\Audio\\normal\\temp_audio.wav\n"
     ]
    },
    {
     "name": "stderr",
     "output_type": "stream",
     "text": [
      "                                                                                                                       \r"
     ]
    },
    {
     "name": "stdout",
     "output_type": "stream",
     "text": [
      "MoviePy - Done.\n",
      "Extracted audio from nonporn_1598.mp4 to A:\\AI DB\\LSPD\\Audio\\normal\\nonporn_1598.wav\n",
      "No audio found in nonporn_780.mp4\n",
      "No audio found in nonporn_1695.mp4\n",
      "MoviePy - Writing audio in A:\\AI DB\\LSPD\\Audio\\normal\\temp_audio.wav\n"
     ]
    },
    {
     "name": "stderr",
     "output_type": "stream",
     "text": [
      "                                                                                                                       \r"
     ]
    },
    {
     "name": "stdout",
     "output_type": "stream",
     "text": [
      "MoviePy - Done.\n",
      "Extracted audio from nonporn_1932.mp4 to A:\\AI DB\\LSPD\\Audio\\normal\\nonporn_1932.wav\n",
      "No audio found in nonporn_1297.mp4\n",
      "No audio found in nonporn_296.mp4\n",
      "MoviePy - Writing audio in A:\\AI DB\\LSPD\\Audio\\normal\\temp_audio.wav\n"
     ]
    },
    {
     "name": "stderr",
     "output_type": "stream",
     "text": [
      "                                                                                                                       \r"
     ]
    },
    {
     "name": "stdout",
     "output_type": "stream",
     "text": [
      "MoviePy - Done.\n",
      "Extracted audio from nonporn_1359.mp4 to A:\\AI DB\\LSPD\\Audio\\normal\\nonporn_1359.wav\n",
      "MoviePy - Writing audio in A:\\AI DB\\LSPD\\Audio\\normal\\temp_audio.wav\n"
     ]
    },
    {
     "name": "stderr",
     "output_type": "stream",
     "text": [
      "                                                                                                                       \r"
     ]
    },
    {
     "name": "stdout",
     "output_type": "stream",
     "text": [
      "MoviePy - Done.\n",
      "Extracted audio from nonporn_1464.mp4 to A:\\AI DB\\LSPD\\Audio\\normal\\nonporn_1464.wav\n",
      "No audio found in nonporn_1474.mp4\n",
      "MoviePy - Writing audio in A:\\AI DB\\LSPD\\Audio\\normal\\temp_audio.wav\n"
     ]
    },
    {
     "name": "stderr",
     "output_type": "stream",
     "text": [
      "                                                                                                                       \r"
     ]
    },
    {
     "name": "stdout",
     "output_type": "stream",
     "text": [
      "MoviePy - Done.\n",
      "Extracted audio from nonporn_1763.mp4 to A:\\AI DB\\LSPD\\Audio\\normal\\nonporn_1763.wav\n",
      "No audio found in nonporn_453.mp4\n",
      "No audio found in nonporn_142.mp4\n",
      "No audio found in nonporn_1791.mp4\n",
      "No audio found in nonporn_563.mp4\n",
      "MoviePy - Writing audio in A:\\AI DB\\LSPD\\Audio\\normal\\temp_audio.wav\n"
     ]
    },
    {
     "name": "stderr",
     "output_type": "stream",
     "text": [
      "                                                                                                                       \r"
     ]
    },
    {
     "name": "stdout",
     "output_type": "stream",
     "text": [
      "MoviePy - Done.\n",
      "Extracted audio from nonporn_1923.mp4 to A:\\AI DB\\LSPD\\Audio\\normal\\nonporn_1923.wav\n",
      "MoviePy - Writing audio in A:\\AI DB\\LSPD\\Audio\\normal\\temp_audio.wav\n"
     ]
    },
    {
     "name": "stderr",
     "output_type": "stream",
     "text": [
      "                                                                                                                       \r"
     ]
    },
    {
     "name": "stdout",
     "output_type": "stream",
     "text": [
      "MoviePy - Done.\n",
      "Extracted audio from nonporn_1848.mp4 to A:\\AI DB\\LSPD\\Audio\\normal\\nonporn_1848.wav\n",
      "MoviePy - Writing audio in A:\\AI DB\\LSPD\\Audio\\normal\\temp_audio.wav\n"
     ]
    },
    {
     "name": "stderr",
     "output_type": "stream",
     "text": [
      "                                                                                                                       \r"
     ]
    },
    {
     "name": "stdout",
     "output_type": "stream",
     "text": [
      "MoviePy - Done.\n",
      "Extracted audio from nonporn_232.mp4 to A:\\AI DB\\LSPD\\Audio\\normal\\nonporn_232.wav\n",
      "MoviePy - Writing audio in A:\\AI DB\\LSPD\\Audio\\normal\\temp_audio.wav\n"
     ]
    },
    {
     "name": "stderr",
     "output_type": "stream",
     "text": [
      "                                                                                                                       \r"
     ]
    },
    {
     "name": "stdout",
     "output_type": "stream",
     "text": [
      "MoviePy - Done.\n",
      "Extracted audio from nonporn_223.mp4 to A:\\AI DB\\LSPD\\Audio\\normal\\nonporn_223.wav\n",
      "MoviePy - Writing audio in A:\\AI DB\\LSPD\\Audio\\normal\\temp_audio.wav\n"
     ]
    },
    {
     "name": "stderr",
     "output_type": "stream",
     "text": [
      "                                                                                                                       \r"
     ]
    },
    {
     "name": "stdout",
     "output_type": "stream",
     "text": [
      "MoviePy - Done.\n",
      "Extracted audio from nonporn_885.mp4 to A:\\AI DB\\LSPD\\Audio\\normal\\nonporn_885.wav\n",
      "No audio found in nonporn_848.mp4\n",
      "No audio found in nonporn_663.mp4\n",
      "MoviePy - Writing audio in A:\\AI DB\\LSPD\\Audio\\normal\\temp_audio.wav\n"
     ]
    },
    {
     "name": "stderr",
     "output_type": "stream",
     "text": [
      "                                                                                                                       \r"
     ]
    },
    {
     "name": "stdout",
     "output_type": "stream",
     "text": [
      "MoviePy - Done.\n",
      "Extracted audio from nonporn_205.mp4 to A:\\AI DB\\LSPD\\Audio\\normal\\nonporn_205.wav\n",
      "MoviePy - Writing audio in A:\\AI DB\\LSPD\\Audio\\normal\\temp_audio.wav\n"
     ]
    },
    {
     "name": "stderr",
     "output_type": "stream",
     "text": [
      "                                                                                                                       \r"
     ]
    },
    {
     "name": "stdout",
     "output_type": "stream",
     "text": [
      "MoviePy - Done.\n",
      "Extracted audio from nonporn_119.mp4 to A:\\AI DB\\LSPD\\Audio\\normal\\nonporn_119.wav\n",
      "MoviePy - Writing audio in A:\\AI DB\\LSPD\\Audio\\normal\\temp_audio.wav\n"
     ]
    },
    {
     "name": "stderr",
     "output_type": "stream",
     "text": [
      "                                                                                                                       \r"
     ]
    },
    {
     "name": "stdout",
     "output_type": "stream",
     "text": [
      "MoviePy - Done.\n",
      "Extracted audio from nonporn_1951.mp4 to A:\\AI DB\\LSPD\\Audio\\normal\\nonporn_1951.wav\n",
      "MoviePy - Writing audio in A:\\AI DB\\LSPD\\Audio\\normal\\temp_audio.wav\n"
     ]
    },
    {
     "name": "stderr",
     "output_type": "stream",
     "text": [
      "                                                                                                                       \r"
     ]
    },
    {
     "name": "stdout",
     "output_type": "stream",
     "text": [
      "MoviePy - Done.\n",
      "Extracted audio from nonporn_1002.mp4 to A:\\AI DB\\LSPD\\Audio\\normal\\nonporn_1002.wav\n",
      "No audio found in nonporn_1758.mp4\n",
      "No audio found in nonporn_100.mp4\n",
      "No audio found in nonporn_1557.mp4\n",
      "No audio found in nonporn_591.mp4\n",
      "MoviePy - Writing audio in A:\\AI DB\\LSPD\\Audio\\normal\\temp_audio.wav\n"
     ]
    },
    {
     "name": "stderr",
     "output_type": "stream",
     "text": [
      "                                                                                                                       \r"
     ]
    },
    {
     "name": "stdout",
     "output_type": "stream",
     "text": [
      "MoviePy - Done.\n",
      "Extracted audio from nonporn_502.mp4 to A:\\AI DB\\LSPD\\Audio\\normal\\nonporn_502.wav\n",
      "MoviePy - Writing audio in A:\\AI DB\\LSPD\\Audio\\normal\\temp_audio.wav\n"
     ]
    },
    {
     "name": "stderr",
     "output_type": "stream",
     "text": [
      "                                                                                                                       \r"
     ]
    },
    {
     "name": "stdout",
     "output_type": "stream",
     "text": [
      "MoviePy - Done.\n",
      "Extracted audio from nonporn_1821.mp4 to A:\\AI DB\\LSPD\\Audio\\normal\\nonporn_1821.wav\n",
      "No audio found in nonporn_1163.mp4\n",
      "No audio found in nonporn_1622.mp4\n",
      "No audio found in nonporn_1879.mp4\n",
      "No audio found in nonporn_1327.mp4\n",
      "No audio found in nonporn_1024.mp4\n",
      "No audio found in nonporn_1500.mp4\n",
      "No audio found in nonporn_819.mp4\n",
      "MoviePy - Writing audio in A:\\AI DB\\LSPD\\Audio\\normal\\temp_audio.wav\n"
     ]
    },
    {
     "name": "stderr",
     "output_type": "stream",
     "text": [
      "                                                                                                                       \r"
     ]
    },
    {
     "name": "stdout",
     "output_type": "stream",
     "text": [
      "MoviePy - Done.\n",
      "Extracted audio from nonporn_599.mp4 to A:\\AI DB\\LSPD\\Audio\\normal\\nonporn_599.wav\n",
      "No audio found in nonporn_792.mp4\n",
      "No audio found in nonporn_1244.mp4\n",
      "MoviePy - Writing audio in A:\\AI DB\\LSPD\\Audio\\normal\\temp_audio.wav\n"
     ]
    },
    {
     "name": "stderr",
     "output_type": "stream",
     "text": [
      "                                                                                                                       \r"
     ]
    },
    {
     "name": "stdout",
     "output_type": "stream",
     "text": [
      "MoviePy - Done.\n",
      "Extracted audio from nonporn_54.mp4 to A:\\AI DB\\LSPD\\Audio\\normal\\nonporn_54.wav\n",
      "No audio found in nonporn_408.mp4\n",
      "No audio found in nonporn_856.mp4\n",
      "No audio found in nonporn_357.mp4\n",
      "No audio found in nonporn_1421.mp4\n",
      "No audio found in nonporn_1691.mp4\n",
      "No audio found in nonporn_426.mp4\n",
      "No audio found in nonporn_415.mp4\n",
      "No audio found in nonporn_198.mp4\n",
      "MoviePy - Writing audio in A:\\AI DB\\LSPD\\Audio\\normal\\temp_audio.wav\n"
     ]
    },
    {
     "name": "stderr",
     "output_type": "stream",
     "text": [
      "                                                                                                                       \r"
     ]
    },
    {
     "name": "stdout",
     "output_type": "stream",
     "text": [
      "MoviePy - Done.\n",
      "Audio in nonporn_551.mp4 is too quiet (average dBFS: -inf). Skipping.\n",
      "No audio found in nonporn_582.mp4\n",
      "MoviePy - Writing audio in A:\\AI DB\\LSPD\\Audio\\normal\\temp_audio.wav\n"
     ]
    },
    {
     "name": "stderr",
     "output_type": "stream",
     "text": [
      "                                                                                                                       \r"
     ]
    },
    {
     "name": "stdout",
     "output_type": "stream",
     "text": [
      "MoviePy - Done.\n",
      "Extracted audio from nonporn_1812.mp4 to A:\\AI DB\\LSPD\\Audio\\normal\\nonporn_1812.wav\n",
      "MoviePy - Writing audio in A:\\AI DB\\LSPD\\Audio\\normal\\temp_audio.wav\n"
     ]
    },
    {
     "name": "stderr",
     "output_type": "stream",
     "text": [
      "                                                                                                                       "
     ]
    },
    {
     "name": "stdout",
     "output_type": "stream",
     "text": [
      "MoviePy - Done.\n",
      "Extracted audio from nonporn_1507.mp4 to A:\\AI DB\\LSPD\\Audio\\normal\\nonporn_1507.wav\n",
      "No audio found in nonporn_1213.mp4\n"
     ]
    },
    {
     "name": "stderr",
     "output_type": "stream",
     "text": [
      "\r"
     ]
    },
    {
     "name": "stdout",
     "output_type": "stream",
     "text": [
      "MoviePy - Writing audio in A:\\AI DB\\LSPD\\Audio\\normal\\temp_audio.wav\n"
     ]
    },
    {
     "name": "stderr",
     "output_type": "stream",
     "text": [
      "                                                                                                                       \r"
     ]
    },
    {
     "name": "stdout",
     "output_type": "stream",
     "text": [
      "MoviePy - Done.\n",
      "Extracted audio from nonporn_1828.mp4 to A:\\AI DB\\LSPD\\Audio\\normal\\nonporn_1828.wav\n",
      "No audio found in nonporn_914.mp4\n",
      "No audio found in nonporn_1499.mp4\n",
      "MoviePy - Writing audio in A:\\AI DB\\LSPD\\Audio\\normal\\temp_audio.wav\n"
     ]
    },
    {
     "name": "stderr",
     "output_type": "stream",
     "text": [
      "                                                                                                                       \r"
     ]
    },
    {
     "name": "stdout",
     "output_type": "stream",
     "text": [
      "MoviePy - Done.\n",
      "Extracted audio from nonporn_676.mp4 to A:\\AI DB\\LSPD\\Audio\\normal\\nonporn_676.wav\n",
      "No audio found in nonporn_330.mp4\n",
      "No audio found in nonporn_588.mp4\n",
      "No audio found in nonporn_1062.mp4\n",
      "MoviePy - Writing audio in A:\\AI DB\\LSPD\\Audio\\normal\\temp_audio.wav\n"
     ]
    },
    {
     "name": "stderr",
     "output_type": "stream",
     "text": [
      "                                                                                                                       \r"
     ]
    },
    {
     "name": "stdout",
     "output_type": "stream",
     "text": [
      "MoviePy - Done.\n",
      "Extracted audio from nonporn_1869.mp4 to A:\\AI DB\\LSPD\\Audio\\normal\\nonporn_1869.wav\n",
      "No audio found in nonporn_1737.mp4\n",
      "MoviePy - Writing audio in A:\\AI DB\\LSPD\\Audio\\normal\\temp_audio.wav\n"
     ]
    },
    {
     "name": "stderr",
     "output_type": "stream",
     "text": [
      "                                                                                                                       \r"
     ]
    },
    {
     "name": "stdout",
     "output_type": "stream",
     "text": [
      "MoviePy - Done.\n",
      "Extracted audio from nonporn_385.mp4 to A:\\AI DB\\LSPD\\Audio\\normal\\nonporn_385.wav\n",
      "No audio found in nonporn_788.mp4\n",
      "MoviePy - Writing audio in A:\\AI DB\\LSPD\\Audio\\normal\\temp_audio.wav\n"
     ]
    },
    {
     "name": "stderr",
     "output_type": "stream",
     "text": [
      "                                                                                                                       \r"
     ]
    },
    {
     "name": "stdout",
     "output_type": "stream",
     "text": [
      "MoviePy - Done.\n",
      "Extracted audio from nonporn_1711.mp4 to A:\\AI DB\\LSPD\\Audio\\normal\\nonporn_1711.wav\n",
      "No audio found in nonporn_974.mp4\n",
      "MoviePy - Writing audio in A:\\AI DB\\LSPD\\Audio\\normal\\temp_audio.wav\n"
     ]
    },
    {
     "name": "stderr",
     "output_type": "stream",
     "text": [
      "                                                                                                                       \r"
     ]
    },
    {
     "name": "stdout",
     "output_type": "stream",
     "text": [
      "MoviePy - Done.\n",
      "Extracted audio from nonporn_1571.mp4 to A:\\AI DB\\LSPD\\Audio\\normal\\nonporn_1571.wav\n",
      "No audio found in nonporn_1802.mp4\n",
      "No audio found in nonporn_269.mp4\n",
      "No audio found in nonporn_1111.mp4\n",
      "No audio found in nonporn_321.mp4\n",
      "MoviePy - Writing audio in A:\\AI DB\\LSPD\\Audio\\normal\\temp_audio.wav\n"
     ]
    },
    {
     "name": "stderr",
     "output_type": "stream",
     "text": [
      "                                                                                                                       \r"
     ]
    },
    {
     "name": "stdout",
     "output_type": "stream",
     "text": [
      "MoviePy - Done.\n",
      "Extracted audio from nonporn_1984.mp4 to A:\\AI DB\\LSPD\\Audio\\normal\\nonporn_1984.wav\n",
      "No audio found in nonporn_1077.mp4\n",
      "No audio found in nonporn_457.mp4\n",
      "No audio found in nonporn_839.mp4\n",
      "No audio found in nonporn_1299.mp4\n",
      "No audio found in nonporn_567.mp4\n",
      "No audio found in nonporn_942.mp4\n",
      "No audio found in nonporn_755.mp4\n",
      "No audio found in nonporn_1138.mp4\n",
      "No audio found in nonporn_1694.mp4\n",
      "No audio found in nonporn_680.mp4\n",
      "No audio found in nonporn_1009.mp4\n",
      "No audio found in nonporn_1141.mp4\n",
      "No audio found in nonporn_1449.mp4\n",
      "MoviePy - Writing audio in A:\\AI DB\\LSPD\\Audio\\normal\\temp_audio.wav\n"
     ]
    },
    {
     "name": "stderr",
     "output_type": "stream",
     "text": [
      "                                                                                                                       \r"
     ]
    },
    {
     "name": "stdout",
     "output_type": "stream",
     "text": [
      "MoviePy - Done.\n",
      "Extracted audio from nonporn_343.mp4 to A:\\AI DB\\LSPD\\Audio\\normal\\nonporn_343.wav\n",
      "No audio found in nonporn_17.mp4\n",
      "No audio found in nonporn_1337.mp4\n",
      "No audio found in nonporn_1346.mp4\n",
      "No audio found in nonporn_1129.mp4\n",
      "No audio found in nonporn_1519.mp4\n",
      "MoviePy - Writing audio in A:\\AI DB\\LSPD\\Audio\\normal\\temp_audio.wav\n"
     ]
    },
    {
     "name": "stderr",
     "output_type": "stream",
     "text": [
      "                                                                                                                       \r"
     ]
    },
    {
     "name": "stdout",
     "output_type": "stream",
     "text": [
      "MoviePy - Done.\n",
      "Extracted audio from nonporn_1751.mp4 to A:\\AI DB\\LSPD\\Audio\\normal\\nonporn_1751.wav\n",
      "MoviePy - Writing audio in A:\\AI DB\\LSPD\\Audio\\normal\\temp_audio.wav\n"
     ]
    },
    {
     "name": "stderr",
     "output_type": "stream",
     "text": [
      "                                                                                                                       \r"
     ]
    },
    {
     "name": "stdout",
     "output_type": "stream",
     "text": [
      "MoviePy - Done.\n",
      "Extracted audio from nonporn_630.mp4 to A:\\AI DB\\LSPD\\Audio\\normal\\nonporn_630.wav\n",
      "No audio found in nonporn_722.mp4\n",
      "No audio found in nonporn_207.mp4\n",
      "No audio found in nonporn_1745.mp4\n",
      "No audio found in nonporn_1041.mp4\n",
      "MoviePy - Writing audio in A:\\AI DB\\LSPD\\Audio\\normal\\temp_audio.wav\n"
     ]
    },
    {
     "name": "stderr",
     "output_type": "stream",
     "text": [
      "                                                                                                                       "
     ]
    },
    {
     "name": "stdout",
     "output_type": "stream",
     "text": [
      "MoviePy - Done.\n",
      "Audio in nonporn_643.mp4 is too quiet (average dBFS: -inf). Skipping.\n"
     ]
    },
    {
     "name": "stderr",
     "output_type": "stream",
     "text": [
      "\r"
     ]
    },
    {
     "name": "stdout",
     "output_type": "stream",
     "text": [
      "No audio found in nonporn_290.mp4\n",
      "No audio found in nonporn_101.mp4\n",
      "MoviePy - Writing audio in A:\\AI DB\\LSPD\\Audio\\normal\\temp_audio.wav\n"
     ]
    },
    {
     "name": "stderr",
     "output_type": "stream",
     "text": [
      "                                                                                                                       \r"
     ]
    },
    {
     "name": "stdout",
     "output_type": "stream",
     "text": [
      "MoviePy - Done.\n",
      "Extracted audio from nonporn_804.mp4 to A:\\AI DB\\LSPD\\Audio\\normal\\nonporn_804.wav\n",
      "No audio found in nonporn_499.mp4\n",
      "No audio found in nonporn_1473.mp4\n",
      "No audio found in nonporn_728.mp4\n",
      "MoviePy - Writing audio in A:\\AI DB\\LSPD\\Audio\\normal\\temp_audio.wav\n"
     ]
    },
    {
     "name": "stderr",
     "output_type": "stream",
     "text": [
      "                                                                                                                       \r"
     ]
    },
    {
     "name": "stdout",
     "output_type": "stream",
     "text": [
      "MoviePy - Done.\n",
      "Extracted audio from nonporn_549.mp4 to A:\\AI DB\\LSPD\\Audio\\normal\\nonporn_549.wav\n",
      "No audio found in nonporn_451.mp4\n",
      "No audio found in nonporn_1830.mp4\n",
      "No audio found in nonporn_878.mp4\n",
      "MoviePy - Writing audio in A:\\AI DB\\LSPD\\Audio\\normal\\temp_audio.wav\n"
     ]
    },
    {
     "name": "stderr",
     "output_type": "stream",
     "text": [
      "                                                                                                                       \r"
     ]
    },
    {
     "name": "stdout",
     "output_type": "stream",
     "text": [
      "MoviePy - Done.\n",
      "Extracted audio from nonporn_115.mp4 to A:\\AI DB\\LSPD\\Audio\\normal\\nonporn_115.wav\n",
      "No audio found in nonporn_817.mp4\n",
      "No audio found in nonporn_1030.mp4\n",
      "MoviePy - Writing audio in A:\\AI DB\\LSPD\\Audio\\normal\\temp_audio.wav\n"
     ]
    },
    {
     "name": "stderr",
     "output_type": "stream",
     "text": [
      "                                                                                                                       \r"
     ]
    },
    {
     "name": "stdout",
     "output_type": "stream",
     "text": [
      "MoviePy - Done.\n",
      "Extracted audio from nonporn_65.mp4 to A:\\AI DB\\LSPD\\Audio\\normal\\nonporn_65.wav\n",
      "No audio found in nonporn_1308.mp4\n",
      "No audio found in nonporn_1492.mp4\n",
      "MoviePy - Writing audio in A:\\AI DB\\LSPD\\Audio\\normal\\temp_audio.wav\n"
     ]
    },
    {
     "name": "stderr",
     "output_type": "stream",
     "text": [
      "                                                                                                                       \r"
     ]
    },
    {
     "name": "stdout",
     "output_type": "stream",
     "text": [
      "MoviePy - Done.\n",
      "Extracted audio from nonporn_831.mp4 to A:\\AI DB\\LSPD\\Audio\\normal\\nonporn_831.wav\n",
      "No audio found in nonporn_1084.mp4\n",
      "No audio found in nonporn_436.mp4\n",
      "No audio found in nonporn_1311.mp4\n",
      "No audio found in nonporn_460.mp4\n",
      "No audio found in nonporn_46.mp4\n",
      "MoviePy - Writing audio in A:\\AI DB\\LSPD\\Audio\\normal\\temp_audio.wav\n"
     ]
    },
    {
     "name": "stderr",
     "output_type": "stream",
     "text": [
      "                                                                                                                       \r"
     ]
    },
    {
     "name": "stdout",
     "output_type": "stream",
     "text": [
      "MoviePy - Done.\n",
      "Extracted audio from nonporn_1356.mp4 to A:\\AI DB\\LSPD\\Audio\\normal\\nonporn_1356.wav\n",
      "MoviePy - Writing audio in A:\\AI DB\\LSPD\\Audio\\normal\\temp_audio.wav\n"
     ]
    },
    {
     "name": "stderr",
     "output_type": "stream",
     "text": [
      "                                                                                                                       \r"
     ]
    },
    {
     "name": "stdout",
     "output_type": "stream",
     "text": [
      "MoviePy - Done.\n",
      "Extracted audio from nonporn_369.mp4 to A:\\AI DB\\LSPD\\Audio\\normal\\nonporn_369.wav\n",
      "MoviePy - Writing audio in A:\\AI DB\\LSPD\\Audio\\normal\\temp_audio.wav\n"
     ]
    },
    {
     "name": "stderr",
     "output_type": "stream",
     "text": [
      "                                                                                                                       \r"
     ]
    },
    {
     "name": "stdout",
     "output_type": "stream",
     "text": [
      "MoviePy - Done.\n",
      "Extracted audio from nonporn_601.mp4 to A:\\AI DB\\LSPD\\Audio\\normal\\nonporn_601.wav\n",
      "MoviePy - Writing audio in A:\\AI DB\\LSPD\\Audio\\normal\\temp_audio.wav\n"
     ]
    },
    {
     "name": "stderr",
     "output_type": "stream",
     "text": [
      "                                                                                                                       \r"
     ]
    },
    {
     "name": "stdout",
     "output_type": "stream",
     "text": [
      "MoviePy - Done.\n",
      "Extracted audio from nonporn_1458.mp4 to A:\\AI DB\\LSPD\\Audio\\normal\\nonporn_1458.wav\n",
      "MoviePy - Writing audio in A:\\AI DB\\LSPD\\Audio\\normal\\temp_audio.wav\n"
     ]
    },
    {
     "name": "stderr",
     "output_type": "stream",
     "text": [
      "                                                                                                                       \r"
     ]
    },
    {
     "name": "stdout",
     "output_type": "stream",
     "text": [
      "MoviePy - Done.\n",
      "Extracted audio from nonporn_1772.mp4 to A:\\AI DB\\LSPD\\Audio\\normal\\nonporn_1772.wav\n",
      "No audio found in nonporn_1410.mp4\n",
      "No audio found in nonporn_1728.mp4\n",
      "No audio found in nonporn_1248.mp4\n",
      "No audio found in nonporn_1915.mp4\n",
      "No audio found in nonporn_373.mp4\n",
      "MoviePy - Writing audio in A:\\AI DB\\LSPD\\Audio\\normal\\temp_audio.wav\n"
     ]
    },
    {
     "name": "stderr",
     "output_type": "stream",
     "text": [
      "                                                                                                                       \r"
     ]
    },
    {
     "name": "stdout",
     "output_type": "stream",
     "text": [
      "MoviePy - Done.\n",
      "Extracted audio from nonporn_1547.mp4 to A:\\AI DB\\LSPD\\Audio\\normal\\nonporn_1547.wav\n",
      "No audio found in nonporn_909.mp4\n",
      "No audio found in nonporn_1916.mp4\n",
      "No audio found in nonporn_536.mp4\n",
      "No audio found in nonporn_738.mp4\n",
      "MoviePy - Writing audio in A:\\AI DB\\LSPD\\Audio\\normal\\temp_audio.wav\n"
     ]
    },
    {
     "name": "stderr",
     "output_type": "stream",
     "text": [
      "                                                                                                                       \r"
     ]
    },
    {
     "name": "stdout",
     "output_type": "stream",
     "text": [
      "MoviePy - Done.\n",
      "Extracted audio from nonporn_1868.mp4 to A:\\AI DB\\LSPD\\Audio\\normal\\nonporn_1868.wav\n",
      "MoviePy - Writing audio in A:\\AI DB\\LSPD\\Audio\\normal\\temp_audio.wav\n"
     ]
    },
    {
     "name": "stderr",
     "output_type": "stream",
     "text": [
      "                                                                                                                       \r"
     ]
    },
    {
     "name": "stdout",
     "output_type": "stream",
     "text": [
      "MoviePy - Done.\n",
      "Extracted audio from nonporn_1529.mp4 to A:\\AI DB\\LSPD\\Audio\\normal\\nonporn_1529.wav\n",
      "No audio found in nonporn_173.mp4\n",
      "No audio found in nonporn_1893.mp4\n",
      "No audio found in nonporn_150.mp4\n",
      "No audio found in nonporn_179.mp4\n",
      "MoviePy - Writing audio in A:\\AI DB\\LSPD\\Audio\\normal\\temp_audio.wav\n"
     ]
    },
    {
     "name": "stderr",
     "output_type": "stream",
     "text": [
      "                                                                                                                       \r"
     ]
    },
    {
     "name": "stdout",
     "output_type": "stream",
     "text": [
      "MoviePy - Done.\n",
      "Extracted audio from nonporn_1949.mp4 to A:\\AI DB\\LSPD\\Audio\\normal\\nonporn_1949.wav\n",
      "No audio found in nonporn_589.mp4\n",
      "No audio found in nonporn_445.mp4\n",
      "No audio found in nonporn_1127.mp4\n",
      "No audio found in nonporn_733.mp4\n",
      "No audio found in nonporn_1682.mp4\n",
      "MoviePy - Writing audio in A:\\AI DB\\LSPD\\Audio\\normal\\temp_audio.wav\n"
     ]
    },
    {
     "name": "stderr",
     "output_type": "stream",
     "text": [
      "                                                                                                                       \r"
     ]
    },
    {
     "name": "stdout",
     "output_type": "stream",
     "text": [
      "MoviePy - Done.\n",
      "Extracted audio from nonporn_612.mp4 to A:\\AI DB\\LSPD\\Audio\\normal\\nonporn_612.wav\n",
      "No audio found in nonporn_1130.mp4\n",
      "No audio found in nonporn_1281.mp4\n",
      "No audio found in nonporn_110.mp4\n",
      "No audio found in nonporn_1445.mp4\n",
      "No audio found in nonporn_8.mp4\n",
      "No audio found in nonporn_1855.mp4\n",
      "No audio found in nonporn_673.mp4\n",
      "No audio found in nonporn_1461.mp4\n",
      "No audio found in nonporn_1263.mp4\n",
      "MoviePy - Writing audio in A:\\AI DB\\LSPD\\Audio\\normal\\temp_audio.wav\n"
     ]
    },
    {
     "name": "stderr",
     "output_type": "stream",
     "text": [
      "                                                                                                                       \r"
     ]
    },
    {
     "name": "stdout",
     "output_type": "stream",
     "text": [
      "MoviePy - Done.\n",
      "Extracted audio from nonporn_1934.mp4 to A:\\AI DB\\LSPD\\Audio\\normal\\nonporn_1934.wav\n",
      "MoviePy - Writing audio in A:\\AI DB\\LSPD\\Audio\\normal\\temp_audio.wav\n"
     ]
    },
    {
     "name": "stderr",
     "output_type": "stream",
     "text": [
      "                                                                                                                       \r"
     ]
    },
    {
     "name": "stdout",
     "output_type": "stream",
     "text": [
      "MoviePy - Done.\n",
      "Extracted audio from nonporn_1995.mp4 to A:\\AI DB\\LSPD\\Audio\\normal\\nonporn_1995.wav\n",
      "No audio found in nonporn_1575.mp4\n",
      "MoviePy - Writing audio in A:\\AI DB\\LSPD\\Audio\\normal\\temp_audio.wav\n"
     ]
    },
    {
     "name": "stderr",
     "output_type": "stream",
     "text": [
      "                                                                                                                       \r"
     ]
    },
    {
     "name": "stdout",
     "output_type": "stream",
     "text": [
      "MoviePy - Done.\n",
      "Extracted audio from nonporn_1535.mp4 to A:\\AI DB\\LSPD\\Audio\\normal\\nonporn_1535.wav\n",
      "No audio found in nonporn_1634.mp4\n",
      "No audio found in nonporn_1539.mp4\n",
      "No audio found in nonporn_1171.mp4\n",
      "MoviePy - Writing audio in A:\\AI DB\\LSPD\\Audio\\normal\\temp_audio.wav\n"
     ]
    },
    {
     "name": "stderr",
     "output_type": "stream",
     "text": [
      "                                                                                                                       \r"
     ]
    },
    {
     "name": "stdout",
     "output_type": "stream",
     "text": [
      "MoviePy - Done.\n",
      "Extracted audio from nonporn_1194.mp4 to A:\\AI DB\\LSPD\\Audio\\normal\\nonporn_1194.wav\n",
      "MoviePy - Writing audio in A:\\AI DB\\LSPD\\Audio\\normal\\temp_audio.wav\n"
     ]
    },
    {
     "name": "stderr",
     "output_type": "stream",
     "text": [
      "                                                                                                                       \r"
     ]
    },
    {
     "name": "stdout",
     "output_type": "stream",
     "text": [
      "MoviePy - Done.\n",
      "Extracted audio from nonporn_1043.mp4 to A:\\AI DB\\LSPD\\Audio\\normal\\nonporn_1043.wav\n",
      "No audio found in nonporn_1837.mp4\n",
      "MoviePy - Writing audio in A:\\AI DB\\LSPD\\Audio\\normal\\temp_audio.wav\n"
     ]
    },
    {
     "name": "stderr",
     "output_type": "stream",
     "text": [
      "                                                                                                                       "
     ]
    },
    {
     "name": "stdout",
     "output_type": "stream",
     "text": [
      "MoviePy - Done.\n",
      "Extracted audio from nonporn_1416.mp4 to A:\\AI DB\\LSPD\\Audio\\normal\\nonporn_1416.wav\n"
     ]
    },
    {
     "name": "stderr",
     "output_type": "stream",
     "text": [
      "\r"
     ]
    },
    {
     "name": "stdout",
     "output_type": "stream",
     "text": [
      "MoviePy - Writing audio in A:\\AI DB\\LSPD\\Audio\\normal\\temp_audio.wav\n"
     ]
    },
    {
     "name": "stderr",
     "output_type": "stream",
     "text": [
      "                                                                                                                       \r"
     ]
    },
    {
     "name": "stdout",
     "output_type": "stream",
     "text": [
      "MoviePy - Done.\n",
      "Extracted audio from nonporn_686.mp4 to A:\\AI DB\\LSPD\\Audio\\normal\\nonporn_686.wav\n",
      "No audio found in nonporn_1769.mp4\n",
      "No audio found in nonporn_1540.mp4\n",
      "No audio found in nonporn_484.mp4\n",
      "No audio found in nonporn_469.mp4\n",
      "No audio found in nonporn_580.mp4\n",
      "No audio found in nonporn_217.mp4\n",
      "No audio found in nonporn_1019.mp4\n",
      "No audio found in nonporn_866.mp4\n",
      "No audio found in nonporn_1120.mp4\n",
      "MoviePy - Writing audio in A:\\AI DB\\LSPD\\Audio\\normal\\temp_audio.wav\n"
     ]
    },
    {
     "name": "stderr",
     "output_type": "stream",
     "text": [
      "                                                                                                                       \r"
     ]
    },
    {
     "name": "stdout",
     "output_type": "stream",
     "text": [
      "MoviePy - Done.\n",
      "Extracted audio from nonporn_668.mp4 to A:\\AI DB\\LSPD\\Audio\\normal\\nonporn_668.wav\n",
      "No audio found in nonporn_1069.mp4\n",
      "MoviePy - Writing audio in A:\\AI DB\\LSPD\\Audio\\normal\\temp_audio.wav\n"
     ]
    },
    {
     "name": "stderr",
     "output_type": "stream",
     "text": [
      "                                                                                                                       \r"
     ]
    },
    {
     "name": "stdout",
     "output_type": "stream",
     "text": [
      "MoviePy - Done.\n",
      "Extracted audio from nonporn_222.mp4 to A:\\AI DB\\LSPD\\Audio\\normal\\nonporn_222.wav\n",
      "MoviePy - Writing audio in A:\\AI DB\\LSPD\\Audio\\normal\\temp_audio.wav\n"
     ]
    },
    {
     "name": "stderr",
     "output_type": "stream",
     "text": [
      "                                                                                                                       \r"
     ]
    },
    {
     "name": "stdout",
     "output_type": "stream",
     "text": [
      "MoviePy - Done.\n",
      "Extracted audio from nonporn_1295.mp4 to A:\\AI DB\\LSPD\\Audio\\normal\\nonporn_1295.wav\n",
      "No audio found in nonporn_540.mp4\n",
      "MoviePy - Writing audio in A:\\AI DB\\LSPD\\Audio\\normal\\temp_audio.wav\n"
     ]
    },
    {
     "name": "stderr",
     "output_type": "stream",
     "text": [
      "                                                                                                                       \r"
     ]
    },
    {
     "name": "stdout",
     "output_type": "stream",
     "text": [
      "MoviePy - Done.\n",
      "Extracted audio from nonporn_378.mp4 to A:\\AI DB\\LSPD\\Audio\\normal\\nonporn_378.wav\n",
      "No audio found in nonporn_918.mp4\n",
      "No audio found in nonporn_1315.mp4\n",
      "MoviePy - Writing audio in A:\\AI DB\\LSPD\\Audio\\normal\\temp_audio.wav\n"
     ]
    },
    {
     "name": "stderr",
     "output_type": "stream",
     "text": [
      "                                                                                                                       \r"
     ]
    },
    {
     "name": "stdout",
     "output_type": "stream",
     "text": [
      "MoviePy - Done.\n",
      "Extracted audio from nonporn_1857.mp4 to A:\\AI DB\\LSPD\\Audio\\normal\\nonporn_1857.wav\n",
      "No audio found in nonporn_1501.mp4\n",
      "MoviePy - Writing audio in A:\\AI DB\\LSPD\\Audio\\normal\\temp_audio.wav\n"
     ]
    },
    {
     "name": "stderr",
     "output_type": "stream",
     "text": [
      "                                                                                                                       \r"
     ]
    },
    {
     "name": "stdout",
     "output_type": "stream",
     "text": [
      "MoviePy - Done.\n",
      "Extracted audio from nonporn_1713.mp4 to A:\\AI DB\\LSPD\\Audio\\normal\\nonporn_1713.wav\n",
      "No audio found in nonporn_1518.mp4\n",
      "MoviePy - Writing audio in A:\\AI DB\\LSPD\\Audio\\normal\\temp_audio.wav\n"
     ]
    },
    {
     "name": "stderr",
     "output_type": "stream",
     "text": [
      "                                                                                                                       \r"
     ]
    },
    {
     "name": "stdout",
     "output_type": "stream",
     "text": [
      "MoviePy - Done.\n",
      "Extracted audio from nonporn_455.mp4 to A:\\AI DB\\LSPD\\Audio\\normal\\nonporn_455.wav\n",
      "MoviePy - Writing audio in A:\\AI DB\\LSPD\\Audio\\normal\\temp_audio.wav\n"
     ]
    },
    {
     "name": "stderr",
     "output_type": "stream",
     "text": [
      "                                                                                                                       "
     ]
    },
    {
     "name": "stdout",
     "output_type": "stream",
     "text": [
      "MoviePy - Done.\n",
      "Audio in nonporn_833.mp4 is too quiet (average dBFS: -inf). Skipping.\n",
      "No audio found in nonporn_59.mp4\n"
     ]
    },
    {
     "name": "stderr",
     "output_type": "stream",
     "text": [
      "\r"
     ]
    },
    {
     "name": "stdout",
     "output_type": "stream",
     "text": [
      "No audio found in nonporn_168.mp4\n",
      "No audio found in nonporn_1905.mp4\n",
      "No audio found in nonporn_1770.mp4\n",
      "MoviePy - Writing audio in A:\\AI DB\\LSPD\\Audio\\normal\\temp_audio.wav\n"
     ]
    },
    {
     "name": "stderr",
     "output_type": "stream",
     "text": [
      "                                                                                                                       \r"
     ]
    },
    {
     "name": "stdout",
     "output_type": "stream",
     "text": [
      "MoviePy - Done.\n",
      "Extracted audio from nonporn_1801.mp4 to A:\\AI DB\\LSPD\\Audio\\normal\\nonporn_1801.wav\n",
      "No audio found in nonporn_274.mp4\n",
      "MoviePy - Writing audio in A:\\AI DB\\LSPD\\Audio\\normal\\temp_audio.wav\n"
     ]
    },
    {
     "name": "stderr",
     "output_type": "stream",
     "text": [
      "                                                                                                                       \r"
     ]
    },
    {
     "name": "stdout",
     "output_type": "stream",
     "text": [
      "MoviePy - Done.\n",
      "Extracted audio from nonporn_1943.mp4 to A:\\AI DB\\LSPD\\Audio\\normal\\nonporn_1943.wav\n",
      "No audio found in nonporn_899.mp4\n",
      "No audio found in nonporn_1139.mp4\n",
      "MoviePy - Writing audio in A:\\AI DB\\LSPD\\Audio\\normal\\temp_audio.wav\n"
     ]
    },
    {
     "name": "stderr",
     "output_type": "stream",
     "text": [
      "                                                                                                                       \r"
     ]
    },
    {
     "name": "stdout",
     "output_type": "stream",
     "text": [
      "MoviePy - Done.\n",
      "Extracted audio from nonporn_1481.mp4 to A:\\AI DB\\LSPD\\Audio\\normal\\nonporn_1481.wav\n",
      "No audio found in nonporn_1673.mp4\n",
      "MoviePy - Writing audio in A:\\AI DB\\LSPD\\Audio\\normal\\temp_audio.wav\n"
     ]
    },
    {
     "name": "stderr",
     "output_type": "stream",
     "text": [
      "                                                                                                                       \r"
     ]
    },
    {
     "name": "stdout",
     "output_type": "stream",
     "text": [
      "MoviePy - Done.\n",
      "Extracted audio from nonporn_670.mp4 to A:\\AI DB\\LSPD\\Audio\\normal\\nonporn_670.wav\n",
      "MoviePy - Writing audio in A:\\AI DB\\LSPD\\Audio\\normal\\temp_audio.wav\n"
     ]
    },
    {
     "name": "stderr",
     "output_type": "stream",
     "text": [
      "                                                                                                                       \r"
     ]
    },
    {
     "name": "stdout",
     "output_type": "stream",
     "text": [
      "MoviePy - Done.\n",
      "Extracted audio from nonporn_1672.mp4 to A:\\AI DB\\LSPD\\Audio\\normal\\nonporn_1672.wav\n",
      "No audio found in nonporn_1059.mp4\n",
      "No audio found in nonporn_470.mp4\n",
      "No audio found in nonporn_653.mp4\n",
      "MoviePy - Writing audio in A:\\AI DB\\LSPD\\Audio\\normal\\temp_audio.wav\n"
     ]
    },
    {
     "name": "stderr",
     "output_type": "stream",
     "text": [
      "                                                                                                                       \r"
     ]
    },
    {
     "name": "stdout",
     "output_type": "stream",
     "text": [
      "MoviePy - Done.\n",
      "Extracted audio from nonporn_1531.mp4 to A:\\AI DB\\LSPD\\Audio\\normal\\nonporn_1531.wav\n",
      "No audio found in nonporn_876.mp4\n",
      "No audio found in nonporn_1166.mp4\n",
      "No audio found in nonporn_537.mp4\n",
      "No audio found in nonporn_1852.mp4\n",
      "No audio found in nonporn_162.mp4\n",
      "MoviePy - Writing audio in A:\\AI DB\\LSPD\\Audio\\normal\\temp_audio.wav\n"
     ]
    },
    {
     "name": "stderr",
     "output_type": "stream",
     "text": [
      "                                                                                                                       \r"
     ]
    },
    {
     "name": "stdout",
     "output_type": "stream",
     "text": [
      "MoviePy - Done.\n",
      "Extracted audio from nonporn_123.mp4 to A:\\AI DB\\LSPD\\Audio\\normal\\nonporn_123.wav\n",
      "No audio found in nonporn_1741.mp4\n",
      "No audio found in nonporn_1231.mp4\n",
      "No audio found in nonporn_1229.mp4\n",
      "MoviePy - Writing audio in A:\\AI DB\\LSPD\\Audio\\normal\\temp_audio.wav\n"
     ]
    },
    {
     "name": "stderr",
     "output_type": "stream",
     "text": [
      "                                                                                                                       \r"
     ]
    },
    {
     "name": "stdout",
     "output_type": "stream",
     "text": [
      "MoviePy - Done.\n",
      "Extracted audio from nonporn_1870.mp4 to A:\\AI DB\\LSPD\\Audio\\normal\\nonporn_1870.wav\n",
      "MoviePy - Writing audio in A:\\AI DB\\LSPD\\Audio\\normal\\temp_audio.wav\n"
     ]
    },
    {
     "name": "stderr",
     "output_type": "stream",
     "text": [
      "                                                                                                                       \r"
     ]
    },
    {
     "name": "stdout",
     "output_type": "stream",
     "text": [
      "MoviePy - Done.\n",
      "Extracted audio from nonporn_1536.mp4 to A:\\AI DB\\LSPD\\Audio\\normal\\nonporn_1536.wav\n",
      "MoviePy - Writing audio in A:\\AI DB\\LSPD\\Audio\\normal\\temp_audio.wav\n"
     ]
    },
    {
     "name": "stderr",
     "output_type": "stream",
     "text": [
      "                                                                                                                       \r"
     ]
    },
    {
     "name": "stdout",
     "output_type": "stream",
     "text": [
      "MoviePy - Done.\n",
      "Extracted audio from nonporn_1825.mp4 to A:\\AI DB\\LSPD\\Audio\\normal\\nonporn_1825.wav\n",
      "MoviePy - Writing audio in A:\\AI DB\\LSPD\\Audio\\normal\\temp_audio.wav\n"
     ]
    },
    {
     "name": "stderr",
     "output_type": "stream",
     "text": [
      "                                                                                                                       "
     ]
    },
    {
     "name": "stdout",
     "output_type": "stream",
     "text": [
      "MoviePy - Done.\n",
      "Audio in nonporn_638.mp4 is too quiet (average dBFS: -inf). Skipping.\n"
     ]
    },
    {
     "name": "stderr",
     "output_type": "stream",
     "text": [
      "\r"
     ]
    },
    {
     "name": "stdout",
     "output_type": "stream",
     "text": [
      "MoviePy - Writing audio in A:\\AI DB\\LSPD\\Audio\\normal\\temp_audio.wav\n"
     ]
    },
    {
     "name": "stderr",
     "output_type": "stream",
     "text": [
      "                                                                                                                       \r"
     ]
    },
    {
     "name": "stdout",
     "output_type": "stream",
     "text": [
      "MoviePy - Done.\n",
      "Extracted audio from nonporn_69.mp4 to A:\\AI DB\\LSPD\\Audio\\normal\\nonporn_69.wav\n",
      "MoviePy - Writing audio in A:\\AI DB\\LSPD\\Audio\\normal\\temp_audio.wav\n"
     ]
    },
    {
     "name": "stderr",
     "output_type": "stream",
     "text": [
      "                                                                                                                       \r"
     ]
    },
    {
     "name": "stdout",
     "output_type": "stream",
     "text": [
      "MoviePy - Done.\n",
      "Extracted audio from nonporn_1325.mp4 to A:\\AI DB\\LSPD\\Audio\\normal\\nonporn_1325.wav\n",
      "MoviePy - Writing audio in A:\\AI DB\\LSPD\\Audio\\normal\\temp_audio.wav\n"
     ]
    },
    {
     "name": "stderr",
     "output_type": "stream",
     "text": [
      "                                                                                                                       \r"
     ]
    },
    {
     "name": "stdout",
     "output_type": "stream",
     "text": [
      "MoviePy - Done.\n",
      "Extracted audio from nonporn_1911.mp4 to A:\\AI DB\\LSPD\\Audio\\normal\\nonporn_1911.wav\n",
      "No audio found in nonporn_1275.mp4\n",
      "MoviePy - Writing audio in A:\\AI DB\\LSPD\\Audio\\normal\\temp_audio.wav\n"
     ]
    },
    {
     "name": "stderr",
     "output_type": "stream",
     "text": [
      "                                                                                                                       \r"
     ]
    },
    {
     "name": "stdout",
     "output_type": "stream",
     "text": [
      "MoviePy - Done.\n",
      "Extracted audio from nonporn_1607.mp4 to A:\\AI DB\\LSPD\\Audio\\normal\\nonporn_1607.wav\n",
      "No audio found in nonporn_773.mp4\n",
      "No audio found in nonporn_1901.mp4\n",
      "No audio found in nonporn_1454.mp4\n",
      "No audio found in nonporn_433.mp4\n",
      "No audio found in nonporn_919.mp4\n",
      "No audio found in nonporn_129.mp4\n",
      "No audio found in nonporn_1101.mp4\n",
      "No audio found in nonporn_1532.mp4\n",
      "No audio found in nonporn_1419.mp4\n",
      "No audio found in nonporn_146.mp4\n",
      "MoviePy - Writing audio in A:\\AI DB\\LSPD\\Audio\\normal\\temp_audio.wav\n"
     ]
    },
    {
     "name": "stderr",
     "output_type": "stream",
     "text": [
      "                                                                                                                       \r"
     ]
    },
    {
     "name": "stdout",
     "output_type": "stream",
     "text": [
      "MoviePy - Done.\n",
      "Extracted audio from nonporn_1377.mp4 to A:\\AI DB\\LSPD\\Audio\\normal\\nonporn_1377.wav\n",
      "No audio found in nonporn_472.mp4\n",
      "No audio found in nonporn_561.mp4\n",
      "No audio found in nonporn_153.mp4\n",
      "No audio found in nonporn_623.mp4\n",
      "MoviePy - Writing audio in A:\\AI DB\\LSPD\\Audio\\normal\\temp_audio.wav\n"
     ]
    },
    {
     "name": "stderr",
     "output_type": "stream",
     "text": [
      "                                                                                                                       \r"
     ]
    },
    {
     "name": "stdout",
     "output_type": "stream",
     "text": [
      "MoviePy - Done.\n",
      "Extracted audio from nonporn_1589.mp4 to A:\\AI DB\\LSPD\\Audio\\normal\\nonporn_1589.wav\n",
      "No audio found in nonporn_523.mp4\n",
      "MoviePy - Writing audio in A:\\AI DB\\LSPD\\Audio\\normal\\temp_audio.wav\n"
     ]
    },
    {
     "name": "stderr",
     "output_type": "stream",
     "text": [
      "                                                                                                                       \r"
     ]
    },
    {
     "name": "stdout",
     "output_type": "stream",
     "text": [
      "MoviePy - Done.\n",
      "Extracted audio from nonporn_1640.mp4 to A:\\AI DB\\LSPD\\Audio\\normal\\nonporn_1640.wav\n",
      "MoviePy - Writing audio in A:\\AI DB\\LSPD\\Audio\\normal\\temp_audio.wav\n"
     ]
    },
    {
     "name": "stderr",
     "output_type": "stream",
     "text": [
      "                                                                                                                       \r"
     ]
    },
    {
     "name": "stdout",
     "output_type": "stream",
     "text": [
      "MoviePy - Done.\n",
      "Extracted audio from nonporn_197.mp4 to A:\\AI DB\\LSPD\\Audio\\normal\\nonporn_197.wav\n",
      "MoviePy - Writing audio in A:\\AI DB\\LSPD\\Audio\\normal\\temp_audio.wav\n"
     ]
    },
    {
     "name": "stderr",
     "output_type": "stream",
     "text": [
      "                                                                                                                       \r"
     ]
    },
    {
     "name": "stdout",
     "output_type": "stream",
     "text": [
      "MoviePy - Done.\n",
      "Extracted audio from nonporn_1533.mp4 to A:\\AI DB\\LSPD\\Audio\\normal\\nonporn_1533.wav\n",
      "MoviePy - Writing audio in A:\\AI DB\\LSPD\\Audio\\normal\\temp_audio.wav\n"
     ]
    },
    {
     "name": "stderr",
     "output_type": "stream",
     "text": [
      "                                                                                                                       \r"
     ]
    },
    {
     "name": "stdout",
     "output_type": "stream",
     "text": [
      "MoviePy - Done.\n",
      "Extracted audio from nonporn_351.mp4 to A:\\AI DB\\LSPD\\Audio\\normal\\nonporn_351.wav\n",
      "MoviePy - Writing audio in A:\\AI DB\\LSPD\\Audio\\normal\\temp_audio.wav\n"
     ]
    },
    {
     "name": "stderr",
     "output_type": "stream",
     "text": [
      "                                                                                                                       \r"
     ]
    },
    {
     "name": "stdout",
     "output_type": "stream",
     "text": [
      "MoviePy - Done.\n",
      "Extracted audio from nonporn_1703.mp4 to A:\\AI DB\\LSPD\\Audio\\normal\\nonporn_1703.wav\n",
      "MoviePy - Writing audio in A:\\AI DB\\LSPD\\Audio\\normal\\temp_audio.wav\n"
     ]
    },
    {
     "name": "stderr",
     "output_type": "stream",
     "text": [
      "                                                                                                                       \r"
     ]
    },
    {
     "name": "stdout",
     "output_type": "stream",
     "text": [
      "MoviePy - Done.\n",
      "Extracted audio from nonporn_1037.mp4 to A:\\AI DB\\LSPD\\Audio\\normal\\nonporn_1037.wav\n",
      "MoviePy - Writing audio in A:\\AI DB\\LSPD\\Audio\\normal\\temp_audio.wav\n"
     ]
    },
    {
     "name": "stderr",
     "output_type": "stream",
     "text": [
      "                                                                                                                       \r"
     ]
    },
    {
     "name": "stdout",
     "output_type": "stream",
     "text": [
      "MoviePy - Done.\n",
      "Extracted audio from nonporn_1572.mp4 to A:\\AI DB\\LSPD\\Audio\\normal\\nonporn_1572.wav\n",
      "MoviePy - Writing audio in A:\\AI DB\\LSPD\\Audio\\normal\\temp_audio.wav\n"
     ]
    },
    {
     "name": "stderr",
     "output_type": "stream",
     "text": [
      "                                                                                                                       \r"
     ]
    },
    {
     "name": "stdout",
     "output_type": "stream",
     "text": [
      "MoviePy - Done.\n",
      "Extracted audio from nonporn_712.mp4 to A:\\AI DB\\LSPD\\Audio\\normal\\nonporn_712.wav\n",
      "No audio found in nonporn_1593.mp4\n",
      "MoviePy - Writing audio in A:\\AI DB\\LSPD\\Audio\\normal\\temp_audio.wav\n"
     ]
    },
    {
     "name": "stderr",
     "output_type": "stream",
     "text": [
      "                                                                                                                       \r"
     ]
    },
    {
     "name": "stdout",
     "output_type": "stream",
     "text": [
      "MoviePy - Done.\n",
      "Extracted audio from nonporn_359.mp4 to A:\\AI DB\\LSPD\\Audio\\normal\\nonporn_359.wav\n",
      "No audio found in nonporn_184.mp4\n",
      "No audio found in nonporn_664.mp4\n",
      "MoviePy - Writing audio in A:\\AI DB\\LSPD\\Audio\\normal\\temp_audio.wav\n"
     ]
    },
    {
     "name": "stderr",
     "output_type": "stream",
     "text": [
      "                                                                                                                       \r"
     ]
    },
    {
     "name": "stdout",
     "output_type": "stream",
     "text": [
      "MoviePy - Done.\n",
      "Extracted audio from nonporn_1756.mp4 to A:\\AI DB\\LSPD\\Audio\\normal\\nonporn_1756.wav\n",
      "No audio found in nonporn_318.mp4\n",
      "MoviePy - Writing audio in A:\\AI DB\\LSPD\\Audio\\normal\\temp_audio.wav\n"
     ]
    },
    {
     "name": "stderr",
     "output_type": "stream",
     "text": [
      "                                                                                                                       \r"
     ]
    },
    {
     "name": "stdout",
     "output_type": "stream",
     "text": [
      "MoviePy - Done.\n",
      "Extracted audio from nonporn_1191.mp4 to A:\\AI DB\\LSPD\\Audio\\normal\\nonporn_1191.wav\n",
      "MoviePy - Writing audio in A:\\AI DB\\LSPD\\Audio\\normal\\temp_audio.wav\n"
     ]
    },
    {
     "name": "stderr",
     "output_type": "stream",
     "text": [
      "                                                                                                                       \r"
     ]
    },
    {
     "name": "stdout",
     "output_type": "stream",
     "text": [
      "MoviePy - Done.\n",
      "Extracted audio from nonporn_967.mp4 to A:\\AI DB\\LSPD\\Audio\\normal\\nonporn_967.wav\n",
      "No audio found in nonporn_1675.mp4\n",
      "No audio found in nonporn_1902.mp4\n",
      "No audio found in nonporn_90.mp4\n",
      "No audio found in nonporn_1570.mp4\n",
      "No audio found in nonporn_1249.mp4\n",
      "No audio found in nonporn_560.mp4\n",
      "No audio found in nonporn_1278.mp4\n",
      "MoviePy - Writing audio in A:\\AI DB\\LSPD\\Audio\\normal\\temp_audio.wav\n"
     ]
    },
    {
     "name": "stderr",
     "output_type": "stream",
     "text": [
      "                                                                                                                       \r"
     ]
    },
    {
     "name": "stdout",
     "output_type": "stream",
     "text": [
      "MoviePy - Done.\n",
      "Extracted audio from nonporn_347.mp4 to A:\\AI DB\\LSPD\\Audio\\normal\\nonporn_347.wav\n",
      "No audio found in nonporn_1831.mp4\n",
      "No audio found in nonporn_1664.mp4\n",
      "MoviePy - Writing audio in A:\\AI DB\\LSPD\\Audio\\normal\\temp_audio.wav\n"
     ]
    },
    {
     "name": "stderr",
     "output_type": "stream",
     "text": [
      "                                                                                                                       \r"
     ]
    },
    {
     "name": "stdout",
     "output_type": "stream",
     "text": [
      "MoviePy - Done.\n",
      "Extracted audio from nonporn_1513.mp4 to A:\\AI DB\\LSPD\\Audio\\normal\\nonporn_1513.wav\n",
      "MoviePy - Writing audio in A:\\AI DB\\LSPD\\Audio\\normal\\temp_audio.wav\n"
     ]
    },
    {
     "name": "stderr",
     "output_type": "stream",
     "text": [
      "                                                                                                                       \r"
     ]
    },
    {
     "name": "stdout",
     "output_type": "stream",
     "text": [
      "MoviePy - Done.\n",
      "Extracted audio from nonporn_106.mp4 to A:\\AI DB\\LSPD\\Audio\\normal\\nonporn_106.wav\n",
      "No audio found in nonporn_1367.mp4\n",
      "No audio found in nonporn_174.mp4\n",
      "No audio found in nonporn_338.mp4\n",
      "MoviePy - Writing audio in A:\\AI DB\\LSPD\\Audio\\normal\\temp_audio.wav\n"
     ]
    },
    {
     "name": "stderr",
     "output_type": "stream",
     "text": [
      "                                                                                                                       \r"
     ]
    },
    {
     "name": "stdout",
     "output_type": "stream",
     "text": [
      "MoviePy - Done.\n",
      "Extracted audio from nonporn_1666.mp4 to A:\\AI DB\\LSPD\\Audio\\normal\\nonporn_1666.wav\n",
      "MoviePy - Writing audio in A:\\AI DB\\LSPD\\Audio\\normal\\temp_audio.wav\n"
     ]
    },
    {
     "name": "stderr",
     "output_type": "stream",
     "text": [
      "                                                                                                                       \r"
     ]
    },
    {
     "name": "stdout",
     "output_type": "stream",
     "text": [
      "MoviePy - Done.\n",
      "Extracted audio from nonporn_1099.mp4 to A:\\AI DB\\LSPD\\Audio\\normal\\nonporn_1099.wav\n",
      "MoviePy - Writing audio in A:\\AI DB\\LSPD\\Audio\\normal\\temp_audio.wav\n"
     ]
    },
    {
     "name": "stderr",
     "output_type": "stream",
     "text": [
      "                                                                                                                       \r"
     ]
    },
    {
     "name": "stdout",
     "output_type": "stream",
     "text": [
      "MoviePy - Done.\n",
      "Extracted audio from nonporn_1437.mp4 to A:\\AI DB\\LSPD\\Audio\\normal\\nonporn_1437.wav\n",
      "No audio found in nonporn_836.mp4\n",
      "No audio found in nonporn_1924.mp4\n",
      "No audio found in nonporn_1744.mp4\n",
      "MoviePy - Writing audio in A:\\AI DB\\LSPD\\Audio\\normal\\temp_audio.wav\n"
     ]
    },
    {
     "name": "stderr",
     "output_type": "stream",
     "text": [
      "                                                                                                                       \r"
     ]
    },
    {
     "name": "stdout",
     "output_type": "stream",
     "text": [
      "MoviePy - Done.\n",
      "Extracted audio from nonporn_1530.mp4 to A:\\AI DB\\LSPD\\Audio\\normal\\nonporn_1530.wav\n",
      "No audio found in nonporn_518.mp4\n",
      "MoviePy - Writing audio in A:\\AI DB\\LSPD\\Audio\\normal\\temp_audio.wav\n"
     ]
    },
    {
     "name": "stderr",
     "output_type": "stream",
     "text": [
      "                                                                                                                       \r"
     ]
    },
    {
     "name": "stdout",
     "output_type": "stream",
     "text": [
      "MoviePy - Done.\n",
      "Extracted audio from nonporn_1844.mp4 to A:\\AI DB\\LSPD\\Audio\\normal\\nonporn_1844.wav\n",
      "No audio found in nonporn_751.mp4\n",
      "No audio found in nonporn_1014.mp4\n",
      "No audio found in nonporn_685.mp4\n",
      "MoviePy - Writing audio in A:\\AI DB\\LSPD\\Audio\\normal\\temp_audio.wav\n"
     ]
    },
    {
     "name": "stderr",
     "output_type": "stream",
     "text": [
      "                                                                                                                       \r"
     ]
    },
    {
     "name": "stdout",
     "output_type": "stream",
     "text": [
      "MoviePy - Done.\n",
      "Extracted audio from nonporn_1341.mp4 to A:\\AI DB\\LSPD\\Audio\\normal\\nonporn_1341.wav\n",
      "No audio found in nonporn_541.mp4\n",
      "MoviePy - Writing audio in A:\\AI DB\\LSPD\\Audio\\normal\\temp_audio.wav\n"
     ]
    },
    {
     "name": "stderr",
     "output_type": "stream",
     "text": [
      "                                                                                                                       \r"
     ]
    },
    {
     "name": "stdout",
     "output_type": "stream",
     "text": [
      "MoviePy - Done.\n",
      "Extracted audio from nonporn_886.mp4 to A:\\AI DB\\LSPD\\Audio\\normal\\nonporn_886.wav\n",
      "No audio found in nonporn_868.mp4\n",
      "No audio found in nonporn_838.mp4\n",
      "No audio found in nonporn_1988.mp4\n",
      "No audio found in nonporn_937.mp4\n",
      "No audio found in nonporn_239.mp4\n",
      "MoviePy - Writing audio in A:\\AI DB\\LSPD\\Audio\\normal\\temp_audio.wav\n"
     ]
    },
    {
     "name": "stderr",
     "output_type": "stream",
     "text": [
      "                                                                                                                       \r"
     ]
    },
    {
     "name": "stdout",
     "output_type": "stream",
     "text": [
      "MoviePy - Done.\n",
      "Extracted audio from nonporn_1423.mp4 to A:\\AI DB\\LSPD\\Audio\\normal\\nonporn_1423.wav\n",
      "No audio found in nonporn_1573.mp4\n",
      "MoviePy - Writing audio in A:\\AI DB\\LSPD\\Audio\\normal\\temp_audio.wav\n"
     ]
    },
    {
     "name": "stderr",
     "output_type": "stream",
     "text": [
      "                                                                                                                       \r"
     ]
    },
    {
     "name": "stdout",
     "output_type": "stream",
     "text": [
      "MoviePy - Done.\n",
      "Extracted audio from nonporn_1303.mp4 to A:\\AI DB\\LSPD\\Audio\\normal\\nonporn_1303.wav\n",
      "No audio found in nonporn_1114.mp4\n",
      "No audio found in nonporn_801.mp4\n",
      "MoviePy - Writing audio in A:\\AI DB\\LSPD\\Audio\\normal\\temp_audio.wav\n"
     ]
    },
    {
     "name": "stderr",
     "output_type": "stream",
     "text": [
      "                                                                                                                       \r"
     ]
    },
    {
     "name": "stdout",
     "output_type": "stream",
     "text": [
      "MoviePy - Done.\n",
      "Extracted audio from nonporn_1912.mp4 to A:\\AI DB\\LSPD\\Audio\\normal\\nonporn_1912.wav\n",
      "No audio found in nonporn_1221.mp4\n",
      "MoviePy - Writing audio in A:\\AI DB\\LSPD\\Audio\\normal\\temp_audio.wav\n"
     ]
    },
    {
     "name": "stderr",
     "output_type": "stream",
     "text": [
      "                                                                                                                       "
     ]
    },
    {
     "name": "stdout",
     "output_type": "stream",
     "text": [
      "MoviePy - Done.\n",
      "Extracted audio from nonporn_1639.mp4 to A:\\AI DB\\LSPD\\Audio\\normal\\nonporn_1639.wav\n"
     ]
    },
    {
     "name": "stderr",
     "output_type": "stream",
     "text": [
      "\r"
     ]
    },
    {
     "name": "stdout",
     "output_type": "stream",
     "text": [
      "MoviePy - Writing audio in A:\\AI DB\\LSPD\\Audio\\normal\\temp_audio.wav\n"
     ]
    },
    {
     "name": "stderr",
     "output_type": "stream",
     "text": [
      "                                                                                                                       \r"
     ]
    },
    {
     "name": "stdout",
     "output_type": "stream",
     "text": [
      "MoviePy - Done.\n",
      "Extracted audio from nonporn_979.mp4 to A:\\AI DB\\LSPD\\Audio\\normal\\nonporn_979.wav\n",
      "MoviePy - Writing audio in A:\\AI DB\\LSPD\\Audio\\normal\\temp_audio.wav\n"
     ]
    },
    {
     "name": "stderr",
     "output_type": "stream",
     "text": [
      "                                                                                                                       \r"
     ]
    },
    {
     "name": "stdout",
     "output_type": "stream",
     "text": [
      "MoviePy - Done.\n",
      "Extracted audio from nonporn_1804.mp4 to A:\\AI DB\\LSPD\\Audio\\normal\\nonporn_1804.wav\n",
      "No audio found in nonporn_962.mp4\n",
      "No audio found in nonporn_1049.mp4\n",
      "No audio found in nonporn_1023.mp4\n",
      "MoviePy - Writing audio in A:\\AI DB\\LSPD\\Audio\\normal\\temp_audio.wav\n"
     ]
    },
    {
     "name": "stderr",
     "output_type": "stream",
     "text": [
      "                                                                                                                       \r"
     ]
    },
    {
     "name": "stdout",
     "output_type": "stream",
     "text": [
      "MoviePy - Done.\n",
      "Extracted audio from nonporn_1431.mp4 to A:\\AI DB\\LSPD\\Audio\\normal\\nonporn_1431.wav\n",
      "MoviePy - Writing audio in A:\\AI DB\\LSPD\\Audio\\normal\\temp_audio.wav\n"
     ]
    },
    {
     "name": "stderr",
     "output_type": "stream",
     "text": [
      "                                                                                                                       \r"
     ]
    },
    {
     "name": "stdout",
     "output_type": "stream",
     "text": [
      "MoviePy - Done.\n",
      "Extracted audio from nonporn_1036.mp4 to A:\\AI DB\\LSPD\\Audio\\normal\\nonporn_1036.wav\n",
      "No audio found in nonporn_242.mp4\n",
      "No audio found in nonporn_1169.mp4\n",
      "No audio found in nonporn_466.mp4\n",
      "No audio found in nonporn_163.mp4\n",
      "No audio found in nonporn_841.mp4\n",
      "MoviePy - Writing audio in A:\\AI DB\\LSPD\\Audio\\normal\\temp_audio.wav\n"
     ]
    },
    {
     "name": "stderr",
     "output_type": "stream",
     "text": [
      "                                                                                                                       \r"
     ]
    },
    {
     "name": "stdout",
     "output_type": "stream",
     "text": [
      "MoviePy - Done.\n",
      "Extracted audio from nonporn_1316.mp4 to A:\\AI DB\\LSPD\\Audio\\normal\\nonporn_1316.wav\n",
      "No audio found in nonporn_790.mp4\n",
      "MoviePy - Writing audio in A:\\AI DB\\LSPD\\Audio\\normal\\temp_audio.wav\n"
     ]
    },
    {
     "name": "stderr",
     "output_type": "stream",
     "text": [
      "                                                                                                                       \r"
     ]
    },
    {
     "name": "stdout",
     "output_type": "stream",
     "text": [
      "MoviePy - Done.\n",
      "Extracted audio from nonporn_1132.mp4 to A:\\AI DB\\LSPD\\Audio\\normal\\nonporn_1132.wav\n",
      "MoviePy - Writing audio in A:\\AI DB\\LSPD\\Audio\\normal\\temp_audio.wav\n"
     ]
    },
    {
     "name": "stderr",
     "output_type": "stream",
     "text": [
      "                                                                                                                       \r"
     ]
    },
    {
     "name": "stdout",
     "output_type": "stream",
     "text": [
      "MoviePy - Done.\n",
      "Extracted audio from nonporn_998.mp4 to A:\\AI DB\\LSPD\\Audio\\normal\\nonporn_998.wav\n",
      "No audio found in nonporn_315.mp4\n",
      "No audio found in nonporn_98.mp4\n",
      "No audio found in nonporn_124.mp4\n",
      "No audio found in nonporn_645.mp4\n",
      "MoviePy - Writing audio in A:\\AI DB\\LSPD\\Audio\\normal\\temp_audio.wav\n"
     ]
    },
    {
     "name": "stderr",
     "output_type": "stream",
     "text": [
      "                                                                                                                       \r"
     ]
    },
    {
     "name": "stdout",
     "output_type": "stream",
     "text": [
      "MoviePy - Done.\n",
      "Extracted audio from nonporn_1789.mp4 to A:\\AI DB\\LSPD\\Audio\\normal\\nonporn_1789.wav\n",
      "MoviePy - Writing audio in A:\\AI DB\\LSPD\\Audio\\normal\\temp_audio.wav\n"
     ]
    },
    {
     "name": "stderr",
     "output_type": "stream",
     "text": [
      "                                                                                                                       \r"
     ]
    },
    {
     "name": "stdout",
     "output_type": "stream",
     "text": [
      "MoviePy - Done.\n",
      "Extracted audio from nonporn_1714.mp4 to A:\\AI DB\\LSPD\\Audio\\normal\\nonporn_1714.wav\n",
      "MoviePy - Writing audio in A:\\AI DB\\LSPD\\Audio\\normal\\temp_audio.wav\n"
     ]
    },
    {
     "name": "stderr",
     "output_type": "stream",
     "text": [
      "                                                                                                                       \r"
     ]
    },
    {
     "name": "stdout",
     "output_type": "stream",
     "text": [
      "MoviePy - Done.\n",
      "Extracted audio from nonporn_31.mp4 to A:\\AI DB\\LSPD\\Audio\\normal\\nonporn_31.wav\n",
      "MoviePy - Writing audio in A:\\AI DB\\LSPD\\Audio\\normal\\temp_audio.wav\n"
     ]
    },
    {
     "name": "stderr",
     "output_type": "stream",
     "text": [
      "                                                                                                                       \r"
     ]
    },
    {
     "name": "stdout",
     "output_type": "stream",
     "text": [
      "MoviePy - Done.\n",
      "Extracted audio from nonporn_609.mp4 to A:\\AI DB\\LSPD\\Audio\\normal\\nonporn_609.wav\n",
      "MoviePy - Writing audio in A:\\AI DB\\LSPD\\Audio\\normal\\temp_audio.wav\n"
     ]
    },
    {
     "name": "stderr",
     "output_type": "stream",
     "text": [
      "                                                                                                                       \r"
     ]
    },
    {
     "name": "stdout",
     "output_type": "stream",
     "text": [
      "MoviePy - Done.\n",
      "Extracted audio from nonporn_1583.mp4 to A:\\AI DB\\LSPD\\Audio\\normal\\nonporn_1583.wav\n",
      "No audio found in nonporn_1226.mp4\n",
      "No audio found in nonporn_1799.mp4\n",
      "MoviePy - Writing audio in A:\\AI DB\\LSPD\\Audio\\normal\\temp_audio.wav\n"
     ]
    },
    {
     "name": "stderr",
     "output_type": "stream",
     "text": [
      "                                                                                                                       \r"
     ]
    },
    {
     "name": "stdout",
     "output_type": "stream",
     "text": [
      "MoviePy - Done.\n",
      "Extracted audio from nonporn_1406.mp4 to A:\\AI DB\\LSPD\\Audio\\normal\\nonporn_1406.wav\n",
      "MoviePy - Writing audio in A:\\AI DB\\LSPD\\Audio\\normal\\temp_audio.wav\n"
     ]
    },
    {
     "name": "stderr",
     "output_type": "stream",
     "text": [
      "                                                                                                                       \r"
     ]
    },
    {
     "name": "stdout",
     "output_type": "stream",
     "text": [
      "MoviePy - Done.\n",
      "Audio in nonporn_1385.mp4 is too quiet (average dBFS: -inf). Skipping.\n",
      "No audio found in nonporn_799.mp4\n",
      "No audio found in nonporn_590.mp4\n",
      "No audio found in nonporn_1220.mp4\n",
      "No audio found in nonporn_556.mp4\n",
      "No audio found in nonporn_1740.mp4\n",
      "No audio found in nonporn_847.mp4\n",
      "No audio found in nonporn_1999.mp4\n",
      "No audio found in nonporn_1877.mp4\n",
      "No audio found in nonporn_1594.mp4\n",
      "MoviePy - Writing audio in A:\\AI DB\\LSPD\\Audio\\normal\\temp_audio.wav\n"
     ]
    },
    {
     "name": "stderr",
     "output_type": "stream",
     "text": [
      "                                                                                                                       \r"
     ]
    },
    {
     "name": "stdout",
     "output_type": "stream",
     "text": [
      "MoviePy - Done.\n",
      "Extracted audio from nonporn_1913.mp4 to A:\\AI DB\\LSPD\\Audio\\normal\\nonporn_1913.wav\n",
      "No audio found in nonporn_915.mp4\n",
      "No audio found in nonporn_873.mp4\n",
      "No audio found in nonporn_864.mp4\n",
      "MoviePy - Writing audio in A:\\AI DB\\LSPD\\Audio\\normal\\temp_audio.wav\n"
     ]
    },
    {
     "name": "stderr",
     "output_type": "stream",
     "text": [
      "                                                                                                                       \r"
     ]
    },
    {
     "name": "stdout",
     "output_type": "stream",
     "text": [
      "MoviePy - Done.\n",
      "Extracted audio from nonporn_1643.mp4 to A:\\AI DB\\LSPD\\Audio\\normal\\nonporn_1643.wav\n",
      "No audio found in nonporn_467.mp4\n",
      "No audio found in nonporn_583.mp4\n",
      "No audio found in nonporn_1928.mp4\n",
      "No audio found in nonporn_959.mp4\n",
      "MoviePy - Writing audio in A:\\AI DB\\LSPD\\Audio\\normal\\temp_audio.wav\n"
     ]
    },
    {
     "name": "stderr",
     "output_type": "stream",
     "text": [
      "                                                                                                                       \r"
     ]
    },
    {
     "name": "stdout",
     "output_type": "stream",
     "text": [
      "MoviePy - Done.\n",
      "Extracted audio from nonporn_11.mp4 to A:\\AI DB\\LSPD\\Audio\\normal\\nonporn_11.wav\n",
      "No audio found in nonporn_1712.mp4\n",
      "No audio found in nonporn_1779.mp4\n",
      "MoviePy - Writing audio in A:\\AI DB\\LSPD\\Audio\\normal\\temp_audio.wav\n"
     ]
    },
    {
     "name": "stderr",
     "output_type": "stream",
     "text": [
      "                                                                                                                       \r"
     ]
    },
    {
     "name": "stdout",
     "output_type": "stream",
     "text": [
      "MoviePy - Done.\n",
      "Extracted audio from nonporn_1883.mp4 to A:\\AI DB\\LSPD\\Audio\\normal\\nonporn_1883.wav\n",
      "MoviePy - Writing audio in A:\\AI DB\\LSPD\\Audio\\normal\\temp_audio.wav\n"
     ]
    },
    {
     "name": "stderr",
     "output_type": "stream",
     "text": [
      "                                                                                                                       \r"
     ]
    },
    {
     "name": "stdout",
     "output_type": "stream",
     "text": [
      "MoviePy - Done.\n",
      "Audio in nonporn_602.mp4 is too quiet (average dBFS: -inf). Skipping.\n",
      "No audio found in nonporn_1811.mp4\n",
      "No audio found in nonporn_1018.mp4\n",
      "No audio found in nonporn_326.mp4\n",
      "No audio found in nonporn_108.mp4\n",
      "No audio found in nonporn_1131.mp4\n",
      "No audio found in nonporn_721.mp4\n",
      "No audio found in nonporn_875.mp4\n",
      "No audio found in nonporn_1708.mp4\n",
      "MoviePy - Writing audio in A:\\AI DB\\LSPD\\Audio\\normal\\temp_audio.wav\n"
     ]
    },
    {
     "name": "stderr",
     "output_type": "stream",
     "text": [
      "                                                                                                                       \r"
     ]
    },
    {
     "name": "stdout",
     "output_type": "stream",
     "text": [
      "MoviePy - Done.\n",
      "Extracted audio from nonporn_826.mp4 to A:\\AI DB\\LSPD\\Audio\\normal\\nonporn_826.wav\n",
      "MoviePy - Writing audio in A:\\AI DB\\LSPD\\Audio\\normal\\temp_audio.wav\n"
     ]
    },
    {
     "name": "stderr",
     "output_type": "stream",
     "text": [
      "                                                                                                                       \r"
     ]
    },
    {
     "name": "stdout",
     "output_type": "stream",
     "text": [
      "MoviePy - Done.\n",
      "Extracted audio from nonporn_165.mp4 to A:\\AI DB\\LSPD\\Audio\\normal\\nonporn_165.wav\n",
      "MoviePy - Writing audio in A:\\AI DB\\LSPD\\Audio\\normal\\temp_audio.wav\n"
     ]
    },
    {
     "name": "stderr",
     "output_type": "stream",
     "text": [
      "                                                                                                                       \r"
     ]
    },
    {
     "name": "stdout",
     "output_type": "stream",
     "text": [
      "MoviePy - Done.\n",
      "Extracted audio from nonporn_927.mp4 to A:\\AI DB\\LSPD\\Audio\\normal\\nonporn_927.wav\n",
      "MoviePy - Writing audio in A:\\AI DB\\LSPD\\Audio\\normal\\temp_audio.wav\n"
     ]
    },
    {
     "name": "stderr",
     "output_type": "stream",
     "text": [
      "                                                                                                                       \r"
     ]
    },
    {
     "name": "stdout",
     "output_type": "stream",
     "text": [
      "MoviePy - Done.\n",
      "Extracted audio from nonporn_1512.mp4 to A:\\AI DB\\LSPD\\Audio\\normal\\nonporn_1512.wav\n",
      "MoviePy - Writing audio in A:\\AI DB\\LSPD\\Audio\\normal\\temp_audio.wav\n"
     ]
    },
    {
     "name": "stderr",
     "output_type": "stream",
     "text": [
      "                                                                                                                       \r"
     ]
    },
    {
     "name": "stdout",
     "output_type": "stream",
     "text": [
      "MoviePy - Done.\n",
      "Extracted audio from nonporn_968.mp4 to A:\\AI DB\\LSPD\\Audio\\normal\\nonporn_968.wav\n",
      "No audio found in nonporn_677.mp4\n",
      "No audio found in nonporn_1853.mp4\n",
      "No audio found in nonporn_1083.mp4\n",
      "MoviePy - Writing audio in A:\\AI DB\\LSPD\\Audio\\normal\\temp_audio.wav\n"
     ]
    },
    {
     "name": "stderr",
     "output_type": "stream",
     "text": [
      "                                                                                                                       "
     ]
    },
    {
     "name": "stdout",
     "output_type": "stream",
     "text": [
      "MoviePy - Done.\n",
      "Extracted audio from nonporn_285.mp4 to A:\\AI DB\\LSPD\\Audio\\normal\\nonporn_285.wav\n",
      "No audio found in nonporn_934.mp4\n"
     ]
    },
    {
     "name": "stderr",
     "output_type": "stream",
     "text": [
      "\r"
     ]
    },
    {
     "name": "stdout",
     "output_type": "stream",
     "text": [
      "No audio found in nonporn_438.mp4\n",
      "No audio found in nonporn_1334.mp4\n",
      "No audio found in nonporn_1310.mp4\n",
      "No audio found in nonporn_585.mp4\n",
      "No audio found in nonporn_1827.mp4\n",
      "MoviePy - Writing audio in A:\\AI DB\\LSPD\\Audio\\normal\\temp_audio.wav\n"
     ]
    },
    {
     "name": "stderr",
     "output_type": "stream",
     "text": [
      "                                                                                                                       \r"
     ]
    },
    {
     "name": "stdout",
     "output_type": "stream",
     "text": [
      "MoviePy - Done.\n",
      "Extracted audio from nonporn_1447.mp4 to A:\\AI DB\\LSPD\\Audio\\normal\\nonporn_1447.wav\n",
      "No audio found in nonporn_1175.mp4\n",
      "MoviePy - Writing audio in A:\\AI DB\\LSPD\\Audio\\normal\\temp_audio.wav\n"
     ]
    },
    {
     "name": "stderr",
     "output_type": "stream",
     "text": [
      "                                                                                                                       \r"
     ]
    },
    {
     "name": "stdout",
     "output_type": "stream",
     "text": [
      "MoviePy - Done.\n",
      "Extracted audio from nonporn_1842.mp4 to A:\\AI DB\\LSPD\\Audio\\normal\\nonporn_1842.wav\n",
      "No audio found in nonporn_1465.mp4\n",
      "No audio found in nonporn_1339.mp4\n",
      "MoviePy - Writing audio in A:\\AI DB\\LSPD\\Audio\\normal\\temp_audio.wav\n"
     ]
    },
    {
     "name": "stderr",
     "output_type": "stream",
     "text": [
      "                                                                                                                       \r"
     ]
    },
    {
     "name": "stdout",
     "output_type": "stream",
     "text": [
      "MoviePy - Done.\n",
      "Extracted audio from nonporn_1795.mp4 to A:\\AI DB\\LSPD\\Audio\\normal\\nonporn_1795.wav\n",
      "MoviePy - Writing audio in A:\\AI DB\\LSPD\\Audio\\normal\\temp_audio.wav\n"
     ]
    },
    {
     "name": "stderr",
     "output_type": "stream",
     "text": [
      "                                                                                                                       \r"
     ]
    },
    {
     "name": "stdout",
     "output_type": "stream",
     "text": [
      "MoviePy - Done.\n",
      "Extracted audio from nonporn_114.mp4 to A:\\AI DB\\LSPD\\Audio\\normal\\nonporn_114.wav\n",
      "MoviePy - Writing audio in A:\\AI DB\\LSPD\\Audio\\normal\\temp_audio.wav\n"
     ]
    },
    {
     "name": "stderr",
     "output_type": "stream",
     "text": [
      "                                                                                                                       \r"
     ]
    },
    {
     "name": "stdout",
     "output_type": "stream",
     "text": [
      "MoviePy - Done.\n",
      "Audio in nonporn_1296.mp4 is too quiet (average dBFS: -58.94496421785445). Skipping.\n",
      "No audio found in nonporn_660.mp4\n",
      "No audio found in nonporn_776.mp4\n",
      "No audio found in nonporn_574.mp4\n",
      "No audio found in nonporn_448.mp4\n",
      "No audio found in nonporn_1755.mp4\n",
      "MoviePy - Writing audio in A:\\AI DB\\LSPD\\Audio\\normal\\temp_audio.wav\n"
     ]
    },
    {
     "name": "stderr",
     "output_type": "stream",
     "text": [
      "                                                                                                                       \r"
     ]
    },
    {
     "name": "stdout",
     "output_type": "stream",
     "text": [
      "MoviePy - Done.\n",
      "Extracted audio from nonporn_258.mp4 to A:\\AI DB\\LSPD\\Audio\\normal\\nonporn_258.wav\n",
      "MoviePy - Writing audio in A:\\AI DB\\LSPD\\Audio\\normal\\temp_audio.wav\n"
     ]
    },
    {
     "name": "stderr",
     "output_type": "stream",
     "text": [
      "                                                                                                                       \r"
     ]
    },
    {
     "name": "stdout",
     "output_type": "stream",
     "text": [
      "MoviePy - Done.\n",
      "Extracted audio from nonporn_53.mp4 to A:\\AI DB\\LSPD\\Audio\\normal\\nonporn_53.wav\n",
      "No audio found in nonporn_397.mp4\n",
      "No audio found in nonporn_1448.mp4\n",
      "MoviePy - Writing audio in A:\\AI DB\\LSPD\\Audio\\normal\\temp_audio.wav\n"
     ]
    },
    {
     "name": "stderr",
     "output_type": "stream",
     "text": [
      "                                                                                                                       \r"
     ]
    },
    {
     "name": "stdout",
     "output_type": "stream",
     "text": [
      "MoviePy - Done.\n",
      "Extracted audio from nonporn_631.mp4 to A:\\AI DB\\LSPD\\Audio\\normal\\nonporn_631.wav\n",
      "MoviePy - Writing audio in A:\\AI DB\\LSPD\\Audio\\normal\\temp_audio.wav\n"
     ]
    },
    {
     "name": "stderr",
     "output_type": "stream",
     "text": [
      "                                                                                                                       \r"
     ]
    },
    {
     "name": "stdout",
     "output_type": "stream",
     "text": [
      "MoviePy - Done.\n",
      "Extracted audio from nonporn_1045.mp4 to A:\\AI DB\\LSPD\\Audio\\normal\\nonporn_1045.wav\n",
      "No audio found in nonporn_1873.mp4\n",
      "No audio found in nonporn_1284.mp4\n",
      "No audio found in nonporn_767.mp4\n",
      "MoviePy - Writing audio in A:\\AI DB\\LSPD\\Audio\\normal\\temp_audio.wav\n"
     ]
    },
    {
     "name": "stderr",
     "output_type": "stream",
     "text": [
      "                                                                                                                       \r"
     ]
    },
    {
     "name": "stdout",
     "output_type": "stream",
     "text": [
      "MoviePy - Done.\n",
      "Extracted audio from nonporn_745.mp4 to A:\\AI DB\\LSPD\\Audio\\normal\\nonporn_745.wav\n",
      "MoviePy - Writing audio in A:\\AI DB\\LSPD\\Audio\\normal\\temp_audio.wav\n"
     ]
    },
    {
     "name": "stderr",
     "output_type": "stream",
     "text": [
      "                                                                                                                       \r"
     ]
    },
    {
     "name": "stdout",
     "output_type": "stream",
     "text": [
      "MoviePy - Done.\n",
      "Extracted audio from nonporn_1195.mp4 to A:\\AI DB\\LSPD\\Audio\\normal\\nonporn_1195.wav\n",
      "No audio found in nonporn_672.mp4\n",
      "No audio found in nonporn_1051.mp4\n",
      "No audio found in nonporn_1511.mp4\n",
      "No audio found in nonporn_431.mp4\n",
      "No audio found in nonporn_204.mp4\n",
      "MoviePy - Writing audio in A:\\AI DB\\LSPD\\Audio\\normal\\temp_audio.wav\n"
     ]
    },
    {
     "name": "stderr",
     "output_type": "stream",
     "text": [
      "                                                                                                                       \r"
     ]
    },
    {
     "name": "stdout",
     "output_type": "stream",
     "text": [
      "MoviePy - Done.\n",
      "Extracted audio from nonporn_762.mp4 to A:\\AI DB\\LSPD\\Audio\\normal\\nonporn_762.wav\n",
      "MoviePy - Writing audio in A:\\AI DB\\LSPD\\Audio\\normal\\temp_audio.wav\n"
     ]
    },
    {
     "name": "stderr",
     "output_type": "stream",
     "text": [
      "                                                                                                                       \r"
     ]
    },
    {
     "name": "stdout",
     "output_type": "stream",
     "text": [
      "MoviePy - Done.\n",
      "Extracted audio from nonporn_682.mp4 to A:\\AI DB\\LSPD\\Audio\\normal\\nonporn_682.wav\n",
      "No audio found in nonporn_1584.mp4\n",
      "No audio found in nonporn_910.mp4\n",
      "No audio found in nonporn_1790.mp4\n",
      "MoviePy - Writing audio in A:\\AI DB\\LSPD\\Audio\\normal\\temp_audio.wav\n"
     ]
    },
    {
     "name": "stderr",
     "output_type": "stream",
     "text": [
      "                                                                                                                       \r"
     ]
    },
    {
     "name": "stdout",
     "output_type": "stream",
     "text": [
      "MoviePy - Done.\n",
      "Extracted audio from nonporn_398.mp4 to A:\\AI DB\\LSPD\\Audio\\normal\\nonporn_398.wav\n",
      "MoviePy - Writing audio in A:\\AI DB\\LSPD\\Audio\\normal\\temp_audio.wav\n"
     ]
    },
    {
     "name": "stderr",
     "output_type": "stream",
     "text": [
      "                                                                                                                       \r"
     ]
    },
    {
     "name": "stdout",
     "output_type": "stream",
     "text": [
      "MoviePy - Done.\n",
      "Extracted audio from nonporn_291.mp4 to A:\\AI DB\\LSPD\\Audio\\normal\\nonporn_291.wav\n",
      "MoviePy - Writing audio in A:\\AI DB\\LSPD\\Audio\\normal\\temp_audio.wav\n"
     ]
    },
    {
     "name": "stderr",
     "output_type": "stream",
     "text": [
      "                                                                                                                       \r"
     ]
    },
    {
     "name": "stdout",
     "output_type": "stream",
     "text": [
      "MoviePy - Done.\n",
      "Extracted audio from nonporn_218.mp4 to A:\\AI DB\\LSPD\\Audio\\normal\\nonporn_218.wav\n",
      "No audio found in nonporn_159.mp4\n",
      "No audio found in nonporn_191.mp4\n",
      "No audio found in nonporn_1057.mp4\n",
      "No audio found in nonporn_1259.mp4\n",
      "MoviePy - Writing audio in A:\\AI DB\\LSPD\\Audio\\normal\\temp_audio.wav\n"
     ]
    },
    {
     "name": "stderr",
     "output_type": "stream",
     "text": [
      "                                                                                                                       \r"
     ]
    },
    {
     "name": "stdout",
     "output_type": "stream",
     "text": [
      "MoviePy - Done.\n",
      "Extracted audio from nonporn_594.mp4 to A:\\AI DB\\LSPD\\Audio\\normal\\nonporn_594.wav\n",
      "No audio found in nonporn_1046.mp4\n",
      "No audio found in nonporn_688.mp4\n",
      "No audio found in nonporn_1115.mp4\n",
      "No audio found in nonporn_1690.mp4\n",
      "MoviePy - Writing audio in A:\\AI DB\\LSPD\\Audio\\normal\\temp_audio.wav\n"
     ]
    },
    {
     "name": "stderr",
     "output_type": "stream",
     "text": [
      "                                                                                                                       \r"
     ]
    },
    {
     "name": "stdout",
     "output_type": "stream",
     "text": [
      "MoviePy - Done.\n",
      "Extracted audio from nonporn_1408.mp4 to A:\\AI DB\\LSPD\\Audio\\normal\\nonporn_1408.wav\n",
      "MoviePy - Writing audio in A:\\AI DB\\LSPD\\Audio\\normal\\temp_audio.wav\n"
     ]
    },
    {
     "name": "stderr",
     "output_type": "stream",
     "text": [
      "                                                                                                                       \r"
     ]
    },
    {
     "name": "stdout",
     "output_type": "stream",
     "text": [
      "MoviePy - Done.\n",
      "Extracted audio from nonporn_1822.mp4 to A:\\AI DB\\LSPD\\Audio\\normal\\nonporn_1822.wav\n",
      "No audio found in nonporn_851.mp4\n",
      "No audio found in nonporn_1271.mp4\n",
      "No audio found in nonporn_149.mp4\n",
      "MoviePy - Writing audio in A:\\AI DB\\LSPD\\Audio\\normal\\temp_audio.wav\n"
     ]
    },
    {
     "name": "stderr",
     "output_type": "stream",
     "text": [
      "                                                                                                                       \r"
     ]
    },
    {
     "name": "stdout",
     "output_type": "stream",
     "text": [
      "MoviePy - Done.\n",
      "Extracted audio from nonporn_1013.mp4 to A:\\AI DB\\LSPD\\Audio\\normal\\nonporn_1013.wav\n",
      "No audio found in nonporn_1357.mp4\n",
      "No audio found in nonporn_544.mp4\n",
      "No audio found in nonporn_273.mp4\n",
      "MoviePy - Writing audio in A:\\AI DB\\LSPD\\Audio\\normal\\temp_audio.wav\n"
     ]
    },
    {
     "name": "stderr",
     "output_type": "stream",
     "text": [
      "                                                                                                                       \r"
     ]
    },
    {
     "name": "stdout",
     "output_type": "stream",
     "text": [
      "MoviePy - Done.\n",
      "Extracted audio from nonporn_890.mp4 to A:\\AI DB\\LSPD\\Audio\\normal\\nonporn_890.wav\n",
      "MoviePy - Writing audio in A:\\AI DB\\LSPD\\Audio\\normal\\temp_audio.wav\n"
     ]
    },
    {
     "name": "stderr",
     "output_type": "stream",
     "text": [
      "                                                                                                                       \r"
     ]
    },
    {
     "name": "stdout",
     "output_type": "stream",
     "text": [
      "MoviePy - Done.\n",
      "Extracted audio from nonporn_200.mp4 to A:\\AI DB\\LSPD\\Audio\\normal\\nonporn_200.wav\n",
      "No audio found in nonporn_1661.mp4\n",
      "No audio found in nonporn_1322.mp4\n",
      "No audio found in nonporn_1805.mp4\n",
      "MoviePy - Writing audio in A:\\AI DB\\LSPD\\Audio\\normal\\temp_audio.wav\n"
     ]
    },
    {
     "name": "stderr",
     "output_type": "stream",
     "text": [
      "                                                                                                                       \r"
     ]
    },
    {
     "name": "stdout",
     "output_type": "stream",
     "text": [
      "MoviePy - Done.\n",
      "Audio in nonporn_642.mp4 is too quiet (average dBFS: -inf). Skipping.\n",
      "No audio found in nonporn_371.mp4\n",
      "No audio found in nonporn_1495.mp4\n",
      "No audio found in nonporn_413.mp4\n",
      "No audio found in nonporn_248.mp4\n",
      "No audio found in nonporn_592.mp4\n",
      "MoviePy - Writing audio in A:\\AI DB\\LSPD\\Audio\\normal\\temp_audio.wav\n"
     ]
    },
    {
     "name": "stderr",
     "output_type": "stream",
     "text": [
      "                                                                                                                       \r"
     ]
    },
    {
     "name": "stdout",
     "output_type": "stream",
     "text": [
      "MoviePy - Done.\n",
      "Extracted audio from nonporn_1453.mp4 to A:\\AI DB\\LSPD\\Audio\\normal\\nonporn_1453.wav\n",
      "No audio found in nonporn_1633.mp4\n",
      "MoviePy - Writing audio in A:\\AI DB\\LSPD\\Audio\\normal\\temp_audio.wav\n"
     ]
    },
    {
     "name": "stderr",
     "output_type": "stream",
     "text": [
      "                                                                                                                       \r"
     ]
    },
    {
     "name": "stdout",
     "output_type": "stream",
     "text": [
      "MoviePy - Done.\n",
      "Extracted audio from nonporn_151.mp4 to A:\\AI DB\\LSPD\\Audio\\normal\\nonporn_151.wav\n",
      "No audio found in nonporn_1102.mp4\n",
      "No audio found in nonporn_1016.mp4\n",
      "MoviePy - Writing audio in A:\\AI DB\\LSPD\\Audio\\normal\\temp_audio.wav\n"
     ]
    },
    {
     "name": "stderr",
     "output_type": "stream",
     "text": [
      "                                                                                                                       \r"
     ]
    },
    {
     "name": "stdout",
     "output_type": "stream",
     "text": [
      "MoviePy - Done.\n",
      "Extracted audio from nonporn_1626.mp4 to A:\\AI DB\\LSPD\\Audio\\normal\\nonporn_1626.wav\n",
      "No audio found in nonporn_713.mp4\n",
      "No audio found in nonporn_412.mp4\n",
      "No audio found in nonporn_1058.mp4\n",
      "No audio found in nonporn_1243.mp4\n",
      "No audio found in nonporn_243.mp4\n",
      "No audio found in nonporn_1509.mp4\n",
      "No audio found in nonporn_1142.mp4\n",
      "No audio found in nonporn_87.mp4\n",
      "No audio found in nonporn_211.mp4\n",
      "No audio found in nonporn_1892.mp4\n",
      "MoviePy - Writing audio in A:\\AI DB\\LSPD\\Audio\\normal\\temp_audio.wav\n"
     ]
    },
    {
     "name": "stderr",
     "output_type": "stream",
     "text": [
      "                                                                                                                       \r"
     ]
    },
    {
     "name": "stdout",
     "output_type": "stream",
     "text": [
      "MoviePy - Done.\n",
      "Extracted audio from nonporn_5.mp4 to A:\\AI DB\\LSPD\\Audio\\normal\\nonporn_5.wav\n",
      "No audio found in nonporn_229.mp4\n",
      "No audio found in nonporn_1336.mp4\n",
      "MoviePy - Writing audio in A:\\AI DB\\LSPD\\Audio\\normal\\temp_audio.wav\n"
     ]
    },
    {
     "name": "stderr",
     "output_type": "stream",
     "text": [
      "                                                                                                                       \r"
     ]
    },
    {
     "name": "stdout",
     "output_type": "stream",
     "text": [
      "MoviePy - Done.\n",
      "Extracted audio from nonporn_1568.mp4 to A:\\AI DB\\LSPD\\Audio\\normal\\nonporn_1568.wav\n",
      "MoviePy - Writing audio in A:\\AI DB\\LSPD\\Audio\\normal\\temp_audio.wav\n"
     ]
    },
    {
     "name": "stderr",
     "output_type": "stream",
     "text": [
      "                                                                                                                       \r"
     ]
    },
    {
     "name": "stdout",
     "output_type": "stream",
     "text": [
      "MoviePy - Done.\n",
      "Extracted audio from nonporn_777.mp4 to A:\\AI DB\\LSPD\\Audio\\normal\\nonporn_777.wav\n",
      "No audio found in nonporn_295.mp4\n",
      "No audio found in nonporn_1053.mp4\n",
      "No audio found in nonporn_528.mp4\n",
      "MoviePy - Writing audio in A:\\AI DB\\LSPD\\Audio\\normal\\temp_audio.wav\n"
     ]
    },
    {
     "name": "stderr",
     "output_type": "stream",
     "text": [
      "                                                                                                                       \r"
     ]
    },
    {
     "name": "stdout",
     "output_type": "stream",
     "text": [
      "MoviePy - Done.\n",
      "Extracted audio from nonporn_1674.mp4 to A:\\AI DB\\LSPD\\Audio\\normal\\nonporn_1674.wav\n",
      "MoviePy - Writing audio in A:\\AI DB\\LSPD\\Audio\\normal\\temp_audio.wav\n"
     ]
    },
    {
     "name": "stderr",
     "output_type": "stream",
     "text": [
      "                                                                                                                       \r"
     ]
    },
    {
     "name": "stdout",
     "output_type": "stream",
     "text": [
      "MoviePy - Done.\n",
      "Extracted audio from nonporn_406.mp4 to A:\\AI DB\\LSPD\\Audio\\normal\\nonporn_406.wav\n",
      "No audio found in nonporn_907.mp4\n",
      "No audio found in nonporn_489.mp4\n",
      "No audio found in nonporn_1732.mp4\n",
      "No audio found in nonporn_1997.mp4\n",
      "MoviePy - Writing audio in A:\\AI DB\\LSPD\\Audio\\normal\\temp_audio.wav\n"
     ]
    },
    {
     "name": "stderr",
     "output_type": "stream",
     "text": [
      "                                                                                                                       \r"
     ]
    },
    {
     "name": "stdout",
     "output_type": "stream",
     "text": [
      "MoviePy - Done.\n",
      "Extracted audio from nonporn_1996.mp4 to A:\\AI DB\\LSPD\\Audio\\normal\\nonporn_1996.wav\n",
      "No audio found in nonporn_734.mp4\n",
      "No audio found in nonporn_793.mp4\n",
      "No audio found in nonporn_951.mp4\n"
     ]
    }
   ],
   "source": [
    "extract_audio_from_videos(video_directory2, output_directory2,610)"
   ]
  },
  {
   "cell_type": "code",
   "execution_count": 13,
   "id": "76d9926e-29d5-4217-876c-c4978de33ef5",
   "metadata": {},
   "outputs": [],
   "source": [
    "def split_wav(file_path, segment_length_ms=60000, target_sample_rate=16000):\n",
    "    \"\"\"\n",
    "    Splits the WAV file into segments of specified length and sets the sample rate.\n",
    "\n",
    "    Args:\n",
    "        file_path (str): Path to the WAV file.\n",
    "        segment_length_ms (int): Length of each segment in milliseconds (default is 60000 ms, i.e., 60 seconds).\n",
    "        target_sample_rate (int): Desired sample rate for the output segments (default is 16000 Hz).\n",
    "\n",
    "    Returns:\n",
    "        None\n",
    "    \"\"\"\n",
    "    audio = AudioSegment.from_wav(file_path)\n",
    "    audio = audio.set_frame_rate(target_sample_rate)\n",
    "    duration_ms = len(audio)\n",
    "    num_segments = (duration_ms // segment_length_ms) + 1\n",
    "\n",
    "    base_filename = os.path.splitext(os.path.basename(file_path))[0]\n",
    "    directory = os.path.dirname(file_path)\n",
    "\n",
    "    for i in range(num_segments):\n",
    "        start_ms = i * segment_length_ms\n",
    "        end_ms = start_ms + segment_length_ms\n",
    "        segment = audio[start_ms:end_ms]\n",
    "        segment_filename = f\"{base_filename}_part{i+1}.wav\"\n",
    "        segment_path = os.path.join(directory, segment_filename)\n",
    "        segment.export(segment_path, format=\"wav\")\n",
    "        #print(f\"Exported {segment_path}\")\n",
    "\n",
    "    # Remove the original file after splitting\n",
    "    os.remove(file_path)\n",
    "\n",
    "def process_directory(directory, segment_length_ms=60000, target_sample_rate=16000):\n",
    "    \"\"\"\n",
    "    Processes all WAV files in the specified directory and splits them into segments.\n",
    "\n",
    "    Args:\n",
    "        directory (str): Path to the directory containing WAV files.\n",
    "        segment_length_ms (int): Length of each segment in milliseconds (default is 60000 ms, i.e., 60 seconds).\n",
    "        target_sample_rate (int): Desired sample rate for the output segments (default is 16000 Hz).\n",
    "\n",
    "    Returns:\n",
    "        None\n",
    "    \"\"\"\n",
    "    for filename in os.listdir(directory):\n",
    "        if filename.endswith('.wav'):\n",
    "            file_path = os.path.join(directory, filename)\n",
    "            split_wav(file_path, segment_length_ms, target_sample_rate)"
   ]
  },
  {
   "cell_type": "code",
   "execution_count": 15,
   "id": "188cfb1c-87e9-4ddd-b7d5-76659e3da72d",
   "metadata": {},
   "outputs": [],
   "source": [
    "output_directory = r'A:\\AI DB\\LSPD\\Audio\\porn'\n",
    "#process_directory(output_directory)\n",
    "process_directory(output_directory2)"
   ]
  },
  {
   "cell_type": "code",
   "execution_count": null,
   "id": "0b8f5cf0-85e5-4f6c-a537-365856b33e1d",
   "metadata": {},
   "outputs": [],
   "source": []
  }
 ],
 "metadata": {
  "kernelspec": {
   "display_name": "Python 3 (ipykernel)",
   "language": "python",
   "name": "python3"
  },
  "language_info": {
   "codemirror_mode": {
    "name": "ipython",
    "version": 3
   },
   "file_extension": ".py",
   "mimetype": "text/x-python",
   "name": "python",
   "nbconvert_exporter": "python",
   "pygments_lexer": "ipython3",
   "version": "3.10.14"
  }
 },
 "nbformat": 4,
 "nbformat_minor": 5
}
