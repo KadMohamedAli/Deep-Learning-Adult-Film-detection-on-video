{
 "cells": [
  {
   "cell_type": "code",
   "execution_count": 4,
   "id": "78a56912-0cd4-4e0a-8dd5-bc414810aad5",
   "metadata": {},
   "outputs": [],
   "source": [
    "from tensorflow.keras.models import Sequential\n",
    "from tensorflow.keras.layers import LSTM, Dense\n",
    "from sklearn.model_selection import train_test_split\n",
    "import os\n",
    "import sys\n",
    "import numpy as np\n",
    "import tensorflow as tf\n",
    "import matplotlib.pyplot as plt\n",
    "import math\n",
    "import matplotlib.pyplot as plt"
   ]
  },
  {
   "cell_type": "code",
   "execution_count": 6,
   "id": "87dfa4db-cc5f-4c0c-8c57-062bc4ba3694",
   "metadata": {},
   "outputs": [],
   "source": [
    "# Define paths to directories containing feature files\n",
    "porn_dir = r'A:\\AI DB\\LSPD\\Videos\\Features_Porn'\n",
    "normal_dir = r'A:\\AI DB\\LSPD\\Videos\\Features_Normal'"
   ]
  },
  {
   "cell_type": "code",
   "execution_count": 7,
   "id": "376663db-5d54-4a2b-86a6-48d5ae543da9",
   "metadata": {},
   "outputs": [],
   "source": [
    "# Load features and labels for porn\n",
    "features_porn = np.concatenate([np.load(file, allow_pickle=True) for file in porn_files])\n",
    "num_samples_porn = len(features_porn)\n",
    "labels_porn = np.ones(num_samples_porn)  # Create labels filled with 1 indicating \"porn\"\n",
    "\n",
    "# Load features and labels for normal\n",
    "features_normal = np.concatenate([np.load(file, allow_pickle=True) for file in normal_files])\n",
    "num_samples_normal = len(features_normal)\n",
    "labels_normal = np.zeros(num_samples_normal)  # Create labels filled with 0 indicating \"normal\"\n"
   ]
  },
  {
   "cell_type": "code",
   "execution_count": 8,
   "id": "69b471e7-a28a-402e-b353-c62ce328d795",
   "metadata": {},
   "outputs": [
    {
     "name": "stdout",
     "output_type": "stream",
     "text": [
      " visual audio data shape :  (15, 9, 2176)\n"
     ]
    }
   ],
   "source": [
    "print(\" porn features : \",features_porn.shape)\n",
    "print(\" normal features : \",features_normal.shape)"
   ]
  },
  {
   "cell_type": "code",
   "execution_count": null,
   "id": "a17a5986-e829-4790-961c-12f6ef0eafd1",
   "metadata": {},
   "outputs": [],
   "source": [
    "# Concatenate features and labels\n",
    "features = np.concatenate((features_porn, features_normal), axis=0)\n",
    "labels = np.concatenate((labels_porn, labels_normal), axis=0)\n"
   ]
  },
  {
   "cell_type": "code",
   "execution_count": null,
   "id": "b315c75c-8a5d-423a-8684-c8c6794437fa",
   "metadata": {},
   "outputs": [],
   "source": [
    "# Split the data into train, validation, and test sets\n",
    "X_train, X_temp, y_train, y_temp = train_test_split(features, labels, test_size=0.1, random_state=42)\n",
    "X_val, X_test, y_val, y_test = train_test_split(X_temp, y_temp, test_size=0.5, random_state=42)\n"
   ]
  },
  {
   "cell_type": "code",
   "execution_count": null,
   "id": "1db404dd-986d-47e8-ace5-6e03b505429c",
   "metadata": {},
   "outputs": [],
   "source": [
    "# Define the LSTM model with specified hyperparameters\n",
    "model = Sequential([\n",
    "    LSTM(10, input_shape=(10, 2176), return_sequences=True, activation='tanh',\n",
    "         recurrent_activation='sigmoid', dropout=0.0, recurrent_dropout=0.0,\n",
    "         unroll=False, use_bias=True),\n",
    "    LSTM(10, activation='tanh', recurrent_activation='sigmoid', dropout=0.0,\n",
    "         recurrent_dropout=0.0, unroll=False, use_bias=True),\n",
    "    Dense(1, activation='sigmoid')\n",
    "])\n",
    "\n",
    "# Compile the model with specified optimizer and loss function\n",
    "model.compile(optimizer='adam', loss='binary_crossentropy', metrics=['accuracy'])\n",
    "\n",
    "# Define model checkpoint\n",
    "checkpoint_filepath = r'A:\\AI DB\\LSPD\\models\\LSTMmodel.keras'\n",
    "model_checkpoint_callback = tf.keras.callbacks.ModelCheckpoint(\n",
    "    filepath=checkpoint_filepath,\n",
    "    monitor='val_accuracy',\n",
    "    verbose=1,\n",
    "    save_best_only=True,\n",
    "    mode='max'\n",
    ")\n",
    "\n",
    "model.summary()"
   ]
  },
  {
   "cell_type": "code",
   "execution_count": null,
   "id": "bf2f73f7-869e-4f61-b2b1-1fe6788d10dc",
   "metadata": {},
   "outputs": [],
   "source": [
    "# Train the model\n",
    "history = model.fit(X_train, y_train, epochs=10, batch_size=32, shuffle=True,\n",
    "                    validation_data=(X_val, y_val),\n",
    "                    callbacks=[model_checkpoint_callback])"
   ]
  },
  {
   "cell_type": "code",
   "execution_count": null,
   "id": "9697cc54-cb56-482e-bcd7-20244100511f",
   "metadata": {},
   "outputs": [],
   "source": [
    "# Evaluate the model on test set\n",
    "test_loss, test_accuracy = model.evaluate(X_test, y_test)\n",
    "print(\"Test Accuracy:\", test_accuracy)"
   ]
  },
  {
   "cell_type": "code",
   "execution_count": null,
   "id": "ef836251-eb79-43c3-aa83-f379b80922b1",
   "metadata": {},
   "outputs": [],
   "source": [
    "# Generate predictions using the LSTM model\n",
    "lstm_predictions = model.predict(X_test)\n",
    "\n",
    "# Convert probabilities to predicted classes\n",
    "lstm_pred_classes = (lstm_predictions > 0.5).astype(int)\n",
    "\n",
    "# Get true classes\n",
    "true_classes = y_test\n",
    "\n",
    "# Create a confusion matrix\n",
    "confusion_matrix_lstm = confusion_matrix(true_classes, lstm_pred_classes)\n",
    "normalized_confusion_matrix_lstm = confusion_matrix_lstm.astype('float') / confusion_matrix_lstm.sum(axis=1)[:, np.newaxis]\n",
    "\n",
    "# Plot the confusion matrix\n",
    "plt.figure(figsize=(8, 6))\n",
    "sns.heatmap(normalized_confusion_matrix_lstm, annot=True, fmt='.2f', cmap='YlGnBu')\n",
    "plt.ylabel('True Label')\n",
    "plt.xlabel('Predicted Label')\n",
    "plt.title('Confusion Matrix - LSTM Model')\n",
    "plt.show()\n",
    "\n",
    "# Calculate accuracy\n",
    "accuracy_lstm = accuracy_score(true_classes, lstm_pred_classes)\n",
    "print(\"Accuracy (LSTM Model):\", accuracy_lstm)\n",
    "\n",
    "# Calculate precision, recall, and F1-score\n",
    "precision_lstm, recall_lstm, f1_score_lstm, _ = precision_recall_fscore_support(true_classes, lstm_pred_classes)\n",
    "\n",
    "# Print precision, recall, and F1-score for each class\n",
    "for i, label in enumerate([\"Normal\", \"Porn\"]):\n",
    "    print(f\"{label} - Precision: {precision_lstm[i]}, Recall: {recall_lstm[i]}, F1-score: {f1_score_lstm[i]}\")\n",
    "\n",
    "# Print classification report\n",
    "classification_report_lstm = classification_report(true_classes, lstm_pred_classes, target_names=[\"Normal\", \"Porn\"])\n",
    "print(\"Classification Report - LSTM Model:\\n\", classification_report_lstm)"
   ]
  }
 ],
 "metadata": {
  "kernelspec": {
   "display_name": "Python 3 (ipykernel)",
   "language": "python",
   "name": "python3"
  },
  "language_info": {
   "codemirror_mode": {
    "name": "ipython",
    "version": 3
   },
   "file_extension": ".py",
   "mimetype": "text/x-python",
   "name": "python",
   "nbconvert_exporter": "python",
   "pygments_lexer": "ipython3",
   "version": "3.10.14"
  }
 },
 "nbformat": 4,
 "nbformat_minor": 5
}
