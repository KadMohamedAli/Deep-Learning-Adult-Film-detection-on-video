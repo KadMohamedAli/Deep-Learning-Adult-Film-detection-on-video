{
 "cells": [
  {
   "cell_type": "code",
   "execution_count": 4,
   "id": "ac7208c1-89c8-4425-8765-ae4b8a00f5fb",
   "metadata": {},
   "outputs": [],
   "source": [
    "import splitfolders as sf\n",
    "import os"
   ]
  },
  {
   "cell_type": "code",
   "execution_count": 2,
   "id": "8ebb3ba1-87ee-4010-85f6-171a28afc434",
   "metadata": {},
   "outputs": [],
   "source": [
    "dataset_dir=r'A:\\AI DB\\LSPD\\Audio'\n",
    "\n",
    "output_dir=r'A:\\AI DB\\LSPD\\audio_pret'"
   ]
  },
  {
   "cell_type": "code",
   "execution_count": 5,
   "id": "bee3ca1e-3d2d-4de9-a3f0-0440063e5ad6",
   "metadata": {},
   "outputs": [
    {
     "name": "stderr",
     "output_type": "stream",
     "text": [
      "Copying files: 241340 files [11:22, 353.56 files/s]\n"
     ]
    }
   ],
   "source": [
    "# split dataset 90% training 5% validation 5% testing\n",
    "sf.ratio(dataset_dir,output_dir,seed=1337,ratio=(.9,.05,.05),group_prefix=None)"
   ]
  },
  {
   "cell_type": "code",
   "execution_count": null,
   "id": "41538e41-44ec-46d4-9983-94aa0c7213dc",
   "metadata": {},
   "outputs": [],
   "source": []
  }
 ],
 "metadata": {
  "kernelspec": {
   "display_name": "Python 3 (ipykernel)",
   "language": "python",
   "name": "python3"
  },
  "language_info": {
   "codemirror_mode": {
    "name": "ipython",
    "version": 3
   },
   "file_extension": ".py",
   "mimetype": "text/x-python",
   "name": "python",
   "nbconvert_exporter": "python",
   "pygments_lexer": "ipython3",
   "version": "3.10.14"
  }
 },
 "nbformat": 4,
 "nbformat_minor": 5
}
