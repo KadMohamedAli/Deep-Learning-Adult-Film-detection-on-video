{
 "cells": [
  {
   "cell_type": "code",
   "execution_count": 1,
   "id": "67edeaf1-51a0-483b-a4d0-f9eb7626a7f1",
   "metadata": {},
   "outputs": [],
   "source": [
    "import tensorflow as tf\n",
    "import os\n",
    "import splitfolders as sf\n",
    "from pathlib import Path\n",
    "from tensorflow.keras.optimizers import Adam\n",
    "from tensorflow.keras.callbacks import EarlyStopping, ModelCheckpoint, LearningRateScheduler\n",
    "from tensorflow.keras.losses import categorical_crossentropy\n",
    "from tensorflow.keras.optimizers.schedules import CosineDecay\n",
    "from tensorflow.keras.models import Sequential\n",
    "from tensorflow.keras.models import Model\n",
    "from sklearn.metrics import roc_curve, roc_auc_score\n",
    "import math\n",
    "import matplotlib.pyplot as plt\n",
    "import numpy as np\n",
    "import cv2\n",
    "import PIL\n",
    "from tensorflow.keras import layers, models\n",
    "from tensorflow.python.keras.layers import Conv2D, MaxPool2D, Dense, Flatten, Dropout, concatenate, Input\n",
    "from tensorflow.keras.models import Sequential\n",
    "from tensorflow.keras.preprocessing.image import ImageDataGenerator\n",
    "from tensorflow.keras.preprocessing import image\n",
    "from tensorflow.keras.optimizers import Adam\n",
    "from tensorflow.keras.applications import InceptionV3\n",
    "from sklearn.metrics import confusion_matrix, accuracy_score, precision_score, recall_score, f1_score, classification_report\n",
    "from sklearn.metrics import classification_report\n",
    "from sklearn.metrics import confusion_matrix\n",
    "from keras.models import load_model\n",
    "from sklearn.utils.class_weight import compute_class_weight\n",
    "import seaborn as sns\n",
    "from PIL import ImageFile\n",
    "ImageFile.LOAD_TRUNCATED_IMAGES = True"
   ]
  },
  {
   "cell_type": "code",
   "execution_count": 2,
   "id": "7ea40e9e-57a6-4a10-8eaa-0cc0193a009f",
   "metadata": {},
   "outputs": [],
   "source": [
    "train_dir = r'A:\\AI DB\\LSPD\\Videos\\photos_from_videos_pret\\train'\n",
    "validation_dir = r'A:\\AI DB\\LSPD\\Videos\\photos_from_videos_pret\\val'\n",
    "test_dir = r'A:\\AI DB\\LSPD\\Videos\\photos_from_videos_pret\\test'\n",
    "\n",
    "# Define image dimensions and batch size\n",
    "img_height, img_width = 224, 224\n",
    "batch_size = 256"
   ]
  },
  {
   "cell_type": "code",
   "execution_count": 3,
   "id": "12c0092b-6f3b-4f11-b36e-976b827521a7",
   "metadata": {},
   "outputs": [
    {
     "name": "stdout",
     "output_type": "stream",
     "text": [
      "Found 430877 images belonging to 2 classes.\n",
      "Found 23937 images belonging to 2 classes.\n",
      "Found 23939 images belonging to 2 classes.\n"
     ]
    }
   ],
   "source": [
    "# Define data generators for training, validation, and test sets\n",
    "train_datagen = ImageDataGenerator(rescale=1./255,\n",
    "    rotation_range=20,\n",
    "    width_shift_range=0.2,\n",
    "    height_shift_range=0.2,\n",
    "    shear_range=0.2,\n",
    "    zoom_range=0.2,\n",
    "    horizontal_flip=True,\n",
    "    brightness_range=[0.5, 1.5] \n",
    ")\n",
    "validation_datagen = ImageDataGenerator(rescale=1./255)\n",
    "test_datagen = ImageDataGenerator(rescale=1./255)\n",
    "\n",
    "train_generator = train_datagen.flow_from_directory(\n",
    "    train_dir,\n",
    "    target_size=(img_height, img_width),\n",
    "    batch_size=batch_size,\n",
    "    class_mode='binary'\n",
    ")\n",
    "\n",
    "validation_generator = validation_datagen.flow_from_directory(\n",
    "    validation_dir,\n",
    "    target_size=(img_height, img_width),\n",
    "    batch_size=batch_size,\n",
    "    class_mode='binary'\n",
    ")\n",
    "\n",
    "test_generator = test_datagen.flow_from_directory(\n",
    "    test_dir,\n",
    "    target_size=(img_height, img_width),\n",
    "    batch_size=batch_size,\n",
    "    shuffle=False,                                          \n",
    "    seed=10,\n",
    "    class_mode='binary'\n",
    ")"
   ]
  },
  {
   "cell_type": "code",
   "execution_count": 22,
   "id": "f1e9c594-8c28-4a3d-ab1b-9e22a549ba5c",
   "metadata": {},
   "outputs": [
    {
     "name": "stdout",
     "output_type": "stream",
     "text": [
      "Model: \"sequential_3\"\n",
      "_________________________________________________________________\n",
      " Layer (type)                Output Shape              Param #   \n",
      "=================================================================\n",
      " inception_v3 (Functional)   (None, 2048)              21802784  \n",
      "                                                                 \n",
      " flatten_3 (Flatten)         (None, 2048)              0         \n",
      "                                                                 \n",
      " dense_8 (Dense)             (None, 512)               1049088   \n",
      "                                                                 \n",
      " dense_9 (Dense)             (None, 5)                 2565      \n",
      "                                                                 \n",
      "=================================================================\n",
      "Total params: 22,854,437\n",
      "Trainable params: 2,544,645\n",
      "Non-trainable params: 20,309,792\n",
      "_________________________________________________________________\n"
     ]
    }
   ],
   "source": [
    "# Load the model\n",
    "model_path = r'A:\\AI DB\\LSPD\\models\\inceptionv3_lspd_unfreezeBalanced.keras'\n",
    "model = load_model(model_path)\n",
    "model.summary()"
   ]
  },
  {
   "cell_type": "code",
   "execution_count": null,
   "id": "028e1d7e-878b-4198-b527-958b7315e045",
   "metadata": {},
   "outputs": [
    {
     "name": "stdout",
     "output_type": "stream",
     "text": [
      "93/94 [============================>.] - ETA: 1s"
     ]
    }
   ],
   "source": [
    "# Make predictions\n",
    "ypred = model.predict(test_generator)"
   ]
  },
  {
   "cell_type": "code",
   "execution_count": null,
   "id": "34c5fa22-e8a2-4ce8-b4c9-d641e32b7754",
   "metadata": {},
   "outputs": [],
   "source": [
    "classes = ['drawing', 'hentai', 'normal', 'porn', 'sexy']\n",
    "\n",
    "# Create a mapping: 0 for 'drawing' and 'normal', 1 for 'hentai', 'porn', 'sexy'\n",
    "class_mapping = {'drawing': 0, 'hentai': 1, 'normal': 0, 'porn': 1, 'sexy': 1}\n",
    "\n",
    "# Convert the ypred array to class indices\n",
    "class_indices = np.argmax(ypred, axis=1)\n",
    "\n",
    "# Convert class indices to 0 or 1 based on the mapping\n",
    "converted_output = np.array([class_mapping[classes[index]] for index in class_indices])\n",
    "converted_output"
   ]
  },
  {
   "cell_type": "code",
   "execution_count": null,
   "id": "8ffa8204-811b-4692-8740-59c9036e7e89",
   "metadata": {},
   "outputs": [],
   "source": [
    "# Convert predicted probabilities to binary predictions\n",
    "#threshold = 0.5\n",
    "#y_pred_classes = (ypred > threshold).astype(int)\n",
    "y_pred_classes=converted_output\n",
    "# Get actual classes\n",
    "y_true_classes = test_generator.classes\n",
    "\n",
    "# Create a confusion matrix\n",
    "cm = confusion_matrix(y_true_classes, y_pred_classes)\n",
    "\n",
    "# Normalize the confusion matrix\n",
    "cm_normalized = cm.astype('float') / cm.sum(axis=1)[:, np.newaxis]\n",
    "\n",
    "# Generate a classification report\n",
    "cr = classification_report(y_true_classes, y_pred_classes, digits=4)\n",
    "print(\"Classification Report:\\n\", cr)\n",
    "\n",
    "# Plot the confusion matrix with annotations positioned at the bottom\n",
    "plt.figure(figsize=(10, 8))\n",
    "sns.heatmap(cm, annot=True, cmap='YlGnBu', fmt='d', xticklabels=['Normal', 'Porno'], yticklabels=['Normal', 'Porno'], annot_kws={'size': 16})\n",
    "\n",
    "# Add custom annotations at the bottom of each cell\n",
    "for i in range(cm.shape[0]):\n",
    "    for j in range(cm.shape[1]):\n",
    "        plt.text(j + 0.5, i + 0.2, '{:.2f}%'.format(cm_normalized[i, j] * 100), ha='center', va='bottom', color='black', fontsize=14)\n",
    "\n",
    "plt.ylabel('Actual', fontsize=12)\n",
    "plt.xlabel('Predicted', fontsize=12)\n",
    "plt.title('Confusion Matrix', fontsize=16)\n",
    "plt.show()\n",
    "\n",
    "# Calculate accuracy score\n",
    "accuracy = accuracy_score(y_true_classes, y_pred_classes)\n",
    "print(\"Accuracy Score:\", format(accuracy, '.4f'))\n",
    "\n",
    "# Calculate F1 score\n",
    "f1 = f1_score(y_true_classes, y_pred_classes)\n",
    "print(\"F1 Score:\", format(f1, '.4f'))"
   ]
  },
  {
   "cell_type": "code",
   "execution_count": null,
   "id": "44ac64a0-dc9e-476d-933e-aa8702ac0f72",
   "metadata": {},
   "outputs": [],
   "source": []
  }
 ],
 "metadata": {
  "kernelspec": {
   "display_name": "Python 3 (ipykernel)",
   "language": "python",
   "name": "python3"
  },
  "language_info": {
   "codemirror_mode": {
    "name": "ipython",
    "version": 3
   },
   "file_extension": ".py",
   "mimetype": "text/x-python",
   "name": "python",
   "nbconvert_exporter": "python",
   "pygments_lexer": "ipython3",
   "version": "3.10.14"
  }
 },
 "nbformat": 4,
 "nbformat_minor": 5
}
