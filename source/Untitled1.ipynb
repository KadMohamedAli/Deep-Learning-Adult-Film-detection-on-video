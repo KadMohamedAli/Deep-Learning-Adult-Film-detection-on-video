{
 "cells": [
  {
   "cell_type": "code",
   "execution_count": 38,
   "id": "2aab76dd-7f3c-493d-b6f1-d60a0e284151",
   "metadata": {},
   "outputs": [],
   "source": [
    "import os\n",
    "from PIL import Image, ImageStat\n",
    "from concurrent.futures import ThreadPoolExecutor, as_completed\n",
    "import logging\n",
    "\n",
    "# Configure logging\n",
    "logging.basicConfig(level=logging.INFO, format='%(asctime)s - %(levelname)s - %(message)s')\n"
   ]
  },
  {
   "cell_type": "code",
   "execution_count": 23,
   "id": "0bd94523-9205-4e53-9d5d-7e80516e91db",
   "metadata": {},
   "outputs": [],
   "source": [
    "def is_image(file_path):\n",
    "    try:\n",
    "        with Image.open(file_path) as img:\n",
    "            img.verify()  # Verify that it is, in fact, an image\n",
    "        return True\n",
    "    except (IOError, SyntaxError):\n",
    "        return False"
   ]
  },
  {
   "cell_type": "code",
   "execution_count": 24,
   "id": "7f4c061e-ebcd-4f68-9e68-82be34645e78",
   "metadata": {},
   "outputs": [],
   "source": [
    "def is_too_bright_or_too_dark(file_path, brightness_threshold=240, darkness_threshold=15):\n",
    "    try:\n",
    "        with Image.open(file_path) as img:\n",
    "            grayscale_img = img.convert(\"L\")  # Convert image to grayscale\n",
    "            stat = ImageStat.Stat(grayscale_img)\n",
    "            mean_brightness = stat.mean[0]\n",
    "            \n",
    "            if mean_brightness >= brightness_threshold or mean_brightness <= darkness_threshold:\n",
    "                return True\n",
    "        return False\n",
    "    except Exception:\n",
    "        return True"
   ]
  },
  {
   "cell_type": "code",
   "execution_count": 25,
   "id": "e79f9671-6a20-4f56-9a44-223c86b115b4",
   "metadata": {},
   "outputs": [],
   "source": [
    "def delete_file(file_path):\n",
    "    try:\n",
    "        os.remove(file_path)\n",
    "    except Exception as e:\n",
    "        logging.error(f\"Error deleting file {file_path}: {e}\")"
   ]
  },
  {
   "cell_type": "code",
   "execution_count": 26,
   "id": "86c3fca8-dfaa-4848-9945-ecec54c6061a",
   "metadata": {},
   "outputs": [],
   "source": [
    "def process_invalid_image(file_path):\n",
    "    if not is_image(file_path):\n",
    "        delete_file(file_path)"
   ]
  },
  {
   "cell_type": "code",
   "execution_count": 27,
   "id": "ccffece8-455d-4361-9bc2-67e09aa3d49f",
   "metadata": {},
   "outputs": [],
   "source": [
    "def process_bright_or_dark_image(file_path):\n",
    "    if is_too_bright_or_too_dark(file_path):\n",
    "        delete_file(file_path)"
   ]
  },
  {
   "cell_type": "code",
   "execution_count": 39,
   "id": "aaf0325b-b1fb-41e1-894f-52a863b004e3",
   "metadata": {},
   "outputs": [],
   "source": [
    "def delete_invalid_images(directory):\n",
    "    with ThreadPoolExecutor(max_workers=4) as executor:\n",
    "        futures = []\n",
    "        for filename in os.listdir(directory):\n",
    "            file_path = os.path.join(directory, filename)\n",
    "            if os.path.isfile(file_path):\n",
    "                futures.append(executor.submit(process_invalid_image, file_path))\n",
    "        for future in as_completed(futures):\n",
    "            try:\n",
    "                future.result()\n",
    "            except Exception as e:\n",
    "                logging.error(f\"Error processing file in delete_invalid_images: {e}\")\n",
    "\n"
   ]
  },
  {
   "cell_type": "code",
   "execution_count": 40,
   "id": "d60de824-c0d9-407b-9b1b-2a41cf530f98",
   "metadata": {},
   "outputs": [],
   "source": [
    "def delete_too_bright_or_too_dark_images(directory):\n",
    "    with ThreadPoolExecutor(max_workers=4) as executor:\n",
    "        futures = []\n",
    "        for filename in os.listdir(directory):\n",
    "            file_path = os.path.join(directory, filename)\n",
    "            if os.path.isfile(file_path) and is_image(file_path):\n",
    "                futures.append(executor.submit(process_bright_or_dark_image, file_path))\n",
    "        for future in as_completed(futures):\n",
    "            try:\n",
    "                future.result()\n",
    "            except Exception as e:\n",
    "                logging.error(f\"Error processing file in delete_too_bright_or_too_dark_images: {e}\")\n",
    "\n"
   ]
  },
  {
   "cell_type": "code",
   "execution_count": 41,
   "id": "c64fefc7-6767-45c5-9736-44d0f459a0ef",
   "metadata": {},
   "outputs": [],
   "source": [
    "def delete_half_images(directory):\n",
    "    images = [f for f in os.listdir(directory) if os.path.isfile(os.path.join(directory, f)) and is_image(os.path.join(directory, f))]\n",
    "    with ThreadPoolExecutor(max_workers=4) as executor:\n",
    "        futures = []\n",
    "        for i in range(1, len(images), 2):  # Start from the second element (index 1) and step by 2\n",
    "            file_path = os.path.join(directory, images[i])\n",
    "            futures.append(executor.submit(delete_file, file_path))\n",
    "        for future in as_completed(futures):\n",
    "            try:\n",
    "                future.result()\n",
    "            except Exception as e:\n",
    "                logging.error(f\"Error processing file in delete_half_images: {e}\")\n",
    "    logging.info(\"Delete completed\")\n",
    "\n"
   ]
  },
  {
   "cell_type": "code",
   "execution_count": 42,
   "id": "e7580c32-8d9f-4e02-8336-59a26c7db630",
   "metadata": {},
   "outputs": [],
   "source": [
    "def clean_directory(directory):\n",
    "    delete_invalid_images(directory)\n",
    "    delete_too_bright_or_too_dark_images(directory)\n",
    "    delete_half_images(directory)\n"
   ]
  },
  {
   "cell_type": "code",
   "execution_count": 43,
   "id": "2394ef3a-89b1-4d7f-a0a9-e31e3a6347f0",
   "metadata": {},
   "outputs": [
    {
     "name": "stderr",
     "output_type": "stream",
     "text": [
      "2024-05-21 07:40:49,359 - INFO - Delete completed\n",
      "2024-05-21 08:27:07,167 - INFO - Delete completed\n"
     ]
    }
   ],
   "source": [
    "directory = r'A:\\AI DB\\LSPD\\Videos\\photos_from_videos\\normal_photos'  # Replace with the path to your directory\n",
    "clean_directory(directory)\n",
    "directory = r'A:\\AI DB\\LSPD\\Videos\\photos_from_videos\\porn_photos'  # Replace with the path to your directory\n",
    "clean_directory(directory)\n"
   ]
  },
  {
   "cell_type": "code",
   "execution_count": 44,
   "id": "565a09a5-4850-45f0-b3d2-7f822c6b77fa",
   "metadata": {},
   "outputs": [
    {
     "name": "stderr",
     "output_type": "stream",
     "text": [
      "Copying files: 478753 files [25:09, 317.10 files/s]\n"
     ]
    }
   ],
   "source": [
    "import splitfolders as sf\n",
    "from pathlib import Path\n",
    "\n",
    "dataset_dir=Path(\"A:\\AI DB\\LSPD\\Videos\\photos_from_videos\")\n",
    "\n",
    "output_dir=Path(\"A:\\AI DB\\LSPD\\Videos\\photos_from_videos_pret\")\n",
    "output_dir.mkdir(exist_ok=True)\n",
    "# split dataset 90% training 5% validation 5% testing\n",
    "sf.ratio(dataset_dir,output_dir,seed=1337,ratio=(.9,.05,.05),group_prefix=None)"
   ]
  },
  {
   "cell_type": "code",
   "execution_count": null,
   "id": "039be39e-e304-444a-9708-8b0c5d70346c",
   "metadata": {},
   "outputs": [],
   "source": []
  }
 ],
 "metadata": {
  "kernelspec": {
   "display_name": "Python 3 (ipykernel)",
   "language": "python",
   "name": "python3"
  },
  "language_info": {
   "codemirror_mode": {
    "name": "ipython",
    "version": 3
   },
   "file_extension": ".py",
   "mimetype": "text/x-python",
   "name": "python",
   "nbconvert_exporter": "python",
   "pygments_lexer": "ipython3",
   "version": "3.10.14"
  }
 },
 "nbformat": 4,
 "nbformat_minor": 5
}
